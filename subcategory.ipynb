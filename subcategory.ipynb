{
 "cells": [
  {
   "cell_type": "code",
   "execution_count": 63,
   "metadata": {},
   "outputs": [
    {
     "data": {
      "text/html": [
       "<div>\n",
       "<style scoped>\n",
       "    .dataframe tbody tr th:only-of-type {\n",
       "        vertical-align: middle;\n",
       "    }\n",
       "\n",
       "    .dataframe tbody tr th {\n",
       "        vertical-align: top;\n",
       "    }\n",
       "\n",
       "    .dataframe thead th {\n",
       "        text-align: right;\n",
       "    }\n",
       "</style>\n",
       "<table border=\"1\" class=\"dataframe\">\n",
       "  <thead>\n",
       "    <tr style=\"text-align: right;\">\n",
       "      <th></th>\n",
       "      <th>product_title</th>\n",
       "      <th>category</th>\n",
       "      <th>product_subcategory</th>\n",
       "      <th>brand</th>\n",
       "      <th>selling_price</th>\n",
       "      <th>original_price</th>\n",
       "      <th>product_type</th>\n",
       "      <th>product_rating</th>\n",
       "      <th>product_description</th>\n",
       "      <th>customer_reviews_count</th>\n",
       "      <th>seasonal_indicator</th>\n",
       "      <th>promotion_indicator</th>\n",
       "      <th>shipping_weight</th>\n",
       "      <th>bundle_indicator</th>\n",
       "      <th>customer_demographics</th>\n",
       "      <th>discount_offered</th>\n",
       "      <th>brand_scale</th>\n",
       "    </tr>\n",
       "  </thead>\n",
       "  <tbody>\n",
       "    <tr>\n",
       "      <th>0</th>\n",
       "      <td>Garlic Oil - Vegetarian Capsule 500 mg</td>\n",
       "      <td>Beauty &amp; Hygiene</td>\n",
       "      <td>Hair Care</td>\n",
       "      <td>Sri Sri Ayurveda</td>\n",
       "      <td>220.0</td>\n",
       "      <td>220.0</td>\n",
       "      <td>Hair Oil &amp; Serum</td>\n",
       "      <td>4.1</td>\n",
       "      <td>This Product contains Garlic Oil that is known...</td>\n",
       "      <td>7</td>\n",
       "      <td>Spring</td>\n",
       "      <td>Yes</td>\n",
       "      <td>0.658145</td>\n",
       "      <td>Individual</td>\n",
       "      <td>Female</td>\n",
       "      <td>0.00</td>\n",
       "      <td>medium</td>\n",
       "    </tr>\n",
       "    <tr>\n",
       "      <th>1</th>\n",
       "      <td>Water Bottle - Orange</td>\n",
       "      <td>Kitchen, Garden &amp; Pets</td>\n",
       "      <td>Storage &amp; Accessories</td>\n",
       "      <td>Mastercook</td>\n",
       "      <td>180.0</td>\n",
       "      <td>180.0</td>\n",
       "      <td>Water &amp; Fridge Bottles</td>\n",
       "      <td>2.3</td>\n",
       "      <td>Each product is microwave safe (without lid), ...</td>\n",
       "      <td>54</td>\n",
       "      <td>Winter</td>\n",
       "      <td>No</td>\n",
       "      <td>4.734585</td>\n",
       "      <td>Bundle</td>\n",
       "      <td>Female</td>\n",
       "      <td>0.00</td>\n",
       "      <td>medium</td>\n",
       "    </tr>\n",
       "    <tr>\n",
       "      <th>2</th>\n",
       "      <td>Brass Angle Deep - Plain, No.2</td>\n",
       "      <td>Cleaning &amp; Household</td>\n",
       "      <td>Pooja Needs</td>\n",
       "      <td>Trm</td>\n",
       "      <td>119.0</td>\n",
       "      <td>250.0</td>\n",
       "      <td>Lamp &amp; Lamp Oil</td>\n",
       "      <td>3.4</td>\n",
       "      <td>A perfect gift for all occasions, be it your m...</td>\n",
       "      <td>31</td>\n",
       "      <td>Winter</td>\n",
       "      <td>No</td>\n",
       "      <td>2.024140</td>\n",
       "      <td>Bundle</td>\n",
       "      <td>Female</td>\n",
       "      <td>52.40</td>\n",
       "      <td>medium</td>\n",
       "    </tr>\n",
       "    <tr>\n",
       "      <th>3</th>\n",
       "      <td>Cereal Flip Lid Container/Storage Jar - Assort...</td>\n",
       "      <td>Cleaning &amp; Household</td>\n",
       "      <td>Bins &amp; Bathroom Ware</td>\n",
       "      <td>Nakoda</td>\n",
       "      <td>149.0</td>\n",
       "      <td>176.0</td>\n",
       "      <td>Laundry, Storage Baskets</td>\n",
       "      <td>3.7</td>\n",
       "      <td>Multipurpose container with an attractive desi...</td>\n",
       "      <td>49</td>\n",
       "      <td>Spring</td>\n",
       "      <td>No</td>\n",
       "      <td>3.869239</td>\n",
       "      <td>Individual</td>\n",
       "      <td>Other</td>\n",
       "      <td>15.34</td>\n",
       "      <td>medium</td>\n",
       "    </tr>\n",
       "    <tr>\n",
       "      <th>4</th>\n",
       "      <td>Creme Soft Soap - For Hands &amp; Body</td>\n",
       "      <td>Beauty &amp; Hygiene</td>\n",
       "      <td>Bath &amp; Hand Wash</td>\n",
       "      <td>Nivea</td>\n",
       "      <td>162.0</td>\n",
       "      <td>162.0</td>\n",
       "      <td>Bathing Bars &amp; Soaps</td>\n",
       "      <td>4.4</td>\n",
       "      <td>Nivea Creme Soft Soap gives your skin the best...</td>\n",
       "      <td>74</td>\n",
       "      <td>Winter</td>\n",
       "      <td>Yes</td>\n",
       "      <td>0.812489</td>\n",
       "      <td>Individual</td>\n",
       "      <td>Male</td>\n",
       "      <td>0.00</td>\n",
       "      <td>medium</td>\n",
       "    </tr>\n",
       "  </tbody>\n",
       "</table>\n",
       "</div>"
      ],
      "text/plain": [
       "                                       product_title                category  \\\n",
       "0             Garlic Oil - Vegetarian Capsule 500 mg        Beauty & Hygiene   \n",
       "1                              Water Bottle - Orange  Kitchen, Garden & Pets   \n",
       "2                     Brass Angle Deep - Plain, No.2    Cleaning & Household   \n",
       "3  Cereal Flip Lid Container/Storage Jar - Assort...    Cleaning & Household   \n",
       "4                 Creme Soft Soap - For Hands & Body        Beauty & Hygiene   \n",
       "\n",
       "     product_subcategory              brand  selling_price  original_price  \\\n",
       "0              Hair Care  Sri Sri Ayurveda           220.0           220.0   \n",
       "1  Storage & Accessories         Mastercook          180.0           180.0   \n",
       "2            Pooja Needs                Trm          119.0           250.0   \n",
       "3   Bins & Bathroom Ware             Nakoda          149.0           176.0   \n",
       "4       Bath & Hand Wash              Nivea          162.0           162.0   \n",
       "\n",
       "               product_type  product_rating  \\\n",
       "0          Hair Oil & Serum             4.1   \n",
       "1    Water & Fridge Bottles             2.3   \n",
       "2           Lamp & Lamp Oil             3.4   \n",
       "3  Laundry, Storage Baskets             3.7   \n",
       "4      Bathing Bars & Soaps             4.4   \n",
       "\n",
       "                                 product_description  customer_reviews_count  \\\n",
       "0  This Product contains Garlic Oil that is known...                       7   \n",
       "1  Each product is microwave safe (without lid), ...                      54   \n",
       "2  A perfect gift for all occasions, be it your m...                      31   \n",
       "3  Multipurpose container with an attractive desi...                      49   \n",
       "4  Nivea Creme Soft Soap gives your skin the best...                      74   \n",
       "\n",
       "  seasonal_indicator promotion_indicator  shipping_weight bundle_indicator  \\\n",
       "0             Spring                 Yes         0.658145       Individual   \n",
       "1             Winter                  No         4.734585           Bundle   \n",
       "2             Winter                  No         2.024140           Bundle   \n",
       "3             Spring                  No         3.869239       Individual   \n",
       "4             Winter                 Yes         0.812489       Individual   \n",
       "\n",
       "  customer_demographics  discount_offered brand_scale  \n",
       "0                Female              0.00      medium  \n",
       "1                Female              0.00      medium  \n",
       "2                Female             52.40      medium  \n",
       "3                 Other             15.34      medium  \n",
       "4                  Male              0.00      medium  "
      ]
     },
     "execution_count": 63,
     "metadata": {},
     "output_type": "execute_result"
    }
   ],
   "source": [
    "import pandas as pd\n",
    "data = pd.read_csv('data.csv')\n",
    "data.head()"
   ]
  },
  {
   "cell_type": "code",
   "execution_count": 64,
   "metadata": {},
   "outputs": [
    {
     "data": {
      "text/html": [
       "<div>\n",
       "<style scoped>\n",
       "    .dataframe tbody tr th:only-of-type {\n",
       "        vertical-align: middle;\n",
       "    }\n",
       "\n",
       "    .dataframe tbody tr th {\n",
       "        vertical-align: top;\n",
       "    }\n",
       "\n",
       "    .dataframe thead th {\n",
       "        text-align: right;\n",
       "    }\n",
       "</style>\n",
       "<table border=\"1\" class=\"dataframe\">\n",
       "  <thead>\n",
       "    <tr style=\"text-align: right;\">\n",
       "      <th></th>\n",
       "      <th>category</th>\n",
       "      <th>product_subcategory</th>\n",
       "      <th>product_rating</th>\n",
       "      <th>customer_reviews_count</th>\n",
       "      <th>total_sales</th>\n",
       "    </tr>\n",
       "  </thead>\n",
       "  <tbody>\n",
       "    <tr>\n",
       "      <th>34</th>\n",
       "      <td>Cleaning &amp; Household</td>\n",
       "      <td>Detergents &amp; Dishwash</td>\n",
       "      <td>4.269349</td>\n",
       "      <td>12864</td>\n",
       "      <td>3456468.49</td>\n",
       "    </tr>\n",
       "    <tr>\n",
       "      <th>71</th>\n",
       "      <td>Gourmet &amp; World Food</td>\n",
       "      <td>Oils &amp; Vinegar</td>\n",
       "      <td>4.231590</td>\n",
       "      <td>12919</td>\n",
       "      <td>12961550.13</td>\n",
       "    </tr>\n",
       "    <tr>\n",
       "      <th>30</th>\n",
       "      <td>Beverages</td>\n",
       "      <td>Water</td>\n",
       "      <td>4.170588</td>\n",
       "      <td>1108</td>\n",
       "      <td>178959.25</td>\n",
       "    </tr>\n",
       "    <tr>\n",
       "      <th>26</th>\n",
       "      <td>Beverages</td>\n",
       "      <td>Energy &amp; Soft Drinks</td>\n",
       "      <td>4.168018</td>\n",
       "      <td>5560</td>\n",
       "      <td>912919.83</td>\n",
       "    </tr>\n",
       "    <tr>\n",
       "      <th>63</th>\n",
       "      <td>Gourmet &amp; World Food</td>\n",
       "      <td>Atta, Flours &amp; Sooji</td>\n",
       "      <td>4.166667</td>\n",
       "      <td>550</td>\n",
       "      <td>101676.00</td>\n",
       "    </tr>\n",
       "    <tr>\n",
       "      <th>...</th>\n",
       "      <td>...</td>\n",
       "      <td>...</td>\n",
       "      <td>...</td>\n",
       "      <td>...</td>\n",
       "      <td>...</td>\n",
       "    </tr>\n",
       "    <tr>\n",
       "      <th>13</th>\n",
       "      <td>Bakery, Cakes &amp; Dairy</td>\n",
       "      <td>Ice Creams &amp; Desserts</td>\n",
       "      <td>3.622917</td>\n",
       "      <td>2289</td>\n",
       "      <td>371956.95</td>\n",
       "    </tr>\n",
       "    <tr>\n",
       "      <th>0</th>\n",
       "      <td>Baby Care</td>\n",
       "      <td>Atta, Flours &amp; Sooji</td>\n",
       "      <td>3.600000</td>\n",
       "      <td>96</td>\n",
       "      <td>28800.00</td>\n",
       "    </tr>\n",
       "    <tr>\n",
       "      <th>79</th>\n",
       "      <td>Kitchen, Garden &amp; Pets</td>\n",
       "      <td>Cookware &amp; Non Stick</td>\n",
       "      <td>3.580085</td>\n",
       "      <td>17533</td>\n",
       "      <td>20245576.75</td>\n",
       "    </tr>\n",
       "    <tr>\n",
       "      <th>1</th>\n",
       "      <td>Baby Care</td>\n",
       "      <td>Baby Accessories</td>\n",
       "      <td>3.145946</td>\n",
       "      <td>2169</td>\n",
       "      <td>829555.00</td>\n",
       "    </tr>\n",
       "    <tr>\n",
       "      <th>45</th>\n",
       "      <td>Eggs, Meat &amp; Fish</td>\n",
       "      <td>Pork &amp; Other Meats</td>\n",
       "      <td>2.640000</td>\n",
       "      <td>102</td>\n",
       "      <td>27970.00</td>\n",
       "    </tr>\n",
       "  </tbody>\n",
       "</table>\n",
       "<p>99 rows × 5 columns</p>\n",
       "</div>"
      ],
      "text/plain": [
       "                  category    product_subcategory  product_rating  \\\n",
       "34    Cleaning & Household  Detergents & Dishwash        4.269349   \n",
       "71    Gourmet & World Food         Oils & Vinegar        4.231590   \n",
       "30               Beverages                  Water        4.170588   \n",
       "26               Beverages   Energy & Soft Drinks        4.168018   \n",
       "63    Gourmet & World Food   Atta, Flours & Sooji        4.166667   \n",
       "..                     ...                    ...             ...   \n",
       "13   Bakery, Cakes & Dairy  Ice Creams & Desserts        3.622917   \n",
       "0                Baby Care   Atta, Flours & Sooji        3.600000   \n",
       "79  Kitchen, Garden & Pets   Cookware & Non Stick        3.580085   \n",
       "1                Baby Care       Baby Accessories        3.145946   \n",
       "45       Eggs, Meat & Fish     Pork & Other Meats        2.640000   \n",
       "\n",
       "    customer_reviews_count  total_sales  \n",
       "34                   12864   3456468.49  \n",
       "71                   12919  12961550.13  \n",
       "30                    1108    178959.25  \n",
       "26                    5560    912919.83  \n",
       "63                     550    101676.00  \n",
       "..                     ...          ...  \n",
       "13                    2289    371956.95  \n",
       "0                       96     28800.00  \n",
       "79                   17533  20245576.75  \n",
       "1                     2169    829555.00  \n",
       "45                     102     27970.00  \n",
       "\n",
       "[99 rows x 5 columns]"
      ]
     },
     "execution_count": 64,
     "metadata": {},
     "output_type": "execute_result"
    }
   ],
   "source": [
    "data['total_sales'] = data['selling_price'] * data['customer_reviews_count']\n",
    "category_stats = data.groupby(['category', 'product_subcategory']).agg({'product_rating': 'mean', 'customer_reviews_count': 'sum', 'total_sales': 'sum'}).reset_index()\n",
    "category_stats = category_stats.sort_values(by=['product_rating', 'customer_reviews_count'], ascending=False)\n",
    "category_stats"
   ]
  },
  {
   "cell_type": "code",
   "execution_count": 65,
   "metadata": {},
   "outputs": [
    {
     "data": {
      "text/html": [
       "<div>\n",
       "<style scoped>\n",
       "    .dataframe tbody tr th:only-of-type {\n",
       "        vertical-align: middle;\n",
       "    }\n",
       "\n",
       "    .dataframe tbody tr th {\n",
       "        vertical-align: top;\n",
       "    }\n",
       "\n",
       "    .dataframe thead th {\n",
       "        text-align: right;\n",
       "    }\n",
       "</style>\n",
       "<table border=\"1\" class=\"dataframe\">\n",
       "  <thead>\n",
       "    <tr style=\"text-align: right;\">\n",
       "      <th></th>\n",
       "      <th>category</th>\n",
       "      <th>product_rating</th>\n",
       "    </tr>\n",
       "  </thead>\n",
       "  <tbody>\n",
       "    <tr>\n",
       "      <th>3</th>\n",
       "      <td>Beverages</td>\n",
       "      <td>4.07</td>\n",
       "    </tr>\n",
       "    <tr>\n",
       "      <th>6</th>\n",
       "      <td>Foodgrains, Oil &amp; Masala</td>\n",
       "      <td>4.05</td>\n",
       "    </tr>\n",
       "    <tr>\n",
       "      <th>0</th>\n",
       "      <td>Baby Care</td>\n",
       "      <td>4.01</td>\n",
       "    </tr>\n",
       "    <tr>\n",
       "      <th>8</th>\n",
       "      <td>Gourmet &amp; World Food</td>\n",
       "      <td>4.01</td>\n",
       "    </tr>\n",
       "    <tr>\n",
       "      <th>7</th>\n",
       "      <td>Fruits &amp; Vegetables</td>\n",
       "      <td>4.00</td>\n",
       "    </tr>\n",
       "    <tr>\n",
       "      <th>4</th>\n",
       "      <td>Cleaning &amp; Household</td>\n",
       "      <td>3.99</td>\n",
       "    </tr>\n",
       "    <tr>\n",
       "      <th>10</th>\n",
       "      <td>Snacks &amp; Branded Foods</td>\n",
       "      <td>3.98</td>\n",
       "    </tr>\n",
       "    <tr>\n",
       "      <th>1</th>\n",
       "      <td>Bakery, Cakes &amp; Dairy</td>\n",
       "      <td>3.95</td>\n",
       "    </tr>\n",
       "    <tr>\n",
       "      <th>5</th>\n",
       "      <td>Eggs, Meat &amp; Fish</td>\n",
       "      <td>3.95</td>\n",
       "    </tr>\n",
       "    <tr>\n",
       "      <th>2</th>\n",
       "      <td>Beauty &amp; Hygiene</td>\n",
       "      <td>3.94</td>\n",
       "    </tr>\n",
       "    <tr>\n",
       "      <th>9</th>\n",
       "      <td>Kitchen, Garden &amp; Pets</td>\n",
       "      <td>3.83</td>\n",
       "    </tr>\n",
       "  </tbody>\n",
       "</table>\n",
       "</div>"
      ],
      "text/plain": [
       "                    category  product_rating\n",
       "3                  Beverages            4.07\n",
       "6   Foodgrains, Oil & Masala            4.05\n",
       "0                  Baby Care            4.01\n",
       "8       Gourmet & World Food            4.01\n",
       "7        Fruits & Vegetables            4.00\n",
       "4       Cleaning & Household            3.99\n",
       "10    Snacks & Branded Foods            3.98\n",
       "1      Bakery, Cakes & Dairy            3.95\n",
       "5          Eggs, Meat & Fish            3.95\n",
       "2           Beauty & Hygiene            3.94\n",
       "9     Kitchen, Garden & Pets            3.83"
      ]
     },
     "execution_count": 65,
     "metadata": {},
     "output_type": "execute_result"
    }
   ],
   "source": [
    "data_average_rating = data.groupby(['category'])['product_rating'].mean().reset_index()\n",
    "data_average_rating['product_rating'] = data_average_rating['product_rating'].round(2)\n",
    "data_average_rating = data_average_rating.sort_values(by=['product_rating'], ascending=False)\n",
    "data_average_rating.head(20)"
   ]
  },
  {
   "cell_type": "code",
   "execution_count": 66,
   "metadata": {},
   "outputs": [
    {
     "data": {
      "text/html": [
       "<div>\n",
       "<style scoped>\n",
       "    .dataframe tbody tr th:only-of-type {\n",
       "        vertical-align: middle;\n",
       "    }\n",
       "\n",
       "    .dataframe tbody tr th {\n",
       "        vertical-align: top;\n",
       "    }\n",
       "\n",
       "    .dataframe thead th {\n",
       "        text-align: right;\n",
       "    }\n",
       "</style>\n",
       "<table border=\"1\" class=\"dataframe\">\n",
       "  <thead>\n",
       "    <tr style=\"text-align: right;\">\n",
       "      <th></th>\n",
       "      <th>category</th>\n",
       "      <th>customer_reviews_count</th>\n",
       "    </tr>\n",
       "  </thead>\n",
       "  <tbody>\n",
       "    <tr>\n",
       "      <th>2</th>\n",
       "      <td>Beauty &amp; Hygiene</td>\n",
       "      <td>390805</td>\n",
       "    </tr>\n",
       "    <tr>\n",
       "      <th>8</th>\n",
       "      <td>Gourmet &amp; World Food</td>\n",
       "      <td>236487</td>\n",
       "    </tr>\n",
       "    <tr>\n",
       "      <th>9</th>\n",
       "      <td>Kitchen, Garden &amp; Pets</td>\n",
       "      <td>178871</td>\n",
       "    </tr>\n",
       "    <tr>\n",
       "      <th>10</th>\n",
       "      <td>Snacks &amp; Branded Foods</td>\n",
       "      <td>140381</td>\n",
       "    </tr>\n",
       "    <tr>\n",
       "      <th>4</th>\n",
       "      <td>Cleaning &amp; Household</td>\n",
       "      <td>134910</td>\n",
       "    </tr>\n",
       "    <tr>\n",
       "      <th>6</th>\n",
       "      <td>Foodgrains, Oil &amp; Masala</td>\n",
       "      <td>134474</td>\n",
       "    </tr>\n",
       "    <tr>\n",
       "      <th>3</th>\n",
       "      <td>Beverages</td>\n",
       "      <td>43211</td>\n",
       "    </tr>\n",
       "    <tr>\n",
       "      <th>1</th>\n",
       "      <td>Bakery, Cakes &amp; Dairy</td>\n",
       "      <td>41356</td>\n",
       "    </tr>\n",
       "    <tr>\n",
       "      <th>0</th>\n",
       "      <td>Baby Care</td>\n",
       "      <td>30988</td>\n",
       "    </tr>\n",
       "    <tr>\n",
       "      <th>7</th>\n",
       "      <td>Fruits &amp; Vegetables</td>\n",
       "      <td>27985</td>\n",
       "    </tr>\n",
       "    <tr>\n",
       "      <th>5</th>\n",
       "      <td>Eggs, Meat &amp; Fish</td>\n",
       "      <td>17145</td>\n",
       "    </tr>\n",
       "  </tbody>\n",
       "</table>\n",
       "</div>"
      ],
      "text/plain": [
       "                    category  customer_reviews_count\n",
       "2           Beauty & Hygiene                  390805\n",
       "8       Gourmet & World Food                  236487\n",
       "9     Kitchen, Garden & Pets                  178871\n",
       "10    Snacks & Branded Foods                  140381\n",
       "4       Cleaning & Household                  134910\n",
       "6   Foodgrains, Oil & Masala                  134474\n",
       "3                  Beverages                   43211\n",
       "1      Bakery, Cakes & Dairy                   41356\n",
       "0                  Baby Care                   30988\n",
       "7        Fruits & Vegetables                   27985\n",
       "5          Eggs, Meat & Fish                   17145"
      ]
     },
     "execution_count": 66,
     "metadata": {},
     "output_type": "execute_result"
    }
   ],
   "source": [
    "data_category_sales = data.groupby(['category'])['customer_reviews_count'].sum().reset_index()\n",
    "data_category_sales = data_category_sales.sort_values(by='customer_reviews_count', ascending=False)\n",
    "data_category_sales.head(20)"
   ]
  },
  {
   "cell_type": "code",
   "execution_count": 67,
   "metadata": {},
   "outputs": [
    {
     "data": {
      "text/html": [
       "<div>\n",
       "<style scoped>\n",
       "    .dataframe tbody tr th:only-of-type {\n",
       "        vertical-align: middle;\n",
       "    }\n",
       "\n",
       "    .dataframe tbody tr th {\n",
       "        vertical-align: top;\n",
       "    }\n",
       "\n",
       "    .dataframe thead th {\n",
       "        text-align: right;\n",
       "    }\n",
       "</style>\n",
       "<table border=\"1\" class=\"dataframe\">\n",
       "  <thead>\n",
       "    <tr style=\"text-align: right;\">\n",
       "      <th></th>\n",
       "      <th>category</th>\n",
       "      <th>product_rating</th>\n",
       "      <th>customer_reviews_count</th>\n",
       "    </tr>\n",
       "  </thead>\n",
       "  <tbody>\n",
       "    <tr>\n",
       "      <th>0</th>\n",
       "      <td>Beverages</td>\n",
       "      <td>4.07</td>\n",
       "      <td>43211</td>\n",
       "    </tr>\n",
       "    <tr>\n",
       "      <th>1</th>\n",
       "      <td>Foodgrains, Oil &amp; Masala</td>\n",
       "      <td>4.05</td>\n",
       "      <td>134474</td>\n",
       "    </tr>\n",
       "    <tr>\n",
       "      <th>2</th>\n",
       "      <td>Baby Care</td>\n",
       "      <td>4.01</td>\n",
       "      <td>30988</td>\n",
       "    </tr>\n",
       "    <tr>\n",
       "      <th>3</th>\n",
       "      <td>Gourmet &amp; World Food</td>\n",
       "      <td>4.01</td>\n",
       "      <td>236487</td>\n",
       "    </tr>\n",
       "    <tr>\n",
       "      <th>4</th>\n",
       "      <td>Fruits &amp; Vegetables</td>\n",
       "      <td>4.00</td>\n",
       "      <td>27985</td>\n",
       "    </tr>\n",
       "    <tr>\n",
       "      <th>5</th>\n",
       "      <td>Cleaning &amp; Household</td>\n",
       "      <td>3.99</td>\n",
       "      <td>134910</td>\n",
       "    </tr>\n",
       "    <tr>\n",
       "      <th>6</th>\n",
       "      <td>Snacks &amp; Branded Foods</td>\n",
       "      <td>3.98</td>\n",
       "      <td>140381</td>\n",
       "    </tr>\n",
       "    <tr>\n",
       "      <th>7</th>\n",
       "      <td>Bakery, Cakes &amp; Dairy</td>\n",
       "      <td>3.95</td>\n",
       "      <td>41356</td>\n",
       "    </tr>\n",
       "    <tr>\n",
       "      <th>8</th>\n",
       "      <td>Eggs, Meat &amp; Fish</td>\n",
       "      <td>3.95</td>\n",
       "      <td>17145</td>\n",
       "    </tr>\n",
       "    <tr>\n",
       "      <th>9</th>\n",
       "      <td>Beauty &amp; Hygiene</td>\n",
       "      <td>3.94</td>\n",
       "      <td>390805</td>\n",
       "    </tr>\n",
       "  </tbody>\n",
       "</table>\n",
       "</div>"
      ],
      "text/plain": [
       "                   category  product_rating  customer_reviews_count\n",
       "0                 Beverages            4.07                   43211\n",
       "1  Foodgrains, Oil & Masala            4.05                  134474\n",
       "2                 Baby Care            4.01                   30988\n",
       "3      Gourmet & World Food            4.01                  236487\n",
       "4       Fruits & Vegetables            4.00                   27985\n",
       "5      Cleaning & Household            3.99                  134910\n",
       "6    Snacks & Branded Foods            3.98                  140381\n",
       "7     Bakery, Cakes & Dairy            3.95                   41356\n",
       "8         Eggs, Meat & Fish            3.95                   17145\n",
       "9          Beauty & Hygiene            3.94                  390805"
      ]
     },
     "execution_count": 67,
     "metadata": {},
     "output_type": "execute_result"
    }
   ],
   "source": [
    "top_category = pd.merge(data_average_rating.head(50), data_category_sales.head(50), on=['category'], how='inner')\n",
    "top_category.head(10)"
   ]
  },
  {
   "cell_type": "code",
   "execution_count": 70,
   "metadata": {},
   "outputs": [
    {
     "data": {
      "text/html": [
       "<div>\n",
       "<style scoped>\n",
       "    .dataframe tbody tr th:only-of-type {\n",
       "        vertical-align: middle;\n",
       "    }\n",
       "\n",
       "    .dataframe tbody tr th {\n",
       "        vertical-align: top;\n",
       "    }\n",
       "\n",
       "    .dataframe thead th {\n",
       "        text-align: right;\n",
       "    }\n",
       "</style>\n",
       "<table border=\"1\" class=\"dataframe\">\n",
       "  <thead>\n",
       "    <tr style=\"text-align: right;\">\n",
       "      <th></th>\n",
       "      <th>category</th>\n",
       "      <th>product_rating</th>\n",
       "      <th>customer_reviews_count</th>\n",
       "      <th>total_sales</th>\n",
       "    </tr>\n",
       "  </thead>\n",
       "  <tbody>\n",
       "    <tr>\n",
       "      <th>0</th>\n",
       "      <td>Beverages</td>\n",
       "      <td>4.07</td>\n",
       "      <td>43211</td>\n",
       "      <td>1.039736e+07</td>\n",
       "    </tr>\n",
       "    <tr>\n",
       "      <th>1</th>\n",
       "      <td>Foodgrains, Oil &amp; Masala</td>\n",
       "      <td>4.05</td>\n",
       "      <td>134474</td>\n",
       "      <td>2.587205e+07</td>\n",
       "    </tr>\n",
       "    <tr>\n",
       "      <th>3</th>\n",
       "      <td>Gourmet &amp; World Food</td>\n",
       "      <td>4.01</td>\n",
       "      <td>236487</td>\n",
       "      <td>7.617675e+07</td>\n",
       "    </tr>\n",
       "    <tr>\n",
       "      <th>2</th>\n",
       "      <td>Baby Care</td>\n",
       "      <td>4.01</td>\n",
       "      <td>30988</td>\n",
       "      <td>1.622346e+07</td>\n",
       "    </tr>\n",
       "    <tr>\n",
       "      <th>4</th>\n",
       "      <td>Fruits &amp; Vegetables</td>\n",
       "      <td>4.00</td>\n",
       "      <td>27985</td>\n",
       "      <td>1.456307e+06</td>\n",
       "    </tr>\n",
       "    <tr>\n",
       "      <th>5</th>\n",
       "      <td>Cleaning &amp; Household</td>\n",
       "      <td>3.99</td>\n",
       "      <td>134910</td>\n",
       "      <td>3.010827e+07</td>\n",
       "    </tr>\n",
       "    <tr>\n",
       "      <th>6</th>\n",
       "      <td>Snacks &amp; Branded Foods</td>\n",
       "      <td>3.98</td>\n",
       "      <td>140381</td>\n",
       "      <td>1.833145e+07</td>\n",
       "    </tr>\n",
       "    <tr>\n",
       "      <th>7</th>\n",
       "      <td>Bakery, Cakes &amp; Dairy</td>\n",
       "      <td>3.95</td>\n",
       "      <td>41356</td>\n",
       "      <td>6.046531e+06</td>\n",
       "    </tr>\n",
       "    <tr>\n",
       "      <th>8</th>\n",
       "      <td>Eggs, Meat &amp; Fish</td>\n",
       "      <td>3.95</td>\n",
       "      <td>17145</td>\n",
       "      <td>4.879440e+06</td>\n",
       "    </tr>\n",
       "    <tr>\n",
       "      <th>9</th>\n",
       "      <td>Beauty &amp; Hygiene</td>\n",
       "      <td>3.94</td>\n",
       "      <td>390805</td>\n",
       "      <td>1.641310e+08</td>\n",
       "    </tr>\n",
       "    <tr>\n",
       "      <th>10</th>\n",
       "      <td>Kitchen, Garden &amp; Pets</td>\n",
       "      <td>3.83</td>\n",
       "      <td>178871</td>\n",
       "      <td>8.994958e+07</td>\n",
       "    </tr>\n",
       "  </tbody>\n",
       "</table>\n",
       "</div>"
      ],
      "text/plain": [
       "                    category  product_rating  customer_reviews_count  \\\n",
       "0                  Beverages            4.07                   43211   \n",
       "1   Foodgrains, Oil & Masala            4.05                  134474   \n",
       "3       Gourmet & World Food            4.01                  236487   \n",
       "2                  Baby Care            4.01                   30988   \n",
       "4        Fruits & Vegetables            4.00                   27985   \n",
       "5       Cleaning & Household            3.99                  134910   \n",
       "6     Snacks & Branded Foods            3.98                  140381   \n",
       "7      Bakery, Cakes & Dairy            3.95                   41356   \n",
       "8          Eggs, Meat & Fish            3.95                   17145   \n",
       "9           Beauty & Hygiene            3.94                  390805   \n",
       "10    Kitchen, Garden & Pets            3.83                  178871   \n",
       "\n",
       "     total_sales  \n",
       "0   1.039736e+07  \n",
       "1   2.587205e+07  \n",
       "3   7.617675e+07  \n",
       "2   1.622346e+07  \n",
       "4   1.456307e+06  \n",
       "5   3.010827e+07  \n",
       "6   1.833145e+07  \n",
       "7   6.046531e+06  \n",
       "8   4.879440e+06  \n",
       "9   1.641310e+08  \n",
       "10  8.994958e+07  "
      ]
     },
     "execution_count": 70,
     "metadata": {},
     "output_type": "execute_result"
    }
   ],
   "source": [
    "category_wise_sales = data.groupby(['category'])['total_sales'].sum().reset_index()\n",
    "top_category_with_sales = pd.merge(top_category, category_wise_sales, on=['category'], how='inner')\n",
    "top_category_with_sales = top_category_with_sales.sort_values(by=['product_rating', 'customer_reviews_count', 'total_sales'], ascending=False)\n",
    "# top_category_with_sales['sales_percentage'] = (top_category_with_sales['customer_reviews_count']/sum(top_category_with_sales['customer_reviews_count'])) * 100\n",
    "top_category_with_sales"
   ]
  },
  {
   "cell_type": "code",
   "execution_count": 7,
   "metadata": {},
   "outputs": [
    {
     "data": {
      "application/vnd.plotly.v1+json": {
       "config": {
        "plotlyServerURL": "https://plot.ly"
       },
       "data": [
        {
         "customdata": [
          [
           "Beverages",
           10397359.51
          ],
          [
           "Foodgrains, Oil & Masala",
           25872054.47
          ],
          [
           "Gourmet & World Food",
           76176748.11
          ],
          [
           "Baby Care",
           16223456.13
          ],
          [
           "Fruits & Vegetables",
           1456307.18
          ]
         ],
         "hovertemplate": "Product Rating=%{marker.color}<br>customer_reviews_count=%{y}<br>Total Sales=%{customdata[1]}<br>Category=%{customdata[0]}<extra></extra>",
         "legendgroup": "",
         "marker": {
          "color": [
           4.07,
           4.05,
           4.01,
           4.01,
           4
          ],
          "coloraxis": "coloraxis",
          "size": [
           10397359.51,
           25872054.47,
           76176748.11,
           16223456.13,
           1456307.18
          ],
          "sizemode": "area",
          "sizeref": 84640.83123333333,
          "symbol": "circle"
         },
         "mode": "markers",
         "name": "",
         "orientation": "v",
         "showlegend": false,
         "type": "scatter",
         "x": [
          4.07,
          4.05,
          4.01,
          4.01,
          4
         ],
         "xaxis": "x",
         "y": [
          43211,
          134474,
          236487,
          30988,
          27985
         ],
         "yaxis": "y"
        }
       ],
       "layout": {
        "coloraxis": {
         "colorbar": {
          "title": {
           "text": "Product Rating"
          }
         },
         "colorscale": [
          [
           0,
           "#0d0887"
          ],
          [
           0.1111111111111111,
           "#46039f"
          ],
          [
           0.2222222222222222,
           "#7201a8"
          ],
          [
           0.3333333333333333,
           "#9c179e"
          ],
          [
           0.4444444444444444,
           "#bd3786"
          ],
          [
           0.5555555555555556,
           "#d8576b"
          ],
          [
           0.6666666666666666,
           "#ed7953"
          ],
          [
           0.7777777777777778,
           "#fb9f3a"
          ],
          [
           0.8888888888888888,
           "#fdca26"
          ],
          [
           1,
           "#f0f921"
          ]
         ]
        },
        "legend": {
         "itemsizing": "constant",
         "tracegroupgap": 0
        },
        "template": {
         "data": {
          "bar": [
           {
            "error_x": {
             "color": "#2a3f5f"
            },
            "error_y": {
             "color": "#2a3f5f"
            },
            "marker": {
             "line": {
              "color": "#E5ECF6",
              "width": 0.5
             },
             "pattern": {
              "fillmode": "overlay",
              "size": 10,
              "solidity": 0.2
             }
            },
            "type": "bar"
           }
          ],
          "barpolar": [
           {
            "marker": {
             "line": {
              "color": "#E5ECF6",
              "width": 0.5
             },
             "pattern": {
              "fillmode": "overlay",
              "size": 10,
              "solidity": 0.2
             }
            },
            "type": "barpolar"
           }
          ],
          "carpet": [
           {
            "aaxis": {
             "endlinecolor": "#2a3f5f",
             "gridcolor": "white",
             "linecolor": "white",
             "minorgridcolor": "white",
             "startlinecolor": "#2a3f5f"
            },
            "baxis": {
             "endlinecolor": "#2a3f5f",
             "gridcolor": "white",
             "linecolor": "white",
             "minorgridcolor": "white",
             "startlinecolor": "#2a3f5f"
            },
            "type": "carpet"
           }
          ],
          "choropleth": [
           {
            "colorbar": {
             "outlinewidth": 0,
             "ticks": ""
            },
            "type": "choropleth"
           }
          ],
          "contour": [
           {
            "colorbar": {
             "outlinewidth": 0,
             "ticks": ""
            },
            "colorscale": [
             [
              0,
              "#0d0887"
             ],
             [
              0.1111111111111111,
              "#46039f"
             ],
             [
              0.2222222222222222,
              "#7201a8"
             ],
             [
              0.3333333333333333,
              "#9c179e"
             ],
             [
              0.4444444444444444,
              "#bd3786"
             ],
             [
              0.5555555555555556,
              "#d8576b"
             ],
             [
              0.6666666666666666,
              "#ed7953"
             ],
             [
              0.7777777777777778,
              "#fb9f3a"
             ],
             [
              0.8888888888888888,
              "#fdca26"
             ],
             [
              1,
              "#f0f921"
             ]
            ],
            "type": "contour"
           }
          ],
          "contourcarpet": [
           {
            "colorbar": {
             "outlinewidth": 0,
             "ticks": ""
            },
            "type": "contourcarpet"
           }
          ],
          "heatmap": [
           {
            "colorbar": {
             "outlinewidth": 0,
             "ticks": ""
            },
            "colorscale": [
             [
              0,
              "#0d0887"
             ],
             [
              0.1111111111111111,
              "#46039f"
             ],
             [
              0.2222222222222222,
              "#7201a8"
             ],
             [
              0.3333333333333333,
              "#9c179e"
             ],
             [
              0.4444444444444444,
              "#bd3786"
             ],
             [
              0.5555555555555556,
              "#d8576b"
             ],
             [
              0.6666666666666666,
              "#ed7953"
             ],
             [
              0.7777777777777778,
              "#fb9f3a"
             ],
             [
              0.8888888888888888,
              "#fdca26"
             ],
             [
              1,
              "#f0f921"
             ]
            ],
            "type": "heatmap"
           }
          ],
          "heatmapgl": [
           {
            "colorbar": {
             "outlinewidth": 0,
             "ticks": ""
            },
            "colorscale": [
             [
              0,
              "#0d0887"
             ],
             [
              0.1111111111111111,
              "#46039f"
             ],
             [
              0.2222222222222222,
              "#7201a8"
             ],
             [
              0.3333333333333333,
              "#9c179e"
             ],
             [
              0.4444444444444444,
              "#bd3786"
             ],
             [
              0.5555555555555556,
              "#d8576b"
             ],
             [
              0.6666666666666666,
              "#ed7953"
             ],
             [
              0.7777777777777778,
              "#fb9f3a"
             ],
             [
              0.8888888888888888,
              "#fdca26"
             ],
             [
              1,
              "#f0f921"
             ]
            ],
            "type": "heatmapgl"
           }
          ],
          "histogram": [
           {
            "marker": {
             "pattern": {
              "fillmode": "overlay",
              "size": 10,
              "solidity": 0.2
             }
            },
            "type": "histogram"
           }
          ],
          "histogram2d": [
           {
            "colorbar": {
             "outlinewidth": 0,
             "ticks": ""
            },
            "colorscale": [
             [
              0,
              "#0d0887"
             ],
             [
              0.1111111111111111,
              "#46039f"
             ],
             [
              0.2222222222222222,
              "#7201a8"
             ],
             [
              0.3333333333333333,
              "#9c179e"
             ],
             [
              0.4444444444444444,
              "#bd3786"
             ],
             [
              0.5555555555555556,
              "#d8576b"
             ],
             [
              0.6666666666666666,
              "#ed7953"
             ],
             [
              0.7777777777777778,
              "#fb9f3a"
             ],
             [
              0.8888888888888888,
              "#fdca26"
             ],
             [
              1,
              "#f0f921"
             ]
            ],
            "type": "histogram2d"
           }
          ],
          "histogram2dcontour": [
           {
            "colorbar": {
             "outlinewidth": 0,
             "ticks": ""
            },
            "colorscale": [
             [
              0,
              "#0d0887"
             ],
             [
              0.1111111111111111,
              "#46039f"
             ],
             [
              0.2222222222222222,
              "#7201a8"
             ],
             [
              0.3333333333333333,
              "#9c179e"
             ],
             [
              0.4444444444444444,
              "#bd3786"
             ],
             [
              0.5555555555555556,
              "#d8576b"
             ],
             [
              0.6666666666666666,
              "#ed7953"
             ],
             [
              0.7777777777777778,
              "#fb9f3a"
             ],
             [
              0.8888888888888888,
              "#fdca26"
             ],
             [
              1,
              "#f0f921"
             ]
            ],
            "type": "histogram2dcontour"
           }
          ],
          "mesh3d": [
           {
            "colorbar": {
             "outlinewidth": 0,
             "ticks": ""
            },
            "type": "mesh3d"
           }
          ],
          "parcoords": [
           {
            "line": {
             "colorbar": {
              "outlinewidth": 0,
              "ticks": ""
             }
            },
            "type": "parcoords"
           }
          ],
          "pie": [
           {
            "automargin": true,
            "type": "pie"
           }
          ],
          "scatter": [
           {
            "fillpattern": {
             "fillmode": "overlay",
             "size": 10,
             "solidity": 0.2
            },
            "type": "scatter"
           }
          ],
          "scatter3d": [
           {
            "line": {
             "colorbar": {
              "outlinewidth": 0,
              "ticks": ""
             }
            },
            "marker": {
             "colorbar": {
              "outlinewidth": 0,
              "ticks": ""
             }
            },
            "type": "scatter3d"
           }
          ],
          "scattercarpet": [
           {
            "marker": {
             "colorbar": {
              "outlinewidth": 0,
              "ticks": ""
             }
            },
            "type": "scattercarpet"
           }
          ],
          "scattergeo": [
           {
            "marker": {
             "colorbar": {
              "outlinewidth": 0,
              "ticks": ""
             }
            },
            "type": "scattergeo"
           }
          ],
          "scattergl": [
           {
            "marker": {
             "colorbar": {
              "outlinewidth": 0,
              "ticks": ""
             }
            },
            "type": "scattergl"
           }
          ],
          "scattermapbox": [
           {
            "marker": {
             "colorbar": {
              "outlinewidth": 0,
              "ticks": ""
             }
            },
            "type": "scattermapbox"
           }
          ],
          "scatterpolar": [
           {
            "marker": {
             "colorbar": {
              "outlinewidth": 0,
              "ticks": ""
             }
            },
            "type": "scatterpolar"
           }
          ],
          "scatterpolargl": [
           {
            "marker": {
             "colorbar": {
              "outlinewidth": 0,
              "ticks": ""
             }
            },
            "type": "scatterpolargl"
           }
          ],
          "scatterternary": [
           {
            "marker": {
             "colorbar": {
              "outlinewidth": 0,
              "ticks": ""
             }
            },
            "type": "scatterternary"
           }
          ],
          "surface": [
           {
            "colorbar": {
             "outlinewidth": 0,
             "ticks": ""
            },
            "colorscale": [
             [
              0,
              "#0d0887"
             ],
             [
              0.1111111111111111,
              "#46039f"
             ],
             [
              0.2222222222222222,
              "#7201a8"
             ],
             [
              0.3333333333333333,
              "#9c179e"
             ],
             [
              0.4444444444444444,
              "#bd3786"
             ],
             [
              0.5555555555555556,
              "#d8576b"
             ],
             [
              0.6666666666666666,
              "#ed7953"
             ],
             [
              0.7777777777777778,
              "#fb9f3a"
             ],
             [
              0.8888888888888888,
              "#fdca26"
             ],
             [
              1,
              "#f0f921"
             ]
            ],
            "type": "surface"
           }
          ],
          "table": [
           {
            "cells": {
             "fill": {
              "color": "#EBF0F8"
             },
             "line": {
              "color": "white"
             }
            },
            "header": {
             "fill": {
              "color": "#C8D4E3"
             },
             "line": {
              "color": "white"
             }
            },
            "type": "table"
           }
          ]
         },
         "layout": {
          "annotationdefaults": {
           "arrowcolor": "#2a3f5f",
           "arrowhead": 0,
           "arrowwidth": 1
          },
          "autotypenumbers": "strict",
          "coloraxis": {
           "colorbar": {
            "outlinewidth": 0,
            "ticks": ""
           }
          },
          "colorscale": {
           "diverging": [
            [
             0,
             "#8e0152"
            ],
            [
             0.1,
             "#c51b7d"
            ],
            [
             0.2,
             "#de77ae"
            ],
            [
             0.3,
             "#f1b6da"
            ],
            [
             0.4,
             "#fde0ef"
            ],
            [
             0.5,
             "#f7f7f7"
            ],
            [
             0.6,
             "#e6f5d0"
            ],
            [
             0.7,
             "#b8e186"
            ],
            [
             0.8,
             "#7fbc41"
            ],
            [
             0.9,
             "#4d9221"
            ],
            [
             1,
             "#276419"
            ]
           ],
           "sequential": [
            [
             0,
             "#0d0887"
            ],
            [
             0.1111111111111111,
             "#46039f"
            ],
            [
             0.2222222222222222,
             "#7201a8"
            ],
            [
             0.3333333333333333,
             "#9c179e"
            ],
            [
             0.4444444444444444,
             "#bd3786"
            ],
            [
             0.5555555555555556,
             "#d8576b"
            ],
            [
             0.6666666666666666,
             "#ed7953"
            ],
            [
             0.7777777777777778,
             "#fb9f3a"
            ],
            [
             0.8888888888888888,
             "#fdca26"
            ],
            [
             1,
             "#f0f921"
            ]
           ],
           "sequentialminus": [
            [
             0,
             "#0d0887"
            ],
            [
             0.1111111111111111,
             "#46039f"
            ],
            [
             0.2222222222222222,
             "#7201a8"
            ],
            [
             0.3333333333333333,
             "#9c179e"
            ],
            [
             0.4444444444444444,
             "#bd3786"
            ],
            [
             0.5555555555555556,
             "#d8576b"
            ],
            [
             0.6666666666666666,
             "#ed7953"
            ],
            [
             0.7777777777777778,
             "#fb9f3a"
            ],
            [
             0.8888888888888888,
             "#fdca26"
            ],
            [
             1,
             "#f0f921"
            ]
           ]
          },
          "colorway": [
           "#636efa",
           "#EF553B",
           "#00cc96",
           "#ab63fa",
           "#FFA15A",
           "#19d3f3",
           "#FF6692",
           "#B6E880",
           "#FF97FF",
           "#FECB52"
          ],
          "font": {
           "color": "#2a3f5f"
          },
          "geo": {
           "bgcolor": "white",
           "lakecolor": "white",
           "landcolor": "#E5ECF6",
           "showlakes": true,
           "showland": true,
           "subunitcolor": "white"
          },
          "hoverlabel": {
           "align": "left"
          },
          "hovermode": "closest",
          "mapbox": {
           "style": "light"
          },
          "paper_bgcolor": "white",
          "plot_bgcolor": "#E5ECF6",
          "polar": {
           "angularaxis": {
            "gridcolor": "white",
            "linecolor": "white",
            "ticks": ""
           },
           "bgcolor": "#E5ECF6",
           "radialaxis": {
            "gridcolor": "white",
            "linecolor": "white",
            "ticks": ""
           }
          },
          "scene": {
           "xaxis": {
            "backgroundcolor": "#E5ECF6",
            "gridcolor": "white",
            "gridwidth": 2,
            "linecolor": "white",
            "showbackground": true,
            "ticks": "",
            "zerolinecolor": "white"
           },
           "yaxis": {
            "backgroundcolor": "#E5ECF6",
            "gridcolor": "white",
            "gridwidth": 2,
            "linecolor": "white",
            "showbackground": true,
            "ticks": "",
            "zerolinecolor": "white"
           },
           "zaxis": {
            "backgroundcolor": "#E5ECF6",
            "gridcolor": "white",
            "gridwidth": 2,
            "linecolor": "white",
            "showbackground": true,
            "ticks": "",
            "zerolinecolor": "white"
           }
          },
          "shapedefaults": {
           "line": {
            "color": "#2a3f5f"
           }
          },
          "ternary": {
           "aaxis": {
            "gridcolor": "white",
            "linecolor": "white",
            "ticks": ""
           },
           "baxis": {
            "gridcolor": "white",
            "linecolor": "white",
            "ticks": ""
           },
           "bgcolor": "#E5ECF6",
           "caxis": {
            "gridcolor": "white",
            "linecolor": "white",
            "ticks": ""
           }
          },
          "title": {
           "x": 0.05
          },
          "xaxis": {
           "automargin": true,
           "gridcolor": "white",
           "linecolor": "white",
           "ticks": "",
           "title": {
            "standoff": 15
           },
           "zerolinecolor": "white",
           "zerolinewidth": 2
          },
          "yaxis": {
           "automargin": true,
           "gridcolor": "white",
           "linecolor": "white",
           "ticks": "",
           "title": {
            "standoff": 15
           },
           "zerolinecolor": "white",
           "zerolinewidth": 2
          }
         }
        },
        "title": {
         "text": "Top Category and Subcategory"
        },
        "xaxis": {
         "anchor": "y",
         "domain": [
          0,
          1
         ],
         "title": {
          "text": "Product Rating"
         }
        },
        "yaxis": {
         "anchor": "x",
         "domain": [
          0,
          1
         ],
         "title": {
          "text": "Total Sales"
         }
        }
       }
      }
     },
     "metadata": {},
     "output_type": "display_data"
    }
   ],
   "source": [
    "import plotly.express as px\n",
    "\n",
    "# Create bubble chart\n",
    "fig = px.scatter(top_category_with_sales.head(5), \n",
    "                 x='product_rating', \n",
    "                 y='customer_reviews_count', \n",
    "                 size='total_sales',  # Size of bubbles determined by total_sales\n",
    "                 color='product_rating',  # Color of bubbles determined by product_rating\n",
    "                 hover_data={'category': True,\n",
    "                             'total_sales': True,\n",
    "                             'product_rating': True},\n",
    "                 title='Top Category and Subcategory',\n",
    "                 labels={'category': 'Category', \n",
    "                         'total_sales': 'Total Sales',\n",
    "                         'product_rating': 'Product Rating'},\n",
    "                 size_max=30,)  # Adjust maximum bubble size as needed\n",
    "\n",
    "# Update layout\n",
    "fig.update_layout(\n",
    "    xaxis_title='Product Rating',\n",
    "    yaxis_title='Total Sales'\n",
    ")\n",
    "\n",
    "# Show the plot\n",
    "fig.show()\n"
   ]
  },
  {
   "cell_type": "code",
   "execution_count": 8,
   "metadata": {},
   "outputs": [
    {
     "data": {
      "text/html": [
       "<div>\n",
       "<style scoped>\n",
       "    .dataframe tbody tr th:only-of-type {\n",
       "        vertical-align: middle;\n",
       "    }\n",
       "\n",
       "    .dataframe tbody tr th {\n",
       "        vertical-align: top;\n",
       "    }\n",
       "\n",
       "    .dataframe thead th {\n",
       "        text-align: right;\n",
       "    }\n",
       "</style>\n",
       "<table border=\"1\" class=\"dataframe\">\n",
       "  <thead>\n",
       "    <tr style=\"text-align: right;\">\n",
       "      <th></th>\n",
       "      <th>category</th>\n",
       "      <th>product_rating</th>\n",
       "      <th>customer_reviews_count</th>\n",
       "    </tr>\n",
       "  </thead>\n",
       "  <tbody>\n",
       "    <tr>\n",
       "      <th>1</th>\n",
       "      <td>Foodgrains, Oil &amp; Masala</td>\n",
       "      <td>4.05</td>\n",
       "      <td>134474</td>\n",
       "    </tr>\n",
       "    <tr>\n",
       "      <th>2</th>\n",
       "      <td>Baby Care</td>\n",
       "      <td>4.01</td>\n",
       "      <td>30988</td>\n",
       "    </tr>\n",
       "    <tr>\n",
       "      <th>3</th>\n",
       "      <td>Gourmet &amp; World Food</td>\n",
       "      <td>4.01</td>\n",
       "      <td>236487</td>\n",
       "    </tr>\n",
       "    <tr>\n",
       "      <th>4</th>\n",
       "      <td>Fruits &amp; Vegetables</td>\n",
       "      <td>4.00</td>\n",
       "      <td>27985</td>\n",
       "    </tr>\n",
       "    <tr>\n",
       "      <th>5</th>\n",
       "      <td>Cleaning &amp; Household</td>\n",
       "      <td>3.99</td>\n",
       "      <td>134910</td>\n",
       "    </tr>\n",
       "    <tr>\n",
       "      <th>6</th>\n",
       "      <td>Snacks &amp; Branded Foods</td>\n",
       "      <td>3.98</td>\n",
       "      <td>140381</td>\n",
       "    </tr>\n",
       "    <tr>\n",
       "      <th>7</th>\n",
       "      <td>Bakery, Cakes &amp; Dairy</td>\n",
       "      <td>3.95</td>\n",
       "      <td>41356</td>\n",
       "    </tr>\n",
       "    <tr>\n",
       "      <th>8</th>\n",
       "      <td>Eggs, Meat &amp; Fish</td>\n",
       "      <td>3.95</td>\n",
       "      <td>17145</td>\n",
       "    </tr>\n",
       "    <tr>\n",
       "      <th>9</th>\n",
       "      <td>Beauty &amp; Hygiene</td>\n",
       "      <td>3.94</td>\n",
       "      <td>390805</td>\n",
       "    </tr>\n",
       "    <tr>\n",
       "      <th>10</th>\n",
       "      <td>Kitchen, Garden &amp; Pets</td>\n",
       "      <td>3.83</td>\n",
       "      <td>178871</td>\n",
       "    </tr>\n",
       "  </tbody>\n",
       "</table>\n",
       "</div>"
      ],
      "text/plain": [
       "                    category  product_rating  customer_reviews_count\n",
       "1   Foodgrains, Oil & Masala            4.05                  134474\n",
       "2                  Baby Care            4.01                   30988\n",
       "3       Gourmet & World Food            4.01                  236487\n",
       "4        Fruits & Vegetables            4.00                   27985\n",
       "5       Cleaning & Household            3.99                  134910\n",
       "6     Snacks & Branded Foods            3.98                  140381\n",
       "7      Bakery, Cakes & Dairy            3.95                   41356\n",
       "8          Eggs, Meat & Fish            3.95                   17145\n",
       "9           Beauty & Hygiene            3.94                  390805\n",
       "10    Kitchen, Garden & Pets            3.83                  178871"
      ]
     },
     "execution_count": 8,
     "metadata": {},
     "output_type": "execute_result"
    }
   ],
   "source": [
    "low_category = pd.merge(data_average_rating.tail(30), data_category_sales.tail(30), on=['category'], how='inner')\n",
    "low_category.tail(10)"
   ]
  },
  {
   "cell_type": "code",
   "execution_count": 9,
   "metadata": {},
   "outputs": [
    {
     "data": {
      "text/html": [
       "<div>\n",
       "<style scoped>\n",
       "    .dataframe tbody tr th:only-of-type {\n",
       "        vertical-align: middle;\n",
       "    }\n",
       "\n",
       "    .dataframe tbody tr th {\n",
       "        vertical-align: top;\n",
       "    }\n",
       "\n",
       "    .dataframe thead th {\n",
       "        text-align: right;\n",
       "    }\n",
       "</style>\n",
       "<table border=\"1\" class=\"dataframe\">\n",
       "  <thead>\n",
       "    <tr style=\"text-align: right;\">\n",
       "      <th></th>\n",
       "      <th>category</th>\n",
       "      <th>product_rating</th>\n",
       "      <th>customer_reviews_count</th>\n",
       "      <th>total_sales</th>\n",
       "    </tr>\n",
       "  </thead>\n",
       "  <tbody>\n",
       "    <tr>\n",
       "      <th>5</th>\n",
       "      <td>Cleaning &amp; Household</td>\n",
       "      <td>3.99</td>\n",
       "      <td>134910</td>\n",
       "      <td>3.010827e+07</td>\n",
       "    </tr>\n",
       "    <tr>\n",
       "      <th>6</th>\n",
       "      <td>Snacks &amp; Branded Foods</td>\n",
       "      <td>3.98</td>\n",
       "      <td>140381</td>\n",
       "      <td>1.833145e+07</td>\n",
       "    </tr>\n",
       "    <tr>\n",
       "      <th>7</th>\n",
       "      <td>Bakery, Cakes &amp; Dairy</td>\n",
       "      <td>3.95</td>\n",
       "      <td>41356</td>\n",
       "      <td>6.046531e+06</td>\n",
       "    </tr>\n",
       "    <tr>\n",
       "      <th>8</th>\n",
       "      <td>Eggs, Meat &amp; Fish</td>\n",
       "      <td>3.95</td>\n",
       "      <td>17145</td>\n",
       "      <td>4.879440e+06</td>\n",
       "    </tr>\n",
       "    <tr>\n",
       "      <th>9</th>\n",
       "      <td>Beauty &amp; Hygiene</td>\n",
       "      <td>3.94</td>\n",
       "      <td>390805</td>\n",
       "      <td>1.641310e+08</td>\n",
       "    </tr>\n",
       "    <tr>\n",
       "      <th>10</th>\n",
       "      <td>Kitchen, Garden &amp; Pets</td>\n",
       "      <td>3.83</td>\n",
       "      <td>178871</td>\n",
       "      <td>8.994958e+07</td>\n",
       "    </tr>\n",
       "  </tbody>\n",
       "</table>\n",
       "</div>"
      ],
      "text/plain": [
       "                  category  product_rating  customer_reviews_count  \\\n",
       "5     Cleaning & Household            3.99                  134910   \n",
       "6   Snacks & Branded Foods            3.98                  140381   \n",
       "7    Bakery, Cakes & Dairy            3.95                   41356   \n",
       "8        Eggs, Meat & Fish            3.95                   17145   \n",
       "9         Beauty & Hygiene            3.94                  390805   \n",
       "10  Kitchen, Garden & Pets            3.83                  178871   \n",
       "\n",
       "     total_sales  \n",
       "5   3.010827e+07  \n",
       "6   1.833145e+07  \n",
       "7   6.046531e+06  \n",
       "8   4.879440e+06  \n",
       "9   1.641310e+08  \n",
       "10  8.994958e+07  "
      ]
     },
     "execution_count": 9,
     "metadata": {},
     "output_type": "execute_result"
    }
   ],
   "source": [
    "low_category_with_sales = pd.merge(low_category, category_wise_sales, on=['category'], how='inner')\n",
    "low_category_with_sales = low_category_with_sales.sort_values(by=['product_rating', 'customer_reviews_count', 'total_sales'], ascending=False)\n",
    "low_category_with_sales.tail(6)"
   ]
  },
  {
   "cell_type": "code",
   "execution_count": 10,
   "metadata": {},
   "outputs": [
    {
     "data": {
      "application/vnd.plotly.v1+json": {
       "config": {
        "plotlyServerURL": "https://plot.ly"
       },
       "data": [
        {
         "customdata": [
          [
           "Snacks & Branded Foods",
           18331454.91
          ],
          [
           "Bakery, Cakes & Dairy",
           6046531.34
          ],
          [
           "Eggs, Meat & Fish",
           4879440.45
          ],
          [
           "Beauty & Hygiene",
           164130970.38
          ],
          [
           "Kitchen, Garden & Pets",
           89949583.94
          ]
         ],
         "hovertemplate": "Product Rating=%{marker.color}<br>customer_reviews_count=%{y}<br>Total Sales=%{customdata[1]}<br>Category=%{customdata[0]}<extra></extra>",
         "legendgroup": "",
         "marker": {
          "color": [
           3.98,
           3.95,
           3.95,
           3.94,
           3.83
          ],
          "coloraxis": "coloraxis",
          "size": [
           18331454.91,
           6046531.34,
           4879440.45,
           164130970.38,
           89949583.94
          ],
          "sizemode": "area",
          "sizeref": 182367.74486666668,
          "symbol": "circle"
         },
         "mode": "markers",
         "name": "",
         "orientation": "v",
         "showlegend": false,
         "type": "scatter",
         "x": [
          3.98,
          3.95,
          3.95,
          3.94,
          3.83
         ],
         "xaxis": "x",
         "y": [
          140381,
          41356,
          17145,
          390805,
          178871
         ],
         "yaxis": "y"
        }
       ],
       "layout": {
        "coloraxis": {
         "colorbar": {
          "title": {
           "text": "Product Rating"
          }
         },
         "colorscale": [
          [
           0,
           "#0d0887"
          ],
          [
           0.1111111111111111,
           "#46039f"
          ],
          [
           0.2222222222222222,
           "#7201a8"
          ],
          [
           0.3333333333333333,
           "#9c179e"
          ],
          [
           0.4444444444444444,
           "#bd3786"
          ],
          [
           0.5555555555555556,
           "#d8576b"
          ],
          [
           0.6666666666666666,
           "#ed7953"
          ],
          [
           0.7777777777777778,
           "#fb9f3a"
          ],
          [
           0.8888888888888888,
           "#fdca26"
          ],
          [
           1,
           "#f0f921"
          ]
         ]
        },
        "legend": {
         "itemsizing": "constant",
         "tracegroupgap": 0
        },
        "template": {
         "data": {
          "bar": [
           {
            "error_x": {
             "color": "#2a3f5f"
            },
            "error_y": {
             "color": "#2a3f5f"
            },
            "marker": {
             "line": {
              "color": "#E5ECF6",
              "width": 0.5
             },
             "pattern": {
              "fillmode": "overlay",
              "size": 10,
              "solidity": 0.2
             }
            },
            "type": "bar"
           }
          ],
          "barpolar": [
           {
            "marker": {
             "line": {
              "color": "#E5ECF6",
              "width": 0.5
             },
             "pattern": {
              "fillmode": "overlay",
              "size": 10,
              "solidity": 0.2
             }
            },
            "type": "barpolar"
           }
          ],
          "carpet": [
           {
            "aaxis": {
             "endlinecolor": "#2a3f5f",
             "gridcolor": "white",
             "linecolor": "white",
             "minorgridcolor": "white",
             "startlinecolor": "#2a3f5f"
            },
            "baxis": {
             "endlinecolor": "#2a3f5f",
             "gridcolor": "white",
             "linecolor": "white",
             "minorgridcolor": "white",
             "startlinecolor": "#2a3f5f"
            },
            "type": "carpet"
           }
          ],
          "choropleth": [
           {
            "colorbar": {
             "outlinewidth": 0,
             "ticks": ""
            },
            "type": "choropleth"
           }
          ],
          "contour": [
           {
            "colorbar": {
             "outlinewidth": 0,
             "ticks": ""
            },
            "colorscale": [
             [
              0,
              "#0d0887"
             ],
             [
              0.1111111111111111,
              "#46039f"
             ],
             [
              0.2222222222222222,
              "#7201a8"
             ],
             [
              0.3333333333333333,
              "#9c179e"
             ],
             [
              0.4444444444444444,
              "#bd3786"
             ],
             [
              0.5555555555555556,
              "#d8576b"
             ],
             [
              0.6666666666666666,
              "#ed7953"
             ],
             [
              0.7777777777777778,
              "#fb9f3a"
             ],
             [
              0.8888888888888888,
              "#fdca26"
             ],
             [
              1,
              "#f0f921"
             ]
            ],
            "type": "contour"
           }
          ],
          "contourcarpet": [
           {
            "colorbar": {
             "outlinewidth": 0,
             "ticks": ""
            },
            "type": "contourcarpet"
           }
          ],
          "heatmap": [
           {
            "colorbar": {
             "outlinewidth": 0,
             "ticks": ""
            },
            "colorscale": [
             [
              0,
              "#0d0887"
             ],
             [
              0.1111111111111111,
              "#46039f"
             ],
             [
              0.2222222222222222,
              "#7201a8"
             ],
             [
              0.3333333333333333,
              "#9c179e"
             ],
             [
              0.4444444444444444,
              "#bd3786"
             ],
             [
              0.5555555555555556,
              "#d8576b"
             ],
             [
              0.6666666666666666,
              "#ed7953"
             ],
             [
              0.7777777777777778,
              "#fb9f3a"
             ],
             [
              0.8888888888888888,
              "#fdca26"
             ],
             [
              1,
              "#f0f921"
             ]
            ],
            "type": "heatmap"
           }
          ],
          "heatmapgl": [
           {
            "colorbar": {
             "outlinewidth": 0,
             "ticks": ""
            },
            "colorscale": [
             [
              0,
              "#0d0887"
             ],
             [
              0.1111111111111111,
              "#46039f"
             ],
             [
              0.2222222222222222,
              "#7201a8"
             ],
             [
              0.3333333333333333,
              "#9c179e"
             ],
             [
              0.4444444444444444,
              "#bd3786"
             ],
             [
              0.5555555555555556,
              "#d8576b"
             ],
             [
              0.6666666666666666,
              "#ed7953"
             ],
             [
              0.7777777777777778,
              "#fb9f3a"
             ],
             [
              0.8888888888888888,
              "#fdca26"
             ],
             [
              1,
              "#f0f921"
             ]
            ],
            "type": "heatmapgl"
           }
          ],
          "histogram": [
           {
            "marker": {
             "pattern": {
              "fillmode": "overlay",
              "size": 10,
              "solidity": 0.2
             }
            },
            "type": "histogram"
           }
          ],
          "histogram2d": [
           {
            "colorbar": {
             "outlinewidth": 0,
             "ticks": ""
            },
            "colorscale": [
             [
              0,
              "#0d0887"
             ],
             [
              0.1111111111111111,
              "#46039f"
             ],
             [
              0.2222222222222222,
              "#7201a8"
             ],
             [
              0.3333333333333333,
              "#9c179e"
             ],
             [
              0.4444444444444444,
              "#bd3786"
             ],
             [
              0.5555555555555556,
              "#d8576b"
             ],
             [
              0.6666666666666666,
              "#ed7953"
             ],
             [
              0.7777777777777778,
              "#fb9f3a"
             ],
             [
              0.8888888888888888,
              "#fdca26"
             ],
             [
              1,
              "#f0f921"
             ]
            ],
            "type": "histogram2d"
           }
          ],
          "histogram2dcontour": [
           {
            "colorbar": {
             "outlinewidth": 0,
             "ticks": ""
            },
            "colorscale": [
             [
              0,
              "#0d0887"
             ],
             [
              0.1111111111111111,
              "#46039f"
             ],
             [
              0.2222222222222222,
              "#7201a8"
             ],
             [
              0.3333333333333333,
              "#9c179e"
             ],
             [
              0.4444444444444444,
              "#bd3786"
             ],
             [
              0.5555555555555556,
              "#d8576b"
             ],
             [
              0.6666666666666666,
              "#ed7953"
             ],
             [
              0.7777777777777778,
              "#fb9f3a"
             ],
             [
              0.8888888888888888,
              "#fdca26"
             ],
             [
              1,
              "#f0f921"
             ]
            ],
            "type": "histogram2dcontour"
           }
          ],
          "mesh3d": [
           {
            "colorbar": {
             "outlinewidth": 0,
             "ticks": ""
            },
            "type": "mesh3d"
           }
          ],
          "parcoords": [
           {
            "line": {
             "colorbar": {
              "outlinewidth": 0,
              "ticks": ""
             }
            },
            "type": "parcoords"
           }
          ],
          "pie": [
           {
            "automargin": true,
            "type": "pie"
           }
          ],
          "scatter": [
           {
            "fillpattern": {
             "fillmode": "overlay",
             "size": 10,
             "solidity": 0.2
            },
            "type": "scatter"
           }
          ],
          "scatter3d": [
           {
            "line": {
             "colorbar": {
              "outlinewidth": 0,
              "ticks": ""
             }
            },
            "marker": {
             "colorbar": {
              "outlinewidth": 0,
              "ticks": ""
             }
            },
            "type": "scatter3d"
           }
          ],
          "scattercarpet": [
           {
            "marker": {
             "colorbar": {
              "outlinewidth": 0,
              "ticks": ""
             }
            },
            "type": "scattercarpet"
           }
          ],
          "scattergeo": [
           {
            "marker": {
             "colorbar": {
              "outlinewidth": 0,
              "ticks": ""
             }
            },
            "type": "scattergeo"
           }
          ],
          "scattergl": [
           {
            "marker": {
             "colorbar": {
              "outlinewidth": 0,
              "ticks": ""
             }
            },
            "type": "scattergl"
           }
          ],
          "scattermapbox": [
           {
            "marker": {
             "colorbar": {
              "outlinewidth": 0,
              "ticks": ""
             }
            },
            "type": "scattermapbox"
           }
          ],
          "scatterpolar": [
           {
            "marker": {
             "colorbar": {
              "outlinewidth": 0,
              "ticks": ""
             }
            },
            "type": "scatterpolar"
           }
          ],
          "scatterpolargl": [
           {
            "marker": {
             "colorbar": {
              "outlinewidth": 0,
              "ticks": ""
             }
            },
            "type": "scatterpolargl"
           }
          ],
          "scatterternary": [
           {
            "marker": {
             "colorbar": {
              "outlinewidth": 0,
              "ticks": ""
             }
            },
            "type": "scatterternary"
           }
          ],
          "surface": [
           {
            "colorbar": {
             "outlinewidth": 0,
             "ticks": ""
            },
            "colorscale": [
             [
              0,
              "#0d0887"
             ],
             [
              0.1111111111111111,
              "#46039f"
             ],
             [
              0.2222222222222222,
              "#7201a8"
             ],
             [
              0.3333333333333333,
              "#9c179e"
             ],
             [
              0.4444444444444444,
              "#bd3786"
             ],
             [
              0.5555555555555556,
              "#d8576b"
             ],
             [
              0.6666666666666666,
              "#ed7953"
             ],
             [
              0.7777777777777778,
              "#fb9f3a"
             ],
             [
              0.8888888888888888,
              "#fdca26"
             ],
             [
              1,
              "#f0f921"
             ]
            ],
            "type": "surface"
           }
          ],
          "table": [
           {
            "cells": {
             "fill": {
              "color": "#EBF0F8"
             },
             "line": {
              "color": "white"
             }
            },
            "header": {
             "fill": {
              "color": "#C8D4E3"
             },
             "line": {
              "color": "white"
             }
            },
            "type": "table"
           }
          ]
         },
         "layout": {
          "annotationdefaults": {
           "arrowcolor": "#2a3f5f",
           "arrowhead": 0,
           "arrowwidth": 1
          },
          "autotypenumbers": "strict",
          "coloraxis": {
           "colorbar": {
            "outlinewidth": 0,
            "ticks": ""
           }
          },
          "colorscale": {
           "diverging": [
            [
             0,
             "#8e0152"
            ],
            [
             0.1,
             "#c51b7d"
            ],
            [
             0.2,
             "#de77ae"
            ],
            [
             0.3,
             "#f1b6da"
            ],
            [
             0.4,
             "#fde0ef"
            ],
            [
             0.5,
             "#f7f7f7"
            ],
            [
             0.6,
             "#e6f5d0"
            ],
            [
             0.7,
             "#b8e186"
            ],
            [
             0.8,
             "#7fbc41"
            ],
            [
             0.9,
             "#4d9221"
            ],
            [
             1,
             "#276419"
            ]
           ],
           "sequential": [
            [
             0,
             "#0d0887"
            ],
            [
             0.1111111111111111,
             "#46039f"
            ],
            [
             0.2222222222222222,
             "#7201a8"
            ],
            [
             0.3333333333333333,
             "#9c179e"
            ],
            [
             0.4444444444444444,
             "#bd3786"
            ],
            [
             0.5555555555555556,
             "#d8576b"
            ],
            [
             0.6666666666666666,
             "#ed7953"
            ],
            [
             0.7777777777777778,
             "#fb9f3a"
            ],
            [
             0.8888888888888888,
             "#fdca26"
            ],
            [
             1,
             "#f0f921"
            ]
           ],
           "sequentialminus": [
            [
             0,
             "#0d0887"
            ],
            [
             0.1111111111111111,
             "#46039f"
            ],
            [
             0.2222222222222222,
             "#7201a8"
            ],
            [
             0.3333333333333333,
             "#9c179e"
            ],
            [
             0.4444444444444444,
             "#bd3786"
            ],
            [
             0.5555555555555556,
             "#d8576b"
            ],
            [
             0.6666666666666666,
             "#ed7953"
            ],
            [
             0.7777777777777778,
             "#fb9f3a"
            ],
            [
             0.8888888888888888,
             "#fdca26"
            ],
            [
             1,
             "#f0f921"
            ]
           ]
          },
          "colorway": [
           "#636efa",
           "#EF553B",
           "#00cc96",
           "#ab63fa",
           "#FFA15A",
           "#19d3f3",
           "#FF6692",
           "#B6E880",
           "#FF97FF",
           "#FECB52"
          ],
          "font": {
           "color": "#2a3f5f"
          },
          "geo": {
           "bgcolor": "white",
           "lakecolor": "white",
           "landcolor": "#E5ECF6",
           "showlakes": true,
           "showland": true,
           "subunitcolor": "white"
          },
          "hoverlabel": {
           "align": "left"
          },
          "hovermode": "closest",
          "mapbox": {
           "style": "light"
          },
          "paper_bgcolor": "white",
          "plot_bgcolor": "#E5ECF6",
          "polar": {
           "angularaxis": {
            "gridcolor": "white",
            "linecolor": "white",
            "ticks": ""
           },
           "bgcolor": "#E5ECF6",
           "radialaxis": {
            "gridcolor": "white",
            "linecolor": "white",
            "ticks": ""
           }
          },
          "scene": {
           "xaxis": {
            "backgroundcolor": "#E5ECF6",
            "gridcolor": "white",
            "gridwidth": 2,
            "linecolor": "white",
            "showbackground": true,
            "ticks": "",
            "zerolinecolor": "white"
           },
           "yaxis": {
            "backgroundcolor": "#E5ECF6",
            "gridcolor": "white",
            "gridwidth": 2,
            "linecolor": "white",
            "showbackground": true,
            "ticks": "",
            "zerolinecolor": "white"
           },
           "zaxis": {
            "backgroundcolor": "#E5ECF6",
            "gridcolor": "white",
            "gridwidth": 2,
            "linecolor": "white",
            "showbackground": true,
            "ticks": "",
            "zerolinecolor": "white"
           }
          },
          "shapedefaults": {
           "line": {
            "color": "#2a3f5f"
           }
          },
          "ternary": {
           "aaxis": {
            "gridcolor": "white",
            "linecolor": "white",
            "ticks": ""
           },
           "baxis": {
            "gridcolor": "white",
            "linecolor": "white",
            "ticks": ""
           },
           "bgcolor": "#E5ECF6",
           "caxis": {
            "gridcolor": "white",
            "linecolor": "white",
            "ticks": ""
           }
          },
          "title": {
           "x": 0.05
          },
          "xaxis": {
           "automargin": true,
           "gridcolor": "white",
           "linecolor": "white",
           "ticks": "",
           "title": {
            "standoff": 15
           },
           "zerolinecolor": "white",
           "zerolinewidth": 2
          },
          "yaxis": {
           "automargin": true,
           "gridcolor": "white",
           "linecolor": "white",
           "ticks": "",
           "title": {
            "standoff": 15
           },
           "zerolinecolor": "white",
           "zerolinewidth": 2
          }
         }
        },
        "title": {
         "text": "Low Category and Subcategory"
        },
        "xaxis": {
         "anchor": "y",
         "domain": [
          0,
          1
         ],
         "title": {
          "text": "Product Rating"
         }
        },
        "yaxis": {
         "anchor": "x",
         "domain": [
          0,
          1
         ],
         "title": {
          "text": "Total Sales"
         }
        }
       }
      }
     },
     "metadata": {},
     "output_type": "display_data"
    }
   ],
   "source": [
    "import plotly.express as px\n",
    "\n",
    "# Create bubble chart\n",
    "fig = px.scatter(low_category_with_sales.tail(5), \n",
    "                 x='product_rating', \n",
    "                 y='customer_reviews_count', \n",
    "                 size='total_sales',  # Size of bubbles determined by total_sales\n",
    "                 color='product_rating',  # Color of bubbles determined by product_rating\n",
    "                 hover_data={'category': True,\n",
    "                             'total_sales': True,\n",
    "                             'product_rating': True},\n",
    "                 title='Low Category and Subcategory',\n",
    "                 labels={'category': 'Category', \n",
    "                         'total_sales': 'Total Sales',\n",
    "                         'product_rating': 'Product Rating'},\n",
    "                 size_max=30)  # Adjust maximum bubble size as needed\n",
    "\n",
    "# Update layout\n",
    "fig.update_layout(\n",
    "    xaxis_title='Product Rating',\n",
    "    yaxis_title='Total Sales'\n",
    ")\n",
    "\n",
    "# Show the plot\n",
    "fig.show()\n"
   ]
  },
  {
   "cell_type": "code",
   "execution_count": 11,
   "metadata": {},
   "outputs": [
    {
     "data": {
      "application/vnd.plotly.v1+json": {
       "config": {
        "plotlyServerURL": "https://plot.ly"
       },
       "data": [
        {
         "customdata": [
          [
           "Beverages",
           10397359.51
          ],
          [
           "Foodgrains, Oil & Masala",
           25872054.47
          ],
          [
           "Gourmet & World Food",
           76176748.11
          ],
          [
           "Baby Care",
           16223456.13
          ],
          [
           "Fruits & Vegetables",
           1456307.18
          ]
         ],
         "hovertemplate": "Product Rating=%{marker.color}<br>customer_reviews_count=%{y}<br>Total Sales=%{customdata[1]}<br>Category=%{customdata[0]}<extra></extra>",
         "legendgroup": "",
         "marker": {
          "color": [
           4.07,
           4.05,
           4.01,
           4.01,
           4
          ],
          "coloraxis": "coloraxis",
          "size": [
           10397359.51,
           25872054.47,
           76176748.11,
           16223456.13,
           1456307.18
          ],
          "sizemode": "area",
          "sizeref": 84640.83123333333,
          "symbol": "circle"
         },
         "mode": "markers",
         "name": "",
         "orientation": "v",
         "showlegend": false,
         "type": "scatter",
         "x": [
          4.07,
          4.05,
          4.01,
          4.01,
          4
         ],
         "xaxis": "x",
         "y": [
          43211,
          134474,
          236487,
          30988,
          27985
         ],
         "yaxis": "y"
        },
        {
         "customdata": [
          [
           "Cleaning & Household",
           30108271.93
          ],
          [
           "Snacks & Branded Foods",
           18331454.91
          ],
          [
           "Bakery, Cakes & Dairy",
           6046531.34
          ],
          [
           "Eggs, Meat & Fish",
           4879440.45
          ],
          [
           "Beauty & Hygiene",
           164130970.38
          ],
          [
           "Kitchen, Garden & Pets",
           89949583.94
          ]
         ],
         "hovertemplate": "Product Rating=%{marker.color}<br>customer_reviews_count=%{y}<br>Total Sales=%{customdata[1]}<br>Category=%{customdata[0]}<extra></extra>",
         "legendgroup": "",
         "marker": {
          "color": [
           3.99,
           3.98,
           3.95,
           3.95,
           3.94,
           3.83
          ],
          "coloraxis": "coloraxis",
          "size": [
           30108271.93,
           18331454.91,
           6046531.34,
           4879440.45,
           164130970.38,
           89949583.94
          ],
          "sizemode": "area",
          "sizeref": 182367.74486666668,
          "symbol": "circle"
         },
         "mode": "markers",
         "name": "",
         "orientation": "v",
         "showlegend": false,
         "type": "scatter",
         "x": [
          3.99,
          3.98,
          3.95,
          3.95,
          3.94,
          3.83
         ],
         "xaxis": "x2",
         "y": [
          134910,
          140381,
          41356,
          17145,
          390805,
          178871
         ],
         "yaxis": "y2"
        }
       ],
       "layout": {
        "annotations": [
         {
          "font": {
           "size": 16
          },
          "showarrow": false,
          "text": "Top Category and Subcategory",
          "x": 0.5,
          "xanchor": "center",
          "xref": "paper",
          "y": 1,
          "yanchor": "bottom",
          "yref": "paper"
         },
         {
          "font": {
           "size": 16
          },
          "showarrow": false,
          "text": "Low Category and Subcategory",
          "x": 0.5,
          "xanchor": "center",
          "xref": "paper",
          "y": 0.375,
          "yanchor": "bottom",
          "yref": "paper"
         }
        ],
        "height": 800,
        "showlegend": false,
        "template": {
         "data": {
          "bar": [
           {
            "error_x": {
             "color": "#2a3f5f"
            },
            "error_y": {
             "color": "#2a3f5f"
            },
            "marker": {
             "line": {
              "color": "#E5ECF6",
              "width": 0.5
             },
             "pattern": {
              "fillmode": "overlay",
              "size": 10,
              "solidity": 0.2
             }
            },
            "type": "bar"
           }
          ],
          "barpolar": [
           {
            "marker": {
             "line": {
              "color": "#E5ECF6",
              "width": 0.5
             },
             "pattern": {
              "fillmode": "overlay",
              "size": 10,
              "solidity": 0.2
             }
            },
            "type": "barpolar"
           }
          ],
          "carpet": [
           {
            "aaxis": {
             "endlinecolor": "#2a3f5f",
             "gridcolor": "white",
             "linecolor": "white",
             "minorgridcolor": "white",
             "startlinecolor": "#2a3f5f"
            },
            "baxis": {
             "endlinecolor": "#2a3f5f",
             "gridcolor": "white",
             "linecolor": "white",
             "minorgridcolor": "white",
             "startlinecolor": "#2a3f5f"
            },
            "type": "carpet"
           }
          ],
          "choropleth": [
           {
            "colorbar": {
             "outlinewidth": 0,
             "ticks": ""
            },
            "type": "choropleth"
           }
          ],
          "contour": [
           {
            "colorbar": {
             "outlinewidth": 0,
             "ticks": ""
            },
            "colorscale": [
             [
              0,
              "#0d0887"
             ],
             [
              0.1111111111111111,
              "#46039f"
             ],
             [
              0.2222222222222222,
              "#7201a8"
             ],
             [
              0.3333333333333333,
              "#9c179e"
             ],
             [
              0.4444444444444444,
              "#bd3786"
             ],
             [
              0.5555555555555556,
              "#d8576b"
             ],
             [
              0.6666666666666666,
              "#ed7953"
             ],
             [
              0.7777777777777778,
              "#fb9f3a"
             ],
             [
              0.8888888888888888,
              "#fdca26"
             ],
             [
              1,
              "#f0f921"
             ]
            ],
            "type": "contour"
           }
          ],
          "contourcarpet": [
           {
            "colorbar": {
             "outlinewidth": 0,
             "ticks": ""
            },
            "type": "contourcarpet"
           }
          ],
          "heatmap": [
           {
            "colorbar": {
             "outlinewidth": 0,
             "ticks": ""
            },
            "colorscale": [
             [
              0,
              "#0d0887"
             ],
             [
              0.1111111111111111,
              "#46039f"
             ],
             [
              0.2222222222222222,
              "#7201a8"
             ],
             [
              0.3333333333333333,
              "#9c179e"
             ],
             [
              0.4444444444444444,
              "#bd3786"
             ],
             [
              0.5555555555555556,
              "#d8576b"
             ],
             [
              0.6666666666666666,
              "#ed7953"
             ],
             [
              0.7777777777777778,
              "#fb9f3a"
             ],
             [
              0.8888888888888888,
              "#fdca26"
             ],
             [
              1,
              "#f0f921"
             ]
            ],
            "type": "heatmap"
           }
          ],
          "heatmapgl": [
           {
            "colorbar": {
             "outlinewidth": 0,
             "ticks": ""
            },
            "colorscale": [
             [
              0,
              "#0d0887"
             ],
             [
              0.1111111111111111,
              "#46039f"
             ],
             [
              0.2222222222222222,
              "#7201a8"
             ],
             [
              0.3333333333333333,
              "#9c179e"
             ],
             [
              0.4444444444444444,
              "#bd3786"
             ],
             [
              0.5555555555555556,
              "#d8576b"
             ],
             [
              0.6666666666666666,
              "#ed7953"
             ],
             [
              0.7777777777777778,
              "#fb9f3a"
             ],
             [
              0.8888888888888888,
              "#fdca26"
             ],
             [
              1,
              "#f0f921"
             ]
            ],
            "type": "heatmapgl"
           }
          ],
          "histogram": [
           {
            "marker": {
             "pattern": {
              "fillmode": "overlay",
              "size": 10,
              "solidity": 0.2
             }
            },
            "type": "histogram"
           }
          ],
          "histogram2d": [
           {
            "colorbar": {
             "outlinewidth": 0,
             "ticks": ""
            },
            "colorscale": [
             [
              0,
              "#0d0887"
             ],
             [
              0.1111111111111111,
              "#46039f"
             ],
             [
              0.2222222222222222,
              "#7201a8"
             ],
             [
              0.3333333333333333,
              "#9c179e"
             ],
             [
              0.4444444444444444,
              "#bd3786"
             ],
             [
              0.5555555555555556,
              "#d8576b"
             ],
             [
              0.6666666666666666,
              "#ed7953"
             ],
             [
              0.7777777777777778,
              "#fb9f3a"
             ],
             [
              0.8888888888888888,
              "#fdca26"
             ],
             [
              1,
              "#f0f921"
             ]
            ],
            "type": "histogram2d"
           }
          ],
          "histogram2dcontour": [
           {
            "colorbar": {
             "outlinewidth": 0,
             "ticks": ""
            },
            "colorscale": [
             [
              0,
              "#0d0887"
             ],
             [
              0.1111111111111111,
              "#46039f"
             ],
             [
              0.2222222222222222,
              "#7201a8"
             ],
             [
              0.3333333333333333,
              "#9c179e"
             ],
             [
              0.4444444444444444,
              "#bd3786"
             ],
             [
              0.5555555555555556,
              "#d8576b"
             ],
             [
              0.6666666666666666,
              "#ed7953"
             ],
             [
              0.7777777777777778,
              "#fb9f3a"
             ],
             [
              0.8888888888888888,
              "#fdca26"
             ],
             [
              1,
              "#f0f921"
             ]
            ],
            "type": "histogram2dcontour"
           }
          ],
          "mesh3d": [
           {
            "colorbar": {
             "outlinewidth": 0,
             "ticks": ""
            },
            "type": "mesh3d"
           }
          ],
          "parcoords": [
           {
            "line": {
             "colorbar": {
              "outlinewidth": 0,
              "ticks": ""
             }
            },
            "type": "parcoords"
           }
          ],
          "pie": [
           {
            "automargin": true,
            "type": "pie"
           }
          ],
          "scatter": [
           {
            "fillpattern": {
             "fillmode": "overlay",
             "size": 10,
             "solidity": 0.2
            },
            "type": "scatter"
           }
          ],
          "scatter3d": [
           {
            "line": {
             "colorbar": {
              "outlinewidth": 0,
              "ticks": ""
             }
            },
            "marker": {
             "colorbar": {
              "outlinewidth": 0,
              "ticks": ""
             }
            },
            "type": "scatter3d"
           }
          ],
          "scattercarpet": [
           {
            "marker": {
             "colorbar": {
              "outlinewidth": 0,
              "ticks": ""
             }
            },
            "type": "scattercarpet"
           }
          ],
          "scattergeo": [
           {
            "marker": {
             "colorbar": {
              "outlinewidth": 0,
              "ticks": ""
             }
            },
            "type": "scattergeo"
           }
          ],
          "scattergl": [
           {
            "marker": {
             "colorbar": {
              "outlinewidth": 0,
              "ticks": ""
             }
            },
            "type": "scattergl"
           }
          ],
          "scattermapbox": [
           {
            "marker": {
             "colorbar": {
              "outlinewidth": 0,
              "ticks": ""
             }
            },
            "type": "scattermapbox"
           }
          ],
          "scatterpolar": [
           {
            "marker": {
             "colorbar": {
              "outlinewidth": 0,
              "ticks": ""
             }
            },
            "type": "scatterpolar"
           }
          ],
          "scatterpolargl": [
           {
            "marker": {
             "colorbar": {
              "outlinewidth": 0,
              "ticks": ""
             }
            },
            "type": "scatterpolargl"
           }
          ],
          "scatterternary": [
           {
            "marker": {
             "colorbar": {
              "outlinewidth": 0,
              "ticks": ""
             }
            },
            "type": "scatterternary"
           }
          ],
          "surface": [
           {
            "colorbar": {
             "outlinewidth": 0,
             "ticks": ""
            },
            "colorscale": [
             [
              0,
              "#0d0887"
             ],
             [
              0.1111111111111111,
              "#46039f"
             ],
             [
              0.2222222222222222,
              "#7201a8"
             ],
             [
              0.3333333333333333,
              "#9c179e"
             ],
             [
              0.4444444444444444,
              "#bd3786"
             ],
             [
              0.5555555555555556,
              "#d8576b"
             ],
             [
              0.6666666666666666,
              "#ed7953"
             ],
             [
              0.7777777777777778,
              "#fb9f3a"
             ],
             [
              0.8888888888888888,
              "#fdca26"
             ],
             [
              1,
              "#f0f921"
             ]
            ],
            "type": "surface"
           }
          ],
          "table": [
           {
            "cells": {
             "fill": {
              "color": "#EBF0F8"
             },
             "line": {
              "color": "white"
             }
            },
            "header": {
             "fill": {
              "color": "#C8D4E3"
             },
             "line": {
              "color": "white"
             }
            },
            "type": "table"
           }
          ]
         },
         "layout": {
          "annotationdefaults": {
           "arrowcolor": "#2a3f5f",
           "arrowhead": 0,
           "arrowwidth": 1
          },
          "autotypenumbers": "strict",
          "coloraxis": {
           "colorbar": {
            "outlinewidth": 0,
            "ticks": ""
           }
          },
          "colorscale": {
           "diverging": [
            [
             0,
             "#8e0152"
            ],
            [
             0.1,
             "#c51b7d"
            ],
            [
             0.2,
             "#de77ae"
            ],
            [
             0.3,
             "#f1b6da"
            ],
            [
             0.4,
             "#fde0ef"
            ],
            [
             0.5,
             "#f7f7f7"
            ],
            [
             0.6,
             "#e6f5d0"
            ],
            [
             0.7,
             "#b8e186"
            ],
            [
             0.8,
             "#7fbc41"
            ],
            [
             0.9,
             "#4d9221"
            ],
            [
             1,
             "#276419"
            ]
           ],
           "sequential": [
            [
             0,
             "#0d0887"
            ],
            [
             0.1111111111111111,
             "#46039f"
            ],
            [
             0.2222222222222222,
             "#7201a8"
            ],
            [
             0.3333333333333333,
             "#9c179e"
            ],
            [
             0.4444444444444444,
             "#bd3786"
            ],
            [
             0.5555555555555556,
             "#d8576b"
            ],
            [
             0.6666666666666666,
             "#ed7953"
            ],
            [
             0.7777777777777778,
             "#fb9f3a"
            ],
            [
             0.8888888888888888,
             "#fdca26"
            ],
            [
             1,
             "#f0f921"
            ]
           ],
           "sequentialminus": [
            [
             0,
             "#0d0887"
            ],
            [
             0.1111111111111111,
             "#46039f"
            ],
            [
             0.2222222222222222,
             "#7201a8"
            ],
            [
             0.3333333333333333,
             "#9c179e"
            ],
            [
             0.4444444444444444,
             "#bd3786"
            ],
            [
             0.5555555555555556,
             "#d8576b"
            ],
            [
             0.6666666666666666,
             "#ed7953"
            ],
            [
             0.7777777777777778,
             "#fb9f3a"
            ],
            [
             0.8888888888888888,
             "#fdca26"
            ],
            [
             1,
             "#f0f921"
            ]
           ]
          },
          "colorway": [
           "#636efa",
           "#EF553B",
           "#00cc96",
           "#ab63fa",
           "#FFA15A",
           "#19d3f3",
           "#FF6692",
           "#B6E880",
           "#FF97FF",
           "#FECB52"
          ],
          "font": {
           "color": "#2a3f5f"
          },
          "geo": {
           "bgcolor": "white",
           "lakecolor": "white",
           "landcolor": "#E5ECF6",
           "showlakes": true,
           "showland": true,
           "subunitcolor": "white"
          },
          "hoverlabel": {
           "align": "left"
          },
          "hovermode": "closest",
          "mapbox": {
           "style": "light"
          },
          "paper_bgcolor": "white",
          "plot_bgcolor": "#E5ECF6",
          "polar": {
           "angularaxis": {
            "gridcolor": "white",
            "linecolor": "white",
            "ticks": ""
           },
           "bgcolor": "#E5ECF6",
           "radialaxis": {
            "gridcolor": "white",
            "linecolor": "white",
            "ticks": ""
           }
          },
          "scene": {
           "xaxis": {
            "backgroundcolor": "#E5ECF6",
            "gridcolor": "white",
            "gridwidth": 2,
            "linecolor": "white",
            "showbackground": true,
            "ticks": "",
            "zerolinecolor": "white"
           },
           "yaxis": {
            "backgroundcolor": "#E5ECF6",
            "gridcolor": "white",
            "gridwidth": 2,
            "linecolor": "white",
            "showbackground": true,
            "ticks": "",
            "zerolinecolor": "white"
           },
           "zaxis": {
            "backgroundcolor": "#E5ECF6",
            "gridcolor": "white",
            "gridwidth": 2,
            "linecolor": "white",
            "showbackground": true,
            "ticks": "",
            "zerolinecolor": "white"
           }
          },
          "shapedefaults": {
           "line": {
            "color": "#2a3f5f"
           }
          },
          "ternary": {
           "aaxis": {
            "gridcolor": "white",
            "linecolor": "white",
            "ticks": ""
           },
           "baxis": {
            "gridcolor": "white",
            "linecolor": "white",
            "ticks": ""
           },
           "bgcolor": "#E5ECF6",
           "caxis": {
            "gridcolor": "white",
            "linecolor": "white",
            "ticks": ""
           }
          },
          "title": {
           "x": 0.05
          },
          "xaxis": {
           "automargin": true,
           "gridcolor": "white",
           "linecolor": "white",
           "ticks": "",
           "title": {
            "standoff": 15
           },
           "zerolinecolor": "white",
           "zerolinewidth": 2
          },
          "yaxis": {
           "automargin": true,
           "gridcolor": "white",
           "linecolor": "white",
           "ticks": "",
           "title": {
            "standoff": 15
           },
           "zerolinecolor": "white",
           "zerolinewidth": 2
          }
         }
        },
        "xaxis": {
         "anchor": "y",
         "domain": [
          0,
          1
         ]
        },
        "xaxis2": {
         "anchor": "y2",
         "domain": [
          0,
          1
         ]
        },
        "yaxis": {
         "anchor": "x",
         "domain": [
          0.625,
          1
         ]
        },
        "yaxis2": {
         "anchor": "x2",
         "domain": [
          0,
          0.375
         ]
        }
       }
      }
     },
     "metadata": {},
     "output_type": "display_data"
    }
   ],
   "source": [
    "import plotly.graph_objects as go\n",
    "from plotly.subplots import make_subplots\n",
    "import plotly.express as px\n",
    "\n",
    "# Create scatter plots using Plotly Express\n",
    "scatter_top = px.scatter(top_category_with_sales.head(5), \n",
    "                         x='product_rating', \n",
    "                         y='customer_reviews_count', \n",
    "                         size='total_sales',  \n",
    "                         color='product_rating',  \n",
    "                         hover_data={'category': True,\n",
    "                                     'total_sales': True,\n",
    "                                     'product_rating': True},\n",
    "                         title='Top Category and Subcategory',\n",
    "                         labels={'category': 'Category', \n",
    "                                 'total_sales': 'Total Sales',\n",
    "                                 'product_rating': 'Product Rating'},\n",
    "                         size_max=30)\n",
    "\n",
    "scatter_low = px.scatter(low_category_with_sales.tail(6), \n",
    "                         x='product_rating', \n",
    "                         y='customer_reviews_count', \n",
    "                         size='total_sales',  \n",
    "                         color='product_rating',  \n",
    "                         hover_data={'category': True,\n",
    "                                     'total_sales': True,\n",
    "                                     'product_rating': True},\n",
    "                         title='Low Category and Subcategory',\n",
    "                         labels={'category': 'Category', \n",
    "                                 'total_sales': 'Total Sales',\n",
    "                                 'product_rating': 'Product Rating'},\n",
    "                         size_max=30)\n",
    "\n",
    "# Create subplots with two rows\n",
    "fig = make_subplots(rows=2, cols=1, subplot_titles=(\"Top Category and Subcategory\", \"Low Category and Subcategory\"))\n",
    "\n",
    "# Add Plotly Express scatter plots to the subplots\n",
    "fig.add_trace(scatter_top['data'][0], row=1, col=1)\n",
    "fig.add_trace(scatter_low['data'][0], row=2, col=1)\n",
    "\n",
    "# Update layout\n",
    "fig.update_layout(height=800, showlegend=False)\n",
    "\n",
    "# Show the plot\n",
    "fig.show()\n"
   ]
  },
  {
   "cell_type": "code",
   "execution_count": 12,
   "metadata": {},
   "outputs": [
    {
     "data": {
      "application/vnd.plotly.v1+json": {
       "config": {
        "plotlyServerURL": "https://plot.ly"
       },
       "data": [
        {
         "marker": {
          "color": "rgba(50, 171, 96, 0.6)"
         },
         "name": "Top Categories",
         "orientation": "h",
         "text": [
          390805,
          236487,
          178871,
          140381,
          134910
         ],
         "textposition": "auto",
         "type": "bar",
         "x": [
          390805,
          236487,
          178871,
          140381,
          134910
         ],
         "y": [
          "Beauty & Hygiene",
          "Gourmet & World Food",
          "Kitchen, Garden & Pets",
          "Snacks & Branded Foods",
          "Cleaning & Household"
         ]
        },
        {
         "marker": {
          "color": "rgba(219, 64, 82, 0.6)"
         },
         "name": "Low Categories",
         "orientation": "h",
         "text": [
          134474,
          43211,
          41356,
          30988,
          27985,
          17145
         ],
         "textposition": "auto",
         "type": "bar",
         "x": [
          134474,
          43211,
          41356,
          30988,
          27985,
          17145
         ],
         "y": [
          "Foodgrains, Oil & Masala",
          "Beverages",
          "Bakery, Cakes & Dairy",
          "Baby Care",
          "Fruits & Vegetables",
          "Eggs, Meat & Fish"
         ]
        }
       ],
       "layout": {
        "barmode": "group",
        "height": 600,
        "margin": {
         "l": 150
        },
        "showlegend": true,
        "template": {
         "data": {
          "bar": [
           {
            "error_x": {
             "color": "#2a3f5f"
            },
            "error_y": {
             "color": "#2a3f5f"
            },
            "marker": {
             "line": {
              "color": "#E5ECF6",
              "width": 0.5
             },
             "pattern": {
              "fillmode": "overlay",
              "size": 10,
              "solidity": 0.2
             }
            },
            "type": "bar"
           }
          ],
          "barpolar": [
           {
            "marker": {
             "line": {
              "color": "#E5ECF6",
              "width": 0.5
             },
             "pattern": {
              "fillmode": "overlay",
              "size": 10,
              "solidity": 0.2
             }
            },
            "type": "barpolar"
           }
          ],
          "carpet": [
           {
            "aaxis": {
             "endlinecolor": "#2a3f5f",
             "gridcolor": "white",
             "linecolor": "white",
             "minorgridcolor": "white",
             "startlinecolor": "#2a3f5f"
            },
            "baxis": {
             "endlinecolor": "#2a3f5f",
             "gridcolor": "white",
             "linecolor": "white",
             "minorgridcolor": "white",
             "startlinecolor": "#2a3f5f"
            },
            "type": "carpet"
           }
          ],
          "choropleth": [
           {
            "colorbar": {
             "outlinewidth": 0,
             "ticks": ""
            },
            "type": "choropleth"
           }
          ],
          "contour": [
           {
            "colorbar": {
             "outlinewidth": 0,
             "ticks": ""
            },
            "colorscale": [
             [
              0,
              "#0d0887"
             ],
             [
              0.1111111111111111,
              "#46039f"
             ],
             [
              0.2222222222222222,
              "#7201a8"
             ],
             [
              0.3333333333333333,
              "#9c179e"
             ],
             [
              0.4444444444444444,
              "#bd3786"
             ],
             [
              0.5555555555555556,
              "#d8576b"
             ],
             [
              0.6666666666666666,
              "#ed7953"
             ],
             [
              0.7777777777777778,
              "#fb9f3a"
             ],
             [
              0.8888888888888888,
              "#fdca26"
             ],
             [
              1,
              "#f0f921"
             ]
            ],
            "type": "contour"
           }
          ],
          "contourcarpet": [
           {
            "colorbar": {
             "outlinewidth": 0,
             "ticks": ""
            },
            "type": "contourcarpet"
           }
          ],
          "heatmap": [
           {
            "colorbar": {
             "outlinewidth": 0,
             "ticks": ""
            },
            "colorscale": [
             [
              0,
              "#0d0887"
             ],
             [
              0.1111111111111111,
              "#46039f"
             ],
             [
              0.2222222222222222,
              "#7201a8"
             ],
             [
              0.3333333333333333,
              "#9c179e"
             ],
             [
              0.4444444444444444,
              "#bd3786"
             ],
             [
              0.5555555555555556,
              "#d8576b"
             ],
             [
              0.6666666666666666,
              "#ed7953"
             ],
             [
              0.7777777777777778,
              "#fb9f3a"
             ],
             [
              0.8888888888888888,
              "#fdca26"
             ],
             [
              1,
              "#f0f921"
             ]
            ],
            "type": "heatmap"
           }
          ],
          "heatmapgl": [
           {
            "colorbar": {
             "outlinewidth": 0,
             "ticks": ""
            },
            "colorscale": [
             [
              0,
              "#0d0887"
             ],
             [
              0.1111111111111111,
              "#46039f"
             ],
             [
              0.2222222222222222,
              "#7201a8"
             ],
             [
              0.3333333333333333,
              "#9c179e"
             ],
             [
              0.4444444444444444,
              "#bd3786"
             ],
             [
              0.5555555555555556,
              "#d8576b"
             ],
             [
              0.6666666666666666,
              "#ed7953"
             ],
             [
              0.7777777777777778,
              "#fb9f3a"
             ],
             [
              0.8888888888888888,
              "#fdca26"
             ],
             [
              1,
              "#f0f921"
             ]
            ],
            "type": "heatmapgl"
           }
          ],
          "histogram": [
           {
            "marker": {
             "pattern": {
              "fillmode": "overlay",
              "size": 10,
              "solidity": 0.2
             }
            },
            "type": "histogram"
           }
          ],
          "histogram2d": [
           {
            "colorbar": {
             "outlinewidth": 0,
             "ticks": ""
            },
            "colorscale": [
             [
              0,
              "#0d0887"
             ],
             [
              0.1111111111111111,
              "#46039f"
             ],
             [
              0.2222222222222222,
              "#7201a8"
             ],
             [
              0.3333333333333333,
              "#9c179e"
             ],
             [
              0.4444444444444444,
              "#bd3786"
             ],
             [
              0.5555555555555556,
              "#d8576b"
             ],
             [
              0.6666666666666666,
              "#ed7953"
             ],
             [
              0.7777777777777778,
              "#fb9f3a"
             ],
             [
              0.8888888888888888,
              "#fdca26"
             ],
             [
              1,
              "#f0f921"
             ]
            ],
            "type": "histogram2d"
           }
          ],
          "histogram2dcontour": [
           {
            "colorbar": {
             "outlinewidth": 0,
             "ticks": ""
            },
            "colorscale": [
             [
              0,
              "#0d0887"
             ],
             [
              0.1111111111111111,
              "#46039f"
             ],
             [
              0.2222222222222222,
              "#7201a8"
             ],
             [
              0.3333333333333333,
              "#9c179e"
             ],
             [
              0.4444444444444444,
              "#bd3786"
             ],
             [
              0.5555555555555556,
              "#d8576b"
             ],
             [
              0.6666666666666666,
              "#ed7953"
             ],
             [
              0.7777777777777778,
              "#fb9f3a"
             ],
             [
              0.8888888888888888,
              "#fdca26"
             ],
             [
              1,
              "#f0f921"
             ]
            ],
            "type": "histogram2dcontour"
           }
          ],
          "mesh3d": [
           {
            "colorbar": {
             "outlinewidth": 0,
             "ticks": ""
            },
            "type": "mesh3d"
           }
          ],
          "parcoords": [
           {
            "line": {
             "colorbar": {
              "outlinewidth": 0,
              "ticks": ""
             }
            },
            "type": "parcoords"
           }
          ],
          "pie": [
           {
            "automargin": true,
            "type": "pie"
           }
          ],
          "scatter": [
           {
            "fillpattern": {
             "fillmode": "overlay",
             "size": 10,
             "solidity": 0.2
            },
            "type": "scatter"
           }
          ],
          "scatter3d": [
           {
            "line": {
             "colorbar": {
              "outlinewidth": 0,
              "ticks": ""
             }
            },
            "marker": {
             "colorbar": {
              "outlinewidth": 0,
              "ticks": ""
             }
            },
            "type": "scatter3d"
           }
          ],
          "scattercarpet": [
           {
            "marker": {
             "colorbar": {
              "outlinewidth": 0,
              "ticks": ""
             }
            },
            "type": "scattercarpet"
           }
          ],
          "scattergeo": [
           {
            "marker": {
             "colorbar": {
              "outlinewidth": 0,
              "ticks": ""
             }
            },
            "type": "scattergeo"
           }
          ],
          "scattergl": [
           {
            "marker": {
             "colorbar": {
              "outlinewidth": 0,
              "ticks": ""
             }
            },
            "type": "scattergl"
           }
          ],
          "scattermapbox": [
           {
            "marker": {
             "colorbar": {
              "outlinewidth": 0,
              "ticks": ""
             }
            },
            "type": "scattermapbox"
           }
          ],
          "scatterpolar": [
           {
            "marker": {
             "colorbar": {
              "outlinewidth": 0,
              "ticks": ""
             }
            },
            "type": "scatterpolar"
           }
          ],
          "scatterpolargl": [
           {
            "marker": {
             "colorbar": {
              "outlinewidth": 0,
              "ticks": ""
             }
            },
            "type": "scatterpolargl"
           }
          ],
          "scatterternary": [
           {
            "marker": {
             "colorbar": {
              "outlinewidth": 0,
              "ticks": ""
             }
            },
            "type": "scatterternary"
           }
          ],
          "surface": [
           {
            "colorbar": {
             "outlinewidth": 0,
             "ticks": ""
            },
            "colorscale": [
             [
              0,
              "#0d0887"
             ],
             [
              0.1111111111111111,
              "#46039f"
             ],
             [
              0.2222222222222222,
              "#7201a8"
             ],
             [
              0.3333333333333333,
              "#9c179e"
             ],
             [
              0.4444444444444444,
              "#bd3786"
             ],
             [
              0.5555555555555556,
              "#d8576b"
             ],
             [
              0.6666666666666666,
              "#ed7953"
             ],
             [
              0.7777777777777778,
              "#fb9f3a"
             ],
             [
              0.8888888888888888,
              "#fdca26"
             ],
             [
              1,
              "#f0f921"
             ]
            ],
            "type": "surface"
           }
          ],
          "table": [
           {
            "cells": {
             "fill": {
              "color": "#EBF0F8"
             },
             "line": {
              "color": "white"
             }
            },
            "header": {
             "fill": {
              "color": "#C8D4E3"
             },
             "line": {
              "color": "white"
             }
            },
            "type": "table"
           }
          ]
         },
         "layout": {
          "annotationdefaults": {
           "arrowcolor": "#2a3f5f",
           "arrowhead": 0,
           "arrowwidth": 1
          },
          "autotypenumbers": "strict",
          "coloraxis": {
           "colorbar": {
            "outlinewidth": 0,
            "ticks": ""
           }
          },
          "colorscale": {
           "diverging": [
            [
             0,
             "#8e0152"
            ],
            [
             0.1,
             "#c51b7d"
            ],
            [
             0.2,
             "#de77ae"
            ],
            [
             0.3,
             "#f1b6da"
            ],
            [
             0.4,
             "#fde0ef"
            ],
            [
             0.5,
             "#f7f7f7"
            ],
            [
             0.6,
             "#e6f5d0"
            ],
            [
             0.7,
             "#b8e186"
            ],
            [
             0.8,
             "#7fbc41"
            ],
            [
             0.9,
             "#4d9221"
            ],
            [
             1,
             "#276419"
            ]
           ],
           "sequential": [
            [
             0,
             "#0d0887"
            ],
            [
             0.1111111111111111,
             "#46039f"
            ],
            [
             0.2222222222222222,
             "#7201a8"
            ],
            [
             0.3333333333333333,
             "#9c179e"
            ],
            [
             0.4444444444444444,
             "#bd3786"
            ],
            [
             0.5555555555555556,
             "#d8576b"
            ],
            [
             0.6666666666666666,
             "#ed7953"
            ],
            [
             0.7777777777777778,
             "#fb9f3a"
            ],
            [
             0.8888888888888888,
             "#fdca26"
            ],
            [
             1,
             "#f0f921"
            ]
           ],
           "sequentialminus": [
            [
             0,
             "#0d0887"
            ],
            [
             0.1111111111111111,
             "#46039f"
            ],
            [
             0.2222222222222222,
             "#7201a8"
            ],
            [
             0.3333333333333333,
             "#9c179e"
            ],
            [
             0.4444444444444444,
             "#bd3786"
            ],
            [
             0.5555555555555556,
             "#d8576b"
            ],
            [
             0.6666666666666666,
             "#ed7953"
            ],
            [
             0.7777777777777778,
             "#fb9f3a"
            ],
            [
             0.8888888888888888,
             "#fdca26"
            ],
            [
             1,
             "#f0f921"
            ]
           ]
          },
          "colorway": [
           "#636efa",
           "#EF553B",
           "#00cc96",
           "#ab63fa",
           "#FFA15A",
           "#19d3f3",
           "#FF6692",
           "#B6E880",
           "#FF97FF",
           "#FECB52"
          ],
          "font": {
           "color": "#2a3f5f"
          },
          "geo": {
           "bgcolor": "white",
           "lakecolor": "white",
           "landcolor": "#E5ECF6",
           "showlakes": true,
           "showland": true,
           "subunitcolor": "white"
          },
          "hoverlabel": {
           "align": "left"
          },
          "hovermode": "closest",
          "mapbox": {
           "style": "light"
          },
          "paper_bgcolor": "white",
          "plot_bgcolor": "#E5ECF6",
          "polar": {
           "angularaxis": {
            "gridcolor": "white",
            "linecolor": "white",
            "ticks": ""
           },
           "bgcolor": "#E5ECF6",
           "radialaxis": {
            "gridcolor": "white",
            "linecolor": "white",
            "ticks": ""
           }
          },
          "scene": {
           "xaxis": {
            "backgroundcolor": "#E5ECF6",
            "gridcolor": "white",
            "gridwidth": 2,
            "linecolor": "white",
            "showbackground": true,
            "ticks": "",
            "zerolinecolor": "white"
           },
           "yaxis": {
            "backgroundcolor": "#E5ECF6",
            "gridcolor": "white",
            "gridwidth": 2,
            "linecolor": "white",
            "showbackground": true,
            "ticks": "",
            "zerolinecolor": "white"
           },
           "zaxis": {
            "backgroundcolor": "#E5ECF6",
            "gridcolor": "white",
            "gridwidth": 2,
            "linecolor": "white",
            "showbackground": true,
            "ticks": "",
            "zerolinecolor": "white"
           }
          },
          "shapedefaults": {
           "line": {
            "color": "#2a3f5f"
           }
          },
          "ternary": {
           "aaxis": {
            "gridcolor": "white",
            "linecolor": "white",
            "ticks": ""
           },
           "baxis": {
            "gridcolor": "white",
            "linecolor": "white",
            "ticks": ""
           },
           "bgcolor": "#E5ECF6",
           "caxis": {
            "gridcolor": "white",
            "linecolor": "white",
            "ticks": ""
           }
          },
          "title": {
           "x": 0.05
          },
          "xaxis": {
           "automargin": true,
           "gridcolor": "white",
           "linecolor": "white",
           "ticks": "",
           "title": {
            "standoff": 15
           },
           "zerolinecolor": "white",
           "zerolinewidth": 2
          },
          "yaxis": {
           "automargin": true,
           "gridcolor": "white",
           "linecolor": "white",
           "ticks": "",
           "title": {
            "standoff": 15
           },
           "zerolinecolor": "white",
           "zerolinewidth": 2
          }
         }
        },
        "title": {
         "text": "Top and Low Categories Based on Sales"
        },
        "xaxis": {
         "title": {
          "text": "Total Sales"
         }
        },
        "yaxis": {
         "title": {
          "text": "Category"
         }
        }
       }
      }
     },
     "metadata": {},
     "output_type": "display_data"
    }
   ],
   "source": [
    "import plotly.graph_objects as go\n",
    "\n",
    "# Sample data for demonstration purposes\n",
    "top_categories = top_category_with_sales.sort_values(by='customer_reviews_count', ascending=False)['category'].head(5)\n",
    "top_average_rating = top_category_with_sales.sort_values(by='customer_reviews_count', ascending=False)['product_rating'].head(5)\n",
    "top_sales = top_category_with_sales.sort_values(by='customer_reviews_count', ascending=False)['customer_reviews_count'].head(5)\n",
    "top_revenue = top_category_with_sales.sort_values(by='customer_reviews_count', ascending=False)['total_sales'].head(5)\n",
    "\n",
    "low_categories = low_category_with_sales.sort_values(by='customer_reviews_count', ascending=False)['category'].tail(6)\n",
    "low_average_rating = low_category_with_sales.sort_values(by='customer_reviews_count', ascending=False)['product_rating'].tail(6)\n",
    "low_sales = low_category_with_sales.sort_values(by='customer_reviews_count', ascending=False)['customer_reviews_count'].tail(6)\n",
    "low_revenue = low_category_with_sales.sort_values(by='customer_reviews_count', ascending=False)['total_sales'].tail(6)\n",
    "\n",
    "# Calculate the maximum value of average rating\n",
    "max_average_rating = max(max(top_average_rating), max(low_average_rating))\n",
    "\n",
    "max_total_sales = max(max(top_sales), max(low_sales))\n",
    "\n",
    "# Rescale average rating values to be more visible on the chart\n",
    "scaled_top_average_rating = [rating * max_total_sales / max_average_rating for rating in top_average_rating]\n",
    "scaled_low_average_rating = [rating * max_total_sales / max_average_rating for rating in low_average_rating]\n",
    "\n",
    "# Create trace for top categories\n",
    "trace_top = go.Bar(\n",
    "    x=top_sales,\n",
    "    y=top_categories,\n",
    "    orientation='h',\n",
    "    name='Top Categories',\n",
    "    text=top_sales,  # Labels for top categories\n",
    "    textposition='auto',  # Position labels automatically\n",
    "    marker=dict(color='rgba(50, 171, 96, 0.6)')  # Green color for top categories\n",
    ")\n",
    "\n",
    "# Create trace for low categories\n",
    "trace_low = go.Bar(\n",
    "    x=low_sales,\n",
    "    y=low_categories,\n",
    "    orientation='h',\n",
    "    name='Low Categories',\n",
    "    text=low_sales,  # Labels for low categories\n",
    "    textposition='auto',  # Position labels automatically\n",
    "    marker=dict(color='rgba(219, 64, 82, 0.6)')  # Red color for low categories\n",
    ")\n",
    "\n",
    "# Create layout\n",
    "layout = go.Layout(\n",
    "    title='Top and Low Categories Based on Sales',\n",
    "    barmode='group',  # Group bars side by side\n",
    "    xaxis=dict(title='Total Sales'),  # X-axis title\n",
    "    yaxis=dict(title='Category'),  # Y-axis title\n",
    "    showlegend=True,  # Show legend\n",
    "    height=600,  # Adjust height of the chart\n",
    "    margin=dict(l=150)  # Adjust left margin for longer category names\n",
    ")\n",
    "\n",
    "# Create figure\n",
    "fig = go.Figure(data=[trace_top, trace_low], layout=layout)\n",
    "\n",
    "# Show the chart\n",
    "fig.show()  # sales wise categories\n"
   ]
  },
  {
   "cell_type": "markdown",
   "metadata": {},
   "source": [
    "## Subcategory Analysis"
   ]
  },
  {
   "cell_type": "code",
   "execution_count": 71,
   "metadata": {},
   "outputs": [],
   "source": [
    "# Find the index of the maximum average product_rating for each category\n",
    "max_rating_index = category_stats.groupby('category')['product_rating'].idxmax()\n",
    "min_rating_index = category_stats.groupby('category')['product_rating'].idxmin()\n",
    "\n",
    "# Find the index of the maximum average customer_reviews_count for each category\n",
    "max_reviews_index = category_stats.groupby('category')['customer_reviews_count'].idxmax()\n",
    "min_reviews_index = category_stats.groupby('category')['customer_reviews_count'].idxmin()\n",
    "\n",
    "# Extract the corresponding sub-categories with the highest average rating and customer reviews count for each category\n",
    "best_subcategories_rating = category_stats.loc[max_rating_index]\n",
    "low_subcategories_rating = category_stats.loc[min_rating_index]\n",
    "best_subcategories_reviews = category_stats.loc[max_reviews_index]\n",
    "low_subcategories_reviews = category_stats.loc[min_reviews_index]"
   ]
  },
  {
   "cell_type": "code",
   "execution_count": 14,
   "metadata": {},
   "outputs": [
    {
     "data": {
      "text/html": [
       "<div>\n",
       "<style scoped>\n",
       "    .dataframe tbody tr th:only-of-type {\n",
       "        vertical-align: middle;\n",
       "    }\n",
       "\n",
       "    .dataframe tbody tr th {\n",
       "        vertical-align: top;\n",
       "    }\n",
       "\n",
       "    .dataframe thead th {\n",
       "        text-align: right;\n",
       "    }\n",
       "</style>\n",
       "<table border=\"1\" class=\"dataframe\">\n",
       "  <thead>\n",
       "    <tr style=\"text-align: right;\">\n",
       "      <th></th>\n",
       "      <th>category</th>\n",
       "      <th>product_subcategory</th>\n",
       "      <th>product_rating</th>\n",
       "      <th>customer_reviews_count</th>\n",
       "      <th>total_sales</th>\n",
       "    </tr>\n",
       "  </thead>\n",
       "  <tbody>\n",
       "    <tr>\n",
       "      <th>3</th>\n",
       "      <td>Baby Care</td>\n",
       "      <td>Baby Food &amp; Formula</td>\n",
       "      <td>4.165957</td>\n",
       "      <td>2363</td>\n",
       "      <td>838280.60</td>\n",
       "    </tr>\n",
       "    <tr>\n",
       "      <th>12</th>\n",
       "      <td>Bakery, Cakes &amp; Dairy</td>\n",
       "      <td>Gourmet Breads</td>\n",
       "      <td>4.105714</td>\n",
       "      <td>1881</td>\n",
       "      <td>188409.35</td>\n",
       "    </tr>\n",
       "    <tr>\n",
       "      <th>23</th>\n",
       "      <td>Beauty &amp; Hygiene</td>\n",
       "      <td>Oral Care</td>\n",
       "      <td>4.124723</td>\n",
       "      <td>14320</td>\n",
       "      <td>2924417.31</td>\n",
       "    </tr>\n",
       "    <tr>\n",
       "      <th>30</th>\n",
       "      <td>Beverages</td>\n",
       "      <td>Water</td>\n",
       "      <td>4.170588</td>\n",
       "      <td>1108</td>\n",
       "      <td>178959.25</td>\n",
       "    </tr>\n",
       "    <tr>\n",
       "      <th>34</th>\n",
       "      <td>Cleaning &amp; Household</td>\n",
       "      <td>Detergents &amp; Dishwash</td>\n",
       "      <td>4.269349</td>\n",
       "      <td>12864</td>\n",
       "      <td>3456468.49</td>\n",
       "    </tr>\n",
       "    <tr>\n",
       "      <th>44</th>\n",
       "      <td>Eggs, Meat &amp; Fish</td>\n",
       "      <td>Mutton &amp; Lamb</td>\n",
       "      <td>4.023684</td>\n",
       "      <td>841</td>\n",
       "      <td>597958.80</td>\n",
       "    </tr>\n",
       "    <tr>\n",
       "      <th>51</th>\n",
       "      <td>Foodgrains, Oil &amp; Masala</td>\n",
       "      <td>Edible Oils &amp; Ghee</td>\n",
       "      <td>4.125605</td>\n",
       "      <td>12037</td>\n",
       "      <td>6880332.37</td>\n",
       "    </tr>\n",
       "    <tr>\n",
       "      <th>56</th>\n",
       "      <td>Fruits &amp; Vegetables</td>\n",
       "      <td>Cuts &amp; Sprouts</td>\n",
       "      <td>4.000526</td>\n",
       "      <td>4875</td>\n",
       "      <td>171547.35</td>\n",
       "    </tr>\n",
       "    <tr>\n",
       "      <th>71</th>\n",
       "      <td>Gourmet &amp; World Food</td>\n",
       "      <td>Oils &amp; Vinegar</td>\n",
       "      <td>4.231590</td>\n",
       "      <td>12919</td>\n",
       "      <td>12961550.13</td>\n",
       "    </tr>\n",
       "    <tr>\n",
       "      <th>84</th>\n",
       "      <td>Kitchen, Garden &amp; Pets</td>\n",
       "      <td>Pet Food &amp; Accessories</td>\n",
       "      <td>4.138202</td>\n",
       "      <td>17233</td>\n",
       "      <td>15154582.93</td>\n",
       "    </tr>\n",
       "    <tr>\n",
       "      <th>88</th>\n",
       "      <td>Snacks &amp; Branded Foods</td>\n",
       "      <td>Biscuits &amp; Cookies</td>\n",
       "      <td>4.160820</td>\n",
       "      <td>14369</td>\n",
       "      <td>947067.06</td>\n",
       "    </tr>\n",
       "  </tbody>\n",
       "</table>\n",
       "</div>"
      ],
      "text/plain": [
       "                    category     product_subcategory  product_rating  \\\n",
       "3                  Baby Care     Baby Food & Formula        4.165957   \n",
       "12     Bakery, Cakes & Dairy          Gourmet Breads        4.105714   \n",
       "23          Beauty & Hygiene               Oral Care        4.124723   \n",
       "30                 Beverages                   Water        4.170588   \n",
       "34      Cleaning & Household   Detergents & Dishwash        4.269349   \n",
       "44         Eggs, Meat & Fish           Mutton & Lamb        4.023684   \n",
       "51  Foodgrains, Oil & Masala      Edible Oils & Ghee        4.125605   \n",
       "56       Fruits & Vegetables          Cuts & Sprouts        4.000526   \n",
       "71      Gourmet & World Food          Oils & Vinegar        4.231590   \n",
       "84    Kitchen, Garden & Pets  Pet Food & Accessories        4.138202   \n",
       "88    Snacks & Branded Foods      Biscuits & Cookies        4.160820   \n",
       "\n",
       "    customer_reviews_count  total_sales  \n",
       "3                     2363    838280.60  \n",
       "12                    1881    188409.35  \n",
       "23                   14320   2924417.31  \n",
       "30                    1108    178959.25  \n",
       "34                   12864   3456468.49  \n",
       "44                     841    597958.80  \n",
       "51                   12037   6880332.37  \n",
       "56                    4875    171547.35  \n",
       "71                   12919  12961550.13  \n",
       "84                   17233  15154582.93  \n",
       "88                   14369    947067.06  "
      ]
     },
     "execution_count": 14,
     "metadata": {},
     "output_type": "execute_result"
    }
   ],
   "source": [
    "best_subcategories_rating"
   ]
  },
  {
   "cell_type": "code",
   "execution_count": 72,
   "metadata": {},
   "outputs": [
    {
     "data": {
      "text/html": [
       "<div>\n",
       "<style scoped>\n",
       "    .dataframe tbody tr th:only-of-type {\n",
       "        vertical-align: middle;\n",
       "    }\n",
       "\n",
       "    .dataframe tbody tr th {\n",
       "        vertical-align: top;\n",
       "    }\n",
       "\n",
       "    .dataframe thead th {\n",
       "        text-align: right;\n",
       "    }\n",
       "</style>\n",
       "<table border=\"1\" class=\"dataframe\">\n",
       "  <thead>\n",
       "    <tr style=\"text-align: right;\">\n",
       "      <th></th>\n",
       "      <th>category</th>\n",
       "      <th>product_subcategory</th>\n",
       "      <th>product_rating</th>\n",
       "      <th>customer_reviews_count</th>\n",
       "      <th>total_sales</th>\n",
       "    </tr>\n",
       "  </thead>\n",
       "  <tbody>\n",
       "    <tr>\n",
       "      <th>1</th>\n",
       "      <td>Baby Care</td>\n",
       "      <td>Baby Accessories</td>\n",
       "      <td>3.145946</td>\n",
       "      <td>2169</td>\n",
       "      <td>829555.00</td>\n",
       "    </tr>\n",
       "    <tr>\n",
       "      <th>13</th>\n",
       "      <td>Bakery, Cakes &amp; Dairy</td>\n",
       "      <td>Ice Creams &amp; Desserts</td>\n",
       "      <td>3.622917</td>\n",
       "      <td>2289</td>\n",
       "      <td>371956.95</td>\n",
       "    </tr>\n",
       "    <tr>\n",
       "      <th>17</th>\n",
       "      <td>Beauty &amp; Hygiene</td>\n",
       "      <td>Fragrances &amp; Deos</td>\n",
       "      <td>3.746950</td>\n",
       "      <td>48037</td>\n",
       "      <td>43299681.27</td>\n",
       "    </tr>\n",
       "    <tr>\n",
       "      <th>25</th>\n",
       "      <td>Beverages</td>\n",
       "      <td>Coffee</td>\n",
       "      <td>3.967978</td>\n",
       "      <td>4193</td>\n",
       "      <td>785057.55</td>\n",
       "    </tr>\n",
       "    <tr>\n",
       "      <th>32</th>\n",
       "      <td>Cleaning &amp; Household</td>\n",
       "      <td>Bins &amp; Bathroom Ware</td>\n",
       "      <td>3.760077</td>\n",
       "      <td>20064</td>\n",
       "      <td>5575344.00</td>\n",
       "    </tr>\n",
       "    <tr>\n",
       "      <th>45</th>\n",
       "      <td>Eggs, Meat &amp; Fish</td>\n",
       "      <td>Pork &amp; Other Meats</td>\n",
       "      <td>2.640000</td>\n",
       "      <td>102</td>\n",
       "      <td>27970.00</td>\n",
       "    </tr>\n",
       "    <tr>\n",
       "      <th>50</th>\n",
       "      <td>Foodgrains, Oil &amp; Masala</td>\n",
       "      <td>Dry Fruits</td>\n",
       "      <td>3.890394</td>\n",
       "      <td>10139</td>\n",
       "      <td>2617634.15</td>\n",
       "    </tr>\n",
       "    <tr>\n",
       "      <th>60</th>\n",
       "      <td>Fruits &amp; Vegetables</td>\n",
       "      <td>Fresh Vegetables</td>\n",
       "      <td>4.000000</td>\n",
       "      <td>8294</td>\n",
       "      <td>258932.75</td>\n",
       "    </tr>\n",
       "    <tr>\n",
       "      <th>66</th>\n",
       "      <td>Gourmet &amp; World Food</td>\n",
       "      <td>Chocolates &amp; Biscuits</td>\n",
       "      <td>3.875205</td>\n",
       "      <td>31412</td>\n",
       "      <td>8398268.80</td>\n",
       "    </tr>\n",
       "    <tr>\n",
       "      <th>79</th>\n",
       "      <td>Kitchen, Garden &amp; Pets</td>\n",
       "      <td>Cookware &amp; Non Stick</td>\n",
       "      <td>3.580085</td>\n",
       "      <td>17533</td>\n",
       "      <td>20245576.75</td>\n",
       "    </tr>\n",
       "    <tr>\n",
       "      <th>92</th>\n",
       "      <td>Snacks &amp; Branded Foods</td>\n",
       "      <td>Frozen Veggies &amp; Snacks</td>\n",
       "      <td>3.752459</td>\n",
       "      <td>8855</td>\n",
       "      <td>1627977.56</td>\n",
       "    </tr>\n",
       "  </tbody>\n",
       "</table>\n",
       "</div>"
      ],
      "text/plain": [
       "                    category      product_subcategory  product_rating  \\\n",
       "1                  Baby Care         Baby Accessories        3.145946   \n",
       "13     Bakery, Cakes & Dairy    Ice Creams & Desserts        3.622917   \n",
       "17          Beauty & Hygiene        Fragrances & Deos        3.746950   \n",
       "25                 Beverages                   Coffee        3.967978   \n",
       "32      Cleaning & Household     Bins & Bathroom Ware        3.760077   \n",
       "45         Eggs, Meat & Fish       Pork & Other Meats        2.640000   \n",
       "50  Foodgrains, Oil & Masala               Dry Fruits        3.890394   \n",
       "60       Fruits & Vegetables         Fresh Vegetables        4.000000   \n",
       "66      Gourmet & World Food    Chocolates & Biscuits        3.875205   \n",
       "79    Kitchen, Garden & Pets     Cookware & Non Stick        3.580085   \n",
       "92    Snacks & Branded Foods  Frozen Veggies & Snacks        3.752459   \n",
       "\n",
       "    customer_reviews_count  total_sales  \n",
       "1                     2169    829555.00  \n",
       "13                    2289    371956.95  \n",
       "17                   48037  43299681.27  \n",
       "25                    4193    785057.55  \n",
       "32                   20064   5575344.00  \n",
       "45                     102     27970.00  \n",
       "50                   10139   2617634.15  \n",
       "60                    8294    258932.75  \n",
       "66                   31412   8398268.80  \n",
       "79                   17533  20245576.75  \n",
       "92                    8855   1627977.56  "
      ]
     },
     "execution_count": 72,
     "metadata": {},
     "output_type": "execute_result"
    }
   ],
   "source": [
    "low_subcategories_rating"
   ]
  },
  {
   "cell_type": "code",
   "execution_count": 15,
   "metadata": {},
   "outputs": [
    {
     "data": {
      "text/html": [
       "<div>\n",
       "<style scoped>\n",
       "    .dataframe tbody tr th:only-of-type {\n",
       "        vertical-align: middle;\n",
       "    }\n",
       "\n",
       "    .dataframe tbody tr th {\n",
       "        vertical-align: top;\n",
       "    }\n",
       "\n",
       "    .dataframe thead th {\n",
       "        text-align: right;\n",
       "    }\n",
       "</style>\n",
       "<table border=\"1\" class=\"dataframe\">\n",
       "  <thead>\n",
       "    <tr style=\"text-align: right;\">\n",
       "      <th></th>\n",
       "      <th>category</th>\n",
       "      <th>product_subcategory</th>\n",
       "      <th>product_rating</th>\n",
       "      <th>customer_reviews_count</th>\n",
       "      <th>total_sales</th>\n",
       "    </tr>\n",
       "  </thead>\n",
       "  <tbody>\n",
       "    <tr>\n",
       "      <th>4</th>\n",
       "      <td>Baby Care</td>\n",
       "      <td>Diapers &amp; Wipes</td>\n",
       "      <td>4.095547</td>\n",
       "      <td>12573</td>\n",
       "      <td>9102079.03</td>\n",
       "    </tr>\n",
       "    <tr>\n",
       "      <th>11</th>\n",
       "      <td>Bakery, Cakes &amp; Dairy</td>\n",
       "      <td>Dairy</td>\n",
       "      <td>4.054156</td>\n",
       "      <td>19498</td>\n",
       "      <td>3006786.67</td>\n",
       "    </tr>\n",
       "    <tr>\n",
       "      <th>24</th>\n",
       "      <td>Beauty &amp; Hygiene</td>\n",
       "      <td>Skin Care</td>\n",
       "      <td>3.947319</td>\n",
       "      <td>115724</td>\n",
       "      <td>47999138.45</td>\n",
       "    </tr>\n",
       "    <tr>\n",
       "      <th>29</th>\n",
       "      <td>Beverages</td>\n",
       "      <td>Tea</td>\n",
       "      <td>4.080389</td>\n",
       "      <td>16106</td>\n",
       "      <td>4258669.71</td>\n",
       "    </tr>\n",
       "    <tr>\n",
       "      <th>31</th>\n",
       "      <td>Cleaning &amp; Household</td>\n",
       "      <td>All Purpose Cleaners</td>\n",
       "      <td>4.126211</td>\n",
       "      <td>24219</td>\n",
       "      <td>6261666.13</td>\n",
       "    </tr>\n",
       "    <tr>\n",
       "      <th>46</th>\n",
       "      <td>Eggs, Meat &amp; Fish</td>\n",
       "      <td>Sausages, Bacon &amp; Salami</td>\n",
       "      <td>4.023270</td>\n",
       "      <td>7610</td>\n",
       "      <td>2152442.05</td>\n",
       "    </tr>\n",
       "    <tr>\n",
       "      <th>52</th>\n",
       "      <td>Foodgrains, Oil &amp; Masala</td>\n",
       "      <td>Masalas &amp; Spices</td>\n",
       "      <td>4.094094</td>\n",
       "      <td>46249</td>\n",
       "      <td>4079095.21</td>\n",
       "    </tr>\n",
       "    <tr>\n",
       "      <th>60</th>\n",
       "      <td>Fruits &amp; Vegetables</td>\n",
       "      <td>Fresh Vegetables</td>\n",
       "      <td>4.000000</td>\n",
       "      <td>8294</td>\n",
       "      <td>258932.75</td>\n",
       "    </tr>\n",
       "    <tr>\n",
       "      <th>75</th>\n",
       "      <td>Gourmet &amp; World Food</td>\n",
       "      <td>Snacks, Dry Fruits, Nuts</td>\n",
       "      <td>3.988333</td>\n",
       "      <td>42189</td>\n",
       "      <td>10016846.70</td>\n",
       "    </tr>\n",
       "    <tr>\n",
       "      <th>86</th>\n",
       "      <td>Kitchen, Garden &amp; Pets</td>\n",
       "      <td>Storage &amp; Accessories</td>\n",
       "      <td>3.827833</td>\n",
       "      <td>49877</td>\n",
       "      <td>14958204.00</td>\n",
       "    </tr>\n",
       "    <tr>\n",
       "      <th>96</th>\n",
       "      <td>Snacks &amp; Branded Foods</td>\n",
       "      <td>Ready To Cook &amp; Eat</td>\n",
       "      <td>3.918740</td>\n",
       "      <td>32204</td>\n",
       "      <td>2941816.59</td>\n",
       "    </tr>\n",
       "  </tbody>\n",
       "</table>\n",
       "</div>"
      ],
      "text/plain": [
       "                    category       product_subcategory  product_rating  \\\n",
       "4                  Baby Care           Diapers & Wipes        4.095547   \n",
       "11     Bakery, Cakes & Dairy                     Dairy        4.054156   \n",
       "24          Beauty & Hygiene                 Skin Care        3.947319   \n",
       "29                 Beverages                       Tea        4.080389   \n",
       "31      Cleaning & Household      All Purpose Cleaners        4.126211   \n",
       "46         Eggs, Meat & Fish  Sausages, Bacon & Salami        4.023270   \n",
       "52  Foodgrains, Oil & Masala          Masalas & Spices        4.094094   \n",
       "60       Fruits & Vegetables          Fresh Vegetables        4.000000   \n",
       "75      Gourmet & World Food  Snacks, Dry Fruits, Nuts        3.988333   \n",
       "86    Kitchen, Garden & Pets     Storage & Accessories        3.827833   \n",
       "96    Snacks & Branded Foods       Ready To Cook & Eat        3.918740   \n",
       "\n",
       "    customer_reviews_count  total_sales  \n",
       "4                    12573   9102079.03  \n",
       "11                   19498   3006786.67  \n",
       "24                  115724  47999138.45  \n",
       "29                   16106   4258669.71  \n",
       "31                   24219   6261666.13  \n",
       "46                    7610   2152442.05  \n",
       "52                   46249   4079095.21  \n",
       "60                    8294    258932.75  \n",
       "75                   42189  10016846.70  \n",
       "86                   49877  14958204.00  \n",
       "96                   32204   2941816.59  "
      ]
     },
     "execution_count": 15,
     "metadata": {},
     "output_type": "execute_result"
    }
   ],
   "source": [
    "best_subcategories_reviews"
   ]
  },
  {
   "cell_type": "code",
   "execution_count": 73,
   "metadata": {},
   "outputs": [
    {
     "data": {
      "text/html": [
       "<div>\n",
       "<style scoped>\n",
       "    .dataframe tbody tr th:only-of-type {\n",
       "        vertical-align: middle;\n",
       "    }\n",
       "\n",
       "    .dataframe tbody tr th {\n",
       "        vertical-align: top;\n",
       "    }\n",
       "\n",
       "    .dataframe thead th {\n",
       "        text-align: right;\n",
       "    }\n",
       "</style>\n",
       "<table border=\"1\" class=\"dataframe\">\n",
       "  <thead>\n",
       "    <tr style=\"text-align: right;\">\n",
       "      <th></th>\n",
       "      <th>category</th>\n",
       "      <th>product_subcategory</th>\n",
       "      <th>product_rating</th>\n",
       "      <th>customer_reviews_count</th>\n",
       "      <th>total_sales</th>\n",
       "    </tr>\n",
       "  </thead>\n",
       "  <tbody>\n",
       "    <tr>\n",
       "      <th>0</th>\n",
       "      <td>Baby Care</td>\n",
       "      <td>Atta, Flours &amp; Sooji</td>\n",
       "      <td>3.600000</td>\n",
       "      <td>96</td>\n",
       "      <td>28800.00</td>\n",
       "    </tr>\n",
       "    <tr>\n",
       "      <th>7</th>\n",
       "      <td>Bakery, Cakes &amp; Dairy</td>\n",
       "      <td>Bakery Snacks</td>\n",
       "      <td>3.938000</td>\n",
       "      <td>1315</td>\n",
       "      <td>139711.80</td>\n",
       "    </tr>\n",
       "    <tr>\n",
       "      <th>22</th>\n",
       "      <td>Beauty &amp; Hygiene</td>\n",
       "      <td>Mothers &amp; Maternity</td>\n",
       "      <td>3.885714</td>\n",
       "      <td>332</td>\n",
       "      <td>139837.00</td>\n",
       "    </tr>\n",
       "    <tr>\n",
       "      <th>30</th>\n",
       "      <td>Beverages</td>\n",
       "      <td>Water</td>\n",
       "      <td>4.170588</td>\n",
       "      <td>1108</td>\n",
       "      <td>178959.25</td>\n",
       "    </tr>\n",
       "    <tr>\n",
       "      <th>33</th>\n",
       "      <td>Cleaning &amp; Household</td>\n",
       "      <td>Car &amp; Shoe Care</td>\n",
       "      <td>3.888542</td>\n",
       "      <td>2056</td>\n",
       "      <td>373686.50</td>\n",
       "    </tr>\n",
       "    <tr>\n",
       "      <th>43</th>\n",
       "      <td>Eggs, Meat &amp; Fish</td>\n",
       "      <td>Marinades</td>\n",
       "      <td>4.000000</td>\n",
       "      <td>48</td>\n",
       "      <td>10800.00</td>\n",
       "    </tr>\n",
       "    <tr>\n",
       "      <th>48</th>\n",
       "      <td>Foodgrains, Oil &amp; Masala</td>\n",
       "      <td>Baby Food &amp; Formula</td>\n",
       "      <td>4.000000</td>\n",
       "      <td>52</td>\n",
       "      <td>11700.00</td>\n",
       "    </tr>\n",
       "    <tr>\n",
       "      <th>58</th>\n",
       "      <td>Fruits &amp; Vegetables</td>\n",
       "      <td>Flower Bouquets, Bunches</td>\n",
       "      <td>4.000000</td>\n",
       "      <td>473</td>\n",
       "      <td>58008.00</td>\n",
       "    </tr>\n",
       "    <tr>\n",
       "      <th>70</th>\n",
       "      <td>Gourmet &amp; World Food</td>\n",
       "      <td>Mutton &amp; Lamb</td>\n",
       "      <td>4.050000</td>\n",
       "      <td>97</td>\n",
       "      <td>60043.00</td>\n",
       "    </tr>\n",
       "    <tr>\n",
       "      <th>78</th>\n",
       "      <td>Kitchen, Garden &amp; Pets</td>\n",
       "      <td>Bakeware</td>\n",
       "      <td>3.650000</td>\n",
       "      <td>2288</td>\n",
       "      <td>526028.00</td>\n",
       "    </tr>\n",
       "    <tr>\n",
       "      <th>87</th>\n",
       "      <td>Snacks &amp; Branded Foods</td>\n",
       "      <td>Atta, Flours &amp; Sooji</td>\n",
       "      <td>4.050000</td>\n",
       "      <td>6</td>\n",
       "      <td>2892.00</td>\n",
       "    </tr>\n",
       "  </tbody>\n",
       "</table>\n",
       "</div>"
      ],
      "text/plain": [
       "                    category       product_subcategory  product_rating  \\\n",
       "0                  Baby Care      Atta, Flours & Sooji        3.600000   \n",
       "7      Bakery, Cakes & Dairy             Bakery Snacks        3.938000   \n",
       "22          Beauty & Hygiene       Mothers & Maternity        3.885714   \n",
       "30                 Beverages                     Water        4.170588   \n",
       "33      Cleaning & Household           Car & Shoe Care        3.888542   \n",
       "43         Eggs, Meat & Fish                 Marinades        4.000000   \n",
       "48  Foodgrains, Oil & Masala       Baby Food & Formula        4.000000   \n",
       "58       Fruits & Vegetables  Flower Bouquets, Bunches        4.000000   \n",
       "70      Gourmet & World Food             Mutton & Lamb        4.050000   \n",
       "78    Kitchen, Garden & Pets                  Bakeware        3.650000   \n",
       "87    Snacks & Branded Foods      Atta, Flours & Sooji        4.050000   \n",
       "\n",
       "    customer_reviews_count  total_sales  \n",
       "0                       96     28800.00  \n",
       "7                     1315    139711.80  \n",
       "22                     332    139837.00  \n",
       "30                    1108    178959.25  \n",
       "33                    2056    373686.50  \n",
       "43                      48     10800.00  \n",
       "48                      52     11700.00  \n",
       "58                     473     58008.00  \n",
       "70                      97     60043.00  \n",
       "78                    2288    526028.00  \n",
       "87                       6      2892.00  "
      ]
     },
     "execution_count": 73,
     "metadata": {},
     "output_type": "execute_result"
    }
   ],
   "source": [
    "low_subcategories_reviews"
   ]
  },
  {
   "cell_type": "code",
   "execution_count": 75,
   "metadata": {},
   "outputs": [
    {
     "data": {
      "text/html": [
       "<div>\n",
       "<style scoped>\n",
       "    .dataframe tbody tr th:only-of-type {\n",
       "        vertical-align: middle;\n",
       "    }\n",
       "\n",
       "    .dataframe tbody tr th {\n",
       "        vertical-align: top;\n",
       "    }\n",
       "\n",
       "    .dataframe thead th {\n",
       "        text-align: right;\n",
       "    }\n",
       "</style>\n",
       "<table border=\"1\" class=\"dataframe\">\n",
       "  <thead>\n",
       "    <tr style=\"text-align: right;\">\n",
       "      <th></th>\n",
       "      <th>category</th>\n",
       "      <th>product_subcategory</th>\n",
       "      <th>product_rating</th>\n",
       "      <th>customer_reviews_count</th>\n",
       "      <th>total_sales</th>\n",
       "    </tr>\n",
       "  </thead>\n",
       "  <tbody>\n",
       "    <tr>\n",
       "      <th>0</th>\n",
       "      <td>Baby Care</td>\n",
       "      <td>Baby Food &amp; Formula</td>\n",
       "      <td>4.165957</td>\n",
       "      <td>2363</td>\n",
       "      <td>838280.60</td>\n",
       "    </tr>\n",
       "    <tr>\n",
       "      <th>11</th>\n",
       "      <td>Baby Care</td>\n",
       "      <td>Diapers &amp; Wipes</td>\n",
       "      <td>4.095547</td>\n",
       "      <td>12573</td>\n",
       "      <td>9102079.03</td>\n",
       "    </tr>\n",
       "    <tr>\n",
       "      <th>1</th>\n",
       "      <td>Bakery, Cakes &amp; Dairy</td>\n",
       "      <td>Gourmet Breads</td>\n",
       "      <td>4.105714</td>\n",
       "      <td>1881</td>\n",
       "      <td>188409.35</td>\n",
       "    </tr>\n",
       "    <tr>\n",
       "      <th>12</th>\n",
       "      <td>Bakery, Cakes &amp; Dairy</td>\n",
       "      <td>Dairy</td>\n",
       "      <td>4.054156</td>\n",
       "      <td>19498</td>\n",
       "      <td>3006786.67</td>\n",
       "    </tr>\n",
       "    <tr>\n",
       "      <th>2</th>\n",
       "      <td>Beauty &amp; Hygiene</td>\n",
       "      <td>Oral Care</td>\n",
       "      <td>4.124723</td>\n",
       "      <td>14320</td>\n",
       "      <td>2924417.31</td>\n",
       "    </tr>\n",
       "    <tr>\n",
       "      <th>13</th>\n",
       "      <td>Beauty &amp; Hygiene</td>\n",
       "      <td>Skin Care</td>\n",
       "      <td>3.947319</td>\n",
       "      <td>115724</td>\n",
       "      <td>47999138.45</td>\n",
       "    </tr>\n",
       "    <tr>\n",
       "      <th>3</th>\n",
       "      <td>Beverages</td>\n",
       "      <td>Water</td>\n",
       "      <td>4.170588</td>\n",
       "      <td>1108</td>\n",
       "      <td>178959.25</td>\n",
       "    </tr>\n",
       "    <tr>\n",
       "      <th>14</th>\n",
       "      <td>Beverages</td>\n",
       "      <td>Tea</td>\n",
       "      <td>4.080389</td>\n",
       "      <td>16106</td>\n",
       "      <td>4258669.71</td>\n",
       "    </tr>\n",
       "    <tr>\n",
       "      <th>4</th>\n",
       "      <td>Cleaning &amp; Household</td>\n",
       "      <td>Detergents &amp; Dishwash</td>\n",
       "      <td>4.269349</td>\n",
       "      <td>12864</td>\n",
       "      <td>3456468.49</td>\n",
       "    </tr>\n",
       "    <tr>\n",
       "      <th>15</th>\n",
       "      <td>Cleaning &amp; Household</td>\n",
       "      <td>All Purpose Cleaners</td>\n",
       "      <td>4.126211</td>\n",
       "      <td>24219</td>\n",
       "      <td>6261666.13</td>\n",
       "    </tr>\n",
       "    <tr>\n",
       "      <th>5</th>\n",
       "      <td>Eggs, Meat &amp; Fish</td>\n",
       "      <td>Mutton &amp; Lamb</td>\n",
       "      <td>4.023684</td>\n",
       "      <td>841</td>\n",
       "      <td>597958.80</td>\n",
       "    </tr>\n",
       "    <tr>\n",
       "      <th>16</th>\n",
       "      <td>Eggs, Meat &amp; Fish</td>\n",
       "      <td>Sausages, Bacon &amp; Salami</td>\n",
       "      <td>4.023270</td>\n",
       "      <td>7610</td>\n",
       "      <td>2152442.05</td>\n",
       "    </tr>\n",
       "    <tr>\n",
       "      <th>6</th>\n",
       "      <td>Foodgrains, Oil &amp; Masala</td>\n",
       "      <td>Edible Oils &amp; Ghee</td>\n",
       "      <td>4.125605</td>\n",
       "      <td>12037</td>\n",
       "      <td>6880332.37</td>\n",
       "    </tr>\n",
       "    <tr>\n",
       "      <th>17</th>\n",
       "      <td>Foodgrains, Oil &amp; Masala</td>\n",
       "      <td>Masalas &amp; Spices</td>\n",
       "      <td>4.094094</td>\n",
       "      <td>46249</td>\n",
       "      <td>4079095.21</td>\n",
       "    </tr>\n",
       "    <tr>\n",
       "      <th>7</th>\n",
       "      <td>Fruits &amp; Vegetables</td>\n",
       "      <td>Cuts &amp; Sprouts</td>\n",
       "      <td>4.000526</td>\n",
       "      <td>4875</td>\n",
       "      <td>171547.35</td>\n",
       "    </tr>\n",
       "    <tr>\n",
       "      <th>18</th>\n",
       "      <td>Fruits &amp; Vegetables</td>\n",
       "      <td>Fresh Vegetables</td>\n",
       "      <td>4.000000</td>\n",
       "      <td>8294</td>\n",
       "      <td>258932.75</td>\n",
       "    </tr>\n",
       "    <tr>\n",
       "      <th>8</th>\n",
       "      <td>Gourmet &amp; World Food</td>\n",
       "      <td>Oils &amp; Vinegar</td>\n",
       "      <td>4.231590</td>\n",
       "      <td>12919</td>\n",
       "      <td>12961550.13</td>\n",
       "    </tr>\n",
       "    <tr>\n",
       "      <th>19</th>\n",
       "      <td>Gourmet &amp; World Food</td>\n",
       "      <td>Snacks, Dry Fruits, Nuts</td>\n",
       "      <td>3.988333</td>\n",
       "      <td>42189</td>\n",
       "      <td>10016846.70</td>\n",
       "    </tr>\n",
       "    <tr>\n",
       "      <th>9</th>\n",
       "      <td>Kitchen, Garden &amp; Pets</td>\n",
       "      <td>Pet Food &amp; Accessories</td>\n",
       "      <td>4.138202</td>\n",
       "      <td>17233</td>\n",
       "      <td>15154582.93</td>\n",
       "    </tr>\n",
       "    <tr>\n",
       "      <th>20</th>\n",
       "      <td>Kitchen, Garden &amp; Pets</td>\n",
       "      <td>Storage &amp; Accessories</td>\n",
       "      <td>3.827833</td>\n",
       "      <td>49877</td>\n",
       "      <td>14958204.00</td>\n",
       "    </tr>\n",
       "    <tr>\n",
       "      <th>10</th>\n",
       "      <td>Snacks &amp; Branded Foods</td>\n",
       "      <td>Biscuits &amp; Cookies</td>\n",
       "      <td>4.160820</td>\n",
       "      <td>14369</td>\n",
       "      <td>947067.06</td>\n",
       "    </tr>\n",
       "    <tr>\n",
       "      <th>21</th>\n",
       "      <td>Snacks &amp; Branded Foods</td>\n",
       "      <td>Ready To Cook &amp; Eat</td>\n",
       "      <td>3.918740</td>\n",
       "      <td>32204</td>\n",
       "      <td>2941816.59</td>\n",
       "    </tr>\n",
       "  </tbody>\n",
       "</table>\n",
       "</div>"
      ],
      "text/plain": [
       "                    category       product_subcategory  product_rating  \\\n",
       "0                  Baby Care       Baby Food & Formula        4.165957   \n",
       "11                 Baby Care           Diapers & Wipes        4.095547   \n",
       "1      Bakery, Cakes & Dairy            Gourmet Breads        4.105714   \n",
       "12     Bakery, Cakes & Dairy                     Dairy        4.054156   \n",
       "2           Beauty & Hygiene                 Oral Care        4.124723   \n",
       "13          Beauty & Hygiene                 Skin Care        3.947319   \n",
       "3                  Beverages                     Water        4.170588   \n",
       "14                 Beverages                       Tea        4.080389   \n",
       "4       Cleaning & Household     Detergents & Dishwash        4.269349   \n",
       "15      Cleaning & Household      All Purpose Cleaners        4.126211   \n",
       "5          Eggs, Meat & Fish             Mutton & Lamb        4.023684   \n",
       "16         Eggs, Meat & Fish  Sausages, Bacon & Salami        4.023270   \n",
       "6   Foodgrains, Oil & Masala        Edible Oils & Ghee        4.125605   \n",
       "17  Foodgrains, Oil & Masala          Masalas & Spices        4.094094   \n",
       "7        Fruits & Vegetables            Cuts & Sprouts        4.000526   \n",
       "18       Fruits & Vegetables          Fresh Vegetables        4.000000   \n",
       "8       Gourmet & World Food            Oils & Vinegar        4.231590   \n",
       "19      Gourmet & World Food  Snacks, Dry Fruits, Nuts        3.988333   \n",
       "9     Kitchen, Garden & Pets    Pet Food & Accessories        4.138202   \n",
       "20    Kitchen, Garden & Pets     Storage & Accessories        3.827833   \n",
       "10    Snacks & Branded Foods        Biscuits & Cookies        4.160820   \n",
       "21    Snacks & Branded Foods       Ready To Cook & Eat        3.918740   \n",
       "\n",
       "    customer_reviews_count  total_sales  \n",
       "0                     2363    838280.60  \n",
       "11                   12573   9102079.03  \n",
       "1                     1881    188409.35  \n",
       "12                   19498   3006786.67  \n",
       "2                    14320   2924417.31  \n",
       "13                  115724  47999138.45  \n",
       "3                     1108    178959.25  \n",
       "14                   16106   4258669.71  \n",
       "4                    12864   3456468.49  \n",
       "15                   24219   6261666.13  \n",
       "5                      841    597958.80  \n",
       "16                    7610   2152442.05  \n",
       "6                    12037   6880332.37  \n",
       "17                   46249   4079095.21  \n",
       "7                     4875    171547.35  \n",
       "18                    8294    258932.75  \n",
       "8                    12919  12961550.13  \n",
       "19                   42189  10016846.70  \n",
       "9                    17233  15154582.93  \n",
       "20                   49877  14958204.00  \n",
       "10                   14369    947067.06  \n",
       "21                   32204   2941816.59  "
      ]
     },
     "execution_count": 75,
     "metadata": {},
     "output_type": "execute_result"
    }
   ],
   "source": [
    "merged_df = pd.concat([best_subcategories_rating, best_subcategories_reviews], ignore_index=True)\n",
    "merged_df_low = pd.concat([low_subcategories_rating, low_subcategories_reviews], ignore_index=True)\n",
    "\n",
    "# Sort the merged dataframe by category and then by either product_rating or customer_reviews_count\n",
    "merged_df.sort_values(by=['category', 'product_rating', 'customer_reviews_count'], ascending=[True, False, False], inplace=True)\n",
    "merged_df_low.sort_values(by=['category', 'product_rating', 'customer_reviews_count'], ascending=[True, False, False], inplace=True)\n",
    "\n",
    "merged_df"
   ]
  },
  {
   "cell_type": "code",
   "execution_count": 76,
   "metadata": {},
   "outputs": [
    {
     "data": {
      "text/html": [
       "<div>\n",
       "<style scoped>\n",
       "    .dataframe tbody tr th:only-of-type {\n",
       "        vertical-align: middle;\n",
       "    }\n",
       "\n",
       "    .dataframe tbody tr th {\n",
       "        vertical-align: top;\n",
       "    }\n",
       "\n",
       "    .dataframe thead th {\n",
       "        text-align: right;\n",
       "    }\n",
       "</style>\n",
       "<table border=\"1\" class=\"dataframe\">\n",
       "  <thead>\n",
       "    <tr style=\"text-align: right;\">\n",
       "      <th></th>\n",
       "      <th>category</th>\n",
       "      <th>product_subcategory</th>\n",
       "      <th>product_rating</th>\n",
       "      <th>customer_reviews_count</th>\n",
       "      <th>total_sales</th>\n",
       "    </tr>\n",
       "  </thead>\n",
       "  <tbody>\n",
       "    <tr>\n",
       "      <th>11</th>\n",
       "      <td>Baby Care</td>\n",
       "      <td>Atta, Flours &amp; Sooji</td>\n",
       "      <td>3.600000</td>\n",
       "      <td>96</td>\n",
       "      <td>28800.00</td>\n",
       "    </tr>\n",
       "    <tr>\n",
       "      <th>0</th>\n",
       "      <td>Baby Care</td>\n",
       "      <td>Baby Accessories</td>\n",
       "      <td>3.145946</td>\n",
       "      <td>2169</td>\n",
       "      <td>829555.00</td>\n",
       "    </tr>\n",
       "    <tr>\n",
       "      <th>12</th>\n",
       "      <td>Bakery, Cakes &amp; Dairy</td>\n",
       "      <td>Bakery Snacks</td>\n",
       "      <td>3.938000</td>\n",
       "      <td>1315</td>\n",
       "      <td>139711.80</td>\n",
       "    </tr>\n",
       "    <tr>\n",
       "      <th>1</th>\n",
       "      <td>Bakery, Cakes &amp; Dairy</td>\n",
       "      <td>Ice Creams &amp; Desserts</td>\n",
       "      <td>3.622917</td>\n",
       "      <td>2289</td>\n",
       "      <td>371956.95</td>\n",
       "    </tr>\n",
       "    <tr>\n",
       "      <th>13</th>\n",
       "      <td>Beauty &amp; Hygiene</td>\n",
       "      <td>Mothers &amp; Maternity</td>\n",
       "      <td>3.885714</td>\n",
       "      <td>332</td>\n",
       "      <td>139837.00</td>\n",
       "    </tr>\n",
       "    <tr>\n",
       "      <th>2</th>\n",
       "      <td>Beauty &amp; Hygiene</td>\n",
       "      <td>Fragrances &amp; Deos</td>\n",
       "      <td>3.746950</td>\n",
       "      <td>48037</td>\n",
       "      <td>43299681.27</td>\n",
       "    </tr>\n",
       "    <tr>\n",
       "      <th>14</th>\n",
       "      <td>Beverages</td>\n",
       "      <td>Water</td>\n",
       "      <td>4.170588</td>\n",
       "      <td>1108</td>\n",
       "      <td>178959.25</td>\n",
       "    </tr>\n",
       "    <tr>\n",
       "      <th>3</th>\n",
       "      <td>Beverages</td>\n",
       "      <td>Coffee</td>\n",
       "      <td>3.967978</td>\n",
       "      <td>4193</td>\n",
       "      <td>785057.55</td>\n",
       "    </tr>\n",
       "    <tr>\n",
       "      <th>15</th>\n",
       "      <td>Cleaning &amp; Household</td>\n",
       "      <td>Car &amp; Shoe Care</td>\n",
       "      <td>3.888542</td>\n",
       "      <td>2056</td>\n",
       "      <td>373686.50</td>\n",
       "    </tr>\n",
       "    <tr>\n",
       "      <th>4</th>\n",
       "      <td>Cleaning &amp; Household</td>\n",
       "      <td>Bins &amp; Bathroom Ware</td>\n",
       "      <td>3.760077</td>\n",
       "      <td>20064</td>\n",
       "      <td>5575344.00</td>\n",
       "    </tr>\n",
       "    <tr>\n",
       "      <th>16</th>\n",
       "      <td>Eggs, Meat &amp; Fish</td>\n",
       "      <td>Marinades</td>\n",
       "      <td>4.000000</td>\n",
       "      <td>48</td>\n",
       "      <td>10800.00</td>\n",
       "    </tr>\n",
       "    <tr>\n",
       "      <th>5</th>\n",
       "      <td>Eggs, Meat &amp; Fish</td>\n",
       "      <td>Pork &amp; Other Meats</td>\n",
       "      <td>2.640000</td>\n",
       "      <td>102</td>\n",
       "      <td>27970.00</td>\n",
       "    </tr>\n",
       "    <tr>\n",
       "      <th>17</th>\n",
       "      <td>Foodgrains, Oil &amp; Masala</td>\n",
       "      <td>Baby Food &amp; Formula</td>\n",
       "      <td>4.000000</td>\n",
       "      <td>52</td>\n",
       "      <td>11700.00</td>\n",
       "    </tr>\n",
       "    <tr>\n",
       "      <th>6</th>\n",
       "      <td>Foodgrains, Oil &amp; Masala</td>\n",
       "      <td>Dry Fruits</td>\n",
       "      <td>3.890394</td>\n",
       "      <td>10139</td>\n",
       "      <td>2617634.15</td>\n",
       "    </tr>\n",
       "    <tr>\n",
       "      <th>7</th>\n",
       "      <td>Fruits &amp; Vegetables</td>\n",
       "      <td>Fresh Vegetables</td>\n",
       "      <td>4.000000</td>\n",
       "      <td>8294</td>\n",
       "      <td>258932.75</td>\n",
       "    </tr>\n",
       "    <tr>\n",
       "      <th>18</th>\n",
       "      <td>Fruits &amp; Vegetables</td>\n",
       "      <td>Flower Bouquets, Bunches</td>\n",
       "      <td>4.000000</td>\n",
       "      <td>473</td>\n",
       "      <td>58008.00</td>\n",
       "    </tr>\n",
       "    <tr>\n",
       "      <th>19</th>\n",
       "      <td>Gourmet &amp; World Food</td>\n",
       "      <td>Mutton &amp; Lamb</td>\n",
       "      <td>4.050000</td>\n",
       "      <td>97</td>\n",
       "      <td>60043.00</td>\n",
       "    </tr>\n",
       "    <tr>\n",
       "      <th>8</th>\n",
       "      <td>Gourmet &amp; World Food</td>\n",
       "      <td>Chocolates &amp; Biscuits</td>\n",
       "      <td>3.875205</td>\n",
       "      <td>31412</td>\n",
       "      <td>8398268.80</td>\n",
       "    </tr>\n",
       "    <tr>\n",
       "      <th>20</th>\n",
       "      <td>Kitchen, Garden &amp; Pets</td>\n",
       "      <td>Bakeware</td>\n",
       "      <td>3.650000</td>\n",
       "      <td>2288</td>\n",
       "      <td>526028.00</td>\n",
       "    </tr>\n",
       "    <tr>\n",
       "      <th>9</th>\n",
       "      <td>Kitchen, Garden &amp; Pets</td>\n",
       "      <td>Cookware &amp; Non Stick</td>\n",
       "      <td>3.580085</td>\n",
       "      <td>17533</td>\n",
       "      <td>20245576.75</td>\n",
       "    </tr>\n",
       "    <tr>\n",
       "      <th>21</th>\n",
       "      <td>Snacks &amp; Branded Foods</td>\n",
       "      <td>Atta, Flours &amp; Sooji</td>\n",
       "      <td>4.050000</td>\n",
       "      <td>6</td>\n",
       "      <td>2892.00</td>\n",
       "    </tr>\n",
       "    <tr>\n",
       "      <th>10</th>\n",
       "      <td>Snacks &amp; Branded Foods</td>\n",
       "      <td>Frozen Veggies &amp; Snacks</td>\n",
       "      <td>3.752459</td>\n",
       "      <td>8855</td>\n",
       "      <td>1627977.56</td>\n",
       "    </tr>\n",
       "  </tbody>\n",
       "</table>\n",
       "</div>"
      ],
      "text/plain": [
       "                    category       product_subcategory  product_rating  \\\n",
       "11                 Baby Care      Atta, Flours & Sooji        3.600000   \n",
       "0                  Baby Care          Baby Accessories        3.145946   \n",
       "12     Bakery, Cakes & Dairy             Bakery Snacks        3.938000   \n",
       "1      Bakery, Cakes & Dairy     Ice Creams & Desserts        3.622917   \n",
       "13          Beauty & Hygiene       Mothers & Maternity        3.885714   \n",
       "2           Beauty & Hygiene         Fragrances & Deos        3.746950   \n",
       "14                 Beverages                     Water        4.170588   \n",
       "3                  Beverages                    Coffee        3.967978   \n",
       "15      Cleaning & Household           Car & Shoe Care        3.888542   \n",
       "4       Cleaning & Household      Bins & Bathroom Ware        3.760077   \n",
       "16         Eggs, Meat & Fish                 Marinades        4.000000   \n",
       "5          Eggs, Meat & Fish        Pork & Other Meats        2.640000   \n",
       "17  Foodgrains, Oil & Masala       Baby Food & Formula        4.000000   \n",
       "6   Foodgrains, Oil & Masala                Dry Fruits        3.890394   \n",
       "7        Fruits & Vegetables          Fresh Vegetables        4.000000   \n",
       "18       Fruits & Vegetables  Flower Bouquets, Bunches        4.000000   \n",
       "19      Gourmet & World Food             Mutton & Lamb        4.050000   \n",
       "8       Gourmet & World Food     Chocolates & Biscuits        3.875205   \n",
       "20    Kitchen, Garden & Pets                  Bakeware        3.650000   \n",
       "9     Kitchen, Garden & Pets      Cookware & Non Stick        3.580085   \n",
       "21    Snacks & Branded Foods      Atta, Flours & Sooji        4.050000   \n",
       "10    Snacks & Branded Foods   Frozen Veggies & Snacks        3.752459   \n",
       "\n",
       "    customer_reviews_count  total_sales  \n",
       "11                      96     28800.00  \n",
       "0                     2169    829555.00  \n",
       "12                    1315    139711.80  \n",
       "1                     2289    371956.95  \n",
       "13                     332    139837.00  \n",
       "2                    48037  43299681.27  \n",
       "14                    1108    178959.25  \n",
       "3                     4193    785057.55  \n",
       "15                    2056    373686.50  \n",
       "4                    20064   5575344.00  \n",
       "16                      48     10800.00  \n",
       "5                      102     27970.00  \n",
       "17                      52     11700.00  \n",
       "6                    10139   2617634.15  \n",
       "7                     8294    258932.75  \n",
       "18                     473     58008.00  \n",
       "19                      97     60043.00  \n",
       "8                    31412   8398268.80  \n",
       "20                    2288    526028.00  \n",
       "9                    17533  20245576.75  \n",
       "21                       6      2892.00  \n",
       "10                    8855   1627977.56  "
      ]
     },
     "execution_count": 76,
     "metadata": {},
     "output_type": "execute_result"
    }
   ],
   "source": [
    "merged_df_low"
   ]
  },
  {
   "cell_type": "code",
   "execution_count": 17,
   "metadata": {},
   "outputs": [
    {
     "data": {
      "application/vnd.plotly.v1+json": {
       "config": {
        "plotlyServerURL": "https://plot.ly"
       },
       "data": [
        {
         "marker": {
          "color": "rgba(255, 153, 51, 0.7)"
         },
         "name": "Average Product Rating",
         "orientation": "h",
         "text": [
          4.27,
          4.23,
          4.17,
          4.17,
          4.16,
          4.14,
          4.13,
          4.12,
          4.11,
          4.02,
          4
         ],
         "textposition": "auto",
         "type": "bar",
         "x": [
          4.269348659003831,
          4.231589958158996,
          4.170588235294118,
          4.165957446808511,
          4.160819672131147,
          4.138202247191011,
          4.125604838709678,
          4.124723247232472,
          4.105714285714285,
          4.023684210526316,
          4.0005263157894735
         ],
         "y": [
          "Baby Care - Baby Food & Formula",
          "Bakery, Cakes & Dairy - Gourmet Breads",
          "Beauty & Hygiene - Oral Care",
          "Beverages - Water",
          "Cleaning & Household - Detergents & Dishwash",
          "Eggs, Meat & Fish - Mutton & Lamb",
          "Foodgrains, Oil & Masala - Edible Oils & Ghee",
          "Fruits & Vegetables - Cuts & Sprouts",
          "Gourmet & World Food - Oils & Vinegar",
          "Kitchen, Garden & Pets - Pet Food & Accessories",
          "Snacks & Branded Foods - Biscuits & Cookies"
         ]
        }
       ],
       "layout": {
        "bargap": 0.2,
        "margin": {
         "l": 150
        },
        "template": {
         "data": {
          "bar": [
           {
            "error_x": {
             "color": "#2a3f5f"
            },
            "error_y": {
             "color": "#2a3f5f"
            },
            "marker": {
             "line": {
              "color": "#E5ECF6",
              "width": 0.5
             },
             "pattern": {
              "fillmode": "overlay",
              "size": 10,
              "solidity": 0.2
             }
            },
            "type": "bar"
           }
          ],
          "barpolar": [
           {
            "marker": {
             "line": {
              "color": "#E5ECF6",
              "width": 0.5
             },
             "pattern": {
              "fillmode": "overlay",
              "size": 10,
              "solidity": 0.2
             }
            },
            "type": "barpolar"
           }
          ],
          "carpet": [
           {
            "aaxis": {
             "endlinecolor": "#2a3f5f",
             "gridcolor": "white",
             "linecolor": "white",
             "minorgridcolor": "white",
             "startlinecolor": "#2a3f5f"
            },
            "baxis": {
             "endlinecolor": "#2a3f5f",
             "gridcolor": "white",
             "linecolor": "white",
             "minorgridcolor": "white",
             "startlinecolor": "#2a3f5f"
            },
            "type": "carpet"
           }
          ],
          "choropleth": [
           {
            "colorbar": {
             "outlinewidth": 0,
             "ticks": ""
            },
            "type": "choropleth"
           }
          ],
          "contour": [
           {
            "colorbar": {
             "outlinewidth": 0,
             "ticks": ""
            },
            "colorscale": [
             [
              0,
              "#0d0887"
             ],
             [
              0.1111111111111111,
              "#46039f"
             ],
             [
              0.2222222222222222,
              "#7201a8"
             ],
             [
              0.3333333333333333,
              "#9c179e"
             ],
             [
              0.4444444444444444,
              "#bd3786"
             ],
             [
              0.5555555555555556,
              "#d8576b"
             ],
             [
              0.6666666666666666,
              "#ed7953"
             ],
             [
              0.7777777777777778,
              "#fb9f3a"
             ],
             [
              0.8888888888888888,
              "#fdca26"
             ],
             [
              1,
              "#f0f921"
             ]
            ],
            "type": "contour"
           }
          ],
          "contourcarpet": [
           {
            "colorbar": {
             "outlinewidth": 0,
             "ticks": ""
            },
            "type": "contourcarpet"
           }
          ],
          "heatmap": [
           {
            "colorbar": {
             "outlinewidth": 0,
             "ticks": ""
            },
            "colorscale": [
             [
              0,
              "#0d0887"
             ],
             [
              0.1111111111111111,
              "#46039f"
             ],
             [
              0.2222222222222222,
              "#7201a8"
             ],
             [
              0.3333333333333333,
              "#9c179e"
             ],
             [
              0.4444444444444444,
              "#bd3786"
             ],
             [
              0.5555555555555556,
              "#d8576b"
             ],
             [
              0.6666666666666666,
              "#ed7953"
             ],
             [
              0.7777777777777778,
              "#fb9f3a"
             ],
             [
              0.8888888888888888,
              "#fdca26"
             ],
             [
              1,
              "#f0f921"
             ]
            ],
            "type": "heatmap"
           }
          ],
          "heatmapgl": [
           {
            "colorbar": {
             "outlinewidth": 0,
             "ticks": ""
            },
            "colorscale": [
             [
              0,
              "#0d0887"
             ],
             [
              0.1111111111111111,
              "#46039f"
             ],
             [
              0.2222222222222222,
              "#7201a8"
             ],
             [
              0.3333333333333333,
              "#9c179e"
             ],
             [
              0.4444444444444444,
              "#bd3786"
             ],
             [
              0.5555555555555556,
              "#d8576b"
             ],
             [
              0.6666666666666666,
              "#ed7953"
             ],
             [
              0.7777777777777778,
              "#fb9f3a"
             ],
             [
              0.8888888888888888,
              "#fdca26"
             ],
             [
              1,
              "#f0f921"
             ]
            ],
            "type": "heatmapgl"
           }
          ],
          "histogram": [
           {
            "marker": {
             "pattern": {
              "fillmode": "overlay",
              "size": 10,
              "solidity": 0.2
             }
            },
            "type": "histogram"
           }
          ],
          "histogram2d": [
           {
            "colorbar": {
             "outlinewidth": 0,
             "ticks": ""
            },
            "colorscale": [
             [
              0,
              "#0d0887"
             ],
             [
              0.1111111111111111,
              "#46039f"
             ],
             [
              0.2222222222222222,
              "#7201a8"
             ],
             [
              0.3333333333333333,
              "#9c179e"
             ],
             [
              0.4444444444444444,
              "#bd3786"
             ],
             [
              0.5555555555555556,
              "#d8576b"
             ],
             [
              0.6666666666666666,
              "#ed7953"
             ],
             [
              0.7777777777777778,
              "#fb9f3a"
             ],
             [
              0.8888888888888888,
              "#fdca26"
             ],
             [
              1,
              "#f0f921"
             ]
            ],
            "type": "histogram2d"
           }
          ],
          "histogram2dcontour": [
           {
            "colorbar": {
             "outlinewidth": 0,
             "ticks": ""
            },
            "colorscale": [
             [
              0,
              "#0d0887"
             ],
             [
              0.1111111111111111,
              "#46039f"
             ],
             [
              0.2222222222222222,
              "#7201a8"
             ],
             [
              0.3333333333333333,
              "#9c179e"
             ],
             [
              0.4444444444444444,
              "#bd3786"
             ],
             [
              0.5555555555555556,
              "#d8576b"
             ],
             [
              0.6666666666666666,
              "#ed7953"
             ],
             [
              0.7777777777777778,
              "#fb9f3a"
             ],
             [
              0.8888888888888888,
              "#fdca26"
             ],
             [
              1,
              "#f0f921"
             ]
            ],
            "type": "histogram2dcontour"
           }
          ],
          "mesh3d": [
           {
            "colorbar": {
             "outlinewidth": 0,
             "ticks": ""
            },
            "type": "mesh3d"
           }
          ],
          "parcoords": [
           {
            "line": {
             "colorbar": {
              "outlinewidth": 0,
              "ticks": ""
             }
            },
            "type": "parcoords"
           }
          ],
          "pie": [
           {
            "automargin": true,
            "type": "pie"
           }
          ],
          "scatter": [
           {
            "fillpattern": {
             "fillmode": "overlay",
             "size": 10,
             "solidity": 0.2
            },
            "type": "scatter"
           }
          ],
          "scatter3d": [
           {
            "line": {
             "colorbar": {
              "outlinewidth": 0,
              "ticks": ""
             }
            },
            "marker": {
             "colorbar": {
              "outlinewidth": 0,
              "ticks": ""
             }
            },
            "type": "scatter3d"
           }
          ],
          "scattercarpet": [
           {
            "marker": {
             "colorbar": {
              "outlinewidth": 0,
              "ticks": ""
             }
            },
            "type": "scattercarpet"
           }
          ],
          "scattergeo": [
           {
            "marker": {
             "colorbar": {
              "outlinewidth": 0,
              "ticks": ""
             }
            },
            "type": "scattergeo"
           }
          ],
          "scattergl": [
           {
            "marker": {
             "colorbar": {
              "outlinewidth": 0,
              "ticks": ""
             }
            },
            "type": "scattergl"
           }
          ],
          "scattermapbox": [
           {
            "marker": {
             "colorbar": {
              "outlinewidth": 0,
              "ticks": ""
             }
            },
            "type": "scattermapbox"
           }
          ],
          "scatterpolar": [
           {
            "marker": {
             "colorbar": {
              "outlinewidth": 0,
              "ticks": ""
             }
            },
            "type": "scatterpolar"
           }
          ],
          "scatterpolargl": [
           {
            "marker": {
             "colorbar": {
              "outlinewidth": 0,
              "ticks": ""
             }
            },
            "type": "scatterpolargl"
           }
          ],
          "scatterternary": [
           {
            "marker": {
             "colorbar": {
              "outlinewidth": 0,
              "ticks": ""
             }
            },
            "type": "scatterternary"
           }
          ],
          "surface": [
           {
            "colorbar": {
             "outlinewidth": 0,
             "ticks": ""
            },
            "colorscale": [
             [
              0,
              "#0d0887"
             ],
             [
              0.1111111111111111,
              "#46039f"
             ],
             [
              0.2222222222222222,
              "#7201a8"
             ],
             [
              0.3333333333333333,
              "#9c179e"
             ],
             [
              0.4444444444444444,
              "#bd3786"
             ],
             [
              0.5555555555555556,
              "#d8576b"
             ],
             [
              0.6666666666666666,
              "#ed7953"
             ],
             [
              0.7777777777777778,
              "#fb9f3a"
             ],
             [
              0.8888888888888888,
              "#fdca26"
             ],
             [
              1,
              "#f0f921"
             ]
            ],
            "type": "surface"
           }
          ],
          "table": [
           {
            "cells": {
             "fill": {
              "color": "#EBF0F8"
             },
             "line": {
              "color": "white"
             }
            },
            "header": {
             "fill": {
              "color": "#C8D4E3"
             },
             "line": {
              "color": "white"
             }
            },
            "type": "table"
           }
          ]
         },
         "layout": {
          "annotationdefaults": {
           "arrowcolor": "#2a3f5f",
           "arrowhead": 0,
           "arrowwidth": 1
          },
          "autotypenumbers": "strict",
          "coloraxis": {
           "colorbar": {
            "outlinewidth": 0,
            "ticks": ""
           }
          },
          "colorscale": {
           "diverging": [
            [
             0,
             "#8e0152"
            ],
            [
             0.1,
             "#c51b7d"
            ],
            [
             0.2,
             "#de77ae"
            ],
            [
             0.3,
             "#f1b6da"
            ],
            [
             0.4,
             "#fde0ef"
            ],
            [
             0.5,
             "#f7f7f7"
            ],
            [
             0.6,
             "#e6f5d0"
            ],
            [
             0.7,
             "#b8e186"
            ],
            [
             0.8,
             "#7fbc41"
            ],
            [
             0.9,
             "#4d9221"
            ],
            [
             1,
             "#276419"
            ]
           ],
           "sequential": [
            [
             0,
             "#0d0887"
            ],
            [
             0.1111111111111111,
             "#46039f"
            ],
            [
             0.2222222222222222,
             "#7201a8"
            ],
            [
             0.3333333333333333,
             "#9c179e"
            ],
            [
             0.4444444444444444,
             "#bd3786"
            ],
            [
             0.5555555555555556,
             "#d8576b"
            ],
            [
             0.6666666666666666,
             "#ed7953"
            ],
            [
             0.7777777777777778,
             "#fb9f3a"
            ],
            [
             0.8888888888888888,
             "#fdca26"
            ],
            [
             1,
             "#f0f921"
            ]
           ],
           "sequentialminus": [
            [
             0,
             "#0d0887"
            ],
            [
             0.1111111111111111,
             "#46039f"
            ],
            [
             0.2222222222222222,
             "#7201a8"
            ],
            [
             0.3333333333333333,
             "#9c179e"
            ],
            [
             0.4444444444444444,
             "#bd3786"
            ],
            [
             0.5555555555555556,
             "#d8576b"
            ],
            [
             0.6666666666666666,
             "#ed7953"
            ],
            [
             0.7777777777777778,
             "#fb9f3a"
            ],
            [
             0.8888888888888888,
             "#fdca26"
            ],
            [
             1,
             "#f0f921"
            ]
           ]
          },
          "colorway": [
           "#636efa",
           "#EF553B",
           "#00cc96",
           "#ab63fa",
           "#FFA15A",
           "#19d3f3",
           "#FF6692",
           "#B6E880",
           "#FF97FF",
           "#FECB52"
          ],
          "font": {
           "color": "#2a3f5f"
          },
          "geo": {
           "bgcolor": "white",
           "lakecolor": "white",
           "landcolor": "#E5ECF6",
           "showlakes": true,
           "showland": true,
           "subunitcolor": "white"
          },
          "hoverlabel": {
           "align": "left"
          },
          "hovermode": "closest",
          "mapbox": {
           "style": "light"
          },
          "paper_bgcolor": "white",
          "plot_bgcolor": "#E5ECF6",
          "polar": {
           "angularaxis": {
            "gridcolor": "white",
            "linecolor": "white",
            "ticks": ""
           },
           "bgcolor": "#E5ECF6",
           "radialaxis": {
            "gridcolor": "white",
            "linecolor": "white",
            "ticks": ""
           }
          },
          "scene": {
           "xaxis": {
            "backgroundcolor": "#E5ECF6",
            "gridcolor": "white",
            "gridwidth": 2,
            "linecolor": "white",
            "showbackground": true,
            "ticks": "",
            "zerolinecolor": "white"
           },
           "yaxis": {
            "backgroundcolor": "#E5ECF6",
            "gridcolor": "white",
            "gridwidth": 2,
            "linecolor": "white",
            "showbackground": true,
            "ticks": "",
            "zerolinecolor": "white"
           },
           "zaxis": {
            "backgroundcolor": "#E5ECF6",
            "gridcolor": "white",
            "gridwidth": 2,
            "linecolor": "white",
            "showbackground": true,
            "ticks": "",
            "zerolinecolor": "white"
           }
          },
          "shapedefaults": {
           "line": {
            "color": "#2a3f5f"
           }
          },
          "ternary": {
           "aaxis": {
            "gridcolor": "white",
            "linecolor": "white",
            "ticks": ""
           },
           "baxis": {
            "gridcolor": "white",
            "linecolor": "white",
            "ticks": ""
           },
           "bgcolor": "#E5ECF6",
           "caxis": {
            "gridcolor": "white",
            "linecolor": "white",
            "ticks": ""
           }
          },
          "title": {
           "x": 0.05
          },
          "xaxis": {
           "automargin": true,
           "gridcolor": "white",
           "linecolor": "white",
           "ticks": "",
           "title": {
            "standoff": 15
           },
           "zerolinecolor": "white",
           "zerolinewidth": 2
          },
          "yaxis": {
           "automargin": true,
           "gridcolor": "white",
           "linecolor": "white",
           "ticks": "",
           "title": {
            "standoff": 15
           },
           "zerolinecolor": "white",
           "zerolinewidth": 2
          }
         }
        },
        "title": {
         "text": "Subcategories with Best Average Rating for Each Category"
        },
        "xaxis": {
         "title": {
          "text": "Average Rating"
         }
        },
        "yaxis": {
         "title": {
          "text": "Category - Subcategory"
         }
        }
       }
      }
     },
     "metadata": {},
     "output_type": "display_data"
    },
    {
     "data": {
      "application/vnd.plotly.v1+json": {
       "config": {
        "plotlyServerURL": "https://plot.ly"
       },
       "data": [
        {
         "marker": {
          "color": "rgba(51, 153, 255, 0.7)"
         },
         "name": "Average Customer Reviews Count",
         "orientation": "h",
         "text": [
          115724,
          49877,
          46249,
          42189,
          32204,
          24219,
          19498,
          16106,
          12573,
          8294,
          7610
         ],
         "textposition": "auto",
         "type": "bar",
         "x": [
          115724,
          49877,
          46249,
          42189,
          32204,
          24219,
          19498,
          16106,
          12573,
          8294,
          7610
         ],
         "y": [
          "Baby Care - Diapers & Wipes",
          "Bakery, Cakes & Dairy - Dairy",
          "Beauty & Hygiene - Skin Care",
          "Beverages - Tea",
          "Cleaning & Household - All Purpose Cleaners",
          "Eggs, Meat & Fish - Sausages, Bacon & Salami",
          "Foodgrains, Oil & Masala - Masalas & Spices",
          "Fruits & Vegetables - Fresh Vegetables",
          "Gourmet & World Food - Snacks, Dry Fruits, Nuts",
          "Kitchen, Garden & Pets - Storage & Accessories",
          "Snacks & Branded Foods - Ready To Cook & Eat"
         ]
        }
       ],
       "layout": {
        "bargap": 0.2,
        "margin": {
         "l": 150
        },
        "template": {
         "data": {
          "bar": [
           {
            "error_x": {
             "color": "#2a3f5f"
            },
            "error_y": {
             "color": "#2a3f5f"
            },
            "marker": {
             "line": {
              "color": "#E5ECF6",
              "width": 0.5
             },
             "pattern": {
              "fillmode": "overlay",
              "size": 10,
              "solidity": 0.2
             }
            },
            "type": "bar"
           }
          ],
          "barpolar": [
           {
            "marker": {
             "line": {
              "color": "#E5ECF6",
              "width": 0.5
             },
             "pattern": {
              "fillmode": "overlay",
              "size": 10,
              "solidity": 0.2
             }
            },
            "type": "barpolar"
           }
          ],
          "carpet": [
           {
            "aaxis": {
             "endlinecolor": "#2a3f5f",
             "gridcolor": "white",
             "linecolor": "white",
             "minorgridcolor": "white",
             "startlinecolor": "#2a3f5f"
            },
            "baxis": {
             "endlinecolor": "#2a3f5f",
             "gridcolor": "white",
             "linecolor": "white",
             "minorgridcolor": "white",
             "startlinecolor": "#2a3f5f"
            },
            "type": "carpet"
           }
          ],
          "choropleth": [
           {
            "colorbar": {
             "outlinewidth": 0,
             "ticks": ""
            },
            "type": "choropleth"
           }
          ],
          "contour": [
           {
            "colorbar": {
             "outlinewidth": 0,
             "ticks": ""
            },
            "colorscale": [
             [
              0,
              "#0d0887"
             ],
             [
              0.1111111111111111,
              "#46039f"
             ],
             [
              0.2222222222222222,
              "#7201a8"
             ],
             [
              0.3333333333333333,
              "#9c179e"
             ],
             [
              0.4444444444444444,
              "#bd3786"
             ],
             [
              0.5555555555555556,
              "#d8576b"
             ],
             [
              0.6666666666666666,
              "#ed7953"
             ],
             [
              0.7777777777777778,
              "#fb9f3a"
             ],
             [
              0.8888888888888888,
              "#fdca26"
             ],
             [
              1,
              "#f0f921"
             ]
            ],
            "type": "contour"
           }
          ],
          "contourcarpet": [
           {
            "colorbar": {
             "outlinewidth": 0,
             "ticks": ""
            },
            "type": "contourcarpet"
           }
          ],
          "heatmap": [
           {
            "colorbar": {
             "outlinewidth": 0,
             "ticks": ""
            },
            "colorscale": [
             [
              0,
              "#0d0887"
             ],
             [
              0.1111111111111111,
              "#46039f"
             ],
             [
              0.2222222222222222,
              "#7201a8"
             ],
             [
              0.3333333333333333,
              "#9c179e"
             ],
             [
              0.4444444444444444,
              "#bd3786"
             ],
             [
              0.5555555555555556,
              "#d8576b"
             ],
             [
              0.6666666666666666,
              "#ed7953"
             ],
             [
              0.7777777777777778,
              "#fb9f3a"
             ],
             [
              0.8888888888888888,
              "#fdca26"
             ],
             [
              1,
              "#f0f921"
             ]
            ],
            "type": "heatmap"
           }
          ],
          "heatmapgl": [
           {
            "colorbar": {
             "outlinewidth": 0,
             "ticks": ""
            },
            "colorscale": [
             [
              0,
              "#0d0887"
             ],
             [
              0.1111111111111111,
              "#46039f"
             ],
             [
              0.2222222222222222,
              "#7201a8"
             ],
             [
              0.3333333333333333,
              "#9c179e"
             ],
             [
              0.4444444444444444,
              "#bd3786"
             ],
             [
              0.5555555555555556,
              "#d8576b"
             ],
             [
              0.6666666666666666,
              "#ed7953"
             ],
             [
              0.7777777777777778,
              "#fb9f3a"
             ],
             [
              0.8888888888888888,
              "#fdca26"
             ],
             [
              1,
              "#f0f921"
             ]
            ],
            "type": "heatmapgl"
           }
          ],
          "histogram": [
           {
            "marker": {
             "pattern": {
              "fillmode": "overlay",
              "size": 10,
              "solidity": 0.2
             }
            },
            "type": "histogram"
           }
          ],
          "histogram2d": [
           {
            "colorbar": {
             "outlinewidth": 0,
             "ticks": ""
            },
            "colorscale": [
             [
              0,
              "#0d0887"
             ],
             [
              0.1111111111111111,
              "#46039f"
             ],
             [
              0.2222222222222222,
              "#7201a8"
             ],
             [
              0.3333333333333333,
              "#9c179e"
             ],
             [
              0.4444444444444444,
              "#bd3786"
             ],
             [
              0.5555555555555556,
              "#d8576b"
             ],
             [
              0.6666666666666666,
              "#ed7953"
             ],
             [
              0.7777777777777778,
              "#fb9f3a"
             ],
             [
              0.8888888888888888,
              "#fdca26"
             ],
             [
              1,
              "#f0f921"
             ]
            ],
            "type": "histogram2d"
           }
          ],
          "histogram2dcontour": [
           {
            "colorbar": {
             "outlinewidth": 0,
             "ticks": ""
            },
            "colorscale": [
             [
              0,
              "#0d0887"
             ],
             [
              0.1111111111111111,
              "#46039f"
             ],
             [
              0.2222222222222222,
              "#7201a8"
             ],
             [
              0.3333333333333333,
              "#9c179e"
             ],
             [
              0.4444444444444444,
              "#bd3786"
             ],
             [
              0.5555555555555556,
              "#d8576b"
             ],
             [
              0.6666666666666666,
              "#ed7953"
             ],
             [
              0.7777777777777778,
              "#fb9f3a"
             ],
             [
              0.8888888888888888,
              "#fdca26"
             ],
             [
              1,
              "#f0f921"
             ]
            ],
            "type": "histogram2dcontour"
           }
          ],
          "mesh3d": [
           {
            "colorbar": {
             "outlinewidth": 0,
             "ticks": ""
            },
            "type": "mesh3d"
           }
          ],
          "parcoords": [
           {
            "line": {
             "colorbar": {
              "outlinewidth": 0,
              "ticks": ""
             }
            },
            "type": "parcoords"
           }
          ],
          "pie": [
           {
            "automargin": true,
            "type": "pie"
           }
          ],
          "scatter": [
           {
            "fillpattern": {
             "fillmode": "overlay",
             "size": 10,
             "solidity": 0.2
            },
            "type": "scatter"
           }
          ],
          "scatter3d": [
           {
            "line": {
             "colorbar": {
              "outlinewidth": 0,
              "ticks": ""
             }
            },
            "marker": {
             "colorbar": {
              "outlinewidth": 0,
              "ticks": ""
             }
            },
            "type": "scatter3d"
           }
          ],
          "scattercarpet": [
           {
            "marker": {
             "colorbar": {
              "outlinewidth": 0,
              "ticks": ""
             }
            },
            "type": "scattercarpet"
           }
          ],
          "scattergeo": [
           {
            "marker": {
             "colorbar": {
              "outlinewidth": 0,
              "ticks": ""
             }
            },
            "type": "scattergeo"
           }
          ],
          "scattergl": [
           {
            "marker": {
             "colorbar": {
              "outlinewidth": 0,
              "ticks": ""
             }
            },
            "type": "scattergl"
           }
          ],
          "scattermapbox": [
           {
            "marker": {
             "colorbar": {
              "outlinewidth": 0,
              "ticks": ""
             }
            },
            "type": "scattermapbox"
           }
          ],
          "scatterpolar": [
           {
            "marker": {
             "colorbar": {
              "outlinewidth": 0,
              "ticks": ""
             }
            },
            "type": "scatterpolar"
           }
          ],
          "scatterpolargl": [
           {
            "marker": {
             "colorbar": {
              "outlinewidth": 0,
              "ticks": ""
             }
            },
            "type": "scatterpolargl"
           }
          ],
          "scatterternary": [
           {
            "marker": {
             "colorbar": {
              "outlinewidth": 0,
              "ticks": ""
             }
            },
            "type": "scatterternary"
           }
          ],
          "surface": [
           {
            "colorbar": {
             "outlinewidth": 0,
             "ticks": ""
            },
            "colorscale": [
             [
              0,
              "#0d0887"
             ],
             [
              0.1111111111111111,
              "#46039f"
             ],
             [
              0.2222222222222222,
              "#7201a8"
             ],
             [
              0.3333333333333333,
              "#9c179e"
             ],
             [
              0.4444444444444444,
              "#bd3786"
             ],
             [
              0.5555555555555556,
              "#d8576b"
             ],
             [
              0.6666666666666666,
              "#ed7953"
             ],
             [
              0.7777777777777778,
              "#fb9f3a"
             ],
             [
              0.8888888888888888,
              "#fdca26"
             ],
             [
              1,
              "#f0f921"
             ]
            ],
            "type": "surface"
           }
          ],
          "table": [
           {
            "cells": {
             "fill": {
              "color": "#EBF0F8"
             },
             "line": {
              "color": "white"
             }
            },
            "header": {
             "fill": {
              "color": "#C8D4E3"
             },
             "line": {
              "color": "white"
             }
            },
            "type": "table"
           }
          ]
         },
         "layout": {
          "annotationdefaults": {
           "arrowcolor": "#2a3f5f",
           "arrowhead": 0,
           "arrowwidth": 1
          },
          "autotypenumbers": "strict",
          "coloraxis": {
           "colorbar": {
            "outlinewidth": 0,
            "ticks": ""
           }
          },
          "colorscale": {
           "diverging": [
            [
             0,
             "#8e0152"
            ],
            [
             0.1,
             "#c51b7d"
            ],
            [
             0.2,
             "#de77ae"
            ],
            [
             0.3,
             "#f1b6da"
            ],
            [
             0.4,
             "#fde0ef"
            ],
            [
             0.5,
             "#f7f7f7"
            ],
            [
             0.6,
             "#e6f5d0"
            ],
            [
             0.7,
             "#b8e186"
            ],
            [
             0.8,
             "#7fbc41"
            ],
            [
             0.9,
             "#4d9221"
            ],
            [
             1,
             "#276419"
            ]
           ],
           "sequential": [
            [
             0,
             "#0d0887"
            ],
            [
             0.1111111111111111,
             "#46039f"
            ],
            [
             0.2222222222222222,
             "#7201a8"
            ],
            [
             0.3333333333333333,
             "#9c179e"
            ],
            [
             0.4444444444444444,
             "#bd3786"
            ],
            [
             0.5555555555555556,
             "#d8576b"
            ],
            [
             0.6666666666666666,
             "#ed7953"
            ],
            [
             0.7777777777777778,
             "#fb9f3a"
            ],
            [
             0.8888888888888888,
             "#fdca26"
            ],
            [
             1,
             "#f0f921"
            ]
           ],
           "sequentialminus": [
            [
             0,
             "#0d0887"
            ],
            [
             0.1111111111111111,
             "#46039f"
            ],
            [
             0.2222222222222222,
             "#7201a8"
            ],
            [
             0.3333333333333333,
             "#9c179e"
            ],
            [
             0.4444444444444444,
             "#bd3786"
            ],
            [
             0.5555555555555556,
             "#d8576b"
            ],
            [
             0.6666666666666666,
             "#ed7953"
            ],
            [
             0.7777777777777778,
             "#fb9f3a"
            ],
            [
             0.8888888888888888,
             "#fdca26"
            ],
            [
             1,
             "#f0f921"
            ]
           ]
          },
          "colorway": [
           "#636efa",
           "#EF553B",
           "#00cc96",
           "#ab63fa",
           "#FFA15A",
           "#19d3f3",
           "#FF6692",
           "#B6E880",
           "#FF97FF",
           "#FECB52"
          ],
          "font": {
           "color": "#2a3f5f"
          },
          "geo": {
           "bgcolor": "white",
           "lakecolor": "white",
           "landcolor": "#E5ECF6",
           "showlakes": true,
           "showland": true,
           "subunitcolor": "white"
          },
          "hoverlabel": {
           "align": "left"
          },
          "hovermode": "closest",
          "mapbox": {
           "style": "light"
          },
          "paper_bgcolor": "white",
          "plot_bgcolor": "#E5ECF6",
          "polar": {
           "angularaxis": {
            "gridcolor": "white",
            "linecolor": "white",
            "ticks": ""
           },
           "bgcolor": "#E5ECF6",
           "radialaxis": {
            "gridcolor": "white",
            "linecolor": "white",
            "ticks": ""
           }
          },
          "scene": {
           "xaxis": {
            "backgroundcolor": "#E5ECF6",
            "gridcolor": "white",
            "gridwidth": 2,
            "linecolor": "white",
            "showbackground": true,
            "ticks": "",
            "zerolinecolor": "white"
           },
           "yaxis": {
            "backgroundcolor": "#E5ECF6",
            "gridcolor": "white",
            "gridwidth": 2,
            "linecolor": "white",
            "showbackground": true,
            "ticks": "",
            "zerolinecolor": "white"
           },
           "zaxis": {
            "backgroundcolor": "#E5ECF6",
            "gridcolor": "white",
            "gridwidth": 2,
            "linecolor": "white",
            "showbackground": true,
            "ticks": "",
            "zerolinecolor": "white"
           }
          },
          "shapedefaults": {
           "line": {
            "color": "#2a3f5f"
           }
          },
          "ternary": {
           "aaxis": {
            "gridcolor": "white",
            "linecolor": "white",
            "ticks": ""
           },
           "baxis": {
            "gridcolor": "white",
            "linecolor": "white",
            "ticks": ""
           },
           "bgcolor": "#E5ECF6",
           "caxis": {
            "gridcolor": "white",
            "linecolor": "white",
            "ticks": ""
           }
          },
          "title": {
           "x": 0.05
          },
          "xaxis": {
           "automargin": true,
           "gridcolor": "white",
           "linecolor": "white",
           "ticks": "",
           "title": {
            "standoff": 15
           },
           "zerolinecolor": "white",
           "zerolinewidth": 2
          },
          "yaxis": {
           "automargin": true,
           "gridcolor": "white",
           "linecolor": "white",
           "ticks": "",
           "title": {
            "standoff": 15
           },
           "zerolinecolor": "white",
           "zerolinewidth": 2
          }
         }
        },
        "title": {
         "text": "Subcategories with Maximum Sales for Each Category"
        },
        "xaxis": {
         "title": {
          "text": "Average Reviews Count"
         }
        },
        "yaxis": {
         "title": {
          "text": "Category - Subcategory"
         }
        }
       }
      }
     },
     "metadata": {},
     "output_type": "display_data"
    }
   ],
   "source": [
    "import plotly.graph_objs as go\n",
    "\n",
    "# Create figure for best product rating\n",
    "fig1 = go.Figure(go.Bar(\n",
    "    y=best_subcategories_rating['category'] + ' - ' + best_subcategories_rating['product_subcategory'],\n",
    "    x=best_subcategories_rating.sort_values(by='product_rating', ascending=False)['product_rating'],\n",
    "    name='Average Product Rating',\n",
    "    orientation='h',\n",
    "    marker=dict(color='rgba(255, 153, 51, 0.7)'),\n",
    "    text=best_subcategories_rating.sort_values(by='product_rating', ascending=False)['product_rating'].round(2),\n",
    "    textposition='auto'\n",
    "))\n",
    "\n",
    "fig1.update_layout(\n",
    "    title='Subcategories with Best Average Rating for Each Category',\n",
    "    yaxis=dict(title='Category - Subcategory'),\n",
    "    xaxis=dict(title='Average Rating'),\n",
    "    bargap=0.2,\n",
    "    margin=dict(l=150)\n",
    ")\n",
    "\n",
    "# Create figure for best customer reviews count\n",
    "fig2 = go.Figure(go.Bar(\n",
    "    y=best_subcategories_reviews['category'] + ' - ' + best_subcategories_reviews['product_subcategory'],\n",
    "    x=best_subcategories_reviews.sort_values(by='customer_reviews_count', ascending=False)['customer_reviews_count'],\n",
    "    name='Average Customer Reviews Count',\n",
    "    orientation='h',\n",
    "    marker=dict(color='rgba(51, 153, 255, 0.7)'),\n",
    "    text=best_subcategories_reviews.sort_values(by='customer_reviews_count', ascending=False)['customer_reviews_count'],\n",
    "    textposition='auto'\n",
    "))\n",
    "\n",
    "fig2.update_layout(\n",
    "    title='Subcategories with Maximum Sales for Each Category',\n",
    "    yaxis=dict(title='Category - Subcategory'),\n",
    "    xaxis=dict(title='Average Reviews Count'),\n",
    "    bargap=0.2,\n",
    "    margin=dict(l=150)\n",
    ")\n",
    "\n",
    "# Show the plots one below another\n",
    "fig1.show()\n",
    "fig2.show()\n"
   ]
  },
  {
   "cell_type": "code",
   "execution_count": 56,
   "metadata": {},
   "outputs": [
    {
     "data": {
      "text/html": [
       "<div>\n",
       "<style scoped>\n",
       "    .dataframe tbody tr th:only-of-type {\n",
       "        vertical-align: middle;\n",
       "    }\n",
       "\n",
       "    .dataframe tbody tr th {\n",
       "        vertical-align: top;\n",
       "    }\n",
       "\n",
       "    .dataframe thead th {\n",
       "        text-align: right;\n",
       "    }\n",
       "</style>\n",
       "<table border=\"1\" class=\"dataframe\">\n",
       "  <thead>\n",
       "    <tr style=\"text-align: right;\">\n",
       "      <th></th>\n",
       "      <th>category</th>\n",
       "      <th>product_subcategory</th>\n",
       "      <th>product_rating</th>\n",
       "      <th>customer_reviews_count</th>\n",
       "      <th>total_sales</th>\n",
       "      <th>sales_percentage</th>\n",
       "      <th>revenue_percentage</th>\n",
       "    </tr>\n",
       "  </thead>\n",
       "  <tbody>\n",
       "    <tr>\n",
       "      <th>0</th>\n",
       "      <td>Baby Care</td>\n",
       "      <td>Baby Food &amp; Formula</td>\n",
       "      <td>4.165957</td>\n",
       "      <td>2363</td>\n",
       "      <td>838280.60</td>\n",
       "      <td>1.488851</td>\n",
       "      <td>1.719681</td>\n",
       "    </tr>\n",
       "    <tr>\n",
       "      <th>11</th>\n",
       "      <td>Baby Care</td>\n",
       "      <td>Diapers &amp; Wipes</td>\n",
       "      <td>4.095547</td>\n",
       "      <td>12573</td>\n",
       "      <td>9102079.03</td>\n",
       "      <td>7.921846</td>\n",
       "      <td>18.672351</td>\n",
       "    </tr>\n",
       "    <tr>\n",
       "      <th>3</th>\n",
       "      <td>Beverages</td>\n",
       "      <td>Water</td>\n",
       "      <td>4.170588</td>\n",
       "      <td>1108</td>\n",
       "      <td>178959.25</td>\n",
       "      <td>0.698115</td>\n",
       "      <td>0.367124</td>\n",
       "    </tr>\n",
       "    <tr>\n",
       "      <th>14</th>\n",
       "      <td>Beverages</td>\n",
       "      <td>Tea</td>\n",
       "      <td>4.080389</td>\n",
       "      <td>16106</td>\n",
       "      <td>4258669.71</td>\n",
       "      <td>10.147877</td>\n",
       "      <td>8.736397</td>\n",
       "    </tr>\n",
       "    <tr>\n",
       "      <th>6</th>\n",
       "      <td>Foodgrains, Oil &amp; Masala</td>\n",
       "      <td>Edible Oils &amp; Ghee</td>\n",
       "      <td>4.125605</td>\n",
       "      <td>12037</td>\n",
       "      <td>6880332.37</td>\n",
       "      <td>7.584130</td>\n",
       "      <td>14.114576</td>\n",
       "    </tr>\n",
       "    <tr>\n",
       "      <th>17</th>\n",
       "      <td>Foodgrains, Oil &amp; Masala</td>\n",
       "      <td>Masalas &amp; Spices</td>\n",
       "      <td>4.094094</td>\n",
       "      <td>46249</td>\n",
       "      <td>4079095.21</td>\n",
       "      <td>29.140020</td>\n",
       "      <td>8.368011</td>\n",
       "    </tr>\n",
       "    <tr>\n",
       "      <th>7</th>\n",
       "      <td>Fruits &amp; Vegetables</td>\n",
       "      <td>Cuts &amp; Sprouts</td>\n",
       "      <td>4.000526</td>\n",
       "      <td>4875</td>\n",
       "      <td>171547.35</td>\n",
       "      <td>3.071582</td>\n",
       "      <td>0.351919</td>\n",
       "    </tr>\n",
       "    <tr>\n",
       "      <th>18</th>\n",
       "      <td>Fruits &amp; Vegetables</td>\n",
       "      <td>Fresh Vegetables</td>\n",
       "      <td>4.000000</td>\n",
       "      <td>8294</td>\n",
       "      <td>258932.75</td>\n",
       "      <td>5.225785</td>\n",
       "      <td>0.531184</td>\n",
       "    </tr>\n",
       "    <tr>\n",
       "      <th>8</th>\n",
       "      <td>Gourmet &amp; World Food</td>\n",
       "      <td>Oils &amp; Vinegar</td>\n",
       "      <td>4.231590</td>\n",
       "      <td>12919</td>\n",
       "      <td>12961550.13</td>\n",
       "      <td>8.139850</td>\n",
       "      <td>26.589817</td>\n",
       "    </tr>\n",
       "    <tr>\n",
       "      <th>19</th>\n",
       "      <td>Gourmet &amp; World Food</td>\n",
       "      <td>Snacks, Dry Fruits, Nuts</td>\n",
       "      <td>3.988333</td>\n",
       "      <td>42189</td>\n",
       "      <td>10016846.70</td>\n",
       "      <td>26.581944</td>\n",
       "      <td>20.548940</td>\n",
       "    </tr>\n",
       "  </tbody>\n",
       "</table>\n",
       "</div>"
      ],
      "text/plain": [
       "                    category       product_subcategory  product_rating  \\\n",
       "0                  Baby Care       Baby Food & Formula        4.165957   \n",
       "11                 Baby Care           Diapers & Wipes        4.095547   \n",
       "3                  Beverages                     Water        4.170588   \n",
       "14                 Beverages                       Tea        4.080389   \n",
       "6   Foodgrains, Oil & Masala        Edible Oils & Ghee        4.125605   \n",
       "17  Foodgrains, Oil & Masala          Masalas & Spices        4.094094   \n",
       "7        Fruits & Vegetables            Cuts & Sprouts        4.000526   \n",
       "18       Fruits & Vegetables          Fresh Vegetables        4.000000   \n",
       "8       Gourmet & World Food            Oils & Vinegar        4.231590   \n",
       "19      Gourmet & World Food  Snacks, Dry Fruits, Nuts        3.988333   \n",
       "\n",
       "    customer_reviews_count  total_sales  sales_percentage  revenue_percentage  \n",
       "0                     2363    838280.60          1.488851            1.719681  \n",
       "11                   12573   9102079.03          7.921846           18.672351  \n",
       "3                     1108    178959.25          0.698115            0.367124  \n",
       "14                   16106   4258669.71         10.147877            8.736397  \n",
       "6                    12037   6880332.37          7.584130           14.114576  \n",
       "17                   46249   4079095.21         29.140020            8.368011  \n",
       "7                     4875    171547.35          3.071582            0.351919  \n",
       "18                    8294    258932.75          5.225785            0.531184  \n",
       "8                    12919  12961550.13          8.139850           26.589817  \n",
       "19                   42189  10016846.70         26.581944           20.548940  "
      ]
     },
     "execution_count": 56,
     "metadata": {},
     "output_type": "execute_result"
    }
   ],
   "source": [
    "df_top_5_categories = merged_df[merged_df['category'].isin(top_category_with_sales['category'].head(5))]\n",
    "df_top_5_categories['sales_percentage'] = (df_top_5_categories['customer_reviews_count']/sum(df_top_5_categories['customer_reviews_count'])) * 100\n",
    "df_top_5_categories['revenue_percentage'] = (df_top_5_categories['total_sales']/sum(df_top_5_categories['total_sales'])) * 100\n",
    "df_top_5_categories"
   ]
  },
  {
   "cell_type": "code",
   "execution_count": 77,
   "metadata": {},
   "outputs": [
    {
     "data": {
      "text/html": [
       "<div>\n",
       "<style scoped>\n",
       "    .dataframe tbody tr th:only-of-type {\n",
       "        vertical-align: middle;\n",
       "    }\n",
       "\n",
       "    .dataframe tbody tr th {\n",
       "        vertical-align: top;\n",
       "    }\n",
       "\n",
       "    .dataframe thead th {\n",
       "        text-align: right;\n",
       "    }\n",
       "</style>\n",
       "<table border=\"1\" class=\"dataframe\">\n",
       "  <thead>\n",
       "    <tr style=\"text-align: right;\">\n",
       "      <th></th>\n",
       "      <th>category</th>\n",
       "      <th>product_subcategory</th>\n",
       "      <th>product_rating</th>\n",
       "      <th>customer_reviews_count</th>\n",
       "      <th>total_sales</th>\n",
       "      <th>sales_percentage</th>\n",
       "      <th>revenue_percentage</th>\n",
       "    </tr>\n",
       "  </thead>\n",
       "  <tbody>\n",
       "    <tr>\n",
       "      <th>11</th>\n",
       "      <td>Baby Care</td>\n",
       "      <td>Atta, Flours &amp; Sooji</td>\n",
       "      <td>3.600000</td>\n",
       "      <td>96</td>\n",
       "      <td>28800.00</td>\n",
       "      <td>0.165423</td>\n",
       "      <td>0.217737</td>\n",
       "    </tr>\n",
       "    <tr>\n",
       "      <th>0</th>\n",
       "      <td>Baby Care</td>\n",
       "      <td>Baby Accessories</td>\n",
       "      <td>3.145946</td>\n",
       "      <td>2169</td>\n",
       "      <td>829555.00</td>\n",
       "      <td>3.737529</td>\n",
       "      <td>6.271699</td>\n",
       "    </tr>\n",
       "    <tr>\n",
       "      <th>14</th>\n",
       "      <td>Beverages</td>\n",
       "      <td>Water</td>\n",
       "      <td>4.170588</td>\n",
       "      <td>1108</td>\n",
       "      <td>178959.25</td>\n",
       "      <td>1.909259</td>\n",
       "      <td>1.352989</td>\n",
       "    </tr>\n",
       "    <tr>\n",
       "      <th>3</th>\n",
       "      <td>Beverages</td>\n",
       "      <td>Coffee</td>\n",
       "      <td>3.967978</td>\n",
       "      <td>4193</td>\n",
       "      <td>785057.55</td>\n",
       "      <td>7.225199</td>\n",
       "      <td>5.935284</td>\n",
       "    </tr>\n",
       "    <tr>\n",
       "      <th>17</th>\n",
       "      <td>Foodgrains, Oil &amp; Masala</td>\n",
       "      <td>Baby Food &amp; Formula</td>\n",
       "      <td>4.000000</td>\n",
       "      <td>52</td>\n",
       "      <td>11700.00</td>\n",
       "      <td>0.089604</td>\n",
       "      <td>0.088456</td>\n",
       "    </tr>\n",
       "    <tr>\n",
       "      <th>6</th>\n",
       "      <td>Foodgrains, Oil &amp; Masala</td>\n",
       "      <td>Dry Fruits</td>\n",
       "      <td>3.890394</td>\n",
       "      <td>10139</td>\n",
       "      <td>2617634.15</td>\n",
       "      <td>17.471094</td>\n",
       "      <td>19.790144</td>\n",
       "    </tr>\n",
       "    <tr>\n",
       "      <th>7</th>\n",
       "      <td>Fruits &amp; Vegetables</td>\n",
       "      <td>Fresh Vegetables</td>\n",
       "      <td>4.000000</td>\n",
       "      <td>8294</td>\n",
       "      <td>258932.75</td>\n",
       "      <td>14.291868</td>\n",
       "      <td>1.957614</td>\n",
       "    </tr>\n",
       "    <tr>\n",
       "      <th>18</th>\n",
       "      <td>Fruits &amp; Vegetables</td>\n",
       "      <td>Flower Bouquets, Bunches</td>\n",
       "      <td>4.000000</td>\n",
       "      <td>473</td>\n",
       "      <td>58008.00</td>\n",
       "      <td>0.815054</td>\n",
       "      <td>0.438559</td>\n",
       "    </tr>\n",
       "    <tr>\n",
       "      <th>19</th>\n",
       "      <td>Gourmet &amp; World Food</td>\n",
       "      <td>Mutton &amp; Lamb</td>\n",
       "      <td>4.050000</td>\n",
       "      <td>97</td>\n",
       "      <td>60043.00</td>\n",
       "      <td>0.167146</td>\n",
       "      <td>0.453944</td>\n",
       "    </tr>\n",
       "    <tr>\n",
       "      <th>8</th>\n",
       "      <td>Gourmet &amp; World Food</td>\n",
       "      <td>Chocolates &amp; Biscuits</td>\n",
       "      <td>3.875205</td>\n",
       "      <td>31412</td>\n",
       "      <td>8398268.80</td>\n",
       "      <td>54.127824</td>\n",
       "      <td>63.493575</td>\n",
       "    </tr>\n",
       "  </tbody>\n",
       "</table>\n",
       "</div>"
      ],
      "text/plain": [
       "                    category       product_subcategory  product_rating  \\\n",
       "11                 Baby Care      Atta, Flours & Sooji        3.600000   \n",
       "0                  Baby Care          Baby Accessories        3.145946   \n",
       "14                 Beverages                     Water        4.170588   \n",
       "3                  Beverages                    Coffee        3.967978   \n",
       "17  Foodgrains, Oil & Masala       Baby Food & Formula        4.000000   \n",
       "6   Foodgrains, Oil & Masala                Dry Fruits        3.890394   \n",
       "7        Fruits & Vegetables          Fresh Vegetables        4.000000   \n",
       "18       Fruits & Vegetables  Flower Bouquets, Bunches        4.000000   \n",
       "19      Gourmet & World Food             Mutton & Lamb        4.050000   \n",
       "8       Gourmet & World Food     Chocolates & Biscuits        3.875205   \n",
       "\n",
       "    customer_reviews_count  total_sales  sales_percentage  revenue_percentage  \n",
       "11                      96     28800.00          0.165423            0.217737  \n",
       "0                     2169    829555.00          3.737529            6.271699  \n",
       "14                    1108    178959.25          1.909259            1.352989  \n",
       "3                     4193    785057.55          7.225199            5.935284  \n",
       "17                      52     11700.00          0.089604            0.088456  \n",
       "6                    10139   2617634.15         17.471094           19.790144  \n",
       "7                     8294    258932.75         14.291868            1.957614  \n",
       "18                     473     58008.00          0.815054            0.438559  \n",
       "19                      97     60043.00          0.167146            0.453944  \n",
       "8                    31412   8398268.80         54.127824           63.493575  "
      ]
     },
     "execution_count": 77,
     "metadata": {},
     "output_type": "execute_result"
    }
   ],
   "source": [
    "df_top_5_categories_low_subcategory = merged_df_low[merged_df_low['category'].isin(top_category_with_sales['category'].head(5))]\n",
    "df_top_5_categories_low_subcategory['sales_percentage'] = (df_top_5_categories_low_subcategory['customer_reviews_count']/sum(df_top_5_categories_low_subcategory['customer_reviews_count'])) * 100\n",
    "df_top_5_categories_low_subcategory['revenue_percentage'] = (df_top_5_categories_low_subcategory['total_sales']/sum(df_top_5_categories_low_subcategory['total_sales'])) * 100\n",
    "df_top_5_categories_low_subcategory"
   ]
  },
  {
   "cell_type": "code",
   "execution_count": 61,
   "metadata": {},
   "outputs": [
    {
     "data": {
      "application/vnd.plotly.v1+json": {
       "config": {
        "plotlyServerURL": "https://plot.ly"
       },
       "data": [
        {
         "branchvalues": "total",
         "customdata": [
          [
           4.17,
           1.49
          ],
          [
           4,
           3.07
          ],
          [
           4.1,
           7.92
          ],
          [
           4.13,
           7.58
          ],
          [
           4,
           5.23
          ],
          [
           4.09,
           29.14
          ],
          [
           4.23,
           8.14
          ],
          [
           3.99,
           26.58
          ],
          [
           4.08,
           10.15
          ],
          [
           4.17,
           0.7
          ],
          [
           "(?)",
           9.41
          ],
          [
           "(?)",
           10.85
          ],
          [
           "(?)",
           36.72
          ],
          [
           4,
           8.3
          ],
          [
           "(?)",
           34.72
          ]
         ],
         "domain": {
          "x": [
           0,
           1
          ],
          "y": [
           0,
           1
          ]
         },
         "hovertemplate": "labels=%{label}<br>sales_percentage=%{customdata[1]}<br>parent=%{parent}<br>id=%{id}<br>product_rating=%{customdata[0]}<extra></extra>",
         "ids": [
          "Baby Care/Baby Food & Formula",
          "Fruits & Vegetables/Cuts & Sprouts",
          "Baby Care/Diapers & Wipes",
          "Foodgrains, Oil & Masala/Edible Oils & Ghee",
          "Fruits & Vegetables/Fresh Vegetables",
          "Foodgrains, Oil & Masala/Masalas & Spices",
          "Gourmet & World Food/Oils & Vinegar",
          "Gourmet & World Food/Snacks, Dry Fruits, Nuts",
          "Beverages/Tea",
          "Beverages/Water",
          "Baby Care",
          "Beverages",
          "Foodgrains, Oil & Masala",
          "Fruits & Vegetables",
          "Gourmet & World Food"
         ],
         "labels": [
          "Baby Food & Formula",
          "Cuts & Sprouts",
          "Diapers & Wipes",
          "Edible Oils & Ghee",
          "Fresh Vegetables",
          "Masalas & Spices",
          "Oils & Vinegar",
          "Snacks, Dry Fruits, Nuts",
          "Tea",
          "Water",
          "Baby Care",
          "Beverages",
          "Foodgrains, Oil & Masala",
          "Fruits & Vegetables",
          "Gourmet & World Food"
         ],
         "name": "",
         "parents": [
          "Baby Care",
          "Fruits & Vegetables",
          "Baby Care",
          "Foodgrains, Oil & Masala",
          "Fruits & Vegetables",
          "Foodgrains, Oil & Masala",
          "Gourmet & World Food",
          "Gourmet & World Food",
          "Beverages",
          "Beverages",
          "",
          "",
          "",
          "",
          ""
         ],
         "type": "sunburst",
         "values": [
          1.49,
          3.07,
          7.92,
          7.58,
          5.23,
          29.14,
          8.14,
          26.58,
          10.15,
          0.7,
          9.41,
          10.85,
          36.72,
          8.3,
          34.72
         ]
        }
       ],
       "layout": {
        "annotations": [
         {
          "showarrow": false,
          "text": "Best two subcategories based on average rating and sales",
          "x": 0,
          "xref": "paper",
          "y": -0.1,
          "yref": "paper"
         }
        ],
        "height": 700,
        "legend": {
         "tracegroupgap": 0
        },
        "margin": {
         "t": 60
        },
        "template": {
         "data": {
          "bar": [
           {
            "error_x": {
             "color": "#2a3f5f"
            },
            "error_y": {
             "color": "#2a3f5f"
            },
            "marker": {
             "line": {
              "color": "#E5ECF6",
              "width": 0.5
             },
             "pattern": {
              "fillmode": "overlay",
              "size": 10,
              "solidity": 0.2
             }
            },
            "type": "bar"
           }
          ],
          "barpolar": [
           {
            "marker": {
             "line": {
              "color": "#E5ECF6",
              "width": 0.5
             },
             "pattern": {
              "fillmode": "overlay",
              "size": 10,
              "solidity": 0.2
             }
            },
            "type": "barpolar"
           }
          ],
          "carpet": [
           {
            "aaxis": {
             "endlinecolor": "#2a3f5f",
             "gridcolor": "white",
             "linecolor": "white",
             "minorgridcolor": "white",
             "startlinecolor": "#2a3f5f"
            },
            "baxis": {
             "endlinecolor": "#2a3f5f",
             "gridcolor": "white",
             "linecolor": "white",
             "minorgridcolor": "white",
             "startlinecolor": "#2a3f5f"
            },
            "type": "carpet"
           }
          ],
          "choropleth": [
           {
            "colorbar": {
             "outlinewidth": 0,
             "ticks": ""
            },
            "type": "choropleth"
           }
          ],
          "contour": [
           {
            "colorbar": {
             "outlinewidth": 0,
             "ticks": ""
            },
            "colorscale": [
             [
              0,
              "#0d0887"
             ],
             [
              0.1111111111111111,
              "#46039f"
             ],
             [
              0.2222222222222222,
              "#7201a8"
             ],
             [
              0.3333333333333333,
              "#9c179e"
             ],
             [
              0.4444444444444444,
              "#bd3786"
             ],
             [
              0.5555555555555556,
              "#d8576b"
             ],
             [
              0.6666666666666666,
              "#ed7953"
             ],
             [
              0.7777777777777778,
              "#fb9f3a"
             ],
             [
              0.8888888888888888,
              "#fdca26"
             ],
             [
              1,
              "#f0f921"
             ]
            ],
            "type": "contour"
           }
          ],
          "contourcarpet": [
           {
            "colorbar": {
             "outlinewidth": 0,
             "ticks": ""
            },
            "type": "contourcarpet"
           }
          ],
          "heatmap": [
           {
            "colorbar": {
             "outlinewidth": 0,
             "ticks": ""
            },
            "colorscale": [
             [
              0,
              "#0d0887"
             ],
             [
              0.1111111111111111,
              "#46039f"
             ],
             [
              0.2222222222222222,
              "#7201a8"
             ],
             [
              0.3333333333333333,
              "#9c179e"
             ],
             [
              0.4444444444444444,
              "#bd3786"
             ],
             [
              0.5555555555555556,
              "#d8576b"
             ],
             [
              0.6666666666666666,
              "#ed7953"
             ],
             [
              0.7777777777777778,
              "#fb9f3a"
             ],
             [
              0.8888888888888888,
              "#fdca26"
             ],
             [
              1,
              "#f0f921"
             ]
            ],
            "type": "heatmap"
           }
          ],
          "heatmapgl": [
           {
            "colorbar": {
             "outlinewidth": 0,
             "ticks": ""
            },
            "colorscale": [
             [
              0,
              "#0d0887"
             ],
             [
              0.1111111111111111,
              "#46039f"
             ],
             [
              0.2222222222222222,
              "#7201a8"
             ],
             [
              0.3333333333333333,
              "#9c179e"
             ],
             [
              0.4444444444444444,
              "#bd3786"
             ],
             [
              0.5555555555555556,
              "#d8576b"
             ],
             [
              0.6666666666666666,
              "#ed7953"
             ],
             [
              0.7777777777777778,
              "#fb9f3a"
             ],
             [
              0.8888888888888888,
              "#fdca26"
             ],
             [
              1,
              "#f0f921"
             ]
            ],
            "type": "heatmapgl"
           }
          ],
          "histogram": [
           {
            "marker": {
             "pattern": {
              "fillmode": "overlay",
              "size": 10,
              "solidity": 0.2
             }
            },
            "type": "histogram"
           }
          ],
          "histogram2d": [
           {
            "colorbar": {
             "outlinewidth": 0,
             "ticks": ""
            },
            "colorscale": [
             [
              0,
              "#0d0887"
             ],
             [
              0.1111111111111111,
              "#46039f"
             ],
             [
              0.2222222222222222,
              "#7201a8"
             ],
             [
              0.3333333333333333,
              "#9c179e"
             ],
             [
              0.4444444444444444,
              "#bd3786"
             ],
             [
              0.5555555555555556,
              "#d8576b"
             ],
             [
              0.6666666666666666,
              "#ed7953"
             ],
             [
              0.7777777777777778,
              "#fb9f3a"
             ],
             [
              0.8888888888888888,
              "#fdca26"
             ],
             [
              1,
              "#f0f921"
             ]
            ],
            "type": "histogram2d"
           }
          ],
          "histogram2dcontour": [
           {
            "colorbar": {
             "outlinewidth": 0,
             "ticks": ""
            },
            "colorscale": [
             [
              0,
              "#0d0887"
             ],
             [
              0.1111111111111111,
              "#46039f"
             ],
             [
              0.2222222222222222,
              "#7201a8"
             ],
             [
              0.3333333333333333,
              "#9c179e"
             ],
             [
              0.4444444444444444,
              "#bd3786"
             ],
             [
              0.5555555555555556,
              "#d8576b"
             ],
             [
              0.6666666666666666,
              "#ed7953"
             ],
             [
              0.7777777777777778,
              "#fb9f3a"
             ],
             [
              0.8888888888888888,
              "#fdca26"
             ],
             [
              1,
              "#f0f921"
             ]
            ],
            "type": "histogram2dcontour"
           }
          ],
          "mesh3d": [
           {
            "colorbar": {
             "outlinewidth": 0,
             "ticks": ""
            },
            "type": "mesh3d"
           }
          ],
          "parcoords": [
           {
            "line": {
             "colorbar": {
              "outlinewidth": 0,
              "ticks": ""
             }
            },
            "type": "parcoords"
           }
          ],
          "pie": [
           {
            "automargin": true,
            "type": "pie"
           }
          ],
          "scatter": [
           {
            "fillpattern": {
             "fillmode": "overlay",
             "size": 10,
             "solidity": 0.2
            },
            "type": "scatter"
           }
          ],
          "scatter3d": [
           {
            "line": {
             "colorbar": {
              "outlinewidth": 0,
              "ticks": ""
             }
            },
            "marker": {
             "colorbar": {
              "outlinewidth": 0,
              "ticks": ""
             }
            },
            "type": "scatter3d"
           }
          ],
          "scattercarpet": [
           {
            "marker": {
             "colorbar": {
              "outlinewidth": 0,
              "ticks": ""
             }
            },
            "type": "scattercarpet"
           }
          ],
          "scattergeo": [
           {
            "marker": {
             "colorbar": {
              "outlinewidth": 0,
              "ticks": ""
             }
            },
            "type": "scattergeo"
           }
          ],
          "scattergl": [
           {
            "marker": {
             "colorbar": {
              "outlinewidth": 0,
              "ticks": ""
             }
            },
            "type": "scattergl"
           }
          ],
          "scattermapbox": [
           {
            "marker": {
             "colorbar": {
              "outlinewidth": 0,
              "ticks": ""
             }
            },
            "type": "scattermapbox"
           }
          ],
          "scatterpolar": [
           {
            "marker": {
             "colorbar": {
              "outlinewidth": 0,
              "ticks": ""
             }
            },
            "type": "scatterpolar"
           }
          ],
          "scatterpolargl": [
           {
            "marker": {
             "colorbar": {
              "outlinewidth": 0,
              "ticks": ""
             }
            },
            "type": "scatterpolargl"
           }
          ],
          "scatterternary": [
           {
            "marker": {
             "colorbar": {
              "outlinewidth": 0,
              "ticks": ""
             }
            },
            "type": "scatterternary"
           }
          ],
          "surface": [
           {
            "colorbar": {
             "outlinewidth": 0,
             "ticks": ""
            },
            "colorscale": [
             [
              0,
              "#0d0887"
             ],
             [
              0.1111111111111111,
              "#46039f"
             ],
             [
              0.2222222222222222,
              "#7201a8"
             ],
             [
              0.3333333333333333,
              "#9c179e"
             ],
             [
              0.4444444444444444,
              "#bd3786"
             ],
             [
              0.5555555555555556,
              "#d8576b"
             ],
             [
              0.6666666666666666,
              "#ed7953"
             ],
             [
              0.7777777777777778,
              "#fb9f3a"
             ],
             [
              0.8888888888888888,
              "#fdca26"
             ],
             [
              1,
              "#f0f921"
             ]
            ],
            "type": "surface"
           }
          ],
          "table": [
           {
            "cells": {
             "fill": {
              "color": "#EBF0F8"
             },
             "line": {
              "color": "white"
             }
            },
            "header": {
             "fill": {
              "color": "#C8D4E3"
             },
             "line": {
              "color": "white"
             }
            },
            "type": "table"
           }
          ]
         },
         "layout": {
          "annotationdefaults": {
           "arrowcolor": "#2a3f5f",
           "arrowhead": 0,
           "arrowwidth": 1
          },
          "autotypenumbers": "strict",
          "coloraxis": {
           "colorbar": {
            "outlinewidth": 0,
            "ticks": ""
           }
          },
          "colorscale": {
           "diverging": [
            [
             0,
             "#8e0152"
            ],
            [
             0.1,
             "#c51b7d"
            ],
            [
             0.2,
             "#de77ae"
            ],
            [
             0.3,
             "#f1b6da"
            ],
            [
             0.4,
             "#fde0ef"
            ],
            [
             0.5,
             "#f7f7f7"
            ],
            [
             0.6,
             "#e6f5d0"
            ],
            [
             0.7,
             "#b8e186"
            ],
            [
             0.8,
             "#7fbc41"
            ],
            [
             0.9,
             "#4d9221"
            ],
            [
             1,
             "#276419"
            ]
           ],
           "sequential": [
            [
             0,
             "#0d0887"
            ],
            [
             0.1111111111111111,
             "#46039f"
            ],
            [
             0.2222222222222222,
             "#7201a8"
            ],
            [
             0.3333333333333333,
             "#9c179e"
            ],
            [
             0.4444444444444444,
             "#bd3786"
            ],
            [
             0.5555555555555556,
             "#d8576b"
            ],
            [
             0.6666666666666666,
             "#ed7953"
            ],
            [
             0.7777777777777778,
             "#fb9f3a"
            ],
            [
             0.8888888888888888,
             "#fdca26"
            ],
            [
             1,
             "#f0f921"
            ]
           ],
           "sequentialminus": [
            [
             0,
             "#0d0887"
            ],
            [
             0.1111111111111111,
             "#46039f"
            ],
            [
             0.2222222222222222,
             "#7201a8"
            ],
            [
             0.3333333333333333,
             "#9c179e"
            ],
            [
             0.4444444444444444,
             "#bd3786"
            ],
            [
             0.5555555555555556,
             "#d8576b"
            ],
            [
             0.6666666666666666,
             "#ed7953"
            ],
            [
             0.7777777777777778,
             "#fb9f3a"
            ],
            [
             0.8888888888888888,
             "#fdca26"
            ],
            [
             1,
             "#f0f921"
            ]
           ]
          },
          "colorway": [
           "#636efa",
           "#EF553B",
           "#00cc96",
           "#ab63fa",
           "#FFA15A",
           "#19d3f3",
           "#FF6692",
           "#B6E880",
           "#FF97FF",
           "#FECB52"
          ],
          "font": {
           "color": "#2a3f5f"
          },
          "geo": {
           "bgcolor": "white",
           "lakecolor": "white",
           "landcolor": "#E5ECF6",
           "showlakes": true,
           "showland": true,
           "subunitcolor": "white"
          },
          "hoverlabel": {
           "align": "left"
          },
          "hovermode": "closest",
          "mapbox": {
           "style": "light"
          },
          "paper_bgcolor": "white",
          "plot_bgcolor": "#E5ECF6",
          "polar": {
           "angularaxis": {
            "gridcolor": "white",
            "linecolor": "white",
            "ticks": ""
           },
           "bgcolor": "#E5ECF6",
           "radialaxis": {
            "gridcolor": "white",
            "linecolor": "white",
            "ticks": ""
           }
          },
          "scene": {
           "xaxis": {
            "backgroundcolor": "#E5ECF6",
            "gridcolor": "white",
            "gridwidth": 2,
            "linecolor": "white",
            "showbackground": true,
            "ticks": "",
            "zerolinecolor": "white"
           },
           "yaxis": {
            "backgroundcolor": "#E5ECF6",
            "gridcolor": "white",
            "gridwidth": 2,
            "linecolor": "white",
            "showbackground": true,
            "ticks": "",
            "zerolinecolor": "white"
           },
           "zaxis": {
            "backgroundcolor": "#E5ECF6",
            "gridcolor": "white",
            "gridwidth": 2,
            "linecolor": "white",
            "showbackground": true,
            "ticks": "",
            "zerolinecolor": "white"
           }
          },
          "shapedefaults": {
           "line": {
            "color": "#2a3f5f"
           }
          },
          "ternary": {
           "aaxis": {
            "gridcolor": "white",
            "linecolor": "white",
            "ticks": ""
           },
           "baxis": {
            "gridcolor": "white",
            "linecolor": "white",
            "ticks": ""
           },
           "bgcolor": "#E5ECF6",
           "caxis": {
            "gridcolor": "white",
            "linecolor": "white",
            "ticks": ""
           }
          },
          "title": {
           "x": 0.05
          },
          "xaxis": {
           "automargin": true,
           "gridcolor": "white",
           "linecolor": "white",
           "ticks": "",
           "title": {
            "standoff": 15
           },
           "zerolinecolor": "white",
           "zerolinewidth": 2
          },
          "yaxis": {
           "automargin": true,
           "gridcolor": "white",
           "linecolor": "white",
           "ticks": "",
           "title": {
            "standoff": 15
           },
           "zerolinecolor": "white",
           "zerolinewidth": 2
          }
         }
        },
        "title": {
         "text": "Best subcategories for each of the top 5 Categories"
        }
       }
      }
     },
     "metadata": {},
     "output_type": "display_data"
    }
   ],
   "source": [
    "import plotly.express as px\n",
    "\n",
    "df_top_5_categories['product_rating'] = df_top_5_categories['product_rating'].round(2)\n",
    "df_top_5_categories['sales_percentage'] = df_top_5_categories['sales_percentage'].round(2)\n",
    "# Create sunburst chart\n",
    "fig = px.sunburst(df_top_5_categories, \n",
    "                  path=['category', 'product_subcategory'], \n",
    "                  values='sales_percentage',\n",
    "                  hover_data={'product_rating': True, 'sales_percentage': True})  # Add hover data for labels\n",
    "\n",
    "# Update layout\n",
    "fig.update_layout(\n",
    "    title='Best subcategories for each of the top 5 Categories',\n",
    "    height=700,\n",
    "    annotations=[\n",
    "        dict(\n",
    "            text=\"Best two subcategories based on average rating and sales\",\n",
    "            showarrow=False,\n",
    "            xref=\"paper\",\n",
    "            yref=\"paper\",\n",
    "            x=0,\n",
    "            y=-0.1\n",
    "        )\n",
    "    ]\n",
    ")\n",
    "\n",
    "# Show plot\n",
    "fig.show()\n"
   ]
  },
  {
   "cell_type": "code",
   "execution_count": 78,
   "metadata": {},
   "outputs": [
    {
     "data": {
      "application/vnd.plotly.v1+json": {
       "config": {
        "plotlyServerURL": "https://plot.ly"
       },
       "data": [
        {
         "branchvalues": "total",
         "domain": {
          "x": [
           0,
           1
          ],
          "y": [
           0,
           1
          ]
         },
         "hovertemplate": "labels=%{label}<br>sales_percentage=%{value}<br>parent=%{parent}<br>id=%{id}<extra></extra>",
         "ids": [
          "Baby Care/Baby Food & Formula",
          "Fruits & Vegetables/Cuts & Sprouts",
          "Baby Care/Diapers & Wipes",
          "Foodgrains, Oil & Masala/Edible Oils & Ghee",
          "Fruits & Vegetables/Fresh Vegetables",
          "Foodgrains, Oil & Masala/Masalas & Spices",
          "Gourmet & World Food/Oils & Vinegar",
          "Gourmet & World Food/Snacks, Dry Fruits, Nuts",
          "Beverages/Tea",
          "Beverages/Water",
          "Baby Care",
          "Beverages",
          "Foodgrains, Oil & Masala",
          "Fruits & Vegetables",
          "Gourmet & World Food"
         ],
         "labels": [
          "Baby Food & Formula",
          "Cuts & Sprouts",
          "Diapers & Wipes",
          "Edible Oils & Ghee",
          "Fresh Vegetables",
          "Masalas & Spices",
          "Oils & Vinegar",
          "Snacks, Dry Fruits, Nuts",
          "Tea",
          "Water",
          "Baby Care",
          "Beverages",
          "Foodgrains, Oil & Masala",
          "Fruits & Vegetables",
          "Gourmet & World Food"
         ],
         "name": "",
         "parents": [
          "Baby Care",
          "Fruits & Vegetables",
          "Baby Care",
          "Foodgrains, Oil & Masala",
          "Fruits & Vegetables",
          "Foodgrains, Oil & Masala",
          "Gourmet & World Food",
          "Gourmet & World Food",
          "Beverages",
          "Beverages",
          "",
          "",
          "",
          "",
          ""
         ],
         "type": "treemap",
         "values": [
          1.49,
          3.07,
          7.92,
          7.58,
          5.23,
          29.14,
          8.14,
          26.58,
          10.15,
          0.7,
          9.41,
          10.85,
          36.72,
          8.3,
          34.72
         ]
        }
       ],
       "layout": {
        "height": 600,
        "legend": {
         "tracegroupgap": 0
        },
        "margin": {
         "t": 60
        },
        "template": {
         "data": {
          "bar": [
           {
            "error_x": {
             "color": "#2a3f5f"
            },
            "error_y": {
             "color": "#2a3f5f"
            },
            "marker": {
             "line": {
              "color": "#E5ECF6",
              "width": 0.5
             },
             "pattern": {
              "fillmode": "overlay",
              "size": 10,
              "solidity": 0.2
             }
            },
            "type": "bar"
           }
          ],
          "barpolar": [
           {
            "marker": {
             "line": {
              "color": "#E5ECF6",
              "width": 0.5
             },
             "pattern": {
              "fillmode": "overlay",
              "size": 10,
              "solidity": 0.2
             }
            },
            "type": "barpolar"
           }
          ],
          "carpet": [
           {
            "aaxis": {
             "endlinecolor": "#2a3f5f",
             "gridcolor": "white",
             "linecolor": "white",
             "minorgridcolor": "white",
             "startlinecolor": "#2a3f5f"
            },
            "baxis": {
             "endlinecolor": "#2a3f5f",
             "gridcolor": "white",
             "linecolor": "white",
             "minorgridcolor": "white",
             "startlinecolor": "#2a3f5f"
            },
            "type": "carpet"
           }
          ],
          "choropleth": [
           {
            "colorbar": {
             "outlinewidth": 0,
             "ticks": ""
            },
            "type": "choropleth"
           }
          ],
          "contour": [
           {
            "colorbar": {
             "outlinewidth": 0,
             "ticks": ""
            },
            "colorscale": [
             [
              0,
              "#0d0887"
             ],
             [
              0.1111111111111111,
              "#46039f"
             ],
             [
              0.2222222222222222,
              "#7201a8"
             ],
             [
              0.3333333333333333,
              "#9c179e"
             ],
             [
              0.4444444444444444,
              "#bd3786"
             ],
             [
              0.5555555555555556,
              "#d8576b"
             ],
             [
              0.6666666666666666,
              "#ed7953"
             ],
             [
              0.7777777777777778,
              "#fb9f3a"
             ],
             [
              0.8888888888888888,
              "#fdca26"
             ],
             [
              1,
              "#f0f921"
             ]
            ],
            "type": "contour"
           }
          ],
          "contourcarpet": [
           {
            "colorbar": {
             "outlinewidth": 0,
             "ticks": ""
            },
            "type": "contourcarpet"
           }
          ],
          "heatmap": [
           {
            "colorbar": {
             "outlinewidth": 0,
             "ticks": ""
            },
            "colorscale": [
             [
              0,
              "#0d0887"
             ],
             [
              0.1111111111111111,
              "#46039f"
             ],
             [
              0.2222222222222222,
              "#7201a8"
             ],
             [
              0.3333333333333333,
              "#9c179e"
             ],
             [
              0.4444444444444444,
              "#bd3786"
             ],
             [
              0.5555555555555556,
              "#d8576b"
             ],
             [
              0.6666666666666666,
              "#ed7953"
             ],
             [
              0.7777777777777778,
              "#fb9f3a"
             ],
             [
              0.8888888888888888,
              "#fdca26"
             ],
             [
              1,
              "#f0f921"
             ]
            ],
            "type": "heatmap"
           }
          ],
          "heatmapgl": [
           {
            "colorbar": {
             "outlinewidth": 0,
             "ticks": ""
            },
            "colorscale": [
             [
              0,
              "#0d0887"
             ],
             [
              0.1111111111111111,
              "#46039f"
             ],
             [
              0.2222222222222222,
              "#7201a8"
             ],
             [
              0.3333333333333333,
              "#9c179e"
             ],
             [
              0.4444444444444444,
              "#bd3786"
             ],
             [
              0.5555555555555556,
              "#d8576b"
             ],
             [
              0.6666666666666666,
              "#ed7953"
             ],
             [
              0.7777777777777778,
              "#fb9f3a"
             ],
             [
              0.8888888888888888,
              "#fdca26"
             ],
             [
              1,
              "#f0f921"
             ]
            ],
            "type": "heatmapgl"
           }
          ],
          "histogram": [
           {
            "marker": {
             "pattern": {
              "fillmode": "overlay",
              "size": 10,
              "solidity": 0.2
             }
            },
            "type": "histogram"
           }
          ],
          "histogram2d": [
           {
            "colorbar": {
             "outlinewidth": 0,
             "ticks": ""
            },
            "colorscale": [
             [
              0,
              "#0d0887"
             ],
             [
              0.1111111111111111,
              "#46039f"
             ],
             [
              0.2222222222222222,
              "#7201a8"
             ],
             [
              0.3333333333333333,
              "#9c179e"
             ],
             [
              0.4444444444444444,
              "#bd3786"
             ],
             [
              0.5555555555555556,
              "#d8576b"
             ],
             [
              0.6666666666666666,
              "#ed7953"
             ],
             [
              0.7777777777777778,
              "#fb9f3a"
             ],
             [
              0.8888888888888888,
              "#fdca26"
             ],
             [
              1,
              "#f0f921"
             ]
            ],
            "type": "histogram2d"
           }
          ],
          "histogram2dcontour": [
           {
            "colorbar": {
             "outlinewidth": 0,
             "ticks": ""
            },
            "colorscale": [
             [
              0,
              "#0d0887"
             ],
             [
              0.1111111111111111,
              "#46039f"
             ],
             [
              0.2222222222222222,
              "#7201a8"
             ],
             [
              0.3333333333333333,
              "#9c179e"
             ],
             [
              0.4444444444444444,
              "#bd3786"
             ],
             [
              0.5555555555555556,
              "#d8576b"
             ],
             [
              0.6666666666666666,
              "#ed7953"
             ],
             [
              0.7777777777777778,
              "#fb9f3a"
             ],
             [
              0.8888888888888888,
              "#fdca26"
             ],
             [
              1,
              "#f0f921"
             ]
            ],
            "type": "histogram2dcontour"
           }
          ],
          "mesh3d": [
           {
            "colorbar": {
             "outlinewidth": 0,
             "ticks": ""
            },
            "type": "mesh3d"
           }
          ],
          "parcoords": [
           {
            "line": {
             "colorbar": {
              "outlinewidth": 0,
              "ticks": ""
             }
            },
            "type": "parcoords"
           }
          ],
          "pie": [
           {
            "automargin": true,
            "type": "pie"
           }
          ],
          "scatter": [
           {
            "fillpattern": {
             "fillmode": "overlay",
             "size": 10,
             "solidity": 0.2
            },
            "type": "scatter"
           }
          ],
          "scatter3d": [
           {
            "line": {
             "colorbar": {
              "outlinewidth": 0,
              "ticks": ""
             }
            },
            "marker": {
             "colorbar": {
              "outlinewidth": 0,
              "ticks": ""
             }
            },
            "type": "scatter3d"
           }
          ],
          "scattercarpet": [
           {
            "marker": {
             "colorbar": {
              "outlinewidth": 0,
              "ticks": ""
             }
            },
            "type": "scattercarpet"
           }
          ],
          "scattergeo": [
           {
            "marker": {
             "colorbar": {
              "outlinewidth": 0,
              "ticks": ""
             }
            },
            "type": "scattergeo"
           }
          ],
          "scattergl": [
           {
            "marker": {
             "colorbar": {
              "outlinewidth": 0,
              "ticks": ""
             }
            },
            "type": "scattergl"
           }
          ],
          "scattermapbox": [
           {
            "marker": {
             "colorbar": {
              "outlinewidth": 0,
              "ticks": ""
             }
            },
            "type": "scattermapbox"
           }
          ],
          "scatterpolar": [
           {
            "marker": {
             "colorbar": {
              "outlinewidth": 0,
              "ticks": ""
             }
            },
            "type": "scatterpolar"
           }
          ],
          "scatterpolargl": [
           {
            "marker": {
             "colorbar": {
              "outlinewidth": 0,
              "ticks": ""
             }
            },
            "type": "scatterpolargl"
           }
          ],
          "scatterternary": [
           {
            "marker": {
             "colorbar": {
              "outlinewidth": 0,
              "ticks": ""
             }
            },
            "type": "scatterternary"
           }
          ],
          "surface": [
           {
            "colorbar": {
             "outlinewidth": 0,
             "ticks": ""
            },
            "colorscale": [
             [
              0,
              "#0d0887"
             ],
             [
              0.1111111111111111,
              "#46039f"
             ],
             [
              0.2222222222222222,
              "#7201a8"
             ],
             [
              0.3333333333333333,
              "#9c179e"
             ],
             [
              0.4444444444444444,
              "#bd3786"
             ],
             [
              0.5555555555555556,
              "#d8576b"
             ],
             [
              0.6666666666666666,
              "#ed7953"
             ],
             [
              0.7777777777777778,
              "#fb9f3a"
             ],
             [
              0.8888888888888888,
              "#fdca26"
             ],
             [
              1,
              "#f0f921"
             ]
            ],
            "type": "surface"
           }
          ],
          "table": [
           {
            "cells": {
             "fill": {
              "color": "#EBF0F8"
             },
             "line": {
              "color": "white"
             }
            },
            "header": {
             "fill": {
              "color": "#C8D4E3"
             },
             "line": {
              "color": "white"
             }
            },
            "type": "table"
           }
          ]
         },
         "layout": {
          "annotationdefaults": {
           "arrowcolor": "#2a3f5f",
           "arrowhead": 0,
           "arrowwidth": 1
          },
          "autotypenumbers": "strict",
          "coloraxis": {
           "colorbar": {
            "outlinewidth": 0,
            "ticks": ""
           }
          },
          "colorscale": {
           "diverging": [
            [
             0,
             "#8e0152"
            ],
            [
             0.1,
             "#c51b7d"
            ],
            [
             0.2,
             "#de77ae"
            ],
            [
             0.3,
             "#f1b6da"
            ],
            [
             0.4,
             "#fde0ef"
            ],
            [
             0.5,
             "#f7f7f7"
            ],
            [
             0.6,
             "#e6f5d0"
            ],
            [
             0.7,
             "#b8e186"
            ],
            [
             0.8,
             "#7fbc41"
            ],
            [
             0.9,
             "#4d9221"
            ],
            [
             1,
             "#276419"
            ]
           ],
           "sequential": [
            [
             0,
             "#0d0887"
            ],
            [
             0.1111111111111111,
             "#46039f"
            ],
            [
             0.2222222222222222,
             "#7201a8"
            ],
            [
             0.3333333333333333,
             "#9c179e"
            ],
            [
             0.4444444444444444,
             "#bd3786"
            ],
            [
             0.5555555555555556,
             "#d8576b"
            ],
            [
             0.6666666666666666,
             "#ed7953"
            ],
            [
             0.7777777777777778,
             "#fb9f3a"
            ],
            [
             0.8888888888888888,
             "#fdca26"
            ],
            [
             1,
             "#f0f921"
            ]
           ],
           "sequentialminus": [
            [
             0,
             "#0d0887"
            ],
            [
             0.1111111111111111,
             "#46039f"
            ],
            [
             0.2222222222222222,
             "#7201a8"
            ],
            [
             0.3333333333333333,
             "#9c179e"
            ],
            [
             0.4444444444444444,
             "#bd3786"
            ],
            [
             0.5555555555555556,
             "#d8576b"
            ],
            [
             0.6666666666666666,
             "#ed7953"
            ],
            [
             0.7777777777777778,
             "#fb9f3a"
            ],
            [
             0.8888888888888888,
             "#fdca26"
            ],
            [
             1,
             "#f0f921"
            ]
           ]
          },
          "colorway": [
           "#636efa",
           "#EF553B",
           "#00cc96",
           "#ab63fa",
           "#FFA15A",
           "#19d3f3",
           "#FF6692",
           "#B6E880",
           "#FF97FF",
           "#FECB52"
          ],
          "font": {
           "color": "#2a3f5f"
          },
          "geo": {
           "bgcolor": "white",
           "lakecolor": "white",
           "landcolor": "#E5ECF6",
           "showlakes": true,
           "showland": true,
           "subunitcolor": "white"
          },
          "hoverlabel": {
           "align": "left"
          },
          "hovermode": "closest",
          "mapbox": {
           "style": "light"
          },
          "paper_bgcolor": "white",
          "plot_bgcolor": "#E5ECF6",
          "polar": {
           "angularaxis": {
            "gridcolor": "white",
            "linecolor": "white",
            "ticks": ""
           },
           "bgcolor": "#E5ECF6",
           "radialaxis": {
            "gridcolor": "white",
            "linecolor": "white",
            "ticks": ""
           }
          },
          "scene": {
           "xaxis": {
            "backgroundcolor": "#E5ECF6",
            "gridcolor": "white",
            "gridwidth": 2,
            "linecolor": "white",
            "showbackground": true,
            "ticks": "",
            "zerolinecolor": "white"
           },
           "yaxis": {
            "backgroundcolor": "#E5ECF6",
            "gridcolor": "white",
            "gridwidth": 2,
            "linecolor": "white",
            "showbackground": true,
            "ticks": "",
            "zerolinecolor": "white"
           },
           "zaxis": {
            "backgroundcolor": "#E5ECF6",
            "gridcolor": "white",
            "gridwidth": 2,
            "linecolor": "white",
            "showbackground": true,
            "ticks": "",
            "zerolinecolor": "white"
           }
          },
          "shapedefaults": {
           "line": {
            "color": "#2a3f5f"
           }
          },
          "ternary": {
           "aaxis": {
            "gridcolor": "white",
            "linecolor": "white",
            "ticks": ""
           },
           "baxis": {
            "gridcolor": "white",
            "linecolor": "white",
            "ticks": ""
           },
           "bgcolor": "#E5ECF6",
           "caxis": {
            "gridcolor": "white",
            "linecolor": "white",
            "ticks": ""
           }
          },
          "title": {
           "x": 0.05
          },
          "xaxis": {
           "automargin": true,
           "gridcolor": "white",
           "linecolor": "white",
           "ticks": "",
           "title": {
            "standoff": 15
           },
           "zerolinecolor": "white",
           "zerolinewidth": 2
          },
          "yaxis": {
           "automargin": true,
           "gridcolor": "white",
           "linecolor": "white",
           "ticks": "",
           "title": {
            "standoff": 15
           },
           "zerolinecolor": "white",
           "zerolinewidth": 2
          }
         }
        },
        "title": {
         "text": "Best subcategories for each of the top 5 Categories"
        }
       }
      }
     },
     "metadata": {},
     "output_type": "display_data"
    }
   ],
   "source": [
    "import plotly.express as px\n",
    "\n",
    "\n",
    "# Create TreeMap\n",
    "fig = px.treemap(df_top_5_categories, path=['category', 'product_subcategory'], values='sales_percentage')\n",
    "\n",
    "# Update layout\n",
    "fig.update_layout(\n",
    "    title='Best subcategories for each of the top 5 Categories',\n",
    "    height=600,\n",
    ")\n",
    "\n",
    "# Show TreeMap\n",
    "fig.show()\n"
   ]
  }
 ],
 "metadata": {
  "kernelspec": {
   "display_name": "Python 3",
   "language": "python",
   "name": "python3"
  },
  "language_info": {
   "codemirror_mode": {
    "name": "ipython",
    "version": 3
   },
   "file_extension": ".py",
   "mimetype": "text/x-python",
   "name": "python",
   "nbconvert_exporter": "python",
   "pygments_lexer": "ipython3",
   "version": "3.10.11"
  }
 },
 "nbformat": 4,
 "nbformat_minor": 2
}
