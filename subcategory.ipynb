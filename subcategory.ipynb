{
 "cells": [
  {
   "cell_type": "code",
   "execution_count": 88,
   "metadata": {},
   "outputs": [
    {
     "data": {
      "text/html": [
       "<div>\n",
       "<style scoped>\n",
       "    .dataframe tbody tr th:only-of-type {\n",
       "        vertical-align: middle;\n",
       "    }\n",
       "\n",
       "    .dataframe tbody tr th {\n",
       "        vertical-align: top;\n",
       "    }\n",
       "\n",
       "    .dataframe thead th {\n",
       "        text-align: right;\n",
       "    }\n",
       "</style>\n",
       "<table border=\"1\" class=\"dataframe\">\n",
       "  <thead>\n",
       "    <tr style=\"text-align: right;\">\n",
       "      <th></th>\n",
       "      <th>product_title</th>\n",
       "      <th>category</th>\n",
       "      <th>product_subcategory</th>\n",
       "      <th>brand</th>\n",
       "      <th>selling_price</th>\n",
       "      <th>original_price</th>\n",
       "      <th>product_type</th>\n",
       "      <th>product_rating</th>\n",
       "      <th>product_description</th>\n",
       "      <th>customer_reviews_count</th>\n",
       "      <th>seasonal_indicator</th>\n",
       "      <th>promotion_indicator</th>\n",
       "      <th>shipping_weight</th>\n",
       "      <th>bundle_indicator</th>\n",
       "      <th>customer_demographics</th>\n",
       "      <th>discount_offered</th>\n",
       "      <th>brand_scale</th>\n",
       "    </tr>\n",
       "  </thead>\n",
       "  <tbody>\n",
       "    <tr>\n",
       "      <th>0</th>\n",
       "      <td>Garlic Oil - Vegetarian Capsule 500 mg</td>\n",
       "      <td>Beauty &amp; Hygiene</td>\n",
       "      <td>Hair Care</td>\n",
       "      <td>Sri Sri Ayurveda</td>\n",
       "      <td>220.0</td>\n",
       "      <td>220.0</td>\n",
       "      <td>Hair Oil &amp; Serum</td>\n",
       "      <td>4.1</td>\n",
       "      <td>This Product contains Garlic Oil that is known...</td>\n",
       "      <td>7</td>\n",
       "      <td>Spring</td>\n",
       "      <td>Yes</td>\n",
       "      <td>0.658145</td>\n",
       "      <td>Individual</td>\n",
       "      <td>Female</td>\n",
       "      <td>0.00</td>\n",
       "      <td>medium</td>\n",
       "    </tr>\n",
       "    <tr>\n",
       "      <th>1</th>\n",
       "      <td>Water Bottle - Orange</td>\n",
       "      <td>Kitchen, Garden &amp; Pets</td>\n",
       "      <td>Storage &amp; Accessories</td>\n",
       "      <td>Mastercook</td>\n",
       "      <td>180.0</td>\n",
       "      <td>180.0</td>\n",
       "      <td>Water &amp; Fridge Bottles</td>\n",
       "      <td>2.3</td>\n",
       "      <td>Each product is microwave safe (without lid), ...</td>\n",
       "      <td>54</td>\n",
       "      <td>Winter</td>\n",
       "      <td>No</td>\n",
       "      <td>4.734585</td>\n",
       "      <td>Bundle</td>\n",
       "      <td>Female</td>\n",
       "      <td>0.00</td>\n",
       "      <td>medium</td>\n",
       "    </tr>\n",
       "    <tr>\n",
       "      <th>2</th>\n",
       "      <td>Brass Angle Deep - Plain, No.2</td>\n",
       "      <td>Cleaning &amp; Household</td>\n",
       "      <td>Pooja Needs</td>\n",
       "      <td>Trm</td>\n",
       "      <td>119.0</td>\n",
       "      <td>250.0</td>\n",
       "      <td>Lamp &amp; Lamp Oil</td>\n",
       "      <td>3.4</td>\n",
       "      <td>A perfect gift for all occasions, be it your m...</td>\n",
       "      <td>31</td>\n",
       "      <td>Winter</td>\n",
       "      <td>No</td>\n",
       "      <td>2.024140</td>\n",
       "      <td>Bundle</td>\n",
       "      <td>Female</td>\n",
       "      <td>52.40</td>\n",
       "      <td>medium</td>\n",
       "    </tr>\n",
       "    <tr>\n",
       "      <th>3</th>\n",
       "      <td>Cereal Flip Lid Container/Storage Jar - Assort...</td>\n",
       "      <td>Cleaning &amp; Household</td>\n",
       "      <td>Bins &amp; Bathroom Ware</td>\n",
       "      <td>Nakoda</td>\n",
       "      <td>149.0</td>\n",
       "      <td>176.0</td>\n",
       "      <td>Laundry, Storage Baskets</td>\n",
       "      <td>3.7</td>\n",
       "      <td>Multipurpose container with an attractive desi...</td>\n",
       "      <td>49</td>\n",
       "      <td>Spring</td>\n",
       "      <td>No</td>\n",
       "      <td>3.869239</td>\n",
       "      <td>Individual</td>\n",
       "      <td>Other</td>\n",
       "      <td>15.34</td>\n",
       "      <td>medium</td>\n",
       "    </tr>\n",
       "    <tr>\n",
       "      <th>4</th>\n",
       "      <td>Creme Soft Soap - For Hands &amp; Body</td>\n",
       "      <td>Beauty &amp; Hygiene</td>\n",
       "      <td>Bath &amp; Hand Wash</td>\n",
       "      <td>Nivea</td>\n",
       "      <td>162.0</td>\n",
       "      <td>162.0</td>\n",
       "      <td>Bathing Bars &amp; Soaps</td>\n",
       "      <td>4.4</td>\n",
       "      <td>Nivea Creme Soft Soap gives your skin the best...</td>\n",
       "      <td>74</td>\n",
       "      <td>Winter</td>\n",
       "      <td>Yes</td>\n",
       "      <td>0.812489</td>\n",
       "      <td>Individual</td>\n",
       "      <td>Male</td>\n",
       "      <td>0.00</td>\n",
       "      <td>medium</td>\n",
       "    </tr>\n",
       "  </tbody>\n",
       "</table>\n",
       "</div>"
      ],
      "text/plain": [
       "                                       product_title                category  \\\n",
       "0             Garlic Oil - Vegetarian Capsule 500 mg        Beauty & Hygiene   \n",
       "1                              Water Bottle - Orange  Kitchen, Garden & Pets   \n",
       "2                     Brass Angle Deep - Plain, No.2    Cleaning & Household   \n",
       "3  Cereal Flip Lid Container/Storage Jar - Assort...    Cleaning & Household   \n",
       "4                 Creme Soft Soap - For Hands & Body        Beauty & Hygiene   \n",
       "\n",
       "     product_subcategory              brand  selling_price  original_price  \\\n",
       "0              Hair Care  Sri Sri Ayurveda           220.0           220.0   \n",
       "1  Storage & Accessories         Mastercook          180.0           180.0   \n",
       "2            Pooja Needs                Trm          119.0           250.0   \n",
       "3   Bins & Bathroom Ware             Nakoda          149.0           176.0   \n",
       "4       Bath & Hand Wash              Nivea          162.0           162.0   \n",
       "\n",
       "               product_type  product_rating  \\\n",
       "0          Hair Oil & Serum             4.1   \n",
       "1    Water & Fridge Bottles             2.3   \n",
       "2           Lamp & Lamp Oil             3.4   \n",
       "3  Laundry, Storage Baskets             3.7   \n",
       "4      Bathing Bars & Soaps             4.4   \n",
       "\n",
       "                                 product_description  customer_reviews_count  \\\n",
       "0  This Product contains Garlic Oil that is known...                       7   \n",
       "1  Each product is microwave safe (without lid), ...                      54   \n",
       "2  A perfect gift for all occasions, be it your m...                      31   \n",
       "3  Multipurpose container with an attractive desi...                      49   \n",
       "4  Nivea Creme Soft Soap gives your skin the best...                      74   \n",
       "\n",
       "  seasonal_indicator promotion_indicator  shipping_weight bundle_indicator  \\\n",
       "0             Spring                 Yes         0.658145       Individual   \n",
       "1             Winter                  No         4.734585           Bundle   \n",
       "2             Winter                  No         2.024140           Bundle   \n",
       "3             Spring                  No         3.869239       Individual   \n",
       "4             Winter                 Yes         0.812489       Individual   \n",
       "\n",
       "  customer_demographics  discount_offered brand_scale  \n",
       "0                Female              0.00      medium  \n",
       "1                Female              0.00      medium  \n",
       "2                Female             52.40      medium  \n",
       "3                 Other             15.34      medium  \n",
       "4                  Male              0.00      medium  "
      ]
     },
     "execution_count": 88,
     "metadata": {},
     "output_type": "execute_result"
    }
   ],
   "source": [
    "import pandas as pd\n",
    "data = pd.read_csv('data.csv')\n",
    "data.head()"
   ]
  },
  {
   "cell_type": "code",
   "execution_count": 89,
   "metadata": {},
   "outputs": [
    {
     "data": {
      "text/html": [
       "<div>\n",
       "<style scoped>\n",
       "    .dataframe tbody tr th:only-of-type {\n",
       "        vertical-align: middle;\n",
       "    }\n",
       "\n",
       "    .dataframe tbody tr th {\n",
       "        vertical-align: top;\n",
       "    }\n",
       "\n",
       "    .dataframe thead th {\n",
       "        text-align: right;\n",
       "    }\n",
       "</style>\n",
       "<table border=\"1\" class=\"dataframe\">\n",
       "  <thead>\n",
       "    <tr style=\"text-align: right;\">\n",
       "      <th></th>\n",
       "      <th>category</th>\n",
       "      <th>product_subcategory</th>\n",
       "      <th>avg_product_rating</th>\n",
       "      <th>total_reviews</th>\n",
       "      <th>avg_selling_price</th>\n",
       "    </tr>\n",
       "  </thead>\n",
       "  <tbody>\n",
       "    <tr>\n",
       "      <th>34</th>\n",
       "      <td>Cleaning &amp; Household</td>\n",
       "      <td>Detergents &amp; Dishwash</td>\n",
       "      <td>4.269349</td>\n",
       "      <td>12864</td>\n",
       "      <td>269.750536</td>\n",
       "    </tr>\n",
       "    <tr>\n",
       "      <th>71</th>\n",
       "      <td>Gourmet &amp; World Food</td>\n",
       "      <td>Oils &amp; Vinegar</td>\n",
       "      <td>4.231590</td>\n",
       "      <td>12919</td>\n",
       "      <td>952.411297</td>\n",
       "    </tr>\n",
       "    <tr>\n",
       "      <th>30</th>\n",
       "      <td>Beverages</td>\n",
       "      <td>Water</td>\n",
       "      <td>4.170588</td>\n",
       "      <td>1108</td>\n",
       "      <td>153.191176</td>\n",
       "    </tr>\n",
       "    <tr>\n",
       "      <th>26</th>\n",
       "      <td>Beverages</td>\n",
       "      <td>Energy &amp; Soft Drinks</td>\n",
       "      <td>4.168018</td>\n",
       "      <td>5560</td>\n",
       "      <td>150.441982</td>\n",
       "    </tr>\n",
       "    <tr>\n",
       "      <th>63</th>\n",
       "      <td>Gourmet &amp; World Food</td>\n",
       "      <td>Atta, Flours &amp; Sooji</td>\n",
       "      <td>4.166667</td>\n",
       "      <td>550</td>\n",
       "      <td>195.500000</td>\n",
       "    </tr>\n",
       "    <tr>\n",
       "      <th>...</th>\n",
       "      <td>...</td>\n",
       "      <td>...</td>\n",
       "      <td>...</td>\n",
       "      <td>...</td>\n",
       "      <td>...</td>\n",
       "    </tr>\n",
       "    <tr>\n",
       "      <th>13</th>\n",
       "      <td>Bakery, Cakes &amp; Dairy</td>\n",
       "      <td>Ice Creams &amp; Desserts</td>\n",
       "      <td>3.622917</td>\n",
       "      <td>2289</td>\n",
       "      <td>170.054167</td>\n",
       "    </tr>\n",
       "    <tr>\n",
       "      <th>0</th>\n",
       "      <td>Baby Care</td>\n",
       "      <td>Atta, Flours &amp; Sooji</td>\n",
       "      <td>3.600000</td>\n",
       "      <td>96</td>\n",
       "      <td>300.000000</td>\n",
       "    </tr>\n",
       "    <tr>\n",
       "      <th>79</th>\n",
       "      <td>Kitchen, Garden &amp; Pets</td>\n",
       "      <td>Cookware &amp; Non Stick</td>\n",
       "      <td>3.580085</td>\n",
       "      <td>17533</td>\n",
       "      <td>1204.869774</td>\n",
       "    </tr>\n",
       "    <tr>\n",
       "      <th>1</th>\n",
       "      <td>Baby Care</td>\n",
       "      <td>Baby Accessories</td>\n",
       "      <td>3.145946</td>\n",
       "      <td>2169</td>\n",
       "      <td>409.648649</td>\n",
       "    </tr>\n",
       "    <tr>\n",
       "      <th>45</th>\n",
       "      <td>Eggs, Meat &amp; Fish</td>\n",
       "      <td>Pork &amp; Other Meats</td>\n",
       "      <td>2.640000</td>\n",
       "      <td>102</td>\n",
       "      <td>263.000000</td>\n",
       "    </tr>\n",
       "  </tbody>\n",
       "</table>\n",
       "<p>99 rows × 5 columns</p>\n",
       "</div>"
      ],
      "text/plain": [
       "                  category    product_subcategory  avg_product_rating  \\\n",
       "34    Cleaning & Household  Detergents & Dishwash            4.269349   \n",
       "71    Gourmet & World Food         Oils & Vinegar            4.231590   \n",
       "30               Beverages                  Water            4.170588   \n",
       "26               Beverages   Energy & Soft Drinks            4.168018   \n",
       "63    Gourmet & World Food   Atta, Flours & Sooji            4.166667   \n",
       "..                     ...                    ...                 ...   \n",
       "13   Bakery, Cakes & Dairy  Ice Creams & Desserts            3.622917   \n",
       "0                Baby Care   Atta, Flours & Sooji            3.600000   \n",
       "79  Kitchen, Garden & Pets   Cookware & Non Stick            3.580085   \n",
       "1                Baby Care       Baby Accessories            3.145946   \n",
       "45       Eggs, Meat & Fish     Pork & Other Meats            2.640000   \n",
       "\n",
       "    total_reviews  avg_selling_price  \n",
       "34          12864         269.750536  \n",
       "71          12919         952.411297  \n",
       "30           1108         153.191176  \n",
       "26           5560         150.441982  \n",
       "63            550         195.500000  \n",
       "..            ...                ...  \n",
       "13           2289         170.054167  \n",
       "0              96         300.000000  \n",
       "79          17533        1204.869774  \n",
       "1            2169         409.648649  \n",
       "45            102         263.000000  \n",
       "\n",
       "[99 rows x 5 columns]"
      ]
     },
     "execution_count": 89,
     "metadata": {},
     "output_type": "execute_result"
    }
   ],
   "source": [
    "category_stats = data.groupby(['category', 'product_subcategory']).agg({'product_rating': 'mean', 'customer_reviews_count': 'sum', 'selling_price': 'mean'}).reset_index()\n",
    "category_stats = category_stats.rename(columns={'product_rating':'avg_product_rating','customer_reviews_count':'total_reviews','selling_price':'avg_selling_price'})\n",
    "category_stats = category_stats.sort_values(by=['avg_product_rating', 'total_reviews'], ascending=False)\n",
    "category_stats"
   ]
  },
  {
   "cell_type": "code",
   "execution_count": 90,
   "metadata": {},
   "outputs": [],
   "source": [
    "top_category = pd.pivot_table(category_stats,index='category', values=['avg_product_rating','total_reviews','avg_selling_price'],aggfunc={'avg_product_rating': 'mean',\n",
    "                                      'total_reviews': 'sum',\n",
    "                                      'avg_selling_price': 'mean'})\n",
    "\n",
    "top_category= top_category.sort_values(by='avg_product_rating', ascending=False).reset_index()"
   ]
  },
  {
   "cell_type": "code",
   "execution_count": 91,
   "metadata": {},
   "outputs": [
    {
     "data": {
      "application/vnd.plotly.v1+json": {
       "config": {
        "plotlyServerURL": "https://plot.ly"
       },
       "data": [
        {
         "customdata": [
          [
           "Beverages",
           230.27145393085019
          ],
          [
           "Gourmet & World Food",
           334.8518937636441
          ],
          [
           "Foodgrains, Oil & Masala",
           228.8282384118268
          ],
          [
           "Snacks & Branded Foods",
           180.40442382077313
          ],
          [
           "Fruits & Vegetables",
           52.96801778487286
          ],
          [
           "Cleaning & Household",
           213.5876643173071
          ],
          [
           "Beauty & Hygiene",
           376.9292762168435
          ],
          [
           "Bakery, Cakes & Dairy",
           138.9049469500679
          ],
          [
           "Baby Care",
           425.1141440680164
          ],
          [
           "Eggs, Meat & Fish",
           316.35002156104537
          ],
          [
           "Kitchen, Garden & Pets",
           481.7302700429847
          ]
         ],
         "hovertemplate": "Avg Product Rating=%{marker.color}<br>total_reviews=%{y}<br>Avg Selling Price=%{customdata[1]}<br>Category=%{customdata[0]}<extra></extra>",
         "legendgroup": "",
         "marker": {
          "color": [
           4.087707946845083,
           4.061207906446428,
           4.032477155976827,
           4.001903055269453,
           4.000075187969925,
           3.9779085831756644,
           3.959180738208836,
           3.8923523936847464,
           3.82199152103597,
           3.764912079348305,
           3.7638007566746454
          ],
          "coloraxis": "coloraxis",
          "size": [
           230.27145393085019,
           334.8518937636441,
           228.8282384118268,
           180.40442382077313,
           52.96801778487286,
           213.5876643173071,
           376.9292762168435,
           138.9049469500679,
           425.1141440680164,
           316.35002156104537,
           481.7302700429847
          ],
          "sizemode": "area",
          "sizeref": 0.5352558556033163,
          "symbol": "circle"
         },
         "mode": "markers",
         "name": "",
         "orientation": "v",
         "showlegend": false,
         "type": "scatter",
         "x": [
          4.087707946845083,
          4.061207906446428,
          4.032477155976827,
          4.001903055269453,
          4.000075187969925,
          3.9779085831756644,
          3.959180738208836,
          3.8923523936847464,
          3.82199152103597,
          3.764912079348305,
          3.7638007566746454
         ],
         "xaxis": "x",
         "y": [
          43211,
          236487,
          134474,
          140381,
          27985,
          134910,
          390805,
          41356,
          30988,
          17145,
          178871
         ],
         "yaxis": "y"
        }
       ],
       "layout": {
        "coloraxis": {
         "colorbar": {
          "title": {
           "text": "Avg Product Rating"
          }
         },
         "colorscale": [
          [
           0,
           "#0d0887"
          ],
          [
           0.1111111111111111,
           "#46039f"
          ],
          [
           0.2222222222222222,
           "#7201a8"
          ],
          [
           0.3333333333333333,
           "#9c179e"
          ],
          [
           0.4444444444444444,
           "#bd3786"
          ],
          [
           0.5555555555555556,
           "#d8576b"
          ],
          [
           0.6666666666666666,
           "#ed7953"
          ],
          [
           0.7777777777777778,
           "#fb9f3a"
          ],
          [
           0.8888888888888888,
           "#fdca26"
          ],
          [
           1,
           "#f0f921"
          ]
         ]
        },
        "legend": {
         "itemsizing": "constant",
         "tracegroupgap": 0
        },
        "template": {
         "data": {
          "bar": [
           {
            "error_x": {
             "color": "#2a3f5f"
            },
            "error_y": {
             "color": "#2a3f5f"
            },
            "marker": {
             "line": {
              "color": "#E5ECF6",
              "width": 0.5
             },
             "pattern": {
              "fillmode": "overlay",
              "size": 10,
              "solidity": 0.2
             }
            },
            "type": "bar"
           }
          ],
          "barpolar": [
           {
            "marker": {
             "line": {
              "color": "#E5ECF6",
              "width": 0.5
             },
             "pattern": {
              "fillmode": "overlay",
              "size": 10,
              "solidity": 0.2
             }
            },
            "type": "barpolar"
           }
          ],
          "carpet": [
           {
            "aaxis": {
             "endlinecolor": "#2a3f5f",
             "gridcolor": "white",
             "linecolor": "white",
             "minorgridcolor": "white",
             "startlinecolor": "#2a3f5f"
            },
            "baxis": {
             "endlinecolor": "#2a3f5f",
             "gridcolor": "white",
             "linecolor": "white",
             "minorgridcolor": "white",
             "startlinecolor": "#2a3f5f"
            },
            "type": "carpet"
           }
          ],
          "choropleth": [
           {
            "colorbar": {
             "outlinewidth": 0,
             "ticks": ""
            },
            "type": "choropleth"
           }
          ],
          "contour": [
           {
            "colorbar": {
             "outlinewidth": 0,
             "ticks": ""
            },
            "colorscale": [
             [
              0,
              "#0d0887"
             ],
             [
              0.1111111111111111,
              "#46039f"
             ],
             [
              0.2222222222222222,
              "#7201a8"
             ],
             [
              0.3333333333333333,
              "#9c179e"
             ],
             [
              0.4444444444444444,
              "#bd3786"
             ],
             [
              0.5555555555555556,
              "#d8576b"
             ],
             [
              0.6666666666666666,
              "#ed7953"
             ],
             [
              0.7777777777777778,
              "#fb9f3a"
             ],
             [
              0.8888888888888888,
              "#fdca26"
             ],
             [
              1,
              "#f0f921"
             ]
            ],
            "type": "contour"
           }
          ],
          "contourcarpet": [
           {
            "colorbar": {
             "outlinewidth": 0,
             "ticks": ""
            },
            "type": "contourcarpet"
           }
          ],
          "heatmap": [
           {
            "colorbar": {
             "outlinewidth": 0,
             "ticks": ""
            },
            "colorscale": [
             [
              0,
              "#0d0887"
             ],
             [
              0.1111111111111111,
              "#46039f"
             ],
             [
              0.2222222222222222,
              "#7201a8"
             ],
             [
              0.3333333333333333,
              "#9c179e"
             ],
             [
              0.4444444444444444,
              "#bd3786"
             ],
             [
              0.5555555555555556,
              "#d8576b"
             ],
             [
              0.6666666666666666,
              "#ed7953"
             ],
             [
              0.7777777777777778,
              "#fb9f3a"
             ],
             [
              0.8888888888888888,
              "#fdca26"
             ],
             [
              1,
              "#f0f921"
             ]
            ],
            "type": "heatmap"
           }
          ],
          "heatmapgl": [
           {
            "colorbar": {
             "outlinewidth": 0,
             "ticks": ""
            },
            "colorscale": [
             [
              0,
              "#0d0887"
             ],
             [
              0.1111111111111111,
              "#46039f"
             ],
             [
              0.2222222222222222,
              "#7201a8"
             ],
             [
              0.3333333333333333,
              "#9c179e"
             ],
             [
              0.4444444444444444,
              "#bd3786"
             ],
             [
              0.5555555555555556,
              "#d8576b"
             ],
             [
              0.6666666666666666,
              "#ed7953"
             ],
             [
              0.7777777777777778,
              "#fb9f3a"
             ],
             [
              0.8888888888888888,
              "#fdca26"
             ],
             [
              1,
              "#f0f921"
             ]
            ],
            "type": "heatmapgl"
           }
          ],
          "histogram": [
           {
            "marker": {
             "pattern": {
              "fillmode": "overlay",
              "size": 10,
              "solidity": 0.2
             }
            },
            "type": "histogram"
           }
          ],
          "histogram2d": [
           {
            "colorbar": {
             "outlinewidth": 0,
             "ticks": ""
            },
            "colorscale": [
             [
              0,
              "#0d0887"
             ],
             [
              0.1111111111111111,
              "#46039f"
             ],
             [
              0.2222222222222222,
              "#7201a8"
             ],
             [
              0.3333333333333333,
              "#9c179e"
             ],
             [
              0.4444444444444444,
              "#bd3786"
             ],
             [
              0.5555555555555556,
              "#d8576b"
             ],
             [
              0.6666666666666666,
              "#ed7953"
             ],
             [
              0.7777777777777778,
              "#fb9f3a"
             ],
             [
              0.8888888888888888,
              "#fdca26"
             ],
             [
              1,
              "#f0f921"
             ]
            ],
            "type": "histogram2d"
           }
          ],
          "histogram2dcontour": [
           {
            "colorbar": {
             "outlinewidth": 0,
             "ticks": ""
            },
            "colorscale": [
             [
              0,
              "#0d0887"
             ],
             [
              0.1111111111111111,
              "#46039f"
             ],
             [
              0.2222222222222222,
              "#7201a8"
             ],
             [
              0.3333333333333333,
              "#9c179e"
             ],
             [
              0.4444444444444444,
              "#bd3786"
             ],
             [
              0.5555555555555556,
              "#d8576b"
             ],
             [
              0.6666666666666666,
              "#ed7953"
             ],
             [
              0.7777777777777778,
              "#fb9f3a"
             ],
             [
              0.8888888888888888,
              "#fdca26"
             ],
             [
              1,
              "#f0f921"
             ]
            ],
            "type": "histogram2dcontour"
           }
          ],
          "mesh3d": [
           {
            "colorbar": {
             "outlinewidth": 0,
             "ticks": ""
            },
            "type": "mesh3d"
           }
          ],
          "parcoords": [
           {
            "line": {
             "colorbar": {
              "outlinewidth": 0,
              "ticks": ""
             }
            },
            "type": "parcoords"
           }
          ],
          "pie": [
           {
            "automargin": true,
            "type": "pie"
           }
          ],
          "scatter": [
           {
            "fillpattern": {
             "fillmode": "overlay",
             "size": 10,
             "solidity": 0.2
            },
            "type": "scatter"
           }
          ],
          "scatter3d": [
           {
            "line": {
             "colorbar": {
              "outlinewidth": 0,
              "ticks": ""
             }
            },
            "marker": {
             "colorbar": {
              "outlinewidth": 0,
              "ticks": ""
             }
            },
            "type": "scatter3d"
           }
          ],
          "scattercarpet": [
           {
            "marker": {
             "colorbar": {
              "outlinewidth": 0,
              "ticks": ""
             }
            },
            "type": "scattercarpet"
           }
          ],
          "scattergeo": [
           {
            "marker": {
             "colorbar": {
              "outlinewidth": 0,
              "ticks": ""
             }
            },
            "type": "scattergeo"
           }
          ],
          "scattergl": [
           {
            "marker": {
             "colorbar": {
              "outlinewidth": 0,
              "ticks": ""
             }
            },
            "type": "scattergl"
           }
          ],
          "scattermapbox": [
           {
            "marker": {
             "colorbar": {
              "outlinewidth": 0,
              "ticks": ""
             }
            },
            "type": "scattermapbox"
           }
          ],
          "scatterpolar": [
           {
            "marker": {
             "colorbar": {
              "outlinewidth": 0,
              "ticks": ""
             }
            },
            "type": "scatterpolar"
           }
          ],
          "scatterpolargl": [
           {
            "marker": {
             "colorbar": {
              "outlinewidth": 0,
              "ticks": ""
             }
            },
            "type": "scatterpolargl"
           }
          ],
          "scatterternary": [
           {
            "marker": {
             "colorbar": {
              "outlinewidth": 0,
              "ticks": ""
             }
            },
            "type": "scatterternary"
           }
          ],
          "surface": [
           {
            "colorbar": {
             "outlinewidth": 0,
             "ticks": ""
            },
            "colorscale": [
             [
              0,
              "#0d0887"
             ],
             [
              0.1111111111111111,
              "#46039f"
             ],
             [
              0.2222222222222222,
              "#7201a8"
             ],
             [
              0.3333333333333333,
              "#9c179e"
             ],
             [
              0.4444444444444444,
              "#bd3786"
             ],
             [
              0.5555555555555556,
              "#d8576b"
             ],
             [
              0.6666666666666666,
              "#ed7953"
             ],
             [
              0.7777777777777778,
              "#fb9f3a"
             ],
             [
              0.8888888888888888,
              "#fdca26"
             ],
             [
              1,
              "#f0f921"
             ]
            ],
            "type": "surface"
           }
          ],
          "table": [
           {
            "cells": {
             "fill": {
              "color": "#EBF0F8"
             },
             "line": {
              "color": "white"
             }
            },
            "header": {
             "fill": {
              "color": "#C8D4E3"
             },
             "line": {
              "color": "white"
             }
            },
            "type": "table"
           }
          ]
         },
         "layout": {
          "annotationdefaults": {
           "arrowcolor": "#2a3f5f",
           "arrowhead": 0,
           "arrowwidth": 1
          },
          "autotypenumbers": "strict",
          "coloraxis": {
           "colorbar": {
            "outlinewidth": 0,
            "ticks": ""
           }
          },
          "colorscale": {
           "diverging": [
            [
             0,
             "#8e0152"
            ],
            [
             0.1,
             "#c51b7d"
            ],
            [
             0.2,
             "#de77ae"
            ],
            [
             0.3,
             "#f1b6da"
            ],
            [
             0.4,
             "#fde0ef"
            ],
            [
             0.5,
             "#f7f7f7"
            ],
            [
             0.6,
             "#e6f5d0"
            ],
            [
             0.7,
             "#b8e186"
            ],
            [
             0.8,
             "#7fbc41"
            ],
            [
             0.9,
             "#4d9221"
            ],
            [
             1,
             "#276419"
            ]
           ],
           "sequential": [
            [
             0,
             "#0d0887"
            ],
            [
             0.1111111111111111,
             "#46039f"
            ],
            [
             0.2222222222222222,
             "#7201a8"
            ],
            [
             0.3333333333333333,
             "#9c179e"
            ],
            [
             0.4444444444444444,
             "#bd3786"
            ],
            [
             0.5555555555555556,
             "#d8576b"
            ],
            [
             0.6666666666666666,
             "#ed7953"
            ],
            [
             0.7777777777777778,
             "#fb9f3a"
            ],
            [
             0.8888888888888888,
             "#fdca26"
            ],
            [
             1,
             "#f0f921"
            ]
           ],
           "sequentialminus": [
            [
             0,
             "#0d0887"
            ],
            [
             0.1111111111111111,
             "#46039f"
            ],
            [
             0.2222222222222222,
             "#7201a8"
            ],
            [
             0.3333333333333333,
             "#9c179e"
            ],
            [
             0.4444444444444444,
             "#bd3786"
            ],
            [
             0.5555555555555556,
             "#d8576b"
            ],
            [
             0.6666666666666666,
             "#ed7953"
            ],
            [
             0.7777777777777778,
             "#fb9f3a"
            ],
            [
             0.8888888888888888,
             "#fdca26"
            ],
            [
             1,
             "#f0f921"
            ]
           ]
          },
          "colorway": [
           "#636efa",
           "#EF553B",
           "#00cc96",
           "#ab63fa",
           "#FFA15A",
           "#19d3f3",
           "#FF6692",
           "#B6E880",
           "#FF97FF",
           "#FECB52"
          ],
          "font": {
           "color": "#2a3f5f"
          },
          "geo": {
           "bgcolor": "white",
           "lakecolor": "white",
           "landcolor": "#E5ECF6",
           "showlakes": true,
           "showland": true,
           "subunitcolor": "white"
          },
          "hoverlabel": {
           "align": "left"
          },
          "hovermode": "closest",
          "mapbox": {
           "style": "light"
          },
          "paper_bgcolor": "white",
          "plot_bgcolor": "#E5ECF6",
          "polar": {
           "angularaxis": {
            "gridcolor": "white",
            "linecolor": "white",
            "ticks": ""
           },
           "bgcolor": "#E5ECF6",
           "radialaxis": {
            "gridcolor": "white",
            "linecolor": "white",
            "ticks": ""
           }
          },
          "scene": {
           "xaxis": {
            "backgroundcolor": "#E5ECF6",
            "gridcolor": "white",
            "gridwidth": 2,
            "linecolor": "white",
            "showbackground": true,
            "ticks": "",
            "zerolinecolor": "white"
           },
           "yaxis": {
            "backgroundcolor": "#E5ECF6",
            "gridcolor": "white",
            "gridwidth": 2,
            "linecolor": "white",
            "showbackground": true,
            "ticks": "",
            "zerolinecolor": "white"
           },
           "zaxis": {
            "backgroundcolor": "#E5ECF6",
            "gridcolor": "white",
            "gridwidth": 2,
            "linecolor": "white",
            "showbackground": true,
            "ticks": "",
            "zerolinecolor": "white"
           }
          },
          "shapedefaults": {
           "line": {
            "color": "#2a3f5f"
           }
          },
          "ternary": {
           "aaxis": {
            "gridcolor": "white",
            "linecolor": "white",
            "ticks": ""
           },
           "baxis": {
            "gridcolor": "white",
            "linecolor": "white",
            "ticks": ""
           },
           "bgcolor": "#E5ECF6",
           "caxis": {
            "gridcolor": "white",
            "linecolor": "white",
            "ticks": ""
           }
          },
          "title": {
           "x": 0.05
          },
          "xaxis": {
           "automargin": true,
           "gridcolor": "white",
           "linecolor": "white",
           "ticks": "",
           "title": {
            "standoff": 15
           },
           "zerolinecolor": "white",
           "zerolinewidth": 2
          },
          "yaxis": {
           "automargin": true,
           "gridcolor": "white",
           "linecolor": "white",
           "ticks": "",
           "title": {
            "standoff": 15
           },
           "zerolinecolor": "white",
           "zerolinewidth": 2
          }
         }
        },
        "title": {
         "text": "Ditribution of Avg Selling Price and Avg Rating across all categories"
        },
        "xaxis": {
         "anchor": "y",
         "domain": [
          0,
          1
         ],
         "title": {
          "text": "Avg Product Rating"
         }
        },
        "yaxis": {
         "anchor": "x",
         "domain": [
          0,
          1
         ],
         "title": {
          "text": "Avg Selling Price"
         }
        }
       }
      }
     },
     "metadata": {},
     "output_type": "display_data"
    }
   ],
   "source": [
    "import plotly.express as px\n",
    "\n",
    "# Create bubble chart\n",
    "fig = px.scatter(top_category, \n",
    "                 x='avg_product_rating', \n",
    "                 y='total_reviews', \n",
    "                 size='avg_selling_price',  # Size of bubbles determined by total_sales\n",
    "                 color='avg_product_rating',  # Color of bubbles determined by product_rating\n",
    "                 hover_data={'category': True,\n",
    "                             'avg_selling_price': True,\n",
    "                             'avg_product_rating': True},\n",
    "                 title='Ditribution of Avg Selling Price and Avg Rating across all categories',\n",
    "                 labels={'category': 'Category', \n",
    "                         'avg_selling_price': 'Avg Selling Price',\n",
    "                         'avg_product_rating': 'Avg Product Rating'},\n",
    "                 size_max=30,)  # Adjust maximum bubble size as needed\n",
    "\n",
    "# Update layout\n",
    "fig.update_layout(\n",
    "    xaxis_title='Avg Product Rating',\n",
    "    yaxis_title='Avg Selling Price'\n",
    ")\n",
    "\n",
    "# Show the plot\n",
    "fig.show()\n"
   ]
  },
  {
   "cell_type": "markdown",
   "metadata": {},
   "source": [
    "## Subcategory Analysis"
   ]
  },
  {
   "cell_type": "code",
   "execution_count": 92,
   "metadata": {},
   "outputs": [],
   "source": [
    "# Find the index of the maximum average product_rating for each category\n",
    "max_rating_index = category_stats.groupby('category')['avg_product_rating'].idxmax()\n",
    "min_rating_index = category_stats.groupby('category')['avg_product_rating'].idxmin()\n",
    "\n",
    "# Find the index of the maximum average customer_reviews_count for each category\n",
    "max_reviews_index = category_stats.groupby('category')['total_reviews'].idxmax()\n",
    "min_reviews_index = category_stats.groupby('category')['total_reviews'].idxmin()\n",
    "\n",
    "# Extract the corresponding sub-categories with the highest average rating and customer reviews count for each category\n",
    "best_subcategories_rating = category_stats.loc[max_rating_index]\n",
    "low_subcategories_rating = category_stats.loc[min_rating_index]\n",
    "best_subcategories_reviews = category_stats.loc[max_reviews_index]\n",
    "low_subcategories_reviews = category_stats.loc[min_reviews_index]"
   ]
  },
  {
   "cell_type": "code",
   "execution_count": 93,
   "metadata": {},
   "outputs": [
    {
     "data": {
      "text/html": [
       "<div>\n",
       "<style scoped>\n",
       "    .dataframe tbody tr th:only-of-type {\n",
       "        vertical-align: middle;\n",
       "    }\n",
       "\n",
       "    .dataframe tbody tr th {\n",
       "        vertical-align: top;\n",
       "    }\n",
       "\n",
       "    .dataframe thead th {\n",
       "        text-align: right;\n",
       "    }\n",
       "</style>\n",
       "<table border=\"1\" class=\"dataframe\">\n",
       "  <thead>\n",
       "    <tr style=\"text-align: right;\">\n",
       "      <th></th>\n",
       "      <th>category</th>\n",
       "      <th>product_subcategory</th>\n",
       "      <th>avg_product_rating</th>\n",
       "      <th>total_reviews</th>\n",
       "      <th>avg_selling_price</th>\n",
       "    </tr>\n",
       "  </thead>\n",
       "  <tbody>\n",
       "    <tr>\n",
       "      <th>3</th>\n",
       "      <td>Baby Care</td>\n",
       "      <td>Baby Food &amp; Formula</td>\n",
       "      <td>4.165957</td>\n",
       "      <td>2363</td>\n",
       "      <td>361.152128</td>\n",
       "    </tr>\n",
       "    <tr>\n",
       "      <th>12</th>\n",
       "      <td>Bakery, Cakes &amp; Dairy</td>\n",
       "      <td>Gourmet Breads</td>\n",
       "      <td>4.105714</td>\n",
       "      <td>1881</td>\n",
       "      <td>107.455714</td>\n",
       "    </tr>\n",
       "    <tr>\n",
       "      <th>23</th>\n",
       "      <td>Beauty &amp; Hygiene</td>\n",
       "      <td>Oral Care</td>\n",
       "      <td>4.124723</td>\n",
       "      <td>14320</td>\n",
       "      <td>182.256827</td>\n",
       "    </tr>\n",
       "    <tr>\n",
       "      <th>30</th>\n",
       "      <td>Beverages</td>\n",
       "      <td>Water</td>\n",
       "      <td>4.170588</td>\n",
       "      <td>1108</td>\n",
       "      <td>153.191176</td>\n",
       "    </tr>\n",
       "    <tr>\n",
       "      <th>34</th>\n",
       "      <td>Cleaning &amp; Household</td>\n",
       "      <td>Detergents &amp; Dishwash</td>\n",
       "      <td>4.269349</td>\n",
       "      <td>12864</td>\n",
       "      <td>269.750536</td>\n",
       "    </tr>\n",
       "    <tr>\n",
       "      <th>44</th>\n",
       "      <td>Eggs, Meat &amp; Fish</td>\n",
       "      <td>Mutton &amp; Lamb</td>\n",
       "      <td>4.023684</td>\n",
       "      <td>841</td>\n",
       "      <td>721.110526</td>\n",
       "    </tr>\n",
       "    <tr>\n",
       "      <th>51</th>\n",
       "      <td>Foodgrains, Oil &amp; Masala</td>\n",
       "      <td>Edible Oils &amp; Ghee</td>\n",
       "      <td>4.125605</td>\n",
       "      <td>12037</td>\n",
       "      <td>540.908710</td>\n",
       "    </tr>\n",
       "    <tr>\n",
       "      <th>56</th>\n",
       "      <td>Fruits &amp; Vegetables</td>\n",
       "      <td>Cuts &amp; Sprouts</td>\n",
       "      <td>4.000526</td>\n",
       "      <td>4875</td>\n",
       "      <td>35.368947</td>\n",
       "    </tr>\n",
       "    <tr>\n",
       "      <th>71</th>\n",
       "      <td>Gourmet &amp; World Food</td>\n",
       "      <td>Oils &amp; Vinegar</td>\n",
       "      <td>4.231590</td>\n",
       "      <td>12919</td>\n",
       "      <td>952.411297</td>\n",
       "    </tr>\n",
       "    <tr>\n",
       "      <th>84</th>\n",
       "      <td>Kitchen, Garden &amp; Pets</td>\n",
       "      <td>Pet Food &amp; Accessories</td>\n",
       "      <td>4.138202</td>\n",
       "      <td>17233</td>\n",
       "      <td>857.348034</td>\n",
       "    </tr>\n",
       "    <tr>\n",
       "      <th>88</th>\n",
       "      <td>Snacks &amp; Branded Foods</td>\n",
       "      <td>Biscuits &amp; Cookies</td>\n",
       "      <td>4.160820</td>\n",
       "      <td>14369</td>\n",
       "      <td>65.289410</td>\n",
       "    </tr>\n",
       "  </tbody>\n",
       "</table>\n",
       "</div>"
      ],
      "text/plain": [
       "                    category     product_subcategory  avg_product_rating  \\\n",
       "3                  Baby Care     Baby Food & Formula            4.165957   \n",
       "12     Bakery, Cakes & Dairy          Gourmet Breads            4.105714   \n",
       "23          Beauty & Hygiene               Oral Care            4.124723   \n",
       "30                 Beverages                   Water            4.170588   \n",
       "34      Cleaning & Household   Detergents & Dishwash            4.269349   \n",
       "44         Eggs, Meat & Fish           Mutton & Lamb            4.023684   \n",
       "51  Foodgrains, Oil & Masala      Edible Oils & Ghee            4.125605   \n",
       "56       Fruits & Vegetables          Cuts & Sprouts            4.000526   \n",
       "71      Gourmet & World Food          Oils & Vinegar            4.231590   \n",
       "84    Kitchen, Garden & Pets  Pet Food & Accessories            4.138202   \n",
       "88    Snacks & Branded Foods      Biscuits & Cookies            4.160820   \n",
       "\n",
       "    total_reviews  avg_selling_price  \n",
       "3            2363         361.152128  \n",
       "12           1881         107.455714  \n",
       "23          14320         182.256827  \n",
       "30           1108         153.191176  \n",
       "34          12864         269.750536  \n",
       "44            841         721.110526  \n",
       "51          12037         540.908710  \n",
       "56           4875          35.368947  \n",
       "71          12919         952.411297  \n",
       "84          17233         857.348034  \n",
       "88          14369          65.289410  "
      ]
     },
     "execution_count": 93,
     "metadata": {},
     "output_type": "execute_result"
    }
   ],
   "source": [
    "best_subcategories_rating"
   ]
  },
  {
   "cell_type": "code",
   "execution_count": 94,
   "metadata": {},
   "outputs": [
    {
     "data": {
      "text/html": [
       "<div>\n",
       "<style scoped>\n",
       "    .dataframe tbody tr th:only-of-type {\n",
       "        vertical-align: middle;\n",
       "    }\n",
       "\n",
       "    .dataframe tbody tr th {\n",
       "        vertical-align: top;\n",
       "    }\n",
       "\n",
       "    .dataframe thead th {\n",
       "        text-align: right;\n",
       "    }\n",
       "</style>\n",
       "<table border=\"1\" class=\"dataframe\">\n",
       "  <thead>\n",
       "    <tr style=\"text-align: right;\">\n",
       "      <th></th>\n",
       "      <th>category</th>\n",
       "      <th>product_subcategory</th>\n",
       "      <th>avg_product_rating</th>\n",
       "      <th>total_reviews</th>\n",
       "      <th>avg_selling_price</th>\n",
       "    </tr>\n",
       "  </thead>\n",
       "  <tbody>\n",
       "    <tr>\n",
       "      <th>1</th>\n",
       "      <td>Baby Care</td>\n",
       "      <td>Baby Accessories</td>\n",
       "      <td>3.145946</td>\n",
       "      <td>2169</td>\n",
       "      <td>409.648649</td>\n",
       "    </tr>\n",
       "    <tr>\n",
       "      <th>13</th>\n",
       "      <td>Bakery, Cakes &amp; Dairy</td>\n",
       "      <td>Ice Creams &amp; Desserts</td>\n",
       "      <td>3.622917</td>\n",
       "      <td>2289</td>\n",
       "      <td>170.054167</td>\n",
       "    </tr>\n",
       "    <tr>\n",
       "      <th>17</th>\n",
       "      <td>Beauty &amp; Hygiene</td>\n",
       "      <td>Fragrances &amp; Deos</td>\n",
       "      <td>3.746950</td>\n",
       "      <td>48037</td>\n",
       "      <td>893.099590</td>\n",
       "    </tr>\n",
       "    <tr>\n",
       "      <th>25</th>\n",
       "      <td>Beverages</td>\n",
       "      <td>Coffee</td>\n",
       "      <td>3.967978</td>\n",
       "      <td>4193</td>\n",
       "      <td>208.072360</td>\n",
       "    </tr>\n",
       "    <tr>\n",
       "      <th>32</th>\n",
       "      <td>Cleaning &amp; Household</td>\n",
       "      <td>Bins &amp; Bathroom Ware</td>\n",
       "      <td>3.760077</td>\n",
       "      <td>20064</td>\n",
       "      <td>272.686480</td>\n",
       "    </tr>\n",
       "    <tr>\n",
       "      <th>45</th>\n",
       "      <td>Eggs, Meat &amp; Fish</td>\n",
       "      <td>Pork &amp; Other Meats</td>\n",
       "      <td>2.640000</td>\n",
       "      <td>102</td>\n",
       "      <td>263.000000</td>\n",
       "    </tr>\n",
       "    <tr>\n",
       "      <th>50</th>\n",
       "      <td>Foodgrains, Oil &amp; Masala</td>\n",
       "      <td>Dry Fruits</td>\n",
       "      <td>3.890394</td>\n",
       "      <td>10139</td>\n",
       "      <td>255.474877</td>\n",
       "    </tr>\n",
       "    <tr>\n",
       "      <th>60</th>\n",
       "      <td>Fruits &amp; Vegetables</td>\n",
       "      <td>Fresh Vegetables</td>\n",
       "      <td>4.000000</td>\n",
       "      <td>8294</td>\n",
       "      <td>30.773452</td>\n",
       "    </tr>\n",
       "    <tr>\n",
       "      <th>66</th>\n",
       "      <td>Gourmet &amp; World Food</td>\n",
       "      <td>Chocolates &amp; Biscuits</td>\n",
       "      <td>3.875205</td>\n",
       "      <td>31412</td>\n",
       "      <td>269.818177</td>\n",
       "    </tr>\n",
       "    <tr>\n",
       "      <th>79</th>\n",
       "      <td>Kitchen, Garden &amp; Pets</td>\n",
       "      <td>Cookware &amp; Non Stick</td>\n",
       "      <td>3.580085</td>\n",
       "      <td>17533</td>\n",
       "      <td>1204.869774</td>\n",
       "    </tr>\n",
       "    <tr>\n",
       "      <th>92</th>\n",
       "      <td>Snacks &amp; Branded Foods</td>\n",
       "      <td>Frozen Veggies &amp; Snacks</td>\n",
       "      <td>3.752459</td>\n",
       "      <td>8855</td>\n",
       "      <td>179.450055</td>\n",
       "    </tr>\n",
       "  </tbody>\n",
       "</table>\n",
       "</div>"
      ],
      "text/plain": [
       "                    category      product_subcategory  avg_product_rating  \\\n",
       "1                  Baby Care         Baby Accessories            3.145946   \n",
       "13     Bakery, Cakes & Dairy    Ice Creams & Desserts            3.622917   \n",
       "17          Beauty & Hygiene        Fragrances & Deos            3.746950   \n",
       "25                 Beverages                   Coffee            3.967978   \n",
       "32      Cleaning & Household     Bins & Bathroom Ware            3.760077   \n",
       "45         Eggs, Meat & Fish       Pork & Other Meats            2.640000   \n",
       "50  Foodgrains, Oil & Masala               Dry Fruits            3.890394   \n",
       "60       Fruits & Vegetables         Fresh Vegetables            4.000000   \n",
       "66      Gourmet & World Food    Chocolates & Biscuits            3.875205   \n",
       "79    Kitchen, Garden & Pets     Cookware & Non Stick            3.580085   \n",
       "92    Snacks & Branded Foods  Frozen Veggies & Snacks            3.752459   \n",
       "\n",
       "    total_reviews  avg_selling_price  \n",
       "1            2169         409.648649  \n",
       "13           2289         170.054167  \n",
       "17          48037         893.099590  \n",
       "25           4193         208.072360  \n",
       "32          20064         272.686480  \n",
       "45            102         263.000000  \n",
       "50          10139         255.474877  \n",
       "60           8294          30.773452  \n",
       "66          31412         269.818177  \n",
       "79          17533        1204.869774  \n",
       "92           8855         179.450055  "
      ]
     },
     "execution_count": 94,
     "metadata": {},
     "output_type": "execute_result"
    }
   ],
   "source": [
    "low_subcategories_rating"
   ]
  },
  {
   "cell_type": "code",
   "execution_count": 95,
   "metadata": {},
   "outputs": [
    {
     "data": {
      "text/html": [
       "<div>\n",
       "<style scoped>\n",
       "    .dataframe tbody tr th:only-of-type {\n",
       "        vertical-align: middle;\n",
       "    }\n",
       "\n",
       "    .dataframe tbody tr th {\n",
       "        vertical-align: top;\n",
       "    }\n",
       "\n",
       "    .dataframe thead th {\n",
       "        text-align: right;\n",
       "    }\n",
       "</style>\n",
       "<table border=\"1\" class=\"dataframe\">\n",
       "  <thead>\n",
       "    <tr style=\"text-align: right;\">\n",
       "      <th></th>\n",
       "      <th>category</th>\n",
       "      <th>product_subcategory</th>\n",
       "      <th>avg_product_rating</th>\n",
       "      <th>total_reviews</th>\n",
       "      <th>avg_selling_price</th>\n",
       "    </tr>\n",
       "  </thead>\n",
       "  <tbody>\n",
       "    <tr>\n",
       "      <th>4</th>\n",
       "      <td>Baby Care</td>\n",
       "      <td>Diapers &amp; Wipes</td>\n",
       "      <td>4.095547</td>\n",
       "      <td>12573</td>\n",
       "      <td>741.909960</td>\n",
       "    </tr>\n",
       "    <tr>\n",
       "      <th>11</th>\n",
       "      <td>Bakery, Cakes &amp; Dairy</td>\n",
       "      <td>Dairy</td>\n",
       "      <td>4.054156</td>\n",
       "      <td>19498</td>\n",
       "      <td>149.439169</td>\n",
       "    </tr>\n",
       "    <tr>\n",
       "      <th>24</th>\n",
       "      <td>Beauty &amp; Hygiene</td>\n",
       "      <td>Skin Care</td>\n",
       "      <td>3.947319</td>\n",
       "      <td>115724</td>\n",
       "      <td>412.119608</td>\n",
       "    </tr>\n",
       "    <tr>\n",
       "      <th>29</th>\n",
       "      <td>Beverages</td>\n",
       "      <td>Tea</td>\n",
       "      <td>4.080389</td>\n",
       "      <td>16106</td>\n",
       "      <td>269.842874</td>\n",
       "    </tr>\n",
       "    <tr>\n",
       "      <th>31</th>\n",
       "      <td>Cleaning &amp; Household</td>\n",
       "      <td>All Purpose Cleaners</td>\n",
       "      <td>4.126211</td>\n",
       "      <td>24219</td>\n",
       "      <td>271.590611</td>\n",
       "    </tr>\n",
       "    <tr>\n",
       "      <th>46</th>\n",
       "      <td>Eggs, Meat &amp; Fish</td>\n",
       "      <td>Sausages, Bacon &amp; Salami</td>\n",
       "      <td>4.023270</td>\n",
       "      <td>7610</td>\n",
       "      <td>282.237736</td>\n",
       "    </tr>\n",
       "    <tr>\n",
       "      <th>52</th>\n",
       "      <td>Foodgrains, Oil &amp; Masala</td>\n",
       "      <td>Masalas &amp; Spices</td>\n",
       "      <td>4.094094</td>\n",
       "      <td>46249</td>\n",
       "      <td>90.488481</td>\n",
       "    </tr>\n",
       "    <tr>\n",
       "      <th>60</th>\n",
       "      <td>Fruits &amp; Vegetables</td>\n",
       "      <td>Fresh Vegetables</td>\n",
       "      <td>4.000000</td>\n",
       "      <td>8294</td>\n",
       "      <td>30.773452</td>\n",
       "    </tr>\n",
       "    <tr>\n",
       "      <th>75</th>\n",
       "      <td>Gourmet &amp; World Food</td>\n",
       "      <td>Snacks, Dry Fruits, Nuts</td>\n",
       "      <td>3.988333</td>\n",
       "      <td>42189</td>\n",
       "      <td>227.910952</td>\n",
       "    </tr>\n",
       "    <tr>\n",
       "      <th>86</th>\n",
       "      <td>Kitchen, Garden &amp; Pets</td>\n",
       "      <td>Storage &amp; Accessories</td>\n",
       "      <td>3.827833</td>\n",
       "      <td>49877</td>\n",
       "      <td>303.489655</td>\n",
       "    </tr>\n",
       "    <tr>\n",
       "      <th>96</th>\n",
       "      <td>Snacks &amp; Branded Foods</td>\n",
       "      <td>Ready To Cook &amp; Eat</td>\n",
       "      <td>3.918740</td>\n",
       "      <td>32204</td>\n",
       "      <td>91.159409</td>\n",
       "    </tr>\n",
       "  </tbody>\n",
       "</table>\n",
       "</div>"
      ],
      "text/plain": [
       "                    category       product_subcategory  avg_product_rating  \\\n",
       "4                  Baby Care           Diapers & Wipes            4.095547   \n",
       "11     Bakery, Cakes & Dairy                     Dairy            4.054156   \n",
       "24          Beauty & Hygiene                 Skin Care            3.947319   \n",
       "29                 Beverages                       Tea            4.080389   \n",
       "31      Cleaning & Household      All Purpose Cleaners            4.126211   \n",
       "46         Eggs, Meat & Fish  Sausages, Bacon & Salami            4.023270   \n",
       "52  Foodgrains, Oil & Masala          Masalas & Spices            4.094094   \n",
       "60       Fruits & Vegetables          Fresh Vegetables            4.000000   \n",
       "75      Gourmet & World Food  Snacks, Dry Fruits, Nuts            3.988333   \n",
       "86    Kitchen, Garden & Pets     Storage & Accessories            3.827833   \n",
       "96    Snacks & Branded Foods       Ready To Cook & Eat            3.918740   \n",
       "\n",
       "    total_reviews  avg_selling_price  \n",
       "4           12573         741.909960  \n",
       "11          19498         149.439169  \n",
       "24         115724         412.119608  \n",
       "29          16106         269.842874  \n",
       "31          24219         271.590611  \n",
       "46           7610         282.237736  \n",
       "52          46249          90.488481  \n",
       "60           8294          30.773452  \n",
       "75          42189         227.910952  \n",
       "86          49877         303.489655  \n",
       "96          32204          91.159409  "
      ]
     },
     "execution_count": 95,
     "metadata": {},
     "output_type": "execute_result"
    }
   ],
   "source": [
    "best_subcategories_reviews"
   ]
  },
  {
   "cell_type": "code",
   "execution_count": 96,
   "metadata": {},
   "outputs": [
    {
     "data": {
      "text/html": [
       "<div>\n",
       "<style scoped>\n",
       "    .dataframe tbody tr th:only-of-type {\n",
       "        vertical-align: middle;\n",
       "    }\n",
       "\n",
       "    .dataframe tbody tr th {\n",
       "        vertical-align: top;\n",
       "    }\n",
       "\n",
       "    .dataframe thead th {\n",
       "        text-align: right;\n",
       "    }\n",
       "</style>\n",
       "<table border=\"1\" class=\"dataframe\">\n",
       "  <thead>\n",
       "    <tr style=\"text-align: right;\">\n",
       "      <th></th>\n",
       "      <th>category</th>\n",
       "      <th>product_subcategory</th>\n",
       "      <th>avg_product_rating</th>\n",
       "      <th>total_reviews</th>\n",
       "      <th>avg_selling_price</th>\n",
       "    </tr>\n",
       "  </thead>\n",
       "  <tbody>\n",
       "    <tr>\n",
       "      <th>0</th>\n",
       "      <td>Baby Care</td>\n",
       "      <td>Atta, Flours &amp; Sooji</td>\n",
       "      <td>3.600000</td>\n",
       "      <td>96</td>\n",
       "      <td>300.000000</td>\n",
       "    </tr>\n",
       "    <tr>\n",
       "      <th>7</th>\n",
       "      <td>Bakery, Cakes &amp; Dairy</td>\n",
       "      <td>Bakery Snacks</td>\n",
       "      <td>3.938000</td>\n",
       "      <td>1315</td>\n",
       "      <td>104.448400</td>\n",
       "    </tr>\n",
       "    <tr>\n",
       "      <th>22</th>\n",
       "      <td>Beauty &amp; Hygiene</td>\n",
       "      <td>Mothers &amp; Maternity</td>\n",
       "      <td>3.885714</td>\n",
       "      <td>332</td>\n",
       "      <td>333.714286</td>\n",
       "    </tr>\n",
       "    <tr>\n",
       "      <th>30</th>\n",
       "      <td>Beverages</td>\n",
       "      <td>Water</td>\n",
       "      <td>4.170588</td>\n",
       "      <td>1108</td>\n",
       "      <td>153.191176</td>\n",
       "    </tr>\n",
       "    <tr>\n",
       "      <th>33</th>\n",
       "      <td>Cleaning &amp; Household</td>\n",
       "      <td>Car &amp; Shoe Care</td>\n",
       "      <td>3.888542</td>\n",
       "      <td>2056</td>\n",
       "      <td>198.100417</td>\n",
       "    </tr>\n",
       "    <tr>\n",
       "      <th>43</th>\n",
       "      <td>Eggs, Meat &amp; Fish</td>\n",
       "      <td>Marinades</td>\n",
       "      <td>4.000000</td>\n",
       "      <td>48</td>\n",
       "      <td>225.000000</td>\n",
       "    </tr>\n",
       "    <tr>\n",
       "      <th>48</th>\n",
       "      <td>Foodgrains, Oil &amp; Masala</td>\n",
       "      <td>Baby Food &amp; Formula</td>\n",
       "      <td>4.000000</td>\n",
       "      <td>52</td>\n",
       "      <td>225.000000</td>\n",
       "    </tr>\n",
       "    <tr>\n",
       "      <th>58</th>\n",
       "      <td>Fruits &amp; Vegetables</td>\n",
       "      <td>Flower Bouquets, Bunches</td>\n",
       "      <td>4.000000</td>\n",
       "      <td>473</td>\n",
       "      <td>83.250000</td>\n",
       "    </tr>\n",
       "    <tr>\n",
       "      <th>70</th>\n",
       "      <td>Gourmet &amp; World Food</td>\n",
       "      <td>Mutton &amp; Lamb</td>\n",
       "      <td>4.050000</td>\n",
       "      <td>97</td>\n",
       "      <td>619.000000</td>\n",
       "    </tr>\n",
       "    <tr>\n",
       "      <th>78</th>\n",
       "      <td>Kitchen, Garden &amp; Pets</td>\n",
       "      <td>Bakeware</td>\n",
       "      <td>3.650000</td>\n",
       "      <td>2288</td>\n",
       "      <td>214.666667</td>\n",
       "    </tr>\n",
       "    <tr>\n",
       "      <th>87</th>\n",
       "      <td>Snacks &amp; Branded Foods</td>\n",
       "      <td>Atta, Flours &amp; Sooji</td>\n",
       "      <td>4.050000</td>\n",
       "      <td>6</td>\n",
       "      <td>482.000000</td>\n",
       "    </tr>\n",
       "  </tbody>\n",
       "</table>\n",
       "</div>"
      ],
      "text/plain": [
       "                    category       product_subcategory  avg_product_rating  \\\n",
       "0                  Baby Care      Atta, Flours & Sooji            3.600000   \n",
       "7      Bakery, Cakes & Dairy             Bakery Snacks            3.938000   \n",
       "22          Beauty & Hygiene       Mothers & Maternity            3.885714   \n",
       "30                 Beverages                     Water            4.170588   \n",
       "33      Cleaning & Household           Car & Shoe Care            3.888542   \n",
       "43         Eggs, Meat & Fish                 Marinades            4.000000   \n",
       "48  Foodgrains, Oil & Masala       Baby Food & Formula            4.000000   \n",
       "58       Fruits & Vegetables  Flower Bouquets, Bunches            4.000000   \n",
       "70      Gourmet & World Food             Mutton & Lamb            4.050000   \n",
       "78    Kitchen, Garden & Pets                  Bakeware            3.650000   \n",
       "87    Snacks & Branded Foods      Atta, Flours & Sooji            4.050000   \n",
       "\n",
       "    total_reviews  avg_selling_price  \n",
       "0              96         300.000000  \n",
       "7            1315         104.448400  \n",
       "22            332         333.714286  \n",
       "30           1108         153.191176  \n",
       "33           2056         198.100417  \n",
       "43             48         225.000000  \n",
       "48             52         225.000000  \n",
       "58            473          83.250000  \n",
       "70             97         619.000000  \n",
       "78           2288         214.666667  \n",
       "87              6         482.000000  "
      ]
     },
     "execution_count": 96,
     "metadata": {},
     "output_type": "execute_result"
    }
   ],
   "source": [
    "low_subcategories_reviews"
   ]
  },
  {
   "cell_type": "code",
   "execution_count": 97,
   "metadata": {},
   "outputs": [
    {
     "data": {
      "text/html": [
       "<div>\n",
       "<style scoped>\n",
       "    .dataframe tbody tr th:only-of-type {\n",
       "        vertical-align: middle;\n",
       "    }\n",
       "\n",
       "    .dataframe tbody tr th {\n",
       "        vertical-align: top;\n",
       "    }\n",
       "\n",
       "    .dataframe thead th {\n",
       "        text-align: right;\n",
       "    }\n",
       "</style>\n",
       "<table border=\"1\" class=\"dataframe\">\n",
       "  <thead>\n",
       "    <tr style=\"text-align: right;\">\n",
       "      <th></th>\n",
       "      <th>category</th>\n",
       "      <th>product_subcategory</th>\n",
       "      <th>avg_product_rating</th>\n",
       "      <th>total_reviews</th>\n",
       "      <th>avg_selling_price</th>\n",
       "    </tr>\n",
       "  </thead>\n",
       "  <tbody>\n",
       "    <tr>\n",
       "      <th>0</th>\n",
       "      <td>Baby Care</td>\n",
       "      <td>Baby Food &amp; Formula</td>\n",
       "      <td>4.165957</td>\n",
       "      <td>2363</td>\n",
       "      <td>361.152128</td>\n",
       "    </tr>\n",
       "    <tr>\n",
       "      <th>11</th>\n",
       "      <td>Baby Care</td>\n",
       "      <td>Diapers &amp; Wipes</td>\n",
       "      <td>4.095547</td>\n",
       "      <td>12573</td>\n",
       "      <td>741.909960</td>\n",
       "    </tr>\n",
       "    <tr>\n",
       "      <th>1</th>\n",
       "      <td>Bakery, Cakes &amp; Dairy</td>\n",
       "      <td>Gourmet Breads</td>\n",
       "      <td>4.105714</td>\n",
       "      <td>1881</td>\n",
       "      <td>107.455714</td>\n",
       "    </tr>\n",
       "    <tr>\n",
       "      <th>12</th>\n",
       "      <td>Bakery, Cakes &amp; Dairy</td>\n",
       "      <td>Dairy</td>\n",
       "      <td>4.054156</td>\n",
       "      <td>19498</td>\n",
       "      <td>149.439169</td>\n",
       "    </tr>\n",
       "    <tr>\n",
       "      <th>2</th>\n",
       "      <td>Beauty &amp; Hygiene</td>\n",
       "      <td>Oral Care</td>\n",
       "      <td>4.124723</td>\n",
       "      <td>14320</td>\n",
       "      <td>182.256827</td>\n",
       "    </tr>\n",
       "    <tr>\n",
       "      <th>13</th>\n",
       "      <td>Beauty &amp; Hygiene</td>\n",
       "      <td>Skin Care</td>\n",
       "      <td>3.947319</td>\n",
       "      <td>115724</td>\n",
       "      <td>412.119608</td>\n",
       "    </tr>\n",
       "    <tr>\n",
       "      <th>3</th>\n",
       "      <td>Beverages</td>\n",
       "      <td>Water</td>\n",
       "      <td>4.170588</td>\n",
       "      <td>1108</td>\n",
       "      <td>153.191176</td>\n",
       "    </tr>\n",
       "    <tr>\n",
       "      <th>14</th>\n",
       "      <td>Beverages</td>\n",
       "      <td>Tea</td>\n",
       "      <td>4.080389</td>\n",
       "      <td>16106</td>\n",
       "      <td>269.842874</td>\n",
       "    </tr>\n",
       "    <tr>\n",
       "      <th>4</th>\n",
       "      <td>Cleaning &amp; Household</td>\n",
       "      <td>Detergents &amp; Dishwash</td>\n",
       "      <td>4.269349</td>\n",
       "      <td>12864</td>\n",
       "      <td>269.750536</td>\n",
       "    </tr>\n",
       "    <tr>\n",
       "      <th>15</th>\n",
       "      <td>Cleaning &amp; Household</td>\n",
       "      <td>All Purpose Cleaners</td>\n",
       "      <td>4.126211</td>\n",
       "      <td>24219</td>\n",
       "      <td>271.590611</td>\n",
       "    </tr>\n",
       "    <tr>\n",
       "      <th>5</th>\n",
       "      <td>Eggs, Meat &amp; Fish</td>\n",
       "      <td>Mutton &amp; Lamb</td>\n",
       "      <td>4.023684</td>\n",
       "      <td>841</td>\n",
       "      <td>721.110526</td>\n",
       "    </tr>\n",
       "    <tr>\n",
       "      <th>16</th>\n",
       "      <td>Eggs, Meat &amp; Fish</td>\n",
       "      <td>Sausages, Bacon &amp; Salami</td>\n",
       "      <td>4.023270</td>\n",
       "      <td>7610</td>\n",
       "      <td>282.237736</td>\n",
       "    </tr>\n",
       "    <tr>\n",
       "      <th>6</th>\n",
       "      <td>Foodgrains, Oil &amp; Masala</td>\n",
       "      <td>Edible Oils &amp; Ghee</td>\n",
       "      <td>4.125605</td>\n",
       "      <td>12037</td>\n",
       "      <td>540.908710</td>\n",
       "    </tr>\n",
       "    <tr>\n",
       "      <th>17</th>\n",
       "      <td>Foodgrains, Oil &amp; Masala</td>\n",
       "      <td>Masalas &amp; Spices</td>\n",
       "      <td>4.094094</td>\n",
       "      <td>46249</td>\n",
       "      <td>90.488481</td>\n",
       "    </tr>\n",
       "    <tr>\n",
       "      <th>7</th>\n",
       "      <td>Fruits &amp; Vegetables</td>\n",
       "      <td>Cuts &amp; Sprouts</td>\n",
       "      <td>4.000526</td>\n",
       "      <td>4875</td>\n",
       "      <td>35.368947</td>\n",
       "    </tr>\n",
       "    <tr>\n",
       "      <th>18</th>\n",
       "      <td>Fruits &amp; Vegetables</td>\n",
       "      <td>Fresh Vegetables</td>\n",
       "      <td>4.000000</td>\n",
       "      <td>8294</td>\n",
       "      <td>30.773452</td>\n",
       "    </tr>\n",
       "    <tr>\n",
       "      <th>8</th>\n",
       "      <td>Gourmet &amp; World Food</td>\n",
       "      <td>Oils &amp; Vinegar</td>\n",
       "      <td>4.231590</td>\n",
       "      <td>12919</td>\n",
       "      <td>952.411297</td>\n",
       "    </tr>\n",
       "    <tr>\n",
       "      <th>19</th>\n",
       "      <td>Gourmet &amp; World Food</td>\n",
       "      <td>Snacks, Dry Fruits, Nuts</td>\n",
       "      <td>3.988333</td>\n",
       "      <td>42189</td>\n",
       "      <td>227.910952</td>\n",
       "    </tr>\n",
       "    <tr>\n",
       "      <th>9</th>\n",
       "      <td>Kitchen, Garden &amp; Pets</td>\n",
       "      <td>Pet Food &amp; Accessories</td>\n",
       "      <td>4.138202</td>\n",
       "      <td>17233</td>\n",
       "      <td>857.348034</td>\n",
       "    </tr>\n",
       "    <tr>\n",
       "      <th>20</th>\n",
       "      <td>Kitchen, Garden &amp; Pets</td>\n",
       "      <td>Storage &amp; Accessories</td>\n",
       "      <td>3.827833</td>\n",
       "      <td>49877</td>\n",
       "      <td>303.489655</td>\n",
       "    </tr>\n",
       "    <tr>\n",
       "      <th>10</th>\n",
       "      <td>Snacks &amp; Branded Foods</td>\n",
       "      <td>Biscuits &amp; Cookies</td>\n",
       "      <td>4.160820</td>\n",
       "      <td>14369</td>\n",
       "      <td>65.289410</td>\n",
       "    </tr>\n",
       "    <tr>\n",
       "      <th>21</th>\n",
       "      <td>Snacks &amp; Branded Foods</td>\n",
       "      <td>Ready To Cook &amp; Eat</td>\n",
       "      <td>3.918740</td>\n",
       "      <td>32204</td>\n",
       "      <td>91.159409</td>\n",
       "    </tr>\n",
       "  </tbody>\n",
       "</table>\n",
       "</div>"
      ],
      "text/plain": [
       "                    category       product_subcategory  avg_product_rating  \\\n",
       "0                  Baby Care       Baby Food & Formula            4.165957   \n",
       "11                 Baby Care           Diapers & Wipes            4.095547   \n",
       "1      Bakery, Cakes & Dairy            Gourmet Breads            4.105714   \n",
       "12     Bakery, Cakes & Dairy                     Dairy            4.054156   \n",
       "2           Beauty & Hygiene                 Oral Care            4.124723   \n",
       "13          Beauty & Hygiene                 Skin Care            3.947319   \n",
       "3                  Beverages                     Water            4.170588   \n",
       "14                 Beverages                       Tea            4.080389   \n",
       "4       Cleaning & Household     Detergents & Dishwash            4.269349   \n",
       "15      Cleaning & Household      All Purpose Cleaners            4.126211   \n",
       "5          Eggs, Meat & Fish             Mutton & Lamb            4.023684   \n",
       "16         Eggs, Meat & Fish  Sausages, Bacon & Salami            4.023270   \n",
       "6   Foodgrains, Oil & Masala        Edible Oils & Ghee            4.125605   \n",
       "17  Foodgrains, Oil & Masala          Masalas & Spices            4.094094   \n",
       "7        Fruits & Vegetables            Cuts & Sprouts            4.000526   \n",
       "18       Fruits & Vegetables          Fresh Vegetables            4.000000   \n",
       "8       Gourmet & World Food            Oils & Vinegar            4.231590   \n",
       "19      Gourmet & World Food  Snacks, Dry Fruits, Nuts            3.988333   \n",
       "9     Kitchen, Garden & Pets    Pet Food & Accessories            4.138202   \n",
       "20    Kitchen, Garden & Pets     Storage & Accessories            3.827833   \n",
       "10    Snacks & Branded Foods        Biscuits & Cookies            4.160820   \n",
       "21    Snacks & Branded Foods       Ready To Cook & Eat            3.918740   \n",
       "\n",
       "    total_reviews  avg_selling_price  \n",
       "0            2363         361.152128  \n",
       "11          12573         741.909960  \n",
       "1            1881         107.455714  \n",
       "12          19498         149.439169  \n",
       "2           14320         182.256827  \n",
       "13         115724         412.119608  \n",
       "3            1108         153.191176  \n",
       "14          16106         269.842874  \n",
       "4           12864         269.750536  \n",
       "15          24219         271.590611  \n",
       "5             841         721.110526  \n",
       "16           7610         282.237736  \n",
       "6           12037         540.908710  \n",
       "17          46249          90.488481  \n",
       "7            4875          35.368947  \n",
       "18           8294          30.773452  \n",
       "8           12919         952.411297  \n",
       "19          42189         227.910952  \n",
       "9           17233         857.348034  \n",
       "20          49877         303.489655  \n",
       "10          14369          65.289410  \n",
       "21          32204          91.159409  "
      ]
     },
     "execution_count": 97,
     "metadata": {},
     "output_type": "execute_result"
    }
   ],
   "source": [
    "merged_df = pd.concat([best_subcategories_rating, best_subcategories_reviews], ignore_index=True)\n",
    "merged_df_low = pd.concat([low_subcategories_rating, low_subcategories_reviews], ignore_index=True)\n",
    "\n",
    "# Sort the merged dataframe by category and then by either product_rating or customer_reviews_count\n",
    "merged_df.sort_values(by=['category', 'avg_product_rating', 'total_reviews'], ascending=[True, False, False], inplace=True)\n",
    "merged_df_low.sort_values(by=['category', 'avg_product_rating', 'total_reviews'], ascending=[True, False, False], inplace=True)\n",
    "\n",
    "merged_df"
   ]
  },
  {
   "cell_type": "code",
   "execution_count": 98,
   "metadata": {},
   "outputs": [
    {
     "data": {
      "text/html": [
       "<div>\n",
       "<style scoped>\n",
       "    .dataframe tbody tr th:only-of-type {\n",
       "        vertical-align: middle;\n",
       "    }\n",
       "\n",
       "    .dataframe tbody tr th {\n",
       "        vertical-align: top;\n",
       "    }\n",
       "\n",
       "    .dataframe thead th {\n",
       "        text-align: right;\n",
       "    }\n",
       "</style>\n",
       "<table border=\"1\" class=\"dataframe\">\n",
       "  <thead>\n",
       "    <tr style=\"text-align: right;\">\n",
       "      <th></th>\n",
       "      <th>category</th>\n",
       "      <th>product_subcategory</th>\n",
       "      <th>avg_product_rating</th>\n",
       "      <th>total_reviews</th>\n",
       "      <th>avg_selling_price</th>\n",
       "    </tr>\n",
       "  </thead>\n",
       "  <tbody>\n",
       "    <tr>\n",
       "      <th>11</th>\n",
       "      <td>Baby Care</td>\n",
       "      <td>Atta, Flours &amp; Sooji</td>\n",
       "      <td>3.600000</td>\n",
       "      <td>96</td>\n",
       "      <td>300.000000</td>\n",
       "    </tr>\n",
       "    <tr>\n",
       "      <th>0</th>\n",
       "      <td>Baby Care</td>\n",
       "      <td>Baby Accessories</td>\n",
       "      <td>3.145946</td>\n",
       "      <td>2169</td>\n",
       "      <td>409.648649</td>\n",
       "    </tr>\n",
       "    <tr>\n",
       "      <th>12</th>\n",
       "      <td>Bakery, Cakes &amp; Dairy</td>\n",
       "      <td>Bakery Snacks</td>\n",
       "      <td>3.938000</td>\n",
       "      <td>1315</td>\n",
       "      <td>104.448400</td>\n",
       "    </tr>\n",
       "    <tr>\n",
       "      <th>1</th>\n",
       "      <td>Bakery, Cakes &amp; Dairy</td>\n",
       "      <td>Ice Creams &amp; Desserts</td>\n",
       "      <td>3.622917</td>\n",
       "      <td>2289</td>\n",
       "      <td>170.054167</td>\n",
       "    </tr>\n",
       "    <tr>\n",
       "      <th>13</th>\n",
       "      <td>Beauty &amp; Hygiene</td>\n",
       "      <td>Mothers &amp; Maternity</td>\n",
       "      <td>3.885714</td>\n",
       "      <td>332</td>\n",
       "      <td>333.714286</td>\n",
       "    </tr>\n",
       "    <tr>\n",
       "      <th>2</th>\n",
       "      <td>Beauty &amp; Hygiene</td>\n",
       "      <td>Fragrances &amp; Deos</td>\n",
       "      <td>3.746950</td>\n",
       "      <td>48037</td>\n",
       "      <td>893.099590</td>\n",
       "    </tr>\n",
       "    <tr>\n",
       "      <th>14</th>\n",
       "      <td>Beverages</td>\n",
       "      <td>Water</td>\n",
       "      <td>4.170588</td>\n",
       "      <td>1108</td>\n",
       "      <td>153.191176</td>\n",
       "    </tr>\n",
       "    <tr>\n",
       "      <th>3</th>\n",
       "      <td>Beverages</td>\n",
       "      <td>Coffee</td>\n",
       "      <td>3.967978</td>\n",
       "      <td>4193</td>\n",
       "      <td>208.072360</td>\n",
       "    </tr>\n",
       "    <tr>\n",
       "      <th>15</th>\n",
       "      <td>Cleaning &amp; Household</td>\n",
       "      <td>Car &amp; Shoe Care</td>\n",
       "      <td>3.888542</td>\n",
       "      <td>2056</td>\n",
       "      <td>198.100417</td>\n",
       "    </tr>\n",
       "    <tr>\n",
       "      <th>4</th>\n",
       "      <td>Cleaning &amp; Household</td>\n",
       "      <td>Bins &amp; Bathroom Ware</td>\n",
       "      <td>3.760077</td>\n",
       "      <td>20064</td>\n",
       "      <td>272.686480</td>\n",
       "    </tr>\n",
       "    <tr>\n",
       "      <th>16</th>\n",
       "      <td>Eggs, Meat &amp; Fish</td>\n",
       "      <td>Marinades</td>\n",
       "      <td>4.000000</td>\n",
       "      <td>48</td>\n",
       "      <td>225.000000</td>\n",
       "    </tr>\n",
       "    <tr>\n",
       "      <th>5</th>\n",
       "      <td>Eggs, Meat &amp; Fish</td>\n",
       "      <td>Pork &amp; Other Meats</td>\n",
       "      <td>2.640000</td>\n",
       "      <td>102</td>\n",
       "      <td>263.000000</td>\n",
       "    </tr>\n",
       "    <tr>\n",
       "      <th>17</th>\n",
       "      <td>Foodgrains, Oil &amp; Masala</td>\n",
       "      <td>Baby Food &amp; Formula</td>\n",
       "      <td>4.000000</td>\n",
       "      <td>52</td>\n",
       "      <td>225.000000</td>\n",
       "    </tr>\n",
       "    <tr>\n",
       "      <th>6</th>\n",
       "      <td>Foodgrains, Oil &amp; Masala</td>\n",
       "      <td>Dry Fruits</td>\n",
       "      <td>3.890394</td>\n",
       "      <td>10139</td>\n",
       "      <td>255.474877</td>\n",
       "    </tr>\n",
       "    <tr>\n",
       "      <th>7</th>\n",
       "      <td>Fruits &amp; Vegetables</td>\n",
       "      <td>Fresh Vegetables</td>\n",
       "      <td>4.000000</td>\n",
       "      <td>8294</td>\n",
       "      <td>30.773452</td>\n",
       "    </tr>\n",
       "    <tr>\n",
       "      <th>18</th>\n",
       "      <td>Fruits &amp; Vegetables</td>\n",
       "      <td>Flower Bouquets, Bunches</td>\n",
       "      <td>4.000000</td>\n",
       "      <td>473</td>\n",
       "      <td>83.250000</td>\n",
       "    </tr>\n",
       "    <tr>\n",
       "      <th>19</th>\n",
       "      <td>Gourmet &amp; World Food</td>\n",
       "      <td>Mutton &amp; Lamb</td>\n",
       "      <td>4.050000</td>\n",
       "      <td>97</td>\n",
       "      <td>619.000000</td>\n",
       "    </tr>\n",
       "    <tr>\n",
       "      <th>8</th>\n",
       "      <td>Gourmet &amp; World Food</td>\n",
       "      <td>Chocolates &amp; Biscuits</td>\n",
       "      <td>3.875205</td>\n",
       "      <td>31412</td>\n",
       "      <td>269.818177</td>\n",
       "    </tr>\n",
       "    <tr>\n",
       "      <th>20</th>\n",
       "      <td>Kitchen, Garden &amp; Pets</td>\n",
       "      <td>Bakeware</td>\n",
       "      <td>3.650000</td>\n",
       "      <td>2288</td>\n",
       "      <td>214.666667</td>\n",
       "    </tr>\n",
       "    <tr>\n",
       "      <th>9</th>\n",
       "      <td>Kitchen, Garden &amp; Pets</td>\n",
       "      <td>Cookware &amp; Non Stick</td>\n",
       "      <td>3.580085</td>\n",
       "      <td>17533</td>\n",
       "      <td>1204.869774</td>\n",
       "    </tr>\n",
       "    <tr>\n",
       "      <th>21</th>\n",
       "      <td>Snacks &amp; Branded Foods</td>\n",
       "      <td>Atta, Flours &amp; Sooji</td>\n",
       "      <td>4.050000</td>\n",
       "      <td>6</td>\n",
       "      <td>482.000000</td>\n",
       "    </tr>\n",
       "    <tr>\n",
       "      <th>10</th>\n",
       "      <td>Snacks &amp; Branded Foods</td>\n",
       "      <td>Frozen Veggies &amp; Snacks</td>\n",
       "      <td>3.752459</td>\n",
       "      <td>8855</td>\n",
       "      <td>179.450055</td>\n",
       "    </tr>\n",
       "  </tbody>\n",
       "</table>\n",
       "</div>"
      ],
      "text/plain": [
       "                    category       product_subcategory  avg_product_rating  \\\n",
       "11                 Baby Care      Atta, Flours & Sooji            3.600000   \n",
       "0                  Baby Care          Baby Accessories            3.145946   \n",
       "12     Bakery, Cakes & Dairy             Bakery Snacks            3.938000   \n",
       "1      Bakery, Cakes & Dairy     Ice Creams & Desserts            3.622917   \n",
       "13          Beauty & Hygiene       Mothers & Maternity            3.885714   \n",
       "2           Beauty & Hygiene         Fragrances & Deos            3.746950   \n",
       "14                 Beverages                     Water            4.170588   \n",
       "3                  Beverages                    Coffee            3.967978   \n",
       "15      Cleaning & Household           Car & Shoe Care            3.888542   \n",
       "4       Cleaning & Household      Bins & Bathroom Ware            3.760077   \n",
       "16         Eggs, Meat & Fish                 Marinades            4.000000   \n",
       "5          Eggs, Meat & Fish        Pork & Other Meats            2.640000   \n",
       "17  Foodgrains, Oil & Masala       Baby Food & Formula            4.000000   \n",
       "6   Foodgrains, Oil & Masala                Dry Fruits            3.890394   \n",
       "7        Fruits & Vegetables          Fresh Vegetables            4.000000   \n",
       "18       Fruits & Vegetables  Flower Bouquets, Bunches            4.000000   \n",
       "19      Gourmet & World Food             Mutton & Lamb            4.050000   \n",
       "8       Gourmet & World Food     Chocolates & Biscuits            3.875205   \n",
       "20    Kitchen, Garden & Pets                  Bakeware            3.650000   \n",
       "9     Kitchen, Garden & Pets      Cookware & Non Stick            3.580085   \n",
       "21    Snacks & Branded Foods      Atta, Flours & Sooji            4.050000   \n",
       "10    Snacks & Branded Foods   Frozen Veggies & Snacks            3.752459   \n",
       "\n",
       "    total_reviews  avg_selling_price  \n",
       "11             96         300.000000  \n",
       "0            2169         409.648649  \n",
       "12           1315         104.448400  \n",
       "1            2289         170.054167  \n",
       "13            332         333.714286  \n",
       "2           48037         893.099590  \n",
       "14           1108         153.191176  \n",
       "3            4193         208.072360  \n",
       "15           2056         198.100417  \n",
       "4           20064         272.686480  \n",
       "16             48         225.000000  \n",
       "5             102         263.000000  \n",
       "17             52         225.000000  \n",
       "6           10139         255.474877  \n",
       "7            8294          30.773452  \n",
       "18            473          83.250000  \n",
       "19             97         619.000000  \n",
       "8           31412         269.818177  \n",
       "20           2288         214.666667  \n",
       "9           17533        1204.869774  \n",
       "21              6         482.000000  \n",
       "10           8855         179.450055  "
      ]
     },
     "execution_count": 98,
     "metadata": {},
     "output_type": "execute_result"
    }
   ],
   "source": [
    "merged_df_low"
   ]
  },
  {
   "cell_type": "markdown",
   "metadata": {},
   "source": [
    "### Combination of category and sub-category list to be shown in ppt"
   ]
  },
  {
   "cell_type": "code",
   "execution_count": 99,
   "metadata": {},
   "outputs": [
    {
     "data": {
      "application/vnd.plotly.v1+json": {
       "config": {
        "plotlyServerURL": "https://plot.ly"
       },
       "data": [
        {
         "marker": {
          "color": "rgba(255, 153, 51, 0.7)"
         },
         "name": "Average Product Rating",
         "orientation": "h",
         "text": [
          4.17,
          4.11,
          4.12,
          4.17,
          4.27,
          4.02,
          4.13,
          4,
          4.23,
          4.14,
          4.16
         ],
         "textposition": "auto",
         "type": "bar",
         "x": [
          4.165957446808511,
          4.105714285714285,
          4.124723247232472,
          4.170588235294118,
          4.269348659003831,
          4.023684210526316,
          4.125604838709678,
          4.0005263157894735,
          4.231589958158996,
          4.138202247191011,
          4.160819672131147
         ],
         "y": [
          "Baby Care - Baby Food & Formula",
          "Bakery, Cakes & Dairy - Gourmet Breads",
          "Beauty & Hygiene - Oral Care",
          "Beverages - Water",
          "Cleaning & Household - Detergents & Dishwash",
          "Eggs, Meat & Fish - Mutton & Lamb",
          "Foodgrains, Oil & Masala - Edible Oils & Ghee",
          "Fruits & Vegetables - Cuts & Sprouts",
          "Gourmet & World Food - Oils & Vinegar",
          "Kitchen, Garden & Pets - Pet Food & Accessories",
          "Snacks & Branded Foods - Biscuits & Cookies"
         ]
        }
       ],
       "layout": {
        "bargap": 0.2,
        "margin": {
         "l": 150
        },
        "template": {
         "data": {
          "bar": [
           {
            "error_x": {
             "color": "#2a3f5f"
            },
            "error_y": {
             "color": "#2a3f5f"
            },
            "marker": {
             "line": {
              "color": "#E5ECF6",
              "width": 0.5
             },
             "pattern": {
              "fillmode": "overlay",
              "size": 10,
              "solidity": 0.2
             }
            },
            "type": "bar"
           }
          ],
          "barpolar": [
           {
            "marker": {
             "line": {
              "color": "#E5ECF6",
              "width": 0.5
             },
             "pattern": {
              "fillmode": "overlay",
              "size": 10,
              "solidity": 0.2
             }
            },
            "type": "barpolar"
           }
          ],
          "carpet": [
           {
            "aaxis": {
             "endlinecolor": "#2a3f5f",
             "gridcolor": "white",
             "linecolor": "white",
             "minorgridcolor": "white",
             "startlinecolor": "#2a3f5f"
            },
            "baxis": {
             "endlinecolor": "#2a3f5f",
             "gridcolor": "white",
             "linecolor": "white",
             "minorgridcolor": "white",
             "startlinecolor": "#2a3f5f"
            },
            "type": "carpet"
           }
          ],
          "choropleth": [
           {
            "colorbar": {
             "outlinewidth": 0,
             "ticks": ""
            },
            "type": "choropleth"
           }
          ],
          "contour": [
           {
            "colorbar": {
             "outlinewidth": 0,
             "ticks": ""
            },
            "colorscale": [
             [
              0,
              "#0d0887"
             ],
             [
              0.1111111111111111,
              "#46039f"
             ],
             [
              0.2222222222222222,
              "#7201a8"
             ],
             [
              0.3333333333333333,
              "#9c179e"
             ],
             [
              0.4444444444444444,
              "#bd3786"
             ],
             [
              0.5555555555555556,
              "#d8576b"
             ],
             [
              0.6666666666666666,
              "#ed7953"
             ],
             [
              0.7777777777777778,
              "#fb9f3a"
             ],
             [
              0.8888888888888888,
              "#fdca26"
             ],
             [
              1,
              "#f0f921"
             ]
            ],
            "type": "contour"
           }
          ],
          "contourcarpet": [
           {
            "colorbar": {
             "outlinewidth": 0,
             "ticks": ""
            },
            "type": "contourcarpet"
           }
          ],
          "heatmap": [
           {
            "colorbar": {
             "outlinewidth": 0,
             "ticks": ""
            },
            "colorscale": [
             [
              0,
              "#0d0887"
             ],
             [
              0.1111111111111111,
              "#46039f"
             ],
             [
              0.2222222222222222,
              "#7201a8"
             ],
             [
              0.3333333333333333,
              "#9c179e"
             ],
             [
              0.4444444444444444,
              "#bd3786"
             ],
             [
              0.5555555555555556,
              "#d8576b"
             ],
             [
              0.6666666666666666,
              "#ed7953"
             ],
             [
              0.7777777777777778,
              "#fb9f3a"
             ],
             [
              0.8888888888888888,
              "#fdca26"
             ],
             [
              1,
              "#f0f921"
             ]
            ],
            "type": "heatmap"
           }
          ],
          "heatmapgl": [
           {
            "colorbar": {
             "outlinewidth": 0,
             "ticks": ""
            },
            "colorscale": [
             [
              0,
              "#0d0887"
             ],
             [
              0.1111111111111111,
              "#46039f"
             ],
             [
              0.2222222222222222,
              "#7201a8"
             ],
             [
              0.3333333333333333,
              "#9c179e"
             ],
             [
              0.4444444444444444,
              "#bd3786"
             ],
             [
              0.5555555555555556,
              "#d8576b"
             ],
             [
              0.6666666666666666,
              "#ed7953"
             ],
             [
              0.7777777777777778,
              "#fb9f3a"
             ],
             [
              0.8888888888888888,
              "#fdca26"
             ],
             [
              1,
              "#f0f921"
             ]
            ],
            "type": "heatmapgl"
           }
          ],
          "histogram": [
           {
            "marker": {
             "pattern": {
              "fillmode": "overlay",
              "size": 10,
              "solidity": 0.2
             }
            },
            "type": "histogram"
           }
          ],
          "histogram2d": [
           {
            "colorbar": {
             "outlinewidth": 0,
             "ticks": ""
            },
            "colorscale": [
             [
              0,
              "#0d0887"
             ],
             [
              0.1111111111111111,
              "#46039f"
             ],
             [
              0.2222222222222222,
              "#7201a8"
             ],
             [
              0.3333333333333333,
              "#9c179e"
             ],
             [
              0.4444444444444444,
              "#bd3786"
             ],
             [
              0.5555555555555556,
              "#d8576b"
             ],
             [
              0.6666666666666666,
              "#ed7953"
             ],
             [
              0.7777777777777778,
              "#fb9f3a"
             ],
             [
              0.8888888888888888,
              "#fdca26"
             ],
             [
              1,
              "#f0f921"
             ]
            ],
            "type": "histogram2d"
           }
          ],
          "histogram2dcontour": [
           {
            "colorbar": {
             "outlinewidth": 0,
             "ticks": ""
            },
            "colorscale": [
             [
              0,
              "#0d0887"
             ],
             [
              0.1111111111111111,
              "#46039f"
             ],
             [
              0.2222222222222222,
              "#7201a8"
             ],
             [
              0.3333333333333333,
              "#9c179e"
             ],
             [
              0.4444444444444444,
              "#bd3786"
             ],
             [
              0.5555555555555556,
              "#d8576b"
             ],
             [
              0.6666666666666666,
              "#ed7953"
             ],
             [
              0.7777777777777778,
              "#fb9f3a"
             ],
             [
              0.8888888888888888,
              "#fdca26"
             ],
             [
              1,
              "#f0f921"
             ]
            ],
            "type": "histogram2dcontour"
           }
          ],
          "mesh3d": [
           {
            "colorbar": {
             "outlinewidth": 0,
             "ticks": ""
            },
            "type": "mesh3d"
           }
          ],
          "parcoords": [
           {
            "line": {
             "colorbar": {
              "outlinewidth": 0,
              "ticks": ""
             }
            },
            "type": "parcoords"
           }
          ],
          "pie": [
           {
            "automargin": true,
            "type": "pie"
           }
          ],
          "scatter": [
           {
            "fillpattern": {
             "fillmode": "overlay",
             "size": 10,
             "solidity": 0.2
            },
            "type": "scatter"
           }
          ],
          "scatter3d": [
           {
            "line": {
             "colorbar": {
              "outlinewidth": 0,
              "ticks": ""
             }
            },
            "marker": {
             "colorbar": {
              "outlinewidth": 0,
              "ticks": ""
             }
            },
            "type": "scatter3d"
           }
          ],
          "scattercarpet": [
           {
            "marker": {
             "colorbar": {
              "outlinewidth": 0,
              "ticks": ""
             }
            },
            "type": "scattercarpet"
           }
          ],
          "scattergeo": [
           {
            "marker": {
             "colorbar": {
              "outlinewidth": 0,
              "ticks": ""
             }
            },
            "type": "scattergeo"
           }
          ],
          "scattergl": [
           {
            "marker": {
             "colorbar": {
              "outlinewidth": 0,
              "ticks": ""
             }
            },
            "type": "scattergl"
           }
          ],
          "scattermapbox": [
           {
            "marker": {
             "colorbar": {
              "outlinewidth": 0,
              "ticks": ""
             }
            },
            "type": "scattermapbox"
           }
          ],
          "scatterpolar": [
           {
            "marker": {
             "colorbar": {
              "outlinewidth": 0,
              "ticks": ""
             }
            },
            "type": "scatterpolar"
           }
          ],
          "scatterpolargl": [
           {
            "marker": {
             "colorbar": {
              "outlinewidth": 0,
              "ticks": ""
             }
            },
            "type": "scatterpolargl"
           }
          ],
          "scatterternary": [
           {
            "marker": {
             "colorbar": {
              "outlinewidth": 0,
              "ticks": ""
             }
            },
            "type": "scatterternary"
           }
          ],
          "surface": [
           {
            "colorbar": {
             "outlinewidth": 0,
             "ticks": ""
            },
            "colorscale": [
             [
              0,
              "#0d0887"
             ],
             [
              0.1111111111111111,
              "#46039f"
             ],
             [
              0.2222222222222222,
              "#7201a8"
             ],
             [
              0.3333333333333333,
              "#9c179e"
             ],
             [
              0.4444444444444444,
              "#bd3786"
             ],
             [
              0.5555555555555556,
              "#d8576b"
             ],
             [
              0.6666666666666666,
              "#ed7953"
             ],
             [
              0.7777777777777778,
              "#fb9f3a"
             ],
             [
              0.8888888888888888,
              "#fdca26"
             ],
             [
              1,
              "#f0f921"
             ]
            ],
            "type": "surface"
           }
          ],
          "table": [
           {
            "cells": {
             "fill": {
              "color": "#EBF0F8"
             },
             "line": {
              "color": "white"
             }
            },
            "header": {
             "fill": {
              "color": "#C8D4E3"
             },
             "line": {
              "color": "white"
             }
            },
            "type": "table"
           }
          ]
         },
         "layout": {
          "annotationdefaults": {
           "arrowcolor": "#2a3f5f",
           "arrowhead": 0,
           "arrowwidth": 1
          },
          "autotypenumbers": "strict",
          "coloraxis": {
           "colorbar": {
            "outlinewidth": 0,
            "ticks": ""
           }
          },
          "colorscale": {
           "diverging": [
            [
             0,
             "#8e0152"
            ],
            [
             0.1,
             "#c51b7d"
            ],
            [
             0.2,
             "#de77ae"
            ],
            [
             0.3,
             "#f1b6da"
            ],
            [
             0.4,
             "#fde0ef"
            ],
            [
             0.5,
             "#f7f7f7"
            ],
            [
             0.6,
             "#e6f5d0"
            ],
            [
             0.7,
             "#b8e186"
            ],
            [
             0.8,
             "#7fbc41"
            ],
            [
             0.9,
             "#4d9221"
            ],
            [
             1,
             "#276419"
            ]
           ],
           "sequential": [
            [
             0,
             "#0d0887"
            ],
            [
             0.1111111111111111,
             "#46039f"
            ],
            [
             0.2222222222222222,
             "#7201a8"
            ],
            [
             0.3333333333333333,
             "#9c179e"
            ],
            [
             0.4444444444444444,
             "#bd3786"
            ],
            [
             0.5555555555555556,
             "#d8576b"
            ],
            [
             0.6666666666666666,
             "#ed7953"
            ],
            [
             0.7777777777777778,
             "#fb9f3a"
            ],
            [
             0.8888888888888888,
             "#fdca26"
            ],
            [
             1,
             "#f0f921"
            ]
           ],
           "sequentialminus": [
            [
             0,
             "#0d0887"
            ],
            [
             0.1111111111111111,
             "#46039f"
            ],
            [
             0.2222222222222222,
             "#7201a8"
            ],
            [
             0.3333333333333333,
             "#9c179e"
            ],
            [
             0.4444444444444444,
             "#bd3786"
            ],
            [
             0.5555555555555556,
             "#d8576b"
            ],
            [
             0.6666666666666666,
             "#ed7953"
            ],
            [
             0.7777777777777778,
             "#fb9f3a"
            ],
            [
             0.8888888888888888,
             "#fdca26"
            ],
            [
             1,
             "#f0f921"
            ]
           ]
          },
          "colorway": [
           "#636efa",
           "#EF553B",
           "#00cc96",
           "#ab63fa",
           "#FFA15A",
           "#19d3f3",
           "#FF6692",
           "#B6E880",
           "#FF97FF",
           "#FECB52"
          ],
          "font": {
           "color": "#2a3f5f"
          },
          "geo": {
           "bgcolor": "white",
           "lakecolor": "white",
           "landcolor": "#E5ECF6",
           "showlakes": true,
           "showland": true,
           "subunitcolor": "white"
          },
          "hoverlabel": {
           "align": "left"
          },
          "hovermode": "closest",
          "mapbox": {
           "style": "light"
          },
          "paper_bgcolor": "white",
          "plot_bgcolor": "#E5ECF6",
          "polar": {
           "angularaxis": {
            "gridcolor": "white",
            "linecolor": "white",
            "ticks": ""
           },
           "bgcolor": "#E5ECF6",
           "radialaxis": {
            "gridcolor": "white",
            "linecolor": "white",
            "ticks": ""
           }
          },
          "scene": {
           "xaxis": {
            "backgroundcolor": "#E5ECF6",
            "gridcolor": "white",
            "gridwidth": 2,
            "linecolor": "white",
            "showbackground": true,
            "ticks": "",
            "zerolinecolor": "white"
           },
           "yaxis": {
            "backgroundcolor": "#E5ECF6",
            "gridcolor": "white",
            "gridwidth": 2,
            "linecolor": "white",
            "showbackground": true,
            "ticks": "",
            "zerolinecolor": "white"
           },
           "zaxis": {
            "backgroundcolor": "#E5ECF6",
            "gridcolor": "white",
            "gridwidth": 2,
            "linecolor": "white",
            "showbackground": true,
            "ticks": "",
            "zerolinecolor": "white"
           }
          },
          "shapedefaults": {
           "line": {
            "color": "#2a3f5f"
           }
          },
          "ternary": {
           "aaxis": {
            "gridcolor": "white",
            "linecolor": "white",
            "ticks": ""
           },
           "baxis": {
            "gridcolor": "white",
            "linecolor": "white",
            "ticks": ""
           },
           "bgcolor": "#E5ECF6",
           "caxis": {
            "gridcolor": "white",
            "linecolor": "white",
            "ticks": ""
           }
          },
          "title": {
           "x": 0.05
          },
          "xaxis": {
           "automargin": true,
           "gridcolor": "white",
           "linecolor": "white",
           "ticks": "",
           "title": {
            "standoff": 15
           },
           "zerolinecolor": "white",
           "zerolinewidth": 2
          },
          "yaxis": {
           "automargin": true,
           "gridcolor": "white",
           "linecolor": "white",
           "ticks": "",
           "title": {
            "standoff": 15
           },
           "zerolinecolor": "white",
           "zerolinewidth": 2
          }
         }
        },
        "title": {
         "text": "Subcategories with Best Average Rating for Each Category"
        },
        "xaxis": {
         "range": [
          0,
          5.269348659003831
         ],
         "title": {
          "text": "Average Rating"
         }
        },
        "yaxis": {
         "title": {
          "text": "Category - Subcategory"
         }
        }
       }
      }
     },
     "metadata": {},
     "output_type": "display_data"
    },
    {
     "data": {
      "application/vnd.plotly.v1+json": {
       "config": {
        "plotlyServerURL": "https://plot.ly"
       },
       "data": [
        {
         "marker": {
          "color": "rgba(51, 153, 255, 0.7)"
         },
         "name": "Total Customer Reviews Count",
         "orientation": "h",
         "text": [
          12573,
          19498,
          115724,
          16106,
          24219,
          7610,
          46249,
          8294,
          42189,
          49877,
          32204
         ],
         "textposition": "auto",
         "type": "bar",
         "x": [
          12573,
          19498,
          115724,
          16106,
          24219,
          7610,
          46249,
          8294,
          42189,
          49877,
          32204
         ],
         "y": [
          "Baby Care - Diapers & Wipes",
          "Bakery, Cakes & Dairy - Dairy",
          "Beauty & Hygiene - Skin Care",
          "Beverages - Tea",
          "Cleaning & Household - All Purpose Cleaners",
          "Eggs, Meat & Fish - Sausages, Bacon & Salami",
          "Foodgrains, Oil & Masala - Masalas & Spices",
          "Fruits & Vegetables - Fresh Vegetables",
          "Gourmet & World Food - Snacks, Dry Fruits, Nuts",
          "Kitchen, Garden & Pets - Storage & Accessories",
          "Snacks & Branded Foods - Ready To Cook & Eat"
         ]
        }
       ],
       "layout": {
        "bargap": 0.2,
        "margin": {
         "l": 150
        },
        "template": {
         "data": {
          "bar": [
           {
            "error_x": {
             "color": "#2a3f5f"
            },
            "error_y": {
             "color": "#2a3f5f"
            },
            "marker": {
             "line": {
              "color": "#E5ECF6",
              "width": 0.5
             },
             "pattern": {
              "fillmode": "overlay",
              "size": 10,
              "solidity": 0.2
             }
            },
            "type": "bar"
           }
          ],
          "barpolar": [
           {
            "marker": {
             "line": {
              "color": "#E5ECF6",
              "width": 0.5
             },
             "pattern": {
              "fillmode": "overlay",
              "size": 10,
              "solidity": 0.2
             }
            },
            "type": "barpolar"
           }
          ],
          "carpet": [
           {
            "aaxis": {
             "endlinecolor": "#2a3f5f",
             "gridcolor": "white",
             "linecolor": "white",
             "minorgridcolor": "white",
             "startlinecolor": "#2a3f5f"
            },
            "baxis": {
             "endlinecolor": "#2a3f5f",
             "gridcolor": "white",
             "linecolor": "white",
             "minorgridcolor": "white",
             "startlinecolor": "#2a3f5f"
            },
            "type": "carpet"
           }
          ],
          "choropleth": [
           {
            "colorbar": {
             "outlinewidth": 0,
             "ticks": ""
            },
            "type": "choropleth"
           }
          ],
          "contour": [
           {
            "colorbar": {
             "outlinewidth": 0,
             "ticks": ""
            },
            "colorscale": [
             [
              0,
              "#0d0887"
             ],
             [
              0.1111111111111111,
              "#46039f"
             ],
             [
              0.2222222222222222,
              "#7201a8"
             ],
             [
              0.3333333333333333,
              "#9c179e"
             ],
             [
              0.4444444444444444,
              "#bd3786"
             ],
             [
              0.5555555555555556,
              "#d8576b"
             ],
             [
              0.6666666666666666,
              "#ed7953"
             ],
             [
              0.7777777777777778,
              "#fb9f3a"
             ],
             [
              0.8888888888888888,
              "#fdca26"
             ],
             [
              1,
              "#f0f921"
             ]
            ],
            "type": "contour"
           }
          ],
          "contourcarpet": [
           {
            "colorbar": {
             "outlinewidth": 0,
             "ticks": ""
            },
            "type": "contourcarpet"
           }
          ],
          "heatmap": [
           {
            "colorbar": {
             "outlinewidth": 0,
             "ticks": ""
            },
            "colorscale": [
             [
              0,
              "#0d0887"
             ],
             [
              0.1111111111111111,
              "#46039f"
             ],
             [
              0.2222222222222222,
              "#7201a8"
             ],
             [
              0.3333333333333333,
              "#9c179e"
             ],
             [
              0.4444444444444444,
              "#bd3786"
             ],
             [
              0.5555555555555556,
              "#d8576b"
             ],
             [
              0.6666666666666666,
              "#ed7953"
             ],
             [
              0.7777777777777778,
              "#fb9f3a"
             ],
             [
              0.8888888888888888,
              "#fdca26"
             ],
             [
              1,
              "#f0f921"
             ]
            ],
            "type": "heatmap"
           }
          ],
          "heatmapgl": [
           {
            "colorbar": {
             "outlinewidth": 0,
             "ticks": ""
            },
            "colorscale": [
             [
              0,
              "#0d0887"
             ],
             [
              0.1111111111111111,
              "#46039f"
             ],
             [
              0.2222222222222222,
              "#7201a8"
             ],
             [
              0.3333333333333333,
              "#9c179e"
             ],
             [
              0.4444444444444444,
              "#bd3786"
             ],
             [
              0.5555555555555556,
              "#d8576b"
             ],
             [
              0.6666666666666666,
              "#ed7953"
             ],
             [
              0.7777777777777778,
              "#fb9f3a"
             ],
             [
              0.8888888888888888,
              "#fdca26"
             ],
             [
              1,
              "#f0f921"
             ]
            ],
            "type": "heatmapgl"
           }
          ],
          "histogram": [
           {
            "marker": {
             "pattern": {
              "fillmode": "overlay",
              "size": 10,
              "solidity": 0.2
             }
            },
            "type": "histogram"
           }
          ],
          "histogram2d": [
           {
            "colorbar": {
             "outlinewidth": 0,
             "ticks": ""
            },
            "colorscale": [
             [
              0,
              "#0d0887"
             ],
             [
              0.1111111111111111,
              "#46039f"
             ],
             [
              0.2222222222222222,
              "#7201a8"
             ],
             [
              0.3333333333333333,
              "#9c179e"
             ],
             [
              0.4444444444444444,
              "#bd3786"
             ],
             [
              0.5555555555555556,
              "#d8576b"
             ],
             [
              0.6666666666666666,
              "#ed7953"
             ],
             [
              0.7777777777777778,
              "#fb9f3a"
             ],
             [
              0.8888888888888888,
              "#fdca26"
             ],
             [
              1,
              "#f0f921"
             ]
            ],
            "type": "histogram2d"
           }
          ],
          "histogram2dcontour": [
           {
            "colorbar": {
             "outlinewidth": 0,
             "ticks": ""
            },
            "colorscale": [
             [
              0,
              "#0d0887"
             ],
             [
              0.1111111111111111,
              "#46039f"
             ],
             [
              0.2222222222222222,
              "#7201a8"
             ],
             [
              0.3333333333333333,
              "#9c179e"
             ],
             [
              0.4444444444444444,
              "#bd3786"
             ],
             [
              0.5555555555555556,
              "#d8576b"
             ],
             [
              0.6666666666666666,
              "#ed7953"
             ],
             [
              0.7777777777777778,
              "#fb9f3a"
             ],
             [
              0.8888888888888888,
              "#fdca26"
             ],
             [
              1,
              "#f0f921"
             ]
            ],
            "type": "histogram2dcontour"
           }
          ],
          "mesh3d": [
           {
            "colorbar": {
             "outlinewidth": 0,
             "ticks": ""
            },
            "type": "mesh3d"
           }
          ],
          "parcoords": [
           {
            "line": {
             "colorbar": {
              "outlinewidth": 0,
              "ticks": ""
             }
            },
            "type": "parcoords"
           }
          ],
          "pie": [
           {
            "automargin": true,
            "type": "pie"
           }
          ],
          "scatter": [
           {
            "fillpattern": {
             "fillmode": "overlay",
             "size": 10,
             "solidity": 0.2
            },
            "type": "scatter"
           }
          ],
          "scatter3d": [
           {
            "line": {
             "colorbar": {
              "outlinewidth": 0,
              "ticks": ""
             }
            },
            "marker": {
             "colorbar": {
              "outlinewidth": 0,
              "ticks": ""
             }
            },
            "type": "scatter3d"
           }
          ],
          "scattercarpet": [
           {
            "marker": {
             "colorbar": {
              "outlinewidth": 0,
              "ticks": ""
             }
            },
            "type": "scattercarpet"
           }
          ],
          "scattergeo": [
           {
            "marker": {
             "colorbar": {
              "outlinewidth": 0,
              "ticks": ""
             }
            },
            "type": "scattergeo"
           }
          ],
          "scattergl": [
           {
            "marker": {
             "colorbar": {
              "outlinewidth": 0,
              "ticks": ""
             }
            },
            "type": "scattergl"
           }
          ],
          "scattermapbox": [
           {
            "marker": {
             "colorbar": {
              "outlinewidth": 0,
              "ticks": ""
             }
            },
            "type": "scattermapbox"
           }
          ],
          "scatterpolar": [
           {
            "marker": {
             "colorbar": {
              "outlinewidth": 0,
              "ticks": ""
             }
            },
            "type": "scatterpolar"
           }
          ],
          "scatterpolargl": [
           {
            "marker": {
             "colorbar": {
              "outlinewidth": 0,
              "ticks": ""
             }
            },
            "type": "scatterpolargl"
           }
          ],
          "scatterternary": [
           {
            "marker": {
             "colorbar": {
              "outlinewidth": 0,
              "ticks": ""
             }
            },
            "type": "scatterternary"
           }
          ],
          "surface": [
           {
            "colorbar": {
             "outlinewidth": 0,
             "ticks": ""
            },
            "colorscale": [
             [
              0,
              "#0d0887"
             ],
             [
              0.1111111111111111,
              "#46039f"
             ],
             [
              0.2222222222222222,
              "#7201a8"
             ],
             [
              0.3333333333333333,
              "#9c179e"
             ],
             [
              0.4444444444444444,
              "#bd3786"
             ],
             [
              0.5555555555555556,
              "#d8576b"
             ],
             [
              0.6666666666666666,
              "#ed7953"
             ],
             [
              0.7777777777777778,
              "#fb9f3a"
             ],
             [
              0.8888888888888888,
              "#fdca26"
             ],
             [
              1,
              "#f0f921"
             ]
            ],
            "type": "surface"
           }
          ],
          "table": [
           {
            "cells": {
             "fill": {
              "color": "#EBF0F8"
             },
             "line": {
              "color": "white"
             }
            },
            "header": {
             "fill": {
              "color": "#C8D4E3"
             },
             "line": {
              "color": "white"
             }
            },
            "type": "table"
           }
          ]
         },
         "layout": {
          "annotationdefaults": {
           "arrowcolor": "#2a3f5f",
           "arrowhead": 0,
           "arrowwidth": 1
          },
          "autotypenumbers": "strict",
          "coloraxis": {
           "colorbar": {
            "outlinewidth": 0,
            "ticks": ""
           }
          },
          "colorscale": {
           "diverging": [
            [
             0,
             "#8e0152"
            ],
            [
             0.1,
             "#c51b7d"
            ],
            [
             0.2,
             "#de77ae"
            ],
            [
             0.3,
             "#f1b6da"
            ],
            [
             0.4,
             "#fde0ef"
            ],
            [
             0.5,
             "#f7f7f7"
            ],
            [
             0.6,
             "#e6f5d0"
            ],
            [
             0.7,
             "#b8e186"
            ],
            [
             0.8,
             "#7fbc41"
            ],
            [
             0.9,
             "#4d9221"
            ],
            [
             1,
             "#276419"
            ]
           ],
           "sequential": [
            [
             0,
             "#0d0887"
            ],
            [
             0.1111111111111111,
             "#46039f"
            ],
            [
             0.2222222222222222,
             "#7201a8"
            ],
            [
             0.3333333333333333,
             "#9c179e"
            ],
            [
             0.4444444444444444,
             "#bd3786"
            ],
            [
             0.5555555555555556,
             "#d8576b"
            ],
            [
             0.6666666666666666,
             "#ed7953"
            ],
            [
             0.7777777777777778,
             "#fb9f3a"
            ],
            [
             0.8888888888888888,
             "#fdca26"
            ],
            [
             1,
             "#f0f921"
            ]
           ],
           "sequentialminus": [
            [
             0,
             "#0d0887"
            ],
            [
             0.1111111111111111,
             "#46039f"
            ],
            [
             0.2222222222222222,
             "#7201a8"
            ],
            [
             0.3333333333333333,
             "#9c179e"
            ],
            [
             0.4444444444444444,
             "#bd3786"
            ],
            [
             0.5555555555555556,
             "#d8576b"
            ],
            [
             0.6666666666666666,
             "#ed7953"
            ],
            [
             0.7777777777777778,
             "#fb9f3a"
            ],
            [
             0.8888888888888888,
             "#fdca26"
            ],
            [
             1,
             "#f0f921"
            ]
           ]
          },
          "colorway": [
           "#636efa",
           "#EF553B",
           "#00cc96",
           "#ab63fa",
           "#FFA15A",
           "#19d3f3",
           "#FF6692",
           "#B6E880",
           "#FF97FF",
           "#FECB52"
          ],
          "font": {
           "color": "#2a3f5f"
          },
          "geo": {
           "bgcolor": "white",
           "lakecolor": "white",
           "landcolor": "#E5ECF6",
           "showlakes": true,
           "showland": true,
           "subunitcolor": "white"
          },
          "hoverlabel": {
           "align": "left"
          },
          "hovermode": "closest",
          "mapbox": {
           "style": "light"
          },
          "paper_bgcolor": "white",
          "plot_bgcolor": "#E5ECF6",
          "polar": {
           "angularaxis": {
            "gridcolor": "white",
            "linecolor": "white",
            "ticks": ""
           },
           "bgcolor": "#E5ECF6",
           "radialaxis": {
            "gridcolor": "white",
            "linecolor": "white",
            "ticks": ""
           }
          },
          "scene": {
           "xaxis": {
            "backgroundcolor": "#E5ECF6",
            "gridcolor": "white",
            "gridwidth": 2,
            "linecolor": "white",
            "showbackground": true,
            "ticks": "",
            "zerolinecolor": "white"
           },
           "yaxis": {
            "backgroundcolor": "#E5ECF6",
            "gridcolor": "white",
            "gridwidth": 2,
            "linecolor": "white",
            "showbackground": true,
            "ticks": "",
            "zerolinecolor": "white"
           },
           "zaxis": {
            "backgroundcolor": "#E5ECF6",
            "gridcolor": "white",
            "gridwidth": 2,
            "linecolor": "white",
            "showbackground": true,
            "ticks": "",
            "zerolinecolor": "white"
           }
          },
          "shapedefaults": {
           "line": {
            "color": "#2a3f5f"
           }
          },
          "ternary": {
           "aaxis": {
            "gridcolor": "white",
            "linecolor": "white",
            "ticks": ""
           },
           "baxis": {
            "gridcolor": "white",
            "linecolor": "white",
            "ticks": ""
           },
           "bgcolor": "#E5ECF6",
           "caxis": {
            "gridcolor": "white",
            "linecolor": "white",
            "ticks": ""
           }
          },
          "title": {
           "x": 0.05
          },
          "xaxis": {
           "automargin": true,
           "gridcolor": "white",
           "linecolor": "white",
           "ticks": "",
           "title": {
            "standoff": 15
           },
           "zerolinecolor": "white",
           "zerolinewidth": 2
          },
          "yaxis": {
           "automargin": true,
           "gridcolor": "white",
           "linecolor": "white",
           "ticks": "",
           "title": {
            "standoff": 15
           },
           "zerolinecolor": "white",
           "zerolinewidth": 2
          }
         }
        },
        "title": {
         "text": "Subcategories with High Reviews for Each Category"
        },
        "xaxis": {
         "title": {
          "text": "Total Reviews Count"
         }
        },
        "yaxis": {
         "title": {
          "text": "Category - Subcategory"
         }
        }
       }
      }
     },
     "metadata": {},
     "output_type": "display_data"
    }
   ],
   "source": [
    "import plotly.graph_objs as go\n",
    "\n",
    "# Create figure for best product rating\n",
    "fig1 = go.Figure(go.Bar(\n",
    "    y=best_subcategories_rating['category'] + ' - ' + best_subcategories_rating['product_subcategory'],\n",
    "    x=best_subcategories_rating['avg_product_rating'],\n",
    "    name='Average Product Rating',\n",
    "    orientation='h',\n",
    "    marker=dict(color='rgba(255, 153, 51, 0.7)'),\n",
    "    text=best_subcategories_rating['avg_product_rating'].round(2),\n",
    "    textposition='auto'\n",
    "))\n",
    "\n",
    "fig1.update_layout(\n",
    "    title='Subcategories with Best Average Rating for Each Category',\n",
    "    yaxis=dict(title='Category - Subcategory'),\n",
    "    xaxis=dict(title='Average Rating', range=[0, best_subcategories_rating['avg_product_rating'].max() + 1]), \n",
    "    bargap=0.2,\n",
    "    margin=dict(l=150),\n",
    ")\n",
    "\n",
    "# Create figure for best customer reviews count\n",
    "fig2 = go.Figure(go.Bar(\n",
    "    y=best_subcategories_reviews['category'] + ' - ' + best_subcategories_reviews['product_subcategory'],\n",
    "    x=best_subcategories_reviews['total_reviews'],\n",
    "    name='Total Customer Reviews Count',\n",
    "    orientation='h',\n",
    "    marker=dict(color='rgba(51, 153, 255, 0.7)'),\n",
    "    text=best_subcategories_reviews['total_reviews'],\n",
    "    textposition='auto'\n",
    "))\n",
    "\n",
    "fig2.update_layout(\n",
    "    title='Subcategories with High Reviews for Each Category',\n",
    "    yaxis=dict(title='Category - Subcategory'),\n",
    "    xaxis=dict(title='Total Reviews Count'),\n",
    "    bargap=0.2,\n",
    "    margin=dict(l=150)\n",
    ")\n",
    "\n",
    "# Show the plots one below another\n",
    "fig1.show()\n",
    "fig2.show()\n"
   ]
  },
  {
   "cell_type": "code",
   "execution_count": 100,
   "metadata": {},
   "outputs": [
    {
     "data": {
      "text/html": [
       "<div>\n",
       "<style scoped>\n",
       "    .dataframe tbody tr th:only-of-type {\n",
       "        vertical-align: middle;\n",
       "    }\n",
       "\n",
       "    .dataframe tbody tr th {\n",
       "        vertical-align: top;\n",
       "    }\n",
       "\n",
       "    .dataframe thead th {\n",
       "        text-align: right;\n",
       "    }\n",
       "</style>\n",
       "<table border=\"1\" class=\"dataframe\">\n",
       "  <thead>\n",
       "    <tr style=\"text-align: right;\">\n",
       "      <th></th>\n",
       "      <th>category</th>\n",
       "      <th>product_subcategory</th>\n",
       "      <th>avg_product_rating</th>\n",
       "      <th>total_reviews</th>\n",
       "      <th>avg_selling_price</th>\n",
       "    </tr>\n",
       "  </thead>\n",
       "  <tbody>\n",
       "    <tr>\n",
       "      <th>1</th>\n",
       "      <td>Baby Care</td>\n",
       "      <td>Baby Accessories</td>\n",
       "      <td>3.145946</td>\n",
       "      <td>2169</td>\n",
       "      <td>409.648649</td>\n",
       "    </tr>\n",
       "    <tr>\n",
       "      <th>13</th>\n",
       "      <td>Bakery, Cakes &amp; Dairy</td>\n",
       "      <td>Ice Creams &amp; Desserts</td>\n",
       "      <td>3.622917</td>\n",
       "      <td>2289</td>\n",
       "      <td>170.054167</td>\n",
       "    </tr>\n",
       "    <tr>\n",
       "      <th>17</th>\n",
       "      <td>Beauty &amp; Hygiene</td>\n",
       "      <td>Fragrances &amp; Deos</td>\n",
       "      <td>3.746950</td>\n",
       "      <td>48037</td>\n",
       "      <td>893.099590</td>\n",
       "    </tr>\n",
       "    <tr>\n",
       "      <th>25</th>\n",
       "      <td>Beverages</td>\n",
       "      <td>Coffee</td>\n",
       "      <td>3.967978</td>\n",
       "      <td>4193</td>\n",
       "      <td>208.072360</td>\n",
       "    </tr>\n",
       "    <tr>\n",
       "      <th>32</th>\n",
       "      <td>Cleaning &amp; Household</td>\n",
       "      <td>Bins &amp; Bathroom Ware</td>\n",
       "      <td>3.760077</td>\n",
       "      <td>20064</td>\n",
       "      <td>272.686480</td>\n",
       "    </tr>\n",
       "    <tr>\n",
       "      <th>45</th>\n",
       "      <td>Eggs, Meat &amp; Fish</td>\n",
       "      <td>Pork &amp; Other Meats</td>\n",
       "      <td>2.640000</td>\n",
       "      <td>102</td>\n",
       "      <td>263.000000</td>\n",
       "    </tr>\n",
       "    <tr>\n",
       "      <th>50</th>\n",
       "      <td>Foodgrains, Oil &amp; Masala</td>\n",
       "      <td>Dry Fruits</td>\n",
       "      <td>3.890394</td>\n",
       "      <td>10139</td>\n",
       "      <td>255.474877</td>\n",
       "    </tr>\n",
       "    <tr>\n",
       "      <th>60</th>\n",
       "      <td>Fruits &amp; Vegetables</td>\n",
       "      <td>Fresh Vegetables</td>\n",
       "      <td>4.000000</td>\n",
       "      <td>8294</td>\n",
       "      <td>30.773452</td>\n",
       "    </tr>\n",
       "    <tr>\n",
       "      <th>66</th>\n",
       "      <td>Gourmet &amp; World Food</td>\n",
       "      <td>Chocolates &amp; Biscuits</td>\n",
       "      <td>3.875205</td>\n",
       "      <td>31412</td>\n",
       "      <td>269.818177</td>\n",
       "    </tr>\n",
       "    <tr>\n",
       "      <th>79</th>\n",
       "      <td>Kitchen, Garden &amp; Pets</td>\n",
       "      <td>Cookware &amp; Non Stick</td>\n",
       "      <td>3.580085</td>\n",
       "      <td>17533</td>\n",
       "      <td>1204.869774</td>\n",
       "    </tr>\n",
       "    <tr>\n",
       "      <th>92</th>\n",
       "      <td>Snacks &amp; Branded Foods</td>\n",
       "      <td>Frozen Veggies &amp; Snacks</td>\n",
       "      <td>3.752459</td>\n",
       "      <td>8855</td>\n",
       "      <td>179.450055</td>\n",
       "    </tr>\n",
       "  </tbody>\n",
       "</table>\n",
       "</div>"
      ],
      "text/plain": [
       "                    category      product_subcategory  avg_product_rating  \\\n",
       "1                  Baby Care         Baby Accessories            3.145946   \n",
       "13     Bakery, Cakes & Dairy    Ice Creams & Desserts            3.622917   \n",
       "17          Beauty & Hygiene        Fragrances & Deos            3.746950   \n",
       "25                 Beverages                   Coffee            3.967978   \n",
       "32      Cleaning & Household     Bins & Bathroom Ware            3.760077   \n",
       "45         Eggs, Meat & Fish       Pork & Other Meats            2.640000   \n",
       "50  Foodgrains, Oil & Masala               Dry Fruits            3.890394   \n",
       "60       Fruits & Vegetables         Fresh Vegetables            4.000000   \n",
       "66      Gourmet & World Food    Chocolates & Biscuits            3.875205   \n",
       "79    Kitchen, Garden & Pets     Cookware & Non Stick            3.580085   \n",
       "92    Snacks & Branded Foods  Frozen Veggies & Snacks            3.752459   \n",
       "\n",
       "    total_reviews  avg_selling_price  \n",
       "1            2169         409.648649  \n",
       "13           2289         170.054167  \n",
       "17          48037         893.099590  \n",
       "25           4193         208.072360  \n",
       "32          20064         272.686480  \n",
       "45            102         263.000000  \n",
       "50          10139         255.474877  \n",
       "60           8294          30.773452  \n",
       "66          31412         269.818177  \n",
       "79          17533        1204.869774  \n",
       "92           8855         179.450055  "
      ]
     },
     "execution_count": 100,
     "metadata": {},
     "output_type": "execute_result"
    }
   ],
   "source": [
    "low_subcategories_rating"
   ]
  },
  {
   "cell_type": "code",
   "execution_count": 101,
   "metadata": {},
   "outputs": [
    {
     "data": {
      "application/vnd.plotly.v1+json": {
       "config": {
        "plotlyServerURL": "https://plot.ly"
       },
       "data": [
        {
         "marker": {
          "color": "rgba(255, 153, 51, 0.7)"
         },
         "name": "Average Product Rating",
         "orientation": "h",
         "text": [
          3.15,
          3.62,
          3.75,
          3.97,
          3.76,
          2.64,
          3.89,
          4,
          3.88,
          3.58,
          3.75
         ],
         "textposition": "auto",
         "type": "bar",
         "x": [
          3.1459459459459462,
          3.622916666666667,
          3.74695,
          3.9679775280898872,
          3.760076530612245,
          2.6399999999999997,
          3.8903940886699506,
          4,
          3.8752052545155995,
          3.5800847457627114,
          3.752459016393443
         ],
         "y": [
          "Baby Care - Baby Accessories",
          "Bakery, Cakes & Dairy - Ice Creams & Desserts",
          "Beauty & Hygiene - Fragrances & Deos",
          "Beverages - Coffee",
          "Cleaning & Household - Bins & Bathroom Ware",
          "Eggs, Meat & Fish - Pork & Other Meats",
          "Foodgrains, Oil & Masala - Dry Fruits",
          "Fruits & Vegetables - Fresh Vegetables",
          "Gourmet & World Food - Chocolates & Biscuits",
          "Kitchen, Garden & Pets - Cookware & Non Stick",
          "Snacks & Branded Foods - Frozen Veggies & Snacks"
         ]
        }
       ],
       "layout": {
        "bargap": 0.2,
        "margin": {
         "l": 150
        },
        "template": {
         "data": {
          "bar": [
           {
            "error_x": {
             "color": "#2a3f5f"
            },
            "error_y": {
             "color": "#2a3f5f"
            },
            "marker": {
             "line": {
              "color": "#E5ECF6",
              "width": 0.5
             },
             "pattern": {
              "fillmode": "overlay",
              "size": 10,
              "solidity": 0.2
             }
            },
            "type": "bar"
           }
          ],
          "barpolar": [
           {
            "marker": {
             "line": {
              "color": "#E5ECF6",
              "width": 0.5
             },
             "pattern": {
              "fillmode": "overlay",
              "size": 10,
              "solidity": 0.2
             }
            },
            "type": "barpolar"
           }
          ],
          "carpet": [
           {
            "aaxis": {
             "endlinecolor": "#2a3f5f",
             "gridcolor": "white",
             "linecolor": "white",
             "minorgridcolor": "white",
             "startlinecolor": "#2a3f5f"
            },
            "baxis": {
             "endlinecolor": "#2a3f5f",
             "gridcolor": "white",
             "linecolor": "white",
             "minorgridcolor": "white",
             "startlinecolor": "#2a3f5f"
            },
            "type": "carpet"
           }
          ],
          "choropleth": [
           {
            "colorbar": {
             "outlinewidth": 0,
             "ticks": ""
            },
            "type": "choropleth"
           }
          ],
          "contour": [
           {
            "colorbar": {
             "outlinewidth": 0,
             "ticks": ""
            },
            "colorscale": [
             [
              0,
              "#0d0887"
             ],
             [
              0.1111111111111111,
              "#46039f"
             ],
             [
              0.2222222222222222,
              "#7201a8"
             ],
             [
              0.3333333333333333,
              "#9c179e"
             ],
             [
              0.4444444444444444,
              "#bd3786"
             ],
             [
              0.5555555555555556,
              "#d8576b"
             ],
             [
              0.6666666666666666,
              "#ed7953"
             ],
             [
              0.7777777777777778,
              "#fb9f3a"
             ],
             [
              0.8888888888888888,
              "#fdca26"
             ],
             [
              1,
              "#f0f921"
             ]
            ],
            "type": "contour"
           }
          ],
          "contourcarpet": [
           {
            "colorbar": {
             "outlinewidth": 0,
             "ticks": ""
            },
            "type": "contourcarpet"
           }
          ],
          "heatmap": [
           {
            "colorbar": {
             "outlinewidth": 0,
             "ticks": ""
            },
            "colorscale": [
             [
              0,
              "#0d0887"
             ],
             [
              0.1111111111111111,
              "#46039f"
             ],
             [
              0.2222222222222222,
              "#7201a8"
             ],
             [
              0.3333333333333333,
              "#9c179e"
             ],
             [
              0.4444444444444444,
              "#bd3786"
             ],
             [
              0.5555555555555556,
              "#d8576b"
             ],
             [
              0.6666666666666666,
              "#ed7953"
             ],
             [
              0.7777777777777778,
              "#fb9f3a"
             ],
             [
              0.8888888888888888,
              "#fdca26"
             ],
             [
              1,
              "#f0f921"
             ]
            ],
            "type": "heatmap"
           }
          ],
          "heatmapgl": [
           {
            "colorbar": {
             "outlinewidth": 0,
             "ticks": ""
            },
            "colorscale": [
             [
              0,
              "#0d0887"
             ],
             [
              0.1111111111111111,
              "#46039f"
             ],
             [
              0.2222222222222222,
              "#7201a8"
             ],
             [
              0.3333333333333333,
              "#9c179e"
             ],
             [
              0.4444444444444444,
              "#bd3786"
             ],
             [
              0.5555555555555556,
              "#d8576b"
             ],
             [
              0.6666666666666666,
              "#ed7953"
             ],
             [
              0.7777777777777778,
              "#fb9f3a"
             ],
             [
              0.8888888888888888,
              "#fdca26"
             ],
             [
              1,
              "#f0f921"
             ]
            ],
            "type": "heatmapgl"
           }
          ],
          "histogram": [
           {
            "marker": {
             "pattern": {
              "fillmode": "overlay",
              "size": 10,
              "solidity": 0.2
             }
            },
            "type": "histogram"
           }
          ],
          "histogram2d": [
           {
            "colorbar": {
             "outlinewidth": 0,
             "ticks": ""
            },
            "colorscale": [
             [
              0,
              "#0d0887"
             ],
             [
              0.1111111111111111,
              "#46039f"
             ],
             [
              0.2222222222222222,
              "#7201a8"
             ],
             [
              0.3333333333333333,
              "#9c179e"
             ],
             [
              0.4444444444444444,
              "#bd3786"
             ],
             [
              0.5555555555555556,
              "#d8576b"
             ],
             [
              0.6666666666666666,
              "#ed7953"
             ],
             [
              0.7777777777777778,
              "#fb9f3a"
             ],
             [
              0.8888888888888888,
              "#fdca26"
             ],
             [
              1,
              "#f0f921"
             ]
            ],
            "type": "histogram2d"
           }
          ],
          "histogram2dcontour": [
           {
            "colorbar": {
             "outlinewidth": 0,
             "ticks": ""
            },
            "colorscale": [
             [
              0,
              "#0d0887"
             ],
             [
              0.1111111111111111,
              "#46039f"
             ],
             [
              0.2222222222222222,
              "#7201a8"
             ],
             [
              0.3333333333333333,
              "#9c179e"
             ],
             [
              0.4444444444444444,
              "#bd3786"
             ],
             [
              0.5555555555555556,
              "#d8576b"
             ],
             [
              0.6666666666666666,
              "#ed7953"
             ],
             [
              0.7777777777777778,
              "#fb9f3a"
             ],
             [
              0.8888888888888888,
              "#fdca26"
             ],
             [
              1,
              "#f0f921"
             ]
            ],
            "type": "histogram2dcontour"
           }
          ],
          "mesh3d": [
           {
            "colorbar": {
             "outlinewidth": 0,
             "ticks": ""
            },
            "type": "mesh3d"
           }
          ],
          "parcoords": [
           {
            "line": {
             "colorbar": {
              "outlinewidth": 0,
              "ticks": ""
             }
            },
            "type": "parcoords"
           }
          ],
          "pie": [
           {
            "automargin": true,
            "type": "pie"
           }
          ],
          "scatter": [
           {
            "fillpattern": {
             "fillmode": "overlay",
             "size": 10,
             "solidity": 0.2
            },
            "type": "scatter"
           }
          ],
          "scatter3d": [
           {
            "line": {
             "colorbar": {
              "outlinewidth": 0,
              "ticks": ""
             }
            },
            "marker": {
             "colorbar": {
              "outlinewidth": 0,
              "ticks": ""
             }
            },
            "type": "scatter3d"
           }
          ],
          "scattercarpet": [
           {
            "marker": {
             "colorbar": {
              "outlinewidth": 0,
              "ticks": ""
             }
            },
            "type": "scattercarpet"
           }
          ],
          "scattergeo": [
           {
            "marker": {
             "colorbar": {
              "outlinewidth": 0,
              "ticks": ""
             }
            },
            "type": "scattergeo"
           }
          ],
          "scattergl": [
           {
            "marker": {
             "colorbar": {
              "outlinewidth": 0,
              "ticks": ""
             }
            },
            "type": "scattergl"
           }
          ],
          "scattermapbox": [
           {
            "marker": {
             "colorbar": {
              "outlinewidth": 0,
              "ticks": ""
             }
            },
            "type": "scattermapbox"
           }
          ],
          "scatterpolar": [
           {
            "marker": {
             "colorbar": {
              "outlinewidth": 0,
              "ticks": ""
             }
            },
            "type": "scatterpolar"
           }
          ],
          "scatterpolargl": [
           {
            "marker": {
             "colorbar": {
              "outlinewidth": 0,
              "ticks": ""
             }
            },
            "type": "scatterpolargl"
           }
          ],
          "scatterternary": [
           {
            "marker": {
             "colorbar": {
              "outlinewidth": 0,
              "ticks": ""
             }
            },
            "type": "scatterternary"
           }
          ],
          "surface": [
           {
            "colorbar": {
             "outlinewidth": 0,
             "ticks": ""
            },
            "colorscale": [
             [
              0,
              "#0d0887"
             ],
             [
              0.1111111111111111,
              "#46039f"
             ],
             [
              0.2222222222222222,
              "#7201a8"
             ],
             [
              0.3333333333333333,
              "#9c179e"
             ],
             [
              0.4444444444444444,
              "#bd3786"
             ],
             [
              0.5555555555555556,
              "#d8576b"
             ],
             [
              0.6666666666666666,
              "#ed7953"
             ],
             [
              0.7777777777777778,
              "#fb9f3a"
             ],
             [
              0.8888888888888888,
              "#fdca26"
             ],
             [
              1,
              "#f0f921"
             ]
            ],
            "type": "surface"
           }
          ],
          "table": [
           {
            "cells": {
             "fill": {
              "color": "#EBF0F8"
             },
             "line": {
              "color": "white"
             }
            },
            "header": {
             "fill": {
              "color": "#C8D4E3"
             },
             "line": {
              "color": "white"
             }
            },
            "type": "table"
           }
          ]
         },
         "layout": {
          "annotationdefaults": {
           "arrowcolor": "#2a3f5f",
           "arrowhead": 0,
           "arrowwidth": 1
          },
          "autotypenumbers": "strict",
          "coloraxis": {
           "colorbar": {
            "outlinewidth": 0,
            "ticks": ""
           }
          },
          "colorscale": {
           "diverging": [
            [
             0,
             "#8e0152"
            ],
            [
             0.1,
             "#c51b7d"
            ],
            [
             0.2,
             "#de77ae"
            ],
            [
             0.3,
             "#f1b6da"
            ],
            [
             0.4,
             "#fde0ef"
            ],
            [
             0.5,
             "#f7f7f7"
            ],
            [
             0.6,
             "#e6f5d0"
            ],
            [
             0.7,
             "#b8e186"
            ],
            [
             0.8,
             "#7fbc41"
            ],
            [
             0.9,
             "#4d9221"
            ],
            [
             1,
             "#276419"
            ]
           ],
           "sequential": [
            [
             0,
             "#0d0887"
            ],
            [
             0.1111111111111111,
             "#46039f"
            ],
            [
             0.2222222222222222,
             "#7201a8"
            ],
            [
             0.3333333333333333,
             "#9c179e"
            ],
            [
             0.4444444444444444,
             "#bd3786"
            ],
            [
             0.5555555555555556,
             "#d8576b"
            ],
            [
             0.6666666666666666,
             "#ed7953"
            ],
            [
             0.7777777777777778,
             "#fb9f3a"
            ],
            [
             0.8888888888888888,
             "#fdca26"
            ],
            [
             1,
             "#f0f921"
            ]
           ],
           "sequentialminus": [
            [
             0,
             "#0d0887"
            ],
            [
             0.1111111111111111,
             "#46039f"
            ],
            [
             0.2222222222222222,
             "#7201a8"
            ],
            [
             0.3333333333333333,
             "#9c179e"
            ],
            [
             0.4444444444444444,
             "#bd3786"
            ],
            [
             0.5555555555555556,
             "#d8576b"
            ],
            [
             0.6666666666666666,
             "#ed7953"
            ],
            [
             0.7777777777777778,
             "#fb9f3a"
            ],
            [
             0.8888888888888888,
             "#fdca26"
            ],
            [
             1,
             "#f0f921"
            ]
           ]
          },
          "colorway": [
           "#636efa",
           "#EF553B",
           "#00cc96",
           "#ab63fa",
           "#FFA15A",
           "#19d3f3",
           "#FF6692",
           "#B6E880",
           "#FF97FF",
           "#FECB52"
          ],
          "font": {
           "color": "#2a3f5f"
          },
          "geo": {
           "bgcolor": "white",
           "lakecolor": "white",
           "landcolor": "#E5ECF6",
           "showlakes": true,
           "showland": true,
           "subunitcolor": "white"
          },
          "hoverlabel": {
           "align": "left"
          },
          "hovermode": "closest",
          "mapbox": {
           "style": "light"
          },
          "paper_bgcolor": "white",
          "plot_bgcolor": "#E5ECF6",
          "polar": {
           "angularaxis": {
            "gridcolor": "white",
            "linecolor": "white",
            "ticks": ""
           },
           "bgcolor": "#E5ECF6",
           "radialaxis": {
            "gridcolor": "white",
            "linecolor": "white",
            "ticks": ""
           }
          },
          "scene": {
           "xaxis": {
            "backgroundcolor": "#E5ECF6",
            "gridcolor": "white",
            "gridwidth": 2,
            "linecolor": "white",
            "showbackground": true,
            "ticks": "",
            "zerolinecolor": "white"
           },
           "yaxis": {
            "backgroundcolor": "#E5ECF6",
            "gridcolor": "white",
            "gridwidth": 2,
            "linecolor": "white",
            "showbackground": true,
            "ticks": "",
            "zerolinecolor": "white"
           },
           "zaxis": {
            "backgroundcolor": "#E5ECF6",
            "gridcolor": "white",
            "gridwidth": 2,
            "linecolor": "white",
            "showbackground": true,
            "ticks": "",
            "zerolinecolor": "white"
           }
          },
          "shapedefaults": {
           "line": {
            "color": "#2a3f5f"
           }
          },
          "ternary": {
           "aaxis": {
            "gridcolor": "white",
            "linecolor": "white",
            "ticks": ""
           },
           "baxis": {
            "gridcolor": "white",
            "linecolor": "white",
            "ticks": ""
           },
           "bgcolor": "#E5ECF6",
           "caxis": {
            "gridcolor": "white",
            "linecolor": "white",
            "ticks": ""
           }
          },
          "title": {
           "x": 0.05
          },
          "xaxis": {
           "automargin": true,
           "gridcolor": "white",
           "linecolor": "white",
           "ticks": "",
           "title": {
            "standoff": 15
           },
           "zerolinecolor": "white",
           "zerolinewidth": 2
          },
          "yaxis": {
           "automargin": true,
           "gridcolor": "white",
           "linecolor": "white",
           "ticks": "",
           "title": {
            "standoff": 15
           },
           "zerolinecolor": "white",
           "zerolinewidth": 2
          }
         }
        },
        "title": {
         "text": "Subcategories with Low Average Rating for Each Category"
        },
        "xaxis": {
         "range": [
          0,
          5
         ],
         "title": {
          "text": "Average Rating"
         }
        },
        "yaxis": {
         "title": {
          "text": "Category - Subcategory"
         }
        }
       }
      }
     },
     "metadata": {},
     "output_type": "display_data"
    },
    {
     "data": {
      "application/vnd.plotly.v1+json": {
       "config": {
        "plotlyServerURL": "https://plot.ly"
       },
       "data": [
        {
         "marker": {
          "color": "rgba(51, 153, 255, 0.7)"
         },
         "name": "Total Customer Reviews Count",
         "orientation": "h",
         "text": [
          96,
          1315,
          332,
          1108,
          2056,
          48,
          52,
          473,
          97,
          2288,
          6
         ],
         "textposition": "auto",
         "type": "bar",
         "x": [
          96,
          1315,
          332,
          1108,
          2056,
          48,
          52,
          473,
          97,
          2288,
          6
         ],
         "y": [
          "Baby Care - Atta, Flours & Sooji",
          "Bakery, Cakes & Dairy - Bakery Snacks",
          "Beauty & Hygiene - Mothers & Maternity",
          "Beverages - Water",
          "Cleaning & Household - Car & Shoe Care",
          "Eggs, Meat & Fish - Marinades",
          "Foodgrains, Oil & Masala - Baby Food & Formula",
          "Fruits & Vegetables - Flower Bouquets, Bunches",
          "Gourmet & World Food - Mutton & Lamb",
          "Kitchen, Garden & Pets - Bakeware",
          "Snacks & Branded Foods - Atta, Flours & Sooji"
         ]
        }
       ],
       "layout": {
        "bargap": 0.2,
        "margin": {
         "l": 150
        },
        "template": {
         "data": {
          "bar": [
           {
            "error_x": {
             "color": "#2a3f5f"
            },
            "error_y": {
             "color": "#2a3f5f"
            },
            "marker": {
             "line": {
              "color": "#E5ECF6",
              "width": 0.5
             },
             "pattern": {
              "fillmode": "overlay",
              "size": 10,
              "solidity": 0.2
             }
            },
            "type": "bar"
           }
          ],
          "barpolar": [
           {
            "marker": {
             "line": {
              "color": "#E5ECF6",
              "width": 0.5
             },
             "pattern": {
              "fillmode": "overlay",
              "size": 10,
              "solidity": 0.2
             }
            },
            "type": "barpolar"
           }
          ],
          "carpet": [
           {
            "aaxis": {
             "endlinecolor": "#2a3f5f",
             "gridcolor": "white",
             "linecolor": "white",
             "minorgridcolor": "white",
             "startlinecolor": "#2a3f5f"
            },
            "baxis": {
             "endlinecolor": "#2a3f5f",
             "gridcolor": "white",
             "linecolor": "white",
             "minorgridcolor": "white",
             "startlinecolor": "#2a3f5f"
            },
            "type": "carpet"
           }
          ],
          "choropleth": [
           {
            "colorbar": {
             "outlinewidth": 0,
             "ticks": ""
            },
            "type": "choropleth"
           }
          ],
          "contour": [
           {
            "colorbar": {
             "outlinewidth": 0,
             "ticks": ""
            },
            "colorscale": [
             [
              0,
              "#0d0887"
             ],
             [
              0.1111111111111111,
              "#46039f"
             ],
             [
              0.2222222222222222,
              "#7201a8"
             ],
             [
              0.3333333333333333,
              "#9c179e"
             ],
             [
              0.4444444444444444,
              "#bd3786"
             ],
             [
              0.5555555555555556,
              "#d8576b"
             ],
             [
              0.6666666666666666,
              "#ed7953"
             ],
             [
              0.7777777777777778,
              "#fb9f3a"
             ],
             [
              0.8888888888888888,
              "#fdca26"
             ],
             [
              1,
              "#f0f921"
             ]
            ],
            "type": "contour"
           }
          ],
          "contourcarpet": [
           {
            "colorbar": {
             "outlinewidth": 0,
             "ticks": ""
            },
            "type": "contourcarpet"
           }
          ],
          "heatmap": [
           {
            "colorbar": {
             "outlinewidth": 0,
             "ticks": ""
            },
            "colorscale": [
             [
              0,
              "#0d0887"
             ],
             [
              0.1111111111111111,
              "#46039f"
             ],
             [
              0.2222222222222222,
              "#7201a8"
             ],
             [
              0.3333333333333333,
              "#9c179e"
             ],
             [
              0.4444444444444444,
              "#bd3786"
             ],
             [
              0.5555555555555556,
              "#d8576b"
             ],
             [
              0.6666666666666666,
              "#ed7953"
             ],
             [
              0.7777777777777778,
              "#fb9f3a"
             ],
             [
              0.8888888888888888,
              "#fdca26"
             ],
             [
              1,
              "#f0f921"
             ]
            ],
            "type": "heatmap"
           }
          ],
          "heatmapgl": [
           {
            "colorbar": {
             "outlinewidth": 0,
             "ticks": ""
            },
            "colorscale": [
             [
              0,
              "#0d0887"
             ],
             [
              0.1111111111111111,
              "#46039f"
             ],
             [
              0.2222222222222222,
              "#7201a8"
             ],
             [
              0.3333333333333333,
              "#9c179e"
             ],
             [
              0.4444444444444444,
              "#bd3786"
             ],
             [
              0.5555555555555556,
              "#d8576b"
             ],
             [
              0.6666666666666666,
              "#ed7953"
             ],
             [
              0.7777777777777778,
              "#fb9f3a"
             ],
             [
              0.8888888888888888,
              "#fdca26"
             ],
             [
              1,
              "#f0f921"
             ]
            ],
            "type": "heatmapgl"
           }
          ],
          "histogram": [
           {
            "marker": {
             "pattern": {
              "fillmode": "overlay",
              "size": 10,
              "solidity": 0.2
             }
            },
            "type": "histogram"
           }
          ],
          "histogram2d": [
           {
            "colorbar": {
             "outlinewidth": 0,
             "ticks": ""
            },
            "colorscale": [
             [
              0,
              "#0d0887"
             ],
             [
              0.1111111111111111,
              "#46039f"
             ],
             [
              0.2222222222222222,
              "#7201a8"
             ],
             [
              0.3333333333333333,
              "#9c179e"
             ],
             [
              0.4444444444444444,
              "#bd3786"
             ],
             [
              0.5555555555555556,
              "#d8576b"
             ],
             [
              0.6666666666666666,
              "#ed7953"
             ],
             [
              0.7777777777777778,
              "#fb9f3a"
             ],
             [
              0.8888888888888888,
              "#fdca26"
             ],
             [
              1,
              "#f0f921"
             ]
            ],
            "type": "histogram2d"
           }
          ],
          "histogram2dcontour": [
           {
            "colorbar": {
             "outlinewidth": 0,
             "ticks": ""
            },
            "colorscale": [
             [
              0,
              "#0d0887"
             ],
             [
              0.1111111111111111,
              "#46039f"
             ],
             [
              0.2222222222222222,
              "#7201a8"
             ],
             [
              0.3333333333333333,
              "#9c179e"
             ],
             [
              0.4444444444444444,
              "#bd3786"
             ],
             [
              0.5555555555555556,
              "#d8576b"
             ],
             [
              0.6666666666666666,
              "#ed7953"
             ],
             [
              0.7777777777777778,
              "#fb9f3a"
             ],
             [
              0.8888888888888888,
              "#fdca26"
             ],
             [
              1,
              "#f0f921"
             ]
            ],
            "type": "histogram2dcontour"
           }
          ],
          "mesh3d": [
           {
            "colorbar": {
             "outlinewidth": 0,
             "ticks": ""
            },
            "type": "mesh3d"
           }
          ],
          "parcoords": [
           {
            "line": {
             "colorbar": {
              "outlinewidth": 0,
              "ticks": ""
             }
            },
            "type": "parcoords"
           }
          ],
          "pie": [
           {
            "automargin": true,
            "type": "pie"
           }
          ],
          "scatter": [
           {
            "fillpattern": {
             "fillmode": "overlay",
             "size": 10,
             "solidity": 0.2
            },
            "type": "scatter"
           }
          ],
          "scatter3d": [
           {
            "line": {
             "colorbar": {
              "outlinewidth": 0,
              "ticks": ""
             }
            },
            "marker": {
             "colorbar": {
              "outlinewidth": 0,
              "ticks": ""
             }
            },
            "type": "scatter3d"
           }
          ],
          "scattercarpet": [
           {
            "marker": {
             "colorbar": {
              "outlinewidth": 0,
              "ticks": ""
             }
            },
            "type": "scattercarpet"
           }
          ],
          "scattergeo": [
           {
            "marker": {
             "colorbar": {
              "outlinewidth": 0,
              "ticks": ""
             }
            },
            "type": "scattergeo"
           }
          ],
          "scattergl": [
           {
            "marker": {
             "colorbar": {
              "outlinewidth": 0,
              "ticks": ""
             }
            },
            "type": "scattergl"
           }
          ],
          "scattermapbox": [
           {
            "marker": {
             "colorbar": {
              "outlinewidth": 0,
              "ticks": ""
             }
            },
            "type": "scattermapbox"
           }
          ],
          "scatterpolar": [
           {
            "marker": {
             "colorbar": {
              "outlinewidth": 0,
              "ticks": ""
             }
            },
            "type": "scatterpolar"
           }
          ],
          "scatterpolargl": [
           {
            "marker": {
             "colorbar": {
              "outlinewidth": 0,
              "ticks": ""
             }
            },
            "type": "scatterpolargl"
           }
          ],
          "scatterternary": [
           {
            "marker": {
             "colorbar": {
              "outlinewidth": 0,
              "ticks": ""
             }
            },
            "type": "scatterternary"
           }
          ],
          "surface": [
           {
            "colorbar": {
             "outlinewidth": 0,
             "ticks": ""
            },
            "colorscale": [
             [
              0,
              "#0d0887"
             ],
             [
              0.1111111111111111,
              "#46039f"
             ],
             [
              0.2222222222222222,
              "#7201a8"
             ],
             [
              0.3333333333333333,
              "#9c179e"
             ],
             [
              0.4444444444444444,
              "#bd3786"
             ],
             [
              0.5555555555555556,
              "#d8576b"
             ],
             [
              0.6666666666666666,
              "#ed7953"
             ],
             [
              0.7777777777777778,
              "#fb9f3a"
             ],
             [
              0.8888888888888888,
              "#fdca26"
             ],
             [
              1,
              "#f0f921"
             ]
            ],
            "type": "surface"
           }
          ],
          "table": [
           {
            "cells": {
             "fill": {
              "color": "#EBF0F8"
             },
             "line": {
              "color": "white"
             }
            },
            "header": {
             "fill": {
              "color": "#C8D4E3"
             },
             "line": {
              "color": "white"
             }
            },
            "type": "table"
           }
          ]
         },
         "layout": {
          "annotationdefaults": {
           "arrowcolor": "#2a3f5f",
           "arrowhead": 0,
           "arrowwidth": 1
          },
          "autotypenumbers": "strict",
          "coloraxis": {
           "colorbar": {
            "outlinewidth": 0,
            "ticks": ""
           }
          },
          "colorscale": {
           "diverging": [
            [
             0,
             "#8e0152"
            ],
            [
             0.1,
             "#c51b7d"
            ],
            [
             0.2,
             "#de77ae"
            ],
            [
             0.3,
             "#f1b6da"
            ],
            [
             0.4,
             "#fde0ef"
            ],
            [
             0.5,
             "#f7f7f7"
            ],
            [
             0.6,
             "#e6f5d0"
            ],
            [
             0.7,
             "#b8e186"
            ],
            [
             0.8,
             "#7fbc41"
            ],
            [
             0.9,
             "#4d9221"
            ],
            [
             1,
             "#276419"
            ]
           ],
           "sequential": [
            [
             0,
             "#0d0887"
            ],
            [
             0.1111111111111111,
             "#46039f"
            ],
            [
             0.2222222222222222,
             "#7201a8"
            ],
            [
             0.3333333333333333,
             "#9c179e"
            ],
            [
             0.4444444444444444,
             "#bd3786"
            ],
            [
             0.5555555555555556,
             "#d8576b"
            ],
            [
             0.6666666666666666,
             "#ed7953"
            ],
            [
             0.7777777777777778,
             "#fb9f3a"
            ],
            [
             0.8888888888888888,
             "#fdca26"
            ],
            [
             1,
             "#f0f921"
            ]
           ],
           "sequentialminus": [
            [
             0,
             "#0d0887"
            ],
            [
             0.1111111111111111,
             "#46039f"
            ],
            [
             0.2222222222222222,
             "#7201a8"
            ],
            [
             0.3333333333333333,
             "#9c179e"
            ],
            [
             0.4444444444444444,
             "#bd3786"
            ],
            [
             0.5555555555555556,
             "#d8576b"
            ],
            [
             0.6666666666666666,
             "#ed7953"
            ],
            [
             0.7777777777777778,
             "#fb9f3a"
            ],
            [
             0.8888888888888888,
             "#fdca26"
            ],
            [
             1,
             "#f0f921"
            ]
           ]
          },
          "colorway": [
           "#636efa",
           "#EF553B",
           "#00cc96",
           "#ab63fa",
           "#FFA15A",
           "#19d3f3",
           "#FF6692",
           "#B6E880",
           "#FF97FF",
           "#FECB52"
          ],
          "font": {
           "color": "#2a3f5f"
          },
          "geo": {
           "bgcolor": "white",
           "lakecolor": "white",
           "landcolor": "#E5ECF6",
           "showlakes": true,
           "showland": true,
           "subunitcolor": "white"
          },
          "hoverlabel": {
           "align": "left"
          },
          "hovermode": "closest",
          "mapbox": {
           "style": "light"
          },
          "paper_bgcolor": "white",
          "plot_bgcolor": "#E5ECF6",
          "polar": {
           "angularaxis": {
            "gridcolor": "white",
            "linecolor": "white",
            "ticks": ""
           },
           "bgcolor": "#E5ECF6",
           "radialaxis": {
            "gridcolor": "white",
            "linecolor": "white",
            "ticks": ""
           }
          },
          "scene": {
           "xaxis": {
            "backgroundcolor": "#E5ECF6",
            "gridcolor": "white",
            "gridwidth": 2,
            "linecolor": "white",
            "showbackground": true,
            "ticks": "",
            "zerolinecolor": "white"
           },
           "yaxis": {
            "backgroundcolor": "#E5ECF6",
            "gridcolor": "white",
            "gridwidth": 2,
            "linecolor": "white",
            "showbackground": true,
            "ticks": "",
            "zerolinecolor": "white"
           },
           "zaxis": {
            "backgroundcolor": "#E5ECF6",
            "gridcolor": "white",
            "gridwidth": 2,
            "linecolor": "white",
            "showbackground": true,
            "ticks": "",
            "zerolinecolor": "white"
           }
          },
          "shapedefaults": {
           "line": {
            "color": "#2a3f5f"
           }
          },
          "ternary": {
           "aaxis": {
            "gridcolor": "white",
            "linecolor": "white",
            "ticks": ""
           },
           "baxis": {
            "gridcolor": "white",
            "linecolor": "white",
            "ticks": ""
           },
           "bgcolor": "#E5ECF6",
           "caxis": {
            "gridcolor": "white",
            "linecolor": "white",
            "ticks": ""
           }
          },
          "title": {
           "x": 0.05
          },
          "xaxis": {
           "automargin": true,
           "gridcolor": "white",
           "linecolor": "white",
           "ticks": "",
           "title": {
            "standoff": 15
           },
           "zerolinecolor": "white",
           "zerolinewidth": 2
          },
          "yaxis": {
           "automargin": true,
           "gridcolor": "white",
           "linecolor": "white",
           "ticks": "",
           "title": {
            "standoff": 15
           },
           "zerolinecolor": "white",
           "zerolinewidth": 2
          }
         }
        },
        "title": {
         "text": "Subcategories with Low Reviews for Each Category"
        },
        "xaxis": {
         "title": {
          "text": "Total Reviews Count"
         }
        },
        "yaxis": {
         "title": {
          "text": "Category - Subcategory"
         }
        }
       }
      }
     },
     "metadata": {},
     "output_type": "display_data"
    }
   ],
   "source": [
    "import plotly.graph_objs as go\n",
    "\n",
    "# Create figure for best product rating\n",
    "fig1 = go.Figure(go.Bar(\n",
    "    y=low_subcategories_rating['category'] + ' - ' + low_subcategories_rating['product_subcategory'],\n",
    "    x=low_subcategories_rating['avg_product_rating'],\n",
    "    name='Average Product Rating',\n",
    "    orientation='h',\n",
    "    marker=dict(color='rgba(255, 153, 51, 0.7)'),\n",
    "    text=low_subcategories_rating['avg_product_rating'].round(2),\n",
    "    textposition='auto'\n",
    "))\n",
    "\n",
    "fig1.update_layout(\n",
    "    title='Subcategories with Low Average Rating for Each Category',\n",
    "    yaxis=dict(title='Category - Subcategory'),\n",
    "    xaxis=dict(title='Average Rating', range=[0, low_subcategories_rating['avg_product_rating'].max() + 1]), \n",
    "    bargap=0.2,\n",
    "    margin=dict(l=150),\n",
    ")\n",
    "\n",
    "# Create figure for best customer reviews count\n",
    "fig2 = go.Figure(go.Bar(\n",
    "    y=low_subcategories_reviews['category'] + ' - ' + low_subcategories_reviews['product_subcategory'],\n",
    "    x=low_subcategories_reviews['total_reviews'],\n",
    "    name='Total Customer Reviews Count',\n",
    "    orientation='h',\n",
    "    marker=dict(color='rgba(51, 153, 255, 0.7)'),\n",
    "    text=low_subcategories_reviews['total_reviews'],\n",
    "    textposition='auto'\n",
    "))\n",
    "\n",
    "fig2.update_layout(\n",
    "    title='Subcategories with Low Reviews for Each Category',\n",
    "    yaxis=dict(title='Category - Subcategory'),\n",
    "    xaxis=dict(title='Total Reviews Count'),\n",
    "    bargap=0.2,\n",
    "    margin=dict(l=150)\n",
    ")\n",
    "\n",
    "# Show the plots one below another\n",
    "fig1.show()\n",
    "fig2.show()\n"
   ]
  }
 ],
 "metadata": {
  "kernelspec": {
   "display_name": "Python 3",
   "language": "python",
   "name": "python3"
  },
  "language_info": {
   "codemirror_mode": {
    "name": "ipython",
    "version": 3
   },
   "file_extension": ".py",
   "mimetype": "text/x-python",
   "name": "python",
   "nbconvert_exporter": "python",
   "pygments_lexer": "ipython3",
   "version": "3.12.2"
  }
 },
 "nbformat": 4,
 "nbformat_minor": 2
}
