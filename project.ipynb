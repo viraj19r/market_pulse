{
 "cells": [
  {
   "cell_type": "markdown",
   "metadata": {},
   "source": [
    "## Imports"
   ]
  },
  {
   "cell_type": "code",
   "execution_count": 118,
   "metadata": {},
   "outputs": [],
   "source": [
    "import pandas as pd\n",
    "import plotly.graph_objects as go\n",
    "import plotly.express as px"
   ]
  },
  {
   "cell_type": "markdown",
   "metadata": {},
   "source": [
    "## Processing"
   ]
  },
  {
   "cell_type": "code",
   "execution_count": 119,
   "metadata": {},
   "outputs": [],
   "source": [
    "data = pd.read_csv('Jan-24 project.csv')"
   ]
  },
  {
   "cell_type": "code",
   "execution_count": 120,
   "metadata": {},
   "outputs": [
    {
     "data": {
      "text/plain": [
       "product_id                   0\n",
       "product_title                1\n",
       "category                     0\n",
       "product_subcategory          0\n",
       "brand                        1\n",
       "selling_price                0\n",
       "original_price               0\n",
       "product_type                 0\n",
       "product_rating            8626\n",
       "product_description        115\n",
       "availability_status          0\n",
       "customer_reviews_count       0\n",
       "seasonal_indicator           0\n",
       "promotion_indicator          0\n",
       "shipping_weight              0\n",
       "bundle_indicator             0\n",
       "customer_demographics        0\n",
       "dtype: int64"
      ]
     },
     "execution_count": 120,
     "metadata": {},
     "output_type": "execute_result"
    }
   ],
   "source": [
    "data.isnull().sum()"
   ]
  },
  {
   "cell_type": "code",
   "execution_count": 121,
   "metadata": {},
   "outputs": [
    {
     "name": "stdout",
     "output_type": "stream",
     "text": [
      "       product_id product_title   category product_subcategory          brand  \\\n",
      "14363       14364           NaN  Beverages              Coffee  Cothas Coffee   \n",
      "\n",
      "       selling_price  original_price   product_type  product_rating  \\\n",
      "14363          200.0           240.0  Ground Coffee             4.2   \n",
      "\n",
      "                                     product_description availability_status  \\\n",
      "14363  Cothas Specialty Blend Coffee and Chicory incl...            In Stock   \n",
      "\n",
      "       customer_reviews_count seasonal_indicator promotion_indicator  \\\n",
      "14363                      57             Spring                  No   \n",
      "\n",
      "       shipping_weight bundle_indicator customer_demographics  \n",
      "14363         3.614885           Bundle                 Other  \n"
     ]
    }
   ],
   "source": [
    "# print the row where product_title is null\n",
    "print(data[data['product_title'].isnull()])"
   ]
  },
  {
   "cell_type": "code",
   "execution_count": 122,
   "metadata": {},
   "outputs": [
    {
     "name": "stdout",
     "output_type": "stream",
     "text": [
      "      product_id          product_title              category  \\\n",
      "9765        9766  Food Package - Medium  Cleaning & Household   \n",
      "\n",
      "           product_subcategory brand  selling_price  original_price  \\\n",
      "9765  Disposables, Garbage Bag   NaN           50.0            50.0   \n",
      "\n",
      "                   product_type  product_rating product_description  \\\n",
      "9765  Aluminium Foil, Clingwrap             NaN                 NaN   \n",
      "\n",
      "     availability_status  customer_reviews_count seasonal_indicator  \\\n",
      "9765            In Stock                      57             Spring   \n",
      "\n",
      "     promotion_indicator  shipping_weight bundle_indicator  \\\n",
      "9765                 Yes         3.076136           Bundle   \n",
      "\n",
      "     customer_demographics  \n",
      "9765                  Male  \n"
     ]
    }
   ],
   "source": [
    "print(data[data['brand'].isnull()])"
   ]
  },
  {
   "cell_type": "code",
   "execution_count": 123,
   "metadata": {},
   "outputs": [],
   "source": [
    "# Replace the null values with 'Unknown' where the null values are less like 1 or 2\n",
    "data['brand'].fillna('Unknown', inplace=True)\n",
    "data['product_title'].fillna('Unknown', inplace=True)"
   ]
  },
  {
   "cell_type": "code",
   "execution_count": 124,
   "metadata": {},
   "outputs": [
    {
     "data": {
      "text/plain": [
       "product_id                   0\n",
       "product_title                0\n",
       "category                     0\n",
       "product_subcategory          0\n",
       "brand                        0\n",
       "selling_price                0\n",
       "original_price               0\n",
       "product_type                 0\n",
       "product_rating            8626\n",
       "product_description        115\n",
       "availability_status          0\n",
       "customer_reviews_count       0\n",
       "seasonal_indicator           0\n",
       "promotion_indicator          0\n",
       "shipping_weight              0\n",
       "bundle_indicator             0\n",
       "customer_demographics        0\n",
       "dtype: int64"
      ]
     },
     "execution_count": 124,
     "metadata": {},
     "output_type": "execute_result"
    }
   ],
   "source": [
    "data.isnull().sum()"
   ]
  },
  {
   "cell_type": "code",
   "execution_count": 125,
   "metadata": {},
   "outputs": [],
   "source": [
    "# data.to_csv('Jan-24 project refined.csv', index=False)"
   ]
  },
  {
   "cell_type": "markdown",
   "metadata": {},
   "source": [
    "# Analysis"
   ]
  },
  {
   "cell_type": "code",
   "execution_count": 126,
   "metadata": {},
   "outputs": [],
   "source": [
    "data = pd.read_csv('Jan-24 project refined.csv')"
   ]
  },
  {
   "cell_type": "code",
   "execution_count": 127,
   "metadata": {},
   "outputs": [
    {
     "data": {
      "text/html": [
       "<div>\n",
       "<style scoped>\n",
       "    .dataframe tbody tr th:only-of-type {\n",
       "        vertical-align: middle;\n",
       "    }\n",
       "\n",
       "    .dataframe tbody tr th {\n",
       "        vertical-align: top;\n",
       "    }\n",
       "\n",
       "    .dataframe thead th {\n",
       "        text-align: right;\n",
       "    }\n",
       "</style>\n",
       "<table border=\"1\" class=\"dataframe\">\n",
       "  <thead>\n",
       "    <tr style=\"text-align: right;\">\n",
       "      <th></th>\n",
       "      <th>Market Share (%)</th>\n",
       "      <th>Average Rating</th>\n",
       "      <th>Total Reviews Count</th>\n",
       "    </tr>\n",
       "    <tr>\n",
       "      <th>brand</th>\n",
       "      <th></th>\n",
       "      <th></th>\n",
       "      <th></th>\n",
       "    </tr>\n",
       "  </thead>\n",
       "  <tbody>\n",
       "    <tr>\n",
       "      <th>Prestige</th>\n",
       "      <td>1.554986</td>\n",
       "      <td>3.439623</td>\n",
       "      <td>3064</td>\n",
       "    </tr>\n",
       "    <tr>\n",
       "      <th>Dkny</th>\n",
       "      <td>1.286839</td>\n",
       "      <td>5.000000</td>\n",
       "      <td>1057</td>\n",
       "    </tr>\n",
       "    <tr>\n",
       "      <th>bb Royal</th>\n",
       "      <td>1.283418</td>\n",
       "      <td>4.047122</td>\n",
       "      <td>27360</td>\n",
       "    </tr>\n",
       "    <tr>\n",
       "      <th>BB Home</th>\n",
       "      <td>1.125708</td>\n",
       "      <td>4.106936</td>\n",
       "      <td>21552</td>\n",
       "    </tr>\n",
       "    <tr>\n",
       "      <th>Hawkins</th>\n",
       "      <td>1.089891</td>\n",
       "      <td>3.841379</td>\n",
       "      <td>1763</td>\n",
       "    </tr>\n",
       "    <tr>\n",
       "      <th>bb Combo</th>\n",
       "      <td>0.904005</td>\n",
       "      <td>4.025000</td>\n",
       "      <td>8363</td>\n",
       "    </tr>\n",
       "    <tr>\n",
       "      <th>Ajmal</th>\n",
       "      <td>0.861577</td>\n",
       "      <td>3.417778</td>\n",
       "      <td>3603</td>\n",
       "    </tr>\n",
       "    <tr>\n",
       "      <th>DP</th>\n",
       "      <td>0.823633</td>\n",
       "      <td>4.200000</td>\n",
       "      <td>11382</td>\n",
       "    </tr>\n",
       "    <tr>\n",
       "      <th>Huggies</th>\n",
       "      <td>0.749925</td>\n",
       "      <td>4.119149</td>\n",
       "      <td>3561</td>\n",
       "    </tr>\n",
       "    <tr>\n",
       "      <th>StBotanica</th>\n",
       "      <td>0.712656</td>\n",
       "      <td>3.876562</td>\n",
       "      <td>4723</td>\n",
       "    </tr>\n",
       "  </tbody>\n",
       "</table>\n",
       "</div>"
      ],
      "text/plain": [
       "            Market Share (%)  Average Rating  Total Reviews Count\n",
       "brand                                                            \n",
       "Prestige            1.554986        3.439623                 3064\n",
       "Dkny                1.286839        5.000000                 1057\n",
       "bb Royal            1.283418        4.047122                27360\n",
       "BB Home             1.125708        4.106936                21552\n",
       "Hawkins             1.089891        3.841379                 1763\n",
       "bb Combo            0.904005        4.025000                 8363\n",
       "Ajmal               0.861577        3.417778                 3603\n",
       "DP                  0.823633        4.200000                11382\n",
       "Huggies             0.749925        4.119149                 3561\n",
       "StBotanica          0.712656        3.876562                 4723"
      ]
     },
     "execution_count": 127,
     "metadata": {},
     "output_type": "execute_result"
    }
   ],
   "source": [
    "# To analyze brand performance, we'll focus on market share, brand loyalty, and customer engagement metrics.\n",
    "# We'll start with calculating the market share of each brand.\n",
    "\n",
    "# Calculate total sales for each brand\n",
    "brand_sales = data.groupby('brand')['selling_price'].sum()\n",
    "\n",
    "# Calculate total market sales to determine market share\n",
    "total_market_sales = brand_sales.sum()\n",
    "\n",
    "# Calculate market share for each brand\n",
    "market_share = (brand_sales / total_market_sales) * 100\n",
    "\n",
    "# For brand loyalty, we'll look at average product rating and number of reviews per brand\n",
    "brand_loyalty_metrics = data.groupby('brand').agg({\n",
    "    'product_rating': 'mean',  # Average rating per brand\n",
    "    'customer_reviews_count': 'sum'  # Total reviews per brand\n",
    "})\n",
    "\n",
    "# Merge market share data with brand loyalty metrics\n",
    "brand_performance = pd.DataFrame({\n",
    "    'Market Share (%)': market_share,\n",
    "    'Average Rating': brand_loyalty_metrics['product_rating'],\n",
    "    'Total Reviews Count': brand_loyalty_metrics['customer_reviews_count']\n",
    "}).sort_values(by='Market Share (%)', ascending=False)\n",
    "\n",
    "# Display the top 10 brands by market share to understand their performance\n",
    "brand_performance.head(10)\n"
   ]
  },
  {
   "cell_type": "code",
   "execution_count": 128,
   "metadata": {},
   "outputs": [
    {
     "data": {
      "application/vnd.plotly.v1+json": {
       "config": {
        "plotlyServerURL": "https://plot.ly"
       },
       "data": [
        {
         "domain": {
          "x": [
           0,
           1
          ],
          "y": [
           0,
           1
          ]
         },
         "hovertemplate": "brand=%{label}<br>Market Share (%)=%{value}<extra></extra>",
         "labels": [
          "Prestige",
          "Dkny",
          "bb Royal",
          "BB Home",
          "Hawkins",
          "bb Combo",
          "Ajmal",
          "DP",
          "Huggies",
          "StBotanica"
         ],
         "legendgroup": "",
         "name": "",
         "showlegend": true,
         "type": "pie",
         "values": [
          1.5549862101282064,
          1.2868385772506092,
          1.2834181477094508,
          1.1257080682707203,
          1.08989128625438,
          0.904005225770894,
          0.8615769110993475,
          0.8236330645826776,
          0.7499247602835272,
          0.7126560651715008
         ]
        }
       ],
       "layout": {
        "legend": {
         "tracegroupgap": 0
        },
        "template": {
         "data": {
          "bar": [
           {
            "error_x": {
             "color": "#2a3f5f"
            },
            "error_y": {
             "color": "#2a3f5f"
            },
            "marker": {
             "line": {
              "color": "white",
              "width": 0.5
             },
             "pattern": {
              "fillmode": "overlay",
              "size": 10,
              "solidity": 0.2
             }
            },
            "type": "bar"
           }
          ],
          "barpolar": [
           {
            "marker": {
             "line": {
              "color": "white",
              "width": 0.5
             },
             "pattern": {
              "fillmode": "overlay",
              "size": 10,
              "solidity": 0.2
             }
            },
            "type": "barpolar"
           }
          ],
          "carpet": [
           {
            "aaxis": {
             "endlinecolor": "#2a3f5f",
             "gridcolor": "#C8D4E3",
             "linecolor": "#C8D4E3",
             "minorgridcolor": "#C8D4E3",
             "startlinecolor": "#2a3f5f"
            },
            "baxis": {
             "endlinecolor": "#2a3f5f",
             "gridcolor": "#C8D4E3",
             "linecolor": "#C8D4E3",
             "minorgridcolor": "#C8D4E3",
             "startlinecolor": "#2a3f5f"
            },
            "type": "carpet"
           }
          ],
          "choropleth": [
           {
            "colorbar": {
             "outlinewidth": 0,
             "ticks": ""
            },
            "type": "choropleth"
           }
          ],
          "contour": [
           {
            "colorbar": {
             "outlinewidth": 0,
             "ticks": ""
            },
            "colorscale": [
             [
              0,
              "#0d0887"
             ],
             [
              0.1111111111111111,
              "#46039f"
             ],
             [
              0.2222222222222222,
              "#7201a8"
             ],
             [
              0.3333333333333333,
              "#9c179e"
             ],
             [
              0.4444444444444444,
              "#bd3786"
             ],
             [
              0.5555555555555556,
              "#d8576b"
             ],
             [
              0.6666666666666666,
              "#ed7953"
             ],
             [
              0.7777777777777778,
              "#fb9f3a"
             ],
             [
              0.8888888888888888,
              "#fdca26"
             ],
             [
              1,
              "#f0f921"
             ]
            ],
            "type": "contour"
           }
          ],
          "contourcarpet": [
           {
            "colorbar": {
             "outlinewidth": 0,
             "ticks": ""
            },
            "type": "contourcarpet"
           }
          ],
          "heatmap": [
           {
            "colorbar": {
             "outlinewidth": 0,
             "ticks": ""
            },
            "colorscale": [
             [
              0,
              "#0d0887"
             ],
             [
              0.1111111111111111,
              "#46039f"
             ],
             [
              0.2222222222222222,
              "#7201a8"
             ],
             [
              0.3333333333333333,
              "#9c179e"
             ],
             [
              0.4444444444444444,
              "#bd3786"
             ],
             [
              0.5555555555555556,
              "#d8576b"
             ],
             [
              0.6666666666666666,
              "#ed7953"
             ],
             [
              0.7777777777777778,
              "#fb9f3a"
             ],
             [
              0.8888888888888888,
              "#fdca26"
             ],
             [
              1,
              "#f0f921"
             ]
            ],
            "type": "heatmap"
           }
          ],
          "heatmapgl": [
           {
            "colorbar": {
             "outlinewidth": 0,
             "ticks": ""
            },
            "colorscale": [
             [
              0,
              "#0d0887"
             ],
             [
              0.1111111111111111,
              "#46039f"
             ],
             [
              0.2222222222222222,
              "#7201a8"
             ],
             [
              0.3333333333333333,
              "#9c179e"
             ],
             [
              0.4444444444444444,
              "#bd3786"
             ],
             [
              0.5555555555555556,
              "#d8576b"
             ],
             [
              0.6666666666666666,
              "#ed7953"
             ],
             [
              0.7777777777777778,
              "#fb9f3a"
             ],
             [
              0.8888888888888888,
              "#fdca26"
             ],
             [
              1,
              "#f0f921"
             ]
            ],
            "type": "heatmapgl"
           }
          ],
          "histogram": [
           {
            "marker": {
             "pattern": {
              "fillmode": "overlay",
              "size": 10,
              "solidity": 0.2
             }
            },
            "type": "histogram"
           }
          ],
          "histogram2d": [
           {
            "colorbar": {
             "outlinewidth": 0,
             "ticks": ""
            },
            "colorscale": [
             [
              0,
              "#0d0887"
             ],
             [
              0.1111111111111111,
              "#46039f"
             ],
             [
              0.2222222222222222,
              "#7201a8"
             ],
             [
              0.3333333333333333,
              "#9c179e"
             ],
             [
              0.4444444444444444,
              "#bd3786"
             ],
             [
              0.5555555555555556,
              "#d8576b"
             ],
             [
              0.6666666666666666,
              "#ed7953"
             ],
             [
              0.7777777777777778,
              "#fb9f3a"
             ],
             [
              0.8888888888888888,
              "#fdca26"
             ],
             [
              1,
              "#f0f921"
             ]
            ],
            "type": "histogram2d"
           }
          ],
          "histogram2dcontour": [
           {
            "colorbar": {
             "outlinewidth": 0,
             "ticks": ""
            },
            "colorscale": [
             [
              0,
              "#0d0887"
             ],
             [
              0.1111111111111111,
              "#46039f"
             ],
             [
              0.2222222222222222,
              "#7201a8"
             ],
             [
              0.3333333333333333,
              "#9c179e"
             ],
             [
              0.4444444444444444,
              "#bd3786"
             ],
             [
              0.5555555555555556,
              "#d8576b"
             ],
             [
              0.6666666666666666,
              "#ed7953"
             ],
             [
              0.7777777777777778,
              "#fb9f3a"
             ],
             [
              0.8888888888888888,
              "#fdca26"
             ],
             [
              1,
              "#f0f921"
             ]
            ],
            "type": "histogram2dcontour"
           }
          ],
          "mesh3d": [
           {
            "colorbar": {
             "outlinewidth": 0,
             "ticks": ""
            },
            "type": "mesh3d"
           }
          ],
          "parcoords": [
           {
            "line": {
             "colorbar": {
              "outlinewidth": 0,
              "ticks": ""
             }
            },
            "type": "parcoords"
           }
          ],
          "pie": [
           {
            "automargin": true,
            "type": "pie"
           }
          ],
          "scatter": [
           {
            "fillpattern": {
             "fillmode": "overlay",
             "size": 10,
             "solidity": 0.2
            },
            "type": "scatter"
           }
          ],
          "scatter3d": [
           {
            "line": {
             "colorbar": {
              "outlinewidth": 0,
              "ticks": ""
             }
            },
            "marker": {
             "colorbar": {
              "outlinewidth": 0,
              "ticks": ""
             }
            },
            "type": "scatter3d"
           }
          ],
          "scattercarpet": [
           {
            "marker": {
             "colorbar": {
              "outlinewidth": 0,
              "ticks": ""
             }
            },
            "type": "scattercarpet"
           }
          ],
          "scattergeo": [
           {
            "marker": {
             "colorbar": {
              "outlinewidth": 0,
              "ticks": ""
             }
            },
            "type": "scattergeo"
           }
          ],
          "scattergl": [
           {
            "marker": {
             "colorbar": {
              "outlinewidth": 0,
              "ticks": ""
             }
            },
            "type": "scattergl"
           }
          ],
          "scattermapbox": [
           {
            "marker": {
             "colorbar": {
              "outlinewidth": 0,
              "ticks": ""
             }
            },
            "type": "scattermapbox"
           }
          ],
          "scatterpolar": [
           {
            "marker": {
             "colorbar": {
              "outlinewidth": 0,
              "ticks": ""
             }
            },
            "type": "scatterpolar"
           }
          ],
          "scatterpolargl": [
           {
            "marker": {
             "colorbar": {
              "outlinewidth": 0,
              "ticks": ""
             }
            },
            "type": "scatterpolargl"
           }
          ],
          "scatterternary": [
           {
            "marker": {
             "colorbar": {
              "outlinewidth": 0,
              "ticks": ""
             }
            },
            "type": "scatterternary"
           }
          ],
          "surface": [
           {
            "colorbar": {
             "outlinewidth": 0,
             "ticks": ""
            },
            "colorscale": [
             [
              0,
              "#0d0887"
             ],
             [
              0.1111111111111111,
              "#46039f"
             ],
             [
              0.2222222222222222,
              "#7201a8"
             ],
             [
              0.3333333333333333,
              "#9c179e"
             ],
             [
              0.4444444444444444,
              "#bd3786"
             ],
             [
              0.5555555555555556,
              "#d8576b"
             ],
             [
              0.6666666666666666,
              "#ed7953"
             ],
             [
              0.7777777777777778,
              "#fb9f3a"
             ],
             [
              0.8888888888888888,
              "#fdca26"
             ],
             [
              1,
              "#f0f921"
             ]
            ],
            "type": "surface"
           }
          ],
          "table": [
           {
            "cells": {
             "fill": {
              "color": "#EBF0F8"
             },
             "line": {
              "color": "white"
             }
            },
            "header": {
             "fill": {
              "color": "#C8D4E3"
             },
             "line": {
              "color": "white"
             }
            },
            "type": "table"
           }
          ]
         },
         "layout": {
          "annotationdefaults": {
           "arrowcolor": "#2a3f5f",
           "arrowhead": 0,
           "arrowwidth": 1
          },
          "autotypenumbers": "strict",
          "coloraxis": {
           "colorbar": {
            "outlinewidth": 0,
            "ticks": ""
           }
          },
          "colorscale": {
           "diverging": [
            [
             0,
             "#8e0152"
            ],
            [
             0.1,
             "#c51b7d"
            ],
            [
             0.2,
             "#de77ae"
            ],
            [
             0.3,
             "#f1b6da"
            ],
            [
             0.4,
             "#fde0ef"
            ],
            [
             0.5,
             "#f7f7f7"
            ],
            [
             0.6,
             "#e6f5d0"
            ],
            [
             0.7,
             "#b8e186"
            ],
            [
             0.8,
             "#7fbc41"
            ],
            [
             0.9,
             "#4d9221"
            ],
            [
             1,
             "#276419"
            ]
           ],
           "sequential": [
            [
             0,
             "#0d0887"
            ],
            [
             0.1111111111111111,
             "#46039f"
            ],
            [
             0.2222222222222222,
             "#7201a8"
            ],
            [
             0.3333333333333333,
             "#9c179e"
            ],
            [
             0.4444444444444444,
             "#bd3786"
            ],
            [
             0.5555555555555556,
             "#d8576b"
            ],
            [
             0.6666666666666666,
             "#ed7953"
            ],
            [
             0.7777777777777778,
             "#fb9f3a"
            ],
            [
             0.8888888888888888,
             "#fdca26"
            ],
            [
             1,
             "#f0f921"
            ]
           ],
           "sequentialminus": [
            [
             0,
             "#0d0887"
            ],
            [
             0.1111111111111111,
             "#46039f"
            ],
            [
             0.2222222222222222,
             "#7201a8"
            ],
            [
             0.3333333333333333,
             "#9c179e"
            ],
            [
             0.4444444444444444,
             "#bd3786"
            ],
            [
             0.5555555555555556,
             "#d8576b"
            ],
            [
             0.6666666666666666,
             "#ed7953"
            ],
            [
             0.7777777777777778,
             "#fb9f3a"
            ],
            [
             0.8888888888888888,
             "#fdca26"
            ],
            [
             1,
             "#f0f921"
            ]
           ]
          },
          "colorway": [
           "#636efa",
           "#EF553B",
           "#00cc96",
           "#ab63fa",
           "#FFA15A",
           "#19d3f3",
           "#FF6692",
           "#B6E880",
           "#FF97FF",
           "#FECB52"
          ],
          "font": {
           "color": "#2a3f5f"
          },
          "geo": {
           "bgcolor": "white",
           "lakecolor": "white",
           "landcolor": "white",
           "showlakes": true,
           "showland": true,
           "subunitcolor": "#C8D4E3"
          },
          "hoverlabel": {
           "align": "left"
          },
          "hovermode": "closest",
          "mapbox": {
           "style": "light"
          },
          "paper_bgcolor": "white",
          "plot_bgcolor": "white",
          "polar": {
           "angularaxis": {
            "gridcolor": "#EBF0F8",
            "linecolor": "#EBF0F8",
            "ticks": ""
           },
           "bgcolor": "white",
           "radialaxis": {
            "gridcolor": "#EBF0F8",
            "linecolor": "#EBF0F8",
            "ticks": ""
           }
          },
          "scene": {
           "xaxis": {
            "backgroundcolor": "white",
            "gridcolor": "#DFE8F3",
            "gridwidth": 2,
            "linecolor": "#EBF0F8",
            "showbackground": true,
            "ticks": "",
            "zerolinecolor": "#EBF0F8"
           },
           "yaxis": {
            "backgroundcolor": "white",
            "gridcolor": "#DFE8F3",
            "gridwidth": 2,
            "linecolor": "#EBF0F8",
            "showbackground": true,
            "ticks": "",
            "zerolinecolor": "#EBF0F8"
           },
           "zaxis": {
            "backgroundcolor": "white",
            "gridcolor": "#DFE8F3",
            "gridwidth": 2,
            "linecolor": "#EBF0F8",
            "showbackground": true,
            "ticks": "",
            "zerolinecolor": "#EBF0F8"
           }
          },
          "shapedefaults": {
           "line": {
            "color": "#2a3f5f"
           }
          },
          "ternary": {
           "aaxis": {
            "gridcolor": "#DFE8F3",
            "linecolor": "#A2B1C6",
            "ticks": ""
           },
           "baxis": {
            "gridcolor": "#DFE8F3",
            "linecolor": "#A2B1C6",
            "ticks": ""
           },
           "bgcolor": "white",
           "caxis": {
            "gridcolor": "#DFE8F3",
            "linecolor": "#A2B1C6",
            "ticks": ""
           }
          },
          "title": {
           "x": 0.05
          },
          "xaxis": {
           "automargin": true,
           "gridcolor": "#EBF0F8",
           "linecolor": "#EBF0F8",
           "ticks": "",
           "title": {
            "standoff": 15
           },
           "zerolinecolor": "#EBF0F8",
           "zerolinewidth": 2
          },
          "yaxis": {
           "automargin": true,
           "gridcolor": "#EBF0F8",
           "linecolor": "#EBF0F8",
           "ticks": "",
           "title": {
            "standoff": 15
           },
           "zerolinecolor": "#EBF0F8",
           "zerolinewidth": 2
          }
         }
        },
        "title": {
         "text": "Market Share of Top 10 Brands"
        }
       }
      }
     },
     "metadata": {},
     "output_type": "display_data"
    }
   ],
   "source": [
    "import plotly.express as px\n",
    "\n",
    "# For the market share visualization, we'll use the previously calculated market share data\n",
    "# Let's take the top 10 brands for a clearer visualization\n",
    "top_brands_market_share = brand_performance.head(10).reset_index()\n",
    "\n",
    "# Create a pie chart for market share of the top 10 brands\n",
    "market_share_fig = px.pie(top_brands_market_share, \n",
    "                          values='Market Share (%)', \n",
    "                          names='brand', \n",
    "                          title='Market Share of Top 10 Brands')\n",
    "\n",
    "market_share_fig.show()\n"
   ]
  },
  {
   "cell_type": "code",
   "execution_count": 129,
   "metadata": {},
   "outputs": [
    {
     "data": {
      "application/vnd.plotly.v1+json": {
       "config": {
        "plotlyServerURL": "https://plot.ly"
       },
       "data": [
        {
         "fill": "toself",
         "name": "Market Share (%)",
         "r": [
          1,
          0.6333540991642537,
          0.6286772483679026,
          0.4130357618995675,
          0.3640624550443354,
          0.10989514665759108,
          0.05188170276941514,
          0
         ],
         "theta": [
          "Prestige",
          "Dkny",
          "bb Royal",
          "BB Home",
          "Hawkins",
          "bb Combo",
          "Ajmal",
          "DP"
         ],
         "type": "scatterpolar"
        },
        {
         "fill": "toself",
         "name": "Average Rating",
         "r": [
          0.01380644477422062,
          1,
          0.39775988198205464,
          0.4355637461843214,
          0.2677256877179388,
          0.3837780898876405,
          0,
          0.4943820224719101
         ],
         "theta": [
          "Prestige",
          "Dkny",
          "bb Royal",
          "BB Home",
          "Hawkins",
          "bb Combo",
          "Ajmal",
          "DP"
         ],
         "type": "scatterpolar"
        },
        {
         "fill": "toself",
         "name": "Total Reviews Count",
         "r": [
          0.07630308329848307,
          0,
          1,
          0.7791886857012508,
          0.026841044747747404,
          0.27776299281450784,
          0.09679504239060183,
          0.39254077481656086
         ],
         "theta": [
          "Prestige",
          "Dkny",
          "bb Royal",
          "BB Home",
          "Hawkins",
          "bb Combo",
          "Ajmal",
          "DP"
         ],
         "type": "scatterpolar"
        }
       ],
       "layout": {
        "polar": {
         "radialaxis": {
          "range": [
           0,
           1
          ],
          "visible": true
         }
        },
        "template": {
         "data": {
          "bar": [
           {
            "error_x": {
             "color": "#2a3f5f"
            },
            "error_y": {
             "color": "#2a3f5f"
            },
            "marker": {
             "line": {
              "color": "#E5ECF6",
              "width": 0.5
             },
             "pattern": {
              "fillmode": "overlay",
              "size": 10,
              "solidity": 0.2
             }
            },
            "type": "bar"
           }
          ],
          "barpolar": [
           {
            "marker": {
             "line": {
              "color": "#E5ECF6",
              "width": 0.5
             },
             "pattern": {
              "fillmode": "overlay",
              "size": 10,
              "solidity": 0.2
             }
            },
            "type": "barpolar"
           }
          ],
          "carpet": [
           {
            "aaxis": {
             "endlinecolor": "#2a3f5f",
             "gridcolor": "white",
             "linecolor": "white",
             "minorgridcolor": "white",
             "startlinecolor": "#2a3f5f"
            },
            "baxis": {
             "endlinecolor": "#2a3f5f",
             "gridcolor": "white",
             "linecolor": "white",
             "minorgridcolor": "white",
             "startlinecolor": "#2a3f5f"
            },
            "type": "carpet"
           }
          ],
          "choropleth": [
           {
            "colorbar": {
             "outlinewidth": 0,
             "ticks": ""
            },
            "type": "choropleth"
           }
          ],
          "contour": [
           {
            "colorbar": {
             "outlinewidth": 0,
             "ticks": ""
            },
            "colorscale": [
             [
              0,
              "#0d0887"
             ],
             [
              0.1111111111111111,
              "#46039f"
             ],
             [
              0.2222222222222222,
              "#7201a8"
             ],
             [
              0.3333333333333333,
              "#9c179e"
             ],
             [
              0.4444444444444444,
              "#bd3786"
             ],
             [
              0.5555555555555556,
              "#d8576b"
             ],
             [
              0.6666666666666666,
              "#ed7953"
             ],
             [
              0.7777777777777778,
              "#fb9f3a"
             ],
             [
              0.8888888888888888,
              "#fdca26"
             ],
             [
              1,
              "#f0f921"
             ]
            ],
            "type": "contour"
           }
          ],
          "contourcarpet": [
           {
            "colorbar": {
             "outlinewidth": 0,
             "ticks": ""
            },
            "type": "contourcarpet"
           }
          ],
          "heatmap": [
           {
            "colorbar": {
             "outlinewidth": 0,
             "ticks": ""
            },
            "colorscale": [
             [
              0,
              "#0d0887"
             ],
             [
              0.1111111111111111,
              "#46039f"
             ],
             [
              0.2222222222222222,
              "#7201a8"
             ],
             [
              0.3333333333333333,
              "#9c179e"
             ],
             [
              0.4444444444444444,
              "#bd3786"
             ],
             [
              0.5555555555555556,
              "#d8576b"
             ],
             [
              0.6666666666666666,
              "#ed7953"
             ],
             [
              0.7777777777777778,
              "#fb9f3a"
             ],
             [
              0.8888888888888888,
              "#fdca26"
             ],
             [
              1,
              "#f0f921"
             ]
            ],
            "type": "heatmap"
           }
          ],
          "heatmapgl": [
           {
            "colorbar": {
             "outlinewidth": 0,
             "ticks": ""
            },
            "colorscale": [
             [
              0,
              "#0d0887"
             ],
             [
              0.1111111111111111,
              "#46039f"
             ],
             [
              0.2222222222222222,
              "#7201a8"
             ],
             [
              0.3333333333333333,
              "#9c179e"
             ],
             [
              0.4444444444444444,
              "#bd3786"
             ],
             [
              0.5555555555555556,
              "#d8576b"
             ],
             [
              0.6666666666666666,
              "#ed7953"
             ],
             [
              0.7777777777777778,
              "#fb9f3a"
             ],
             [
              0.8888888888888888,
              "#fdca26"
             ],
             [
              1,
              "#f0f921"
             ]
            ],
            "type": "heatmapgl"
           }
          ],
          "histogram": [
           {
            "marker": {
             "pattern": {
              "fillmode": "overlay",
              "size": 10,
              "solidity": 0.2
             }
            },
            "type": "histogram"
           }
          ],
          "histogram2d": [
           {
            "colorbar": {
             "outlinewidth": 0,
             "ticks": ""
            },
            "colorscale": [
             [
              0,
              "#0d0887"
             ],
             [
              0.1111111111111111,
              "#46039f"
             ],
             [
              0.2222222222222222,
              "#7201a8"
             ],
             [
              0.3333333333333333,
              "#9c179e"
             ],
             [
              0.4444444444444444,
              "#bd3786"
             ],
             [
              0.5555555555555556,
              "#d8576b"
             ],
             [
              0.6666666666666666,
              "#ed7953"
             ],
             [
              0.7777777777777778,
              "#fb9f3a"
             ],
             [
              0.8888888888888888,
              "#fdca26"
             ],
             [
              1,
              "#f0f921"
             ]
            ],
            "type": "histogram2d"
           }
          ],
          "histogram2dcontour": [
           {
            "colorbar": {
             "outlinewidth": 0,
             "ticks": ""
            },
            "colorscale": [
             [
              0,
              "#0d0887"
             ],
             [
              0.1111111111111111,
              "#46039f"
             ],
             [
              0.2222222222222222,
              "#7201a8"
             ],
             [
              0.3333333333333333,
              "#9c179e"
             ],
             [
              0.4444444444444444,
              "#bd3786"
             ],
             [
              0.5555555555555556,
              "#d8576b"
             ],
             [
              0.6666666666666666,
              "#ed7953"
             ],
             [
              0.7777777777777778,
              "#fb9f3a"
             ],
             [
              0.8888888888888888,
              "#fdca26"
             ],
             [
              1,
              "#f0f921"
             ]
            ],
            "type": "histogram2dcontour"
           }
          ],
          "mesh3d": [
           {
            "colorbar": {
             "outlinewidth": 0,
             "ticks": ""
            },
            "type": "mesh3d"
           }
          ],
          "parcoords": [
           {
            "line": {
             "colorbar": {
              "outlinewidth": 0,
              "ticks": ""
             }
            },
            "type": "parcoords"
           }
          ],
          "pie": [
           {
            "automargin": true,
            "type": "pie"
           }
          ],
          "scatter": [
           {
            "fillpattern": {
             "fillmode": "overlay",
             "size": 10,
             "solidity": 0.2
            },
            "type": "scatter"
           }
          ],
          "scatter3d": [
           {
            "line": {
             "colorbar": {
              "outlinewidth": 0,
              "ticks": ""
             }
            },
            "marker": {
             "colorbar": {
              "outlinewidth": 0,
              "ticks": ""
             }
            },
            "type": "scatter3d"
           }
          ],
          "scattercarpet": [
           {
            "marker": {
             "colorbar": {
              "outlinewidth": 0,
              "ticks": ""
             }
            },
            "type": "scattercarpet"
           }
          ],
          "scattergeo": [
           {
            "marker": {
             "colorbar": {
              "outlinewidth": 0,
              "ticks": ""
             }
            },
            "type": "scattergeo"
           }
          ],
          "scattergl": [
           {
            "marker": {
             "colorbar": {
              "outlinewidth": 0,
              "ticks": ""
             }
            },
            "type": "scattergl"
           }
          ],
          "scattermapbox": [
           {
            "marker": {
             "colorbar": {
              "outlinewidth": 0,
              "ticks": ""
             }
            },
            "type": "scattermapbox"
           }
          ],
          "scatterpolar": [
           {
            "marker": {
             "colorbar": {
              "outlinewidth": 0,
              "ticks": ""
             }
            },
            "type": "scatterpolar"
           }
          ],
          "scatterpolargl": [
           {
            "marker": {
             "colorbar": {
              "outlinewidth": 0,
              "ticks": ""
             }
            },
            "type": "scatterpolargl"
           }
          ],
          "scatterternary": [
           {
            "marker": {
             "colorbar": {
              "outlinewidth": 0,
              "ticks": ""
             }
            },
            "type": "scatterternary"
           }
          ],
          "surface": [
           {
            "colorbar": {
             "outlinewidth": 0,
             "ticks": ""
            },
            "colorscale": [
             [
              0,
              "#0d0887"
             ],
             [
              0.1111111111111111,
              "#46039f"
             ],
             [
              0.2222222222222222,
              "#7201a8"
             ],
             [
              0.3333333333333333,
              "#9c179e"
             ],
             [
              0.4444444444444444,
              "#bd3786"
             ],
             [
              0.5555555555555556,
              "#d8576b"
             ],
             [
              0.6666666666666666,
              "#ed7953"
             ],
             [
              0.7777777777777778,
              "#fb9f3a"
             ],
             [
              0.8888888888888888,
              "#fdca26"
             ],
             [
              1,
              "#f0f921"
             ]
            ],
            "type": "surface"
           }
          ],
          "table": [
           {
            "cells": {
             "fill": {
              "color": "#EBF0F8"
             },
             "line": {
              "color": "white"
             }
            },
            "header": {
             "fill": {
              "color": "#C8D4E3"
             },
             "line": {
              "color": "white"
             }
            },
            "type": "table"
           }
          ]
         },
         "layout": {
          "annotationdefaults": {
           "arrowcolor": "#2a3f5f",
           "arrowhead": 0,
           "arrowwidth": 1
          },
          "autotypenumbers": "strict",
          "coloraxis": {
           "colorbar": {
            "outlinewidth": 0,
            "ticks": ""
           }
          },
          "colorscale": {
           "diverging": [
            [
             0,
             "#8e0152"
            ],
            [
             0.1,
             "#c51b7d"
            ],
            [
             0.2,
             "#de77ae"
            ],
            [
             0.3,
             "#f1b6da"
            ],
            [
             0.4,
             "#fde0ef"
            ],
            [
             0.5,
             "#f7f7f7"
            ],
            [
             0.6,
             "#e6f5d0"
            ],
            [
             0.7,
             "#b8e186"
            ],
            [
             0.8,
             "#7fbc41"
            ],
            [
             0.9,
             "#4d9221"
            ],
            [
             1,
             "#276419"
            ]
           ],
           "sequential": [
            [
             0,
             "#0d0887"
            ],
            [
             0.1111111111111111,
             "#46039f"
            ],
            [
             0.2222222222222222,
             "#7201a8"
            ],
            [
             0.3333333333333333,
             "#9c179e"
            ],
            [
             0.4444444444444444,
             "#bd3786"
            ],
            [
             0.5555555555555556,
             "#d8576b"
            ],
            [
             0.6666666666666666,
             "#ed7953"
            ],
            [
             0.7777777777777778,
             "#fb9f3a"
            ],
            [
             0.8888888888888888,
             "#fdca26"
            ],
            [
             1,
             "#f0f921"
            ]
           ],
           "sequentialminus": [
            [
             0,
             "#0d0887"
            ],
            [
             0.1111111111111111,
             "#46039f"
            ],
            [
             0.2222222222222222,
             "#7201a8"
            ],
            [
             0.3333333333333333,
             "#9c179e"
            ],
            [
             0.4444444444444444,
             "#bd3786"
            ],
            [
             0.5555555555555556,
             "#d8576b"
            ],
            [
             0.6666666666666666,
             "#ed7953"
            ],
            [
             0.7777777777777778,
             "#fb9f3a"
            ],
            [
             0.8888888888888888,
             "#fdca26"
            ],
            [
             1,
             "#f0f921"
            ]
           ]
          },
          "colorway": [
           "#636efa",
           "#EF553B",
           "#00cc96",
           "#ab63fa",
           "#FFA15A",
           "#19d3f3",
           "#FF6692",
           "#B6E880",
           "#FF97FF",
           "#FECB52"
          ],
          "font": {
           "color": "#2a3f5f"
          },
          "geo": {
           "bgcolor": "white",
           "lakecolor": "white",
           "landcolor": "#E5ECF6",
           "showlakes": true,
           "showland": true,
           "subunitcolor": "white"
          },
          "hoverlabel": {
           "align": "left"
          },
          "hovermode": "closest",
          "mapbox": {
           "style": "light"
          },
          "paper_bgcolor": "white",
          "plot_bgcolor": "#E5ECF6",
          "polar": {
           "angularaxis": {
            "gridcolor": "white",
            "linecolor": "white",
            "ticks": ""
           },
           "bgcolor": "#E5ECF6",
           "radialaxis": {
            "gridcolor": "white",
            "linecolor": "white",
            "ticks": ""
           }
          },
          "scene": {
           "xaxis": {
            "backgroundcolor": "#E5ECF6",
            "gridcolor": "white",
            "gridwidth": 2,
            "linecolor": "white",
            "showbackground": true,
            "ticks": "",
            "zerolinecolor": "white"
           },
           "yaxis": {
            "backgroundcolor": "#E5ECF6",
            "gridcolor": "white",
            "gridwidth": 2,
            "linecolor": "white",
            "showbackground": true,
            "ticks": "",
            "zerolinecolor": "white"
           },
           "zaxis": {
            "backgroundcolor": "#E5ECF6",
            "gridcolor": "white",
            "gridwidth": 2,
            "linecolor": "white",
            "showbackground": true,
            "ticks": "",
            "zerolinecolor": "white"
           }
          },
          "shapedefaults": {
           "line": {
            "color": "#2a3f5f"
           }
          },
          "ternary": {
           "aaxis": {
            "gridcolor": "white",
            "linecolor": "white",
            "ticks": ""
           },
           "baxis": {
            "gridcolor": "white",
            "linecolor": "white",
            "ticks": ""
           },
           "bgcolor": "#E5ECF6",
           "caxis": {
            "gridcolor": "white",
            "linecolor": "white",
            "ticks": ""
           }
          },
          "title": {
           "x": 0.05
          },
          "xaxis": {
           "automargin": true,
           "gridcolor": "white",
           "linecolor": "white",
           "ticks": "",
           "title": {
            "standoff": 15
           },
           "zerolinecolor": "white",
           "zerolinewidth": 2
          },
          "yaxis": {
           "automargin": true,
           "gridcolor": "white",
           "linecolor": "white",
           "ticks": "",
           "title": {
            "standoff": 15
           },
           "zerolinecolor": "white",
           "zerolinewidth": 2
          }
         }
        },
        "title": {
         "text": "Comparison of Top Brands across Market Share, Average Rating, and Total Reviews"
        }
       }
      }
     },
     "metadata": {},
     "output_type": "display_data"
    }
   ],
   "source": [
    "\n",
    "\n",
    "# Considering the top brands for the radar chart to avoid clutter\n",
    "top_brands = brand_performance.head(8)\n",
    "\n",
    "# Normalizing the data for radar chart representation\n",
    "normalized_top_brands = (top_brands - top_brands.min()) / (top_brands.max() - top_brands.min())\n",
    "\n",
    "# Create a radar chart\n",
    "fig = go.Figure()\n",
    "\n",
    "fig.add_trace(go.Scatterpolar(\n",
    "    r=normalized_top_brands['Market Share (%)'].tolist(),\n",
    "    theta=normalized_top_brands.index.tolist(),\n",
    "    fill='toself',\n",
    "    name='Market Share (%)'\n",
    "))\n",
    "\n",
    "fig.add_trace(go.Scatterpolar(\n",
    "    r=normalized_top_brands['Average Rating'].tolist(),\n",
    "    theta=normalized_top_brands.index.tolist(),\n",
    "    fill='toself',\n",
    "    name='Average Rating'\n",
    "))\n",
    "\n",
    "fig.add_trace(go.Scatterpolar(\n",
    "    r=normalized_top_brands['Total Reviews Count'].tolist(),\n",
    "    theta=normalized_top_brands.index.tolist(),\n",
    "    fill='toself',\n",
    "    name='Total Reviews Count'\n",
    "))\n",
    "\n",
    "# Set the chart details\n",
    "fig.update_layout(\n",
    "    polar=dict(\n",
    "        radialaxis=dict(\n",
    "            visible=True,\n",
    "            range=[0, 1]\n",
    "        )\n",
    "    ),\n",
    "    title=\"Comparison of Top Brands across Market Share, Average Rating, and Total Reviews\"\n",
    ")\n",
    "\n",
    "fig.show()\n"
   ]
  },
  {
   "cell_type": "code",
   "execution_count": 130,
   "metadata": {},
   "outputs": [
    {
     "data": {
      "application/vnd.plotly.v1+json": {
       "config": {
        "plotlyServerURL": "https://plot.ly"
       },
       "data": [
        {
         "hovertemplate": "<b>%{hovertext}</b><br><br>Average Rating=%{x}<br>Total Reviews Count=%{y}<br>Market Share (%)=%{marker.color}<extra></extra>",
         "hovertext": [
          "Prestige",
          "Dkny",
          "bb Royal",
          "BB Home",
          "Hawkins",
          "bb Combo",
          "Ajmal",
          "DP",
          "Huggies",
          "StBotanica",
          "Soulflower",
          "INATUR ",
          "Corelle",
          "Cello",
          "Pampers "
         ],
         "legendgroup": "",
         "marker": {
          "color": [
           1.5549862101282064,
           1.2868385772506092,
           1.2834181477094508,
           1.1257080682707203,
           1.08989128625438,
           0.904005225770894,
           0.8615769110993475,
           0.8236330645826776,
           0.7499247602835272,
           0.7126560651715008,
           0.6796552271386945,
           0.658261367004052,
           0.6541429434357263,
           0.648495301935883,
           0.6368398256618191
          ],
          "coloraxis": "coloraxis",
          "size": [
           1.5549862101282064,
           1.2868385772506092,
           1.2834181477094508,
           1.1257080682707203,
           1.08989128625438,
           0.904005225770894,
           0.8615769110993475,
           0.8236330645826776,
           0.7499247602835272,
           0.7126560651715008,
           0.6796552271386945,
           0.658261367004052,
           0.6541429434357263,
           0.648495301935883,
           0.6368398256618191
          ],
          "sizemode": "area",
          "sizeref": 0.00043194061392450175,
          "symbol": "circle"
         },
         "mode": "markers",
         "name": "",
         "orientation": "v",
         "showlegend": false,
         "type": "scatter",
         "x": [
          3.439622641509434,
          5,
          4.047122302158273,
          4.106936416184971,
          3.841379310344828,
          4.025,
          3.4177777777777782,
          4.2,
          4.1191489361702125,
          3.8765625,
          4.022058823529412,
          3.810989010989011,
          4.246153846153846,
          3.875,
          4.185245901639345
         ],
         "xaxis": "x",
         "y": [
          3064,
          1057,
          27360,
          21552,
          1763,
          8363,
          3603,
          11382,
          3561,
          4723,
          5013,
          7457,
          1431,
          6088,
          3160
         ],
         "yaxis": "y"
        }
       ],
       "layout": {
        "coloraxis": {
         "colorbar": {
          "title": {
           "text": "Market Share (%)"
          }
         },
         "colorscale": [
          [
           0,
           "#0d0887"
          ],
          [
           0.1111111111111111,
           "#46039f"
          ],
          [
           0.2222222222222222,
           "#7201a8"
          ],
          [
           0.3333333333333333,
           "#9c179e"
          ],
          [
           0.4444444444444444,
           "#bd3786"
          ],
          [
           0.5555555555555556,
           "#d8576b"
          ],
          [
           0.6666666666666666,
           "#ed7953"
          ],
          [
           0.7777777777777778,
           "#fb9f3a"
          ],
          [
           0.8888888888888888,
           "#fdca26"
          ],
          [
           1,
           "#f0f921"
          ]
         ]
        },
        "legend": {
         "itemsizing": "constant",
         "tracegroupgap": 0
        },
        "margin": {
         "t": 60
        },
        "template": {
         "data": {
          "bar": [
           {
            "error_x": {
             "color": "#2a3f5f"
            },
            "error_y": {
             "color": "#2a3f5f"
            },
            "marker": {
             "line": {
              "color": "white",
              "width": 0.5
             },
             "pattern": {
              "fillmode": "overlay",
              "size": 10,
              "solidity": 0.2
             }
            },
            "type": "bar"
           }
          ],
          "barpolar": [
           {
            "marker": {
             "line": {
              "color": "white",
              "width": 0.5
             },
             "pattern": {
              "fillmode": "overlay",
              "size": 10,
              "solidity": 0.2
             }
            },
            "type": "barpolar"
           }
          ],
          "carpet": [
           {
            "aaxis": {
             "endlinecolor": "#2a3f5f",
             "gridcolor": "#C8D4E3",
             "linecolor": "#C8D4E3",
             "minorgridcolor": "#C8D4E3",
             "startlinecolor": "#2a3f5f"
            },
            "baxis": {
             "endlinecolor": "#2a3f5f",
             "gridcolor": "#C8D4E3",
             "linecolor": "#C8D4E3",
             "minorgridcolor": "#C8D4E3",
             "startlinecolor": "#2a3f5f"
            },
            "type": "carpet"
           }
          ],
          "choropleth": [
           {
            "colorbar": {
             "outlinewidth": 0,
             "ticks": ""
            },
            "type": "choropleth"
           }
          ],
          "contour": [
           {
            "colorbar": {
             "outlinewidth": 0,
             "ticks": ""
            },
            "colorscale": [
             [
              0,
              "#0d0887"
             ],
             [
              0.1111111111111111,
              "#46039f"
             ],
             [
              0.2222222222222222,
              "#7201a8"
             ],
             [
              0.3333333333333333,
              "#9c179e"
             ],
             [
              0.4444444444444444,
              "#bd3786"
             ],
             [
              0.5555555555555556,
              "#d8576b"
             ],
             [
              0.6666666666666666,
              "#ed7953"
             ],
             [
              0.7777777777777778,
              "#fb9f3a"
             ],
             [
              0.8888888888888888,
              "#fdca26"
             ],
             [
              1,
              "#f0f921"
             ]
            ],
            "type": "contour"
           }
          ],
          "contourcarpet": [
           {
            "colorbar": {
             "outlinewidth": 0,
             "ticks": ""
            },
            "type": "contourcarpet"
           }
          ],
          "heatmap": [
           {
            "colorbar": {
             "outlinewidth": 0,
             "ticks": ""
            },
            "colorscale": [
             [
              0,
              "#0d0887"
             ],
             [
              0.1111111111111111,
              "#46039f"
             ],
             [
              0.2222222222222222,
              "#7201a8"
             ],
             [
              0.3333333333333333,
              "#9c179e"
             ],
             [
              0.4444444444444444,
              "#bd3786"
             ],
             [
              0.5555555555555556,
              "#d8576b"
             ],
             [
              0.6666666666666666,
              "#ed7953"
             ],
             [
              0.7777777777777778,
              "#fb9f3a"
             ],
             [
              0.8888888888888888,
              "#fdca26"
             ],
             [
              1,
              "#f0f921"
             ]
            ],
            "type": "heatmap"
           }
          ],
          "heatmapgl": [
           {
            "colorbar": {
             "outlinewidth": 0,
             "ticks": ""
            },
            "colorscale": [
             [
              0,
              "#0d0887"
             ],
             [
              0.1111111111111111,
              "#46039f"
             ],
             [
              0.2222222222222222,
              "#7201a8"
             ],
             [
              0.3333333333333333,
              "#9c179e"
             ],
             [
              0.4444444444444444,
              "#bd3786"
             ],
             [
              0.5555555555555556,
              "#d8576b"
             ],
             [
              0.6666666666666666,
              "#ed7953"
             ],
             [
              0.7777777777777778,
              "#fb9f3a"
             ],
             [
              0.8888888888888888,
              "#fdca26"
             ],
             [
              1,
              "#f0f921"
             ]
            ],
            "type": "heatmapgl"
           }
          ],
          "histogram": [
           {
            "marker": {
             "pattern": {
              "fillmode": "overlay",
              "size": 10,
              "solidity": 0.2
             }
            },
            "type": "histogram"
           }
          ],
          "histogram2d": [
           {
            "colorbar": {
             "outlinewidth": 0,
             "ticks": ""
            },
            "colorscale": [
             [
              0,
              "#0d0887"
             ],
             [
              0.1111111111111111,
              "#46039f"
             ],
             [
              0.2222222222222222,
              "#7201a8"
             ],
             [
              0.3333333333333333,
              "#9c179e"
             ],
             [
              0.4444444444444444,
              "#bd3786"
             ],
             [
              0.5555555555555556,
              "#d8576b"
             ],
             [
              0.6666666666666666,
              "#ed7953"
             ],
             [
              0.7777777777777778,
              "#fb9f3a"
             ],
             [
              0.8888888888888888,
              "#fdca26"
             ],
             [
              1,
              "#f0f921"
             ]
            ],
            "type": "histogram2d"
           }
          ],
          "histogram2dcontour": [
           {
            "colorbar": {
             "outlinewidth": 0,
             "ticks": ""
            },
            "colorscale": [
             [
              0,
              "#0d0887"
             ],
             [
              0.1111111111111111,
              "#46039f"
             ],
             [
              0.2222222222222222,
              "#7201a8"
             ],
             [
              0.3333333333333333,
              "#9c179e"
             ],
             [
              0.4444444444444444,
              "#bd3786"
             ],
             [
              0.5555555555555556,
              "#d8576b"
             ],
             [
              0.6666666666666666,
              "#ed7953"
             ],
             [
              0.7777777777777778,
              "#fb9f3a"
             ],
             [
              0.8888888888888888,
              "#fdca26"
             ],
             [
              1,
              "#f0f921"
             ]
            ],
            "type": "histogram2dcontour"
           }
          ],
          "mesh3d": [
           {
            "colorbar": {
             "outlinewidth": 0,
             "ticks": ""
            },
            "type": "mesh3d"
           }
          ],
          "parcoords": [
           {
            "line": {
             "colorbar": {
              "outlinewidth": 0,
              "ticks": ""
             }
            },
            "type": "parcoords"
           }
          ],
          "pie": [
           {
            "automargin": true,
            "type": "pie"
           }
          ],
          "scatter": [
           {
            "fillpattern": {
             "fillmode": "overlay",
             "size": 10,
             "solidity": 0.2
            },
            "type": "scatter"
           }
          ],
          "scatter3d": [
           {
            "line": {
             "colorbar": {
              "outlinewidth": 0,
              "ticks": ""
             }
            },
            "marker": {
             "colorbar": {
              "outlinewidth": 0,
              "ticks": ""
             }
            },
            "type": "scatter3d"
           }
          ],
          "scattercarpet": [
           {
            "marker": {
             "colorbar": {
              "outlinewidth": 0,
              "ticks": ""
             }
            },
            "type": "scattercarpet"
           }
          ],
          "scattergeo": [
           {
            "marker": {
             "colorbar": {
              "outlinewidth": 0,
              "ticks": ""
             }
            },
            "type": "scattergeo"
           }
          ],
          "scattergl": [
           {
            "marker": {
             "colorbar": {
              "outlinewidth": 0,
              "ticks": ""
             }
            },
            "type": "scattergl"
           }
          ],
          "scattermapbox": [
           {
            "marker": {
             "colorbar": {
              "outlinewidth": 0,
              "ticks": ""
             }
            },
            "type": "scattermapbox"
           }
          ],
          "scatterpolar": [
           {
            "marker": {
             "colorbar": {
              "outlinewidth": 0,
              "ticks": ""
             }
            },
            "type": "scatterpolar"
           }
          ],
          "scatterpolargl": [
           {
            "marker": {
             "colorbar": {
              "outlinewidth": 0,
              "ticks": ""
             }
            },
            "type": "scatterpolargl"
           }
          ],
          "scatterternary": [
           {
            "marker": {
             "colorbar": {
              "outlinewidth": 0,
              "ticks": ""
             }
            },
            "type": "scatterternary"
           }
          ],
          "surface": [
           {
            "colorbar": {
             "outlinewidth": 0,
             "ticks": ""
            },
            "colorscale": [
             [
              0,
              "#0d0887"
             ],
             [
              0.1111111111111111,
              "#46039f"
             ],
             [
              0.2222222222222222,
              "#7201a8"
             ],
             [
              0.3333333333333333,
              "#9c179e"
             ],
             [
              0.4444444444444444,
              "#bd3786"
             ],
             [
              0.5555555555555556,
              "#d8576b"
             ],
             [
              0.6666666666666666,
              "#ed7953"
             ],
             [
              0.7777777777777778,
              "#fb9f3a"
             ],
             [
              0.8888888888888888,
              "#fdca26"
             ],
             [
              1,
              "#f0f921"
             ]
            ],
            "type": "surface"
           }
          ],
          "table": [
           {
            "cells": {
             "fill": {
              "color": "#EBF0F8"
             },
             "line": {
              "color": "white"
             }
            },
            "header": {
             "fill": {
              "color": "#C8D4E3"
             },
             "line": {
              "color": "white"
             }
            },
            "type": "table"
           }
          ]
         },
         "layout": {
          "annotationdefaults": {
           "arrowcolor": "#2a3f5f",
           "arrowhead": 0,
           "arrowwidth": 1
          },
          "autotypenumbers": "strict",
          "coloraxis": {
           "colorbar": {
            "outlinewidth": 0,
            "ticks": ""
           }
          },
          "colorscale": {
           "diverging": [
            [
             0,
             "#8e0152"
            ],
            [
             0.1,
             "#c51b7d"
            ],
            [
             0.2,
             "#de77ae"
            ],
            [
             0.3,
             "#f1b6da"
            ],
            [
             0.4,
             "#fde0ef"
            ],
            [
             0.5,
             "#f7f7f7"
            ],
            [
             0.6,
             "#e6f5d0"
            ],
            [
             0.7,
             "#b8e186"
            ],
            [
             0.8,
             "#7fbc41"
            ],
            [
             0.9,
             "#4d9221"
            ],
            [
             1,
             "#276419"
            ]
           ],
           "sequential": [
            [
             0,
             "#0d0887"
            ],
            [
             0.1111111111111111,
             "#46039f"
            ],
            [
             0.2222222222222222,
             "#7201a8"
            ],
            [
             0.3333333333333333,
             "#9c179e"
            ],
            [
             0.4444444444444444,
             "#bd3786"
            ],
            [
             0.5555555555555556,
             "#d8576b"
            ],
            [
             0.6666666666666666,
             "#ed7953"
            ],
            [
             0.7777777777777778,
             "#fb9f3a"
            ],
            [
             0.8888888888888888,
             "#fdca26"
            ],
            [
             1,
             "#f0f921"
            ]
           ],
           "sequentialminus": [
            [
             0,
             "#0d0887"
            ],
            [
             0.1111111111111111,
             "#46039f"
            ],
            [
             0.2222222222222222,
             "#7201a8"
            ],
            [
             0.3333333333333333,
             "#9c179e"
            ],
            [
             0.4444444444444444,
             "#bd3786"
            ],
            [
             0.5555555555555556,
             "#d8576b"
            ],
            [
             0.6666666666666666,
             "#ed7953"
            ],
            [
             0.7777777777777778,
             "#fb9f3a"
            ],
            [
             0.8888888888888888,
             "#fdca26"
            ],
            [
             1,
             "#f0f921"
            ]
           ]
          },
          "colorway": [
           "#636efa",
           "#EF553B",
           "#00cc96",
           "#ab63fa",
           "#FFA15A",
           "#19d3f3",
           "#FF6692",
           "#B6E880",
           "#FF97FF",
           "#FECB52"
          ],
          "font": {
           "color": "#2a3f5f"
          },
          "geo": {
           "bgcolor": "white",
           "lakecolor": "white",
           "landcolor": "white",
           "showlakes": true,
           "showland": true,
           "subunitcolor": "#C8D4E3"
          },
          "hoverlabel": {
           "align": "left"
          },
          "hovermode": "closest",
          "mapbox": {
           "style": "light"
          },
          "paper_bgcolor": "white",
          "plot_bgcolor": "white",
          "polar": {
           "angularaxis": {
            "gridcolor": "#EBF0F8",
            "linecolor": "#EBF0F8",
            "ticks": ""
           },
           "bgcolor": "white",
           "radialaxis": {
            "gridcolor": "#EBF0F8",
            "linecolor": "#EBF0F8",
            "ticks": ""
           }
          },
          "scene": {
           "xaxis": {
            "backgroundcolor": "white",
            "gridcolor": "#DFE8F3",
            "gridwidth": 2,
            "linecolor": "#EBF0F8",
            "showbackground": true,
            "ticks": "",
            "zerolinecolor": "#EBF0F8"
           },
           "yaxis": {
            "backgroundcolor": "white",
            "gridcolor": "#DFE8F3",
            "gridwidth": 2,
            "linecolor": "#EBF0F8",
            "showbackground": true,
            "ticks": "",
            "zerolinecolor": "#EBF0F8"
           },
           "zaxis": {
            "backgroundcolor": "white",
            "gridcolor": "#DFE8F3",
            "gridwidth": 2,
            "linecolor": "#EBF0F8",
            "showbackground": true,
            "ticks": "",
            "zerolinecolor": "#EBF0F8"
           }
          },
          "shapedefaults": {
           "line": {
            "color": "#2a3f5f"
           }
          },
          "ternary": {
           "aaxis": {
            "gridcolor": "#DFE8F3",
            "linecolor": "#A2B1C6",
            "ticks": ""
           },
           "baxis": {
            "gridcolor": "#DFE8F3",
            "linecolor": "#A2B1C6",
            "ticks": ""
           },
           "bgcolor": "white",
           "caxis": {
            "gridcolor": "#DFE8F3",
            "linecolor": "#A2B1C6",
            "ticks": ""
           }
          },
          "title": {
           "x": 0.05
          },
          "xaxis": {
           "automargin": true,
           "gridcolor": "#EBF0F8",
           "linecolor": "#EBF0F8",
           "ticks": "",
           "title": {
            "standoff": 15
           },
           "zerolinecolor": "#EBF0F8",
           "zerolinewidth": 2
          },
          "yaxis": {
           "automargin": true,
           "gridcolor": "#EBF0F8",
           "linecolor": "#EBF0F8",
           "ticks": "",
           "title": {
            "standoff": 15
           },
           "zerolinecolor": "#EBF0F8",
           "zerolinewidth": 2
          }
         }
        },
        "title": {
         "text": "Brand Performance: Market Share, Average Rating, and Total Reviews"
        },
        "xaxis": {
         "anchor": "y",
         "domain": [
          0,
          1
         ],
         "title": {
          "text": "Average Rating"
         }
        },
        "yaxis": {
         "anchor": "x",
         "domain": [
          0,
          1
         ],
         "title": {
          "text": "Total Reviews Count"
         }
        }
       }
      }
     },
     "metadata": {},
     "output_type": "display_data"
    }
   ],
   "source": [
    "import plotly.express as px\n",
    "\n",
    "# Reset the index if 'brand' is the index, to use it as a column\n",
    "brand_performance_reset = brand_performance.reset_index()\n",
    "\n",
    "fig = px.scatter(brand_performance_reset.head(15),\n",
    "                 x='Average Rating',\n",
    "                 y='Total Reviews Count',\n",
    "                 size='Market Share (%)',\n",
    "                 hover_name='brand',  # Use the brand name for hover information\n",
    "                 color='Market Share (%)',  # Color points by market share\n",
    "                 size_max=60)\n",
    "\n",
    "fig.update_layout(\n",
    "    title='Brand Performance: Market Share, Average Rating, and Total Reviews',\n",
    "    xaxis_title='Average Rating',\n",
    "    yaxis_title='Total Reviews Count'\n",
    ")\n",
    "\n",
    "fig.show()\n"
   ]
  },
  {
   "cell_type": "code",
   "execution_count": 131,
   "metadata": {},
   "outputs": [
    {
     "data": {
      "application/vnd.plotly.v1+json": {
       "config": {
        "plotlyServerURL": "https://plot.ly"
       },
       "data": [
        {
         "marker": {
          "color": "rgb(55, 83, 109)"
         },
         "name": "Total Reviews Count",
         "type": "bar",
         "x": [
          "Prestige",
          "Dkny",
          "bb Royal",
          "BB Home",
          "Hawkins",
          "bb Combo",
          "Ajmal",
          "DP",
          "Huggies",
          "StBotanica",
          "Soulflower",
          "INATUR ",
          "Corelle",
          "Cello",
          "Pampers ",
          "Fresho",
          "Police",
          "Loreal Paris",
          "HAZEL",
          "LaOpala"
         ],
         "y": [
          3064,
          1057,
          27360,
          21552,
          1763,
          8363,
          3603,
          11382,
          3561,
          4723,
          5013,
          7457,
          1431,
          6088,
          3160,
          31616,
          1553,
          5089,
          4433,
          3546,
          3685,
          8076,
          3402,
          4800,
          5028,
          2305,
          2889,
          5687,
          4354,
          5561,
          6223,
          1923,
          5278,
          2484,
          2511,
          1214,
          4783,
          2339,
          1719,
          6732,
          3238,
          2283,
          4531,
          816,
          1189,
          3478,
          1925,
          1029,
          4695,
          4335,
          5563,
          1157,
          378,
          2334,
          1863,
          222,
          2904,
          339,
          561,
          2891,
          716,
          1728,
          221,
          7139,
          3761,
          1314,
          7281,
          2533,
          1862,
          3211,
          3699,
          1356,
          2544,
          1236,
          2842,
          382,
          6441,
          3265,
          1216,
          2828,
          155,
          4603,
          2957,
          203,
          2042,
          2386,
          3144,
          1963,
          1559,
          1017,
          444,
          667,
          3314,
          4583,
          976,
          2054,
          2542,
          1468,
          616,
          2580,
          3041,
          197,
          1559,
          3460,
          849,
          3019,
          1050,
          3009,
          494,
          2120,
          4005,
          1622,
          2263,
          2266,
          652,
          4743,
          5054,
          5766,
          925,
          3820,
          1479,
          957,
          1678,
          1798,
          2725,
          3003,
          4401,
          357,
          385,
          1896,
          1645,
          1424,
          3176,
          5154,
          1914,
          722,
          1208,
          2107,
          3299,
          1937,
          423,
          280,
          2092,
          3600,
          4046,
          2003,
          3322,
          1896,
          2924,
          1410,
          3428,
          1432,
          3995,
          222,
          2067,
          2767,
          873,
          2889,
          3071,
          1779,
          2487,
          1726,
          1044,
          1398,
          4789,
          2082,
          5229,
          1549,
          2312,
          120,
          1492,
          1700,
          1779,
          738,
          4361,
          3457,
          828,
          1287,
          2118,
          2367,
          2130,
          932,
          1223,
          2144,
          552,
          1142,
          1119,
          4529,
          852,
          1458,
          461,
          1076,
          2282,
          1301,
          373,
          288,
          495,
          1399,
          3345,
          697,
          859,
          1168,
          468,
          900,
          305,
          1640,
          405,
          985,
          1830,
          1460,
          2545,
          39,
          1256,
          891,
          1023,
          2363,
          1714,
          430,
          393,
          2378,
          268,
          1025,
          2469,
          2574,
          1596,
          1199,
          2140,
          2257,
          1798,
          1722,
          666,
          1231,
          3462,
          267,
          5157,
          1004,
          524,
          1890,
          1099,
          252,
          1198,
          231,
          983,
          746,
          567,
          4516,
          2901,
          678,
          810,
          1131,
          1811,
          1299,
          676,
          876,
          888,
          922,
          944,
          287,
          863,
          316,
          2337,
          1089,
          1736,
          96,
          1305,
          94,
          777,
          1703,
          5718,
          999,
          895,
          1733,
          1004,
          359,
          1910,
          381,
          1292,
          1579,
          518,
          986,
          1179,
          795,
          995,
          2036,
          1691,
          2152,
          1368,
          823,
          439,
          2759,
          2751,
          412,
          379,
          86,
          4350,
          972,
          735,
          332,
          2334,
          760,
          1623,
          1311,
          1171,
          1528,
          670,
          421,
          69,
          664,
          355,
          667,
          841,
          62,
          94,
          1328,
          1265,
          2104,
          1219,
          601,
          2685,
          1570,
          2794,
          656,
          851,
          205,
          695,
          208,
          172,
          1390,
          184,
          1217,
          2719,
          1912,
          2622,
          870,
          228,
          897,
          73,
          1198,
          308,
          1305,
          662,
          685,
          294,
          1569,
          2221,
          167,
          1239,
          231,
          2511,
          491,
          560,
          2836,
          559,
          422,
          871,
          742,
          548,
          1683,
          676,
          1715,
          1690,
          2101,
          848,
          1124,
          1980,
          604,
          1334,
          2148,
          854,
          972,
          784,
          1182,
          698,
          439,
          60,
          337,
          790,
          439,
          1939,
          66,
          759,
          374,
          238,
          507,
          1159,
          1318,
          251,
          649,
          258,
          357,
          643,
          521,
          1493,
          717,
          390,
          1854,
          650,
          187,
          447,
          1118,
          505,
          811,
          935,
          537,
          311,
          4791,
          2679,
          812,
          168,
          265,
          692,
          1365,
          559,
          383,
          1816,
          1306,
          147,
          1766,
          2332,
          2252,
          1674,
          415,
          1122,
          883,
          823,
          1713,
          200,
          886,
          220,
          684,
          1699,
          535,
          1451,
          806,
          159,
          422,
          435,
          893,
          639,
          701,
          691,
          817,
          56,
          889,
          153,
          354,
          178,
          571,
          1084,
          805,
          684,
          1926,
          451,
          134,
          826,
          375,
          493,
          869,
          461,
          205,
          193,
          1879,
          388,
          534,
          637,
          1089,
          440,
          923,
          609,
          470,
          70,
          177,
          716,
          2148,
          729,
          403,
          46,
          155,
          620,
          1343,
          763,
          701,
          313,
          1511,
          1114,
          982,
          1032,
          931,
          703,
          580,
          612,
          2081,
          495,
          202,
          649,
          536,
          1575,
          638,
          3855,
          567,
          477,
          370,
          448,
          668,
          1206,
          2534,
          15,
          1246,
          371,
          933,
          416,
          108,
          114,
          691,
          1299,
          531,
          457,
          467,
          92,
          293,
          448,
          466,
          872,
          868,
          29,
          56,
          529,
          582,
          602,
          1425,
          418,
          1101,
          88,
          613,
          516,
          852,
          1401,
          491,
          1151,
          1724,
          1591,
          1661,
          472,
          636,
          869,
          1327,
          254,
          931,
          648,
          861,
          692,
          487,
          356,
          401,
          483,
          545,
          1504,
          485,
          1786,
          303,
          2521,
          762,
          111,
          676,
          353,
          981,
          388,
          1439,
          122,
          1964,
          600,
          210,
          274,
          117,
          227,
          663,
          898,
          632,
          672,
          633,
          323,
          933,
          508,
          787,
          3054,
          774,
          245,
          83,
          196,
          179,
          337,
          452,
          299,
          967,
          825,
          245,
          951,
          357,
          598,
          355,
          967,
          605,
          851,
          817,
          1510,
          376,
          590,
          442,
          147,
          252,
          166,
          366,
          870,
          788,
          450,
          285,
          394,
          2291,
          1387,
          1371,
          1514,
          265,
          463,
          1034,
          534,
          853,
          587,
          58,
          425,
          288,
          422,
          150,
          410,
          364,
          586,
          298,
          317,
          1923,
          400,
          538,
          548,
          992,
          341,
          177,
          170,
          566,
          492,
          935,
          919,
          1104,
          548,
          205,
          976,
          273,
          858,
          327,
          459,
          392,
          1816,
          1201,
          286,
          1404,
          613,
          440,
          294,
          226,
          437,
          386,
          1436,
          423,
          514,
          1541,
          745,
          413,
          431,
          673,
          358,
          390,
          1110,
          270,
          817,
          709,
          1346,
          130,
          442,
          792,
          755,
          107,
          437,
          516,
          142,
          288,
          160,
          571,
          658,
          428,
          119,
          210,
          647,
          1084,
          569,
          274,
          843,
          262,
          358,
          303,
          941,
          0,
          2153,
          933,
          74,
          73,
          287,
          254,
          539,
          86,
          4,
          425,
          99,
          376,
          590,
          752,
          596,
          89,
          424,
          560,
          98,
          751,
          690,
          407,
          679,
          263,
          169,
          585,
          1414,
          1253,
          0,
          183,
          375,
          278,
          760,
          172,
          321,
          524,
          973,
          585,
          657,
          224,
          1251,
          539,
          620,
          734,
          38,
          654,
          524,
          872,
          603,
          395,
          262,
          148,
          1033,
          184,
          1257,
          795,
          287,
          519,
          671,
          365,
          269,
          436,
          92,
          350,
          1330,
          745,
          420,
          305,
          231,
          748,
          196,
          84,
          404,
          4,
          956,
          327,
          566,
          47,
          147,
          799,
          1626,
          398,
          546,
          621,
          577,
          1546,
          537,
          262,
          616,
          1094,
          157,
          93,
          126,
          207,
          295,
          135,
          577,
          537,
          481,
          45,
          50,
          668,
          1702,
          752,
          263,
          146,
          155,
          427,
          1023,
          462,
          432,
          164,
          11,
          640,
          358,
          309,
          265,
          746,
          339,
          179,
          63,
          779,
          833,
          660,
          151,
          141,
          415,
          617,
          488,
          194,
          633,
          682,
          319,
          627,
          778,
          778,
          1125,
          157,
          565,
          103,
          498,
          374,
          301,
          453,
          192,
          388,
          261,
          477,
          160,
          287,
          623,
          245,
          509,
          240,
          200,
          165,
          273,
          774,
          742,
          605,
          591,
          80,
          110,
          366,
          359,
          288,
          917,
          632,
          383,
          472,
          621,
          130,
          160,
          584,
          237,
          1322,
          210,
          190,
          177,
          546,
          372,
          866,
          348,
          1361,
          656,
          316,
          454,
          673,
          185,
          241,
          231,
          357,
          196,
          691,
          591,
          549,
          195,
          2253,
          313,
          675,
          341,
          335,
          375,
          420,
          176,
          1275,
          192,
          364,
          468,
          753,
          212,
          94,
          85,
          663,
          95,
          10,
          530,
          94,
          921,
          61,
          136,
          15,
          180,
          60,
          22,
          291,
          247,
          254,
          1035,
          617,
          117,
          366,
          196,
          393,
          254,
          203,
          1545,
          627,
          754,
          153,
          103,
          495,
          455,
          469,
          67,
          131,
          996,
          15,
          155,
          162,
          709,
          758,
          1196,
          93,
          135,
          326,
          280,
          333,
          187,
          331,
          38,
          537,
          320,
          225,
          492,
          185,
          414,
          27,
          207,
          107,
          257,
          216,
          656,
          658,
          83,
          147,
          465,
          157,
          146,
          347,
          145,
          844,
          232,
          766,
          491,
          411,
          344,
          385,
          251,
          131,
          267,
          371,
          116,
          345,
          115,
          791,
          182,
          981,
          341,
          357,
          162,
          1339,
          282,
          505,
          113,
          198,
          183,
          131,
          192,
          227,
          604,
          23,
          47,
          220,
          415,
          225,
          281,
          114,
          136,
          67,
          37,
          160,
          85,
          301,
          347,
          32,
          107,
          252,
          106,
          356,
          329,
          234,
          167,
          225,
          726,
          122,
          279,
          231,
          265,
          552,
          84,
          214,
          27,
          35,
          944,
          284,
          275,
          94,
          230,
          586,
          129,
          518,
          81,
          1094,
          535,
          180,
          323,
          201,
          336,
          241,
          194,
          183,
          41,
          241,
          89,
          48,
          161,
          204,
          7,
          276,
          165,
          95,
          531,
          452,
          392,
          338,
          182,
          169,
          274,
          557,
          689,
          141,
          313,
          27,
          398,
          358,
          184,
          381,
          335,
          97,
          79,
          623,
          222,
          905,
          343,
          147,
          242,
          67,
          192,
          181,
          205,
          100,
          578,
          194,
          87,
          97,
          78,
          159,
          46,
          31,
          153,
          93,
          604,
          282,
          219,
          154,
          65,
          95,
          20,
          190,
          326,
          733,
          415,
          467,
          337,
          262,
          227,
          163,
          295,
          158,
          585,
          891,
          407,
          268,
          1016,
          135,
          296,
          207,
          128,
          289,
          647,
          308,
          710,
          232,
          69,
          41,
          222,
          83,
          94,
          104,
          252,
          373,
          189,
          157,
          639,
          419,
          425,
          234,
          233,
          37,
          265,
          231,
          457,
          195,
          241,
          304,
          620,
          217,
          137,
          13,
          195,
          473,
          451,
          1268,
          256,
          225,
          639,
          371,
          163,
          583,
          213,
          343,
          228,
          480,
          182,
          49,
          105,
          625,
          401,
          128,
          373,
          230,
          390,
          359,
          93,
          288,
          235,
          117,
          363,
          460,
          345,
          187,
          1024,
          535,
          82,
          355,
          215,
          87,
          82,
          65,
          4,
          129,
          90,
          493,
          192,
          689,
          324,
          219,
          168,
          920,
          27,
          153,
          519,
          314,
          238,
          532,
          105,
          476,
          284,
          356,
          168,
          420,
          93,
          191,
          277,
          429,
          342,
          519,
          220,
          151,
          340,
          330,
          266,
          457,
          235,
          100,
          215,
          330,
          155,
          152,
          186,
          318,
          422,
          15,
          247,
          148,
          476,
          75,
          337,
          198,
          728,
          457,
          402,
          283,
          440,
          62,
          93,
          735,
          59,
          130,
          69,
          133,
          583,
          64,
          379,
          314,
          26,
          52,
          108,
          97,
          299,
          226,
          380,
          478,
          1096,
          62,
          106,
          669,
          84,
          230,
          363,
          520,
          257,
          545,
          202,
          604,
          584,
          264,
          629,
          163,
          317,
          179,
          101,
          325,
          234,
          195,
          241,
          11,
          215,
          237,
          103,
          273,
          340,
          923,
          150,
          138,
          252,
          54,
          160,
          63,
          97,
          61,
          60,
          36,
          55,
          204,
          176,
          10,
          475,
          249,
          88,
          118,
          177,
          134,
          143,
          79,
          354,
          352,
          253,
          808,
          54,
          75,
          6,
          510,
          127,
          93,
          209,
          348,
          66,
          121,
          72,
          252,
          48,
          151,
          31,
          122,
          40,
          633,
          131,
          208,
          575,
          529,
          109,
          87,
          579,
          276,
          249,
          265,
          145,
          290,
          162,
          146,
          187,
          74,
          83,
          267,
          257,
          104,
          260,
          103,
          43,
          77,
          231,
          386,
          96,
          111,
          73,
          85,
          117,
          26,
          75,
          564,
          339,
          57,
          89,
          34,
          54,
          57,
          62,
          153,
          476,
          125,
          94,
          401,
          336,
          234,
          240,
          79,
          101,
          74,
          249,
          52,
          259,
          115,
          162,
          193,
          41,
          139,
          321,
          59,
          507,
          478,
          110,
          428,
          110,
          195,
          73,
          909,
          414,
          244,
          230,
          249,
          669,
          160,
          196,
          6,
          116,
          197,
          61,
          193,
          319,
          55,
          100,
          6,
          138,
          18,
          90,
          109,
          165,
          111,
          129,
          142,
          299,
          606,
          316,
          287,
          254,
          6,
          455,
          142,
          113,
          371,
          224,
          268,
          74,
          234,
          139,
          34,
          145,
          102,
          165,
          115,
          27,
          124,
          19,
          113,
          84,
          185,
          333,
          69,
          312,
          476,
          181,
          223,
          111,
          151,
          320,
          268,
          492,
          53,
          45,
          573,
          61,
          46,
          37,
          50,
          96,
          66,
          146,
          264,
          232,
          61,
          206,
          165,
          237,
          468,
          158,
          5,
          103,
          132,
          90,
          135,
          241,
          141,
          168,
          574,
          3,
          95,
          169,
          145,
          95,
          13,
          410,
          195,
          130,
          40,
          462,
          63,
          61,
          444,
          173,
          53,
          38,
          301,
          133,
          11,
          130,
          96,
          176,
          135,
          196,
          183,
          22,
          328,
          216,
          224,
          225,
          30,
          373,
          205,
          16,
          50,
          63,
          87,
          66,
          66,
          154,
          7,
          47,
          46,
          74,
          6,
          77,
          99,
          185,
          49,
          52,
          30,
          39,
          120,
          163,
          27,
          429,
          117,
          273,
          322,
          417,
          444,
          49,
          182,
          32,
          25,
          194,
          151,
          252,
          151,
          140,
          99,
          233,
          250,
          55,
          91,
          33,
          242,
          97,
          168,
          270,
          141,
          362,
          150,
          273,
          91,
          138,
          527,
          182,
          198,
          125,
          91,
          110,
          105,
          165,
          93,
          134,
          131,
          98,
          106,
          49,
          87,
          25,
          178,
          370,
          90,
          46,
          44,
          90,
          48,
          54,
          298,
          196,
          62,
          91,
          12,
          55,
          37,
          64,
          447,
          152,
          259,
          128,
          33,
          36,
          254,
          76,
          366,
          159,
          254,
          143,
          179,
          189,
          163,
          93,
          144,
          155,
          367,
          233,
          114,
          388,
          19,
          156,
          84,
          207,
          51,
          144,
          43,
          94,
          120,
          375,
          117,
          93,
          123,
          117,
          67,
          154,
          251,
          195,
          54,
          287,
          124,
          208,
          321,
          154,
          147,
          464,
          187,
          618,
          16,
          127,
          135,
          380,
          1,
          47,
          194,
          296,
          110,
          18,
          52,
          94,
          47,
          78,
          184,
          57,
          84,
          99,
          87,
          42,
          34,
          84,
          38,
          14,
          22,
          316,
          233,
          242,
          73,
          34,
          17,
          242,
          79,
          118,
          135,
          72,
          198,
          122,
          40,
          247,
          122,
          353,
          28,
          139,
          69,
          40,
          10,
          4,
          70,
          104,
          306,
          265,
          170,
          181,
          124,
          13,
          113,
          473,
          66,
          127,
          14,
          40,
          19,
          49,
          228,
          86,
          167,
          234,
          233,
          31,
          120,
          147,
          106,
          72,
          0,
          41,
          69,
          60,
          90,
          68,
          197,
          162,
          47,
          20,
          43,
          21,
          57,
          11,
          47,
          85,
          181,
          479,
          133,
          188,
          68,
          378,
          88,
          59,
          79,
          179,
          215,
          41,
          48,
          53,
          18,
          71,
          246,
          155,
          141,
          39,
          21,
          61,
          16,
          105,
          89,
          34,
          169,
          8,
          171,
          158,
          65,
          72,
          106,
          138,
          229,
          9,
          35,
          85,
          35,
          11,
          156,
          99,
          114,
          6,
          73,
          7,
          231,
          222,
          282,
          11,
          273,
          186,
          127,
          129,
          46,
          159,
          77,
          424,
          110,
          85,
          117,
          73,
          163,
          117,
          180,
          82,
          96,
          127,
          149,
          355,
          92,
          102,
          183,
          123,
          29,
          23,
          85,
          76,
          77,
          68,
          104,
          85,
          18,
          62,
          139,
          3,
          212,
          73,
          92,
          134,
          139,
          143,
          48,
          52,
          445,
          37,
          55,
          51,
          135,
          126,
          156,
          30,
          42,
          40,
          13,
          4,
          120,
          213,
          103,
          23,
          113,
          42,
          53,
          6,
          77,
          22,
          77,
          311,
          29,
          7,
          200,
          94,
          384,
          89,
          1,
          146,
          1,
          174,
          61,
          54,
          317,
          89,
          62,
          58,
          243,
          66,
          83,
          85,
          92,
          61,
          161,
          57,
          112,
          19,
          188,
          149,
          75,
          189,
          119,
          118,
          163,
          30,
          374,
          36,
          14,
          56,
          27,
          79,
          91,
          48,
          81,
          108,
          167,
          108,
          59,
          92,
          82,
          92,
          81,
          16,
          83,
          62,
          194,
          19,
          138,
          143,
          35,
          1,
          49,
          161,
          120,
          18,
          134,
          78,
          113,
          16,
          145,
          164,
          74,
          56,
          57,
          112,
          59,
          57,
          7,
          40,
          260,
          48,
          110,
          10,
          33,
          94,
          4,
          146,
          137,
          76,
          6,
          27,
          68,
          39,
          492,
          38,
          80,
          136,
          68,
          40,
          179,
          27,
          218,
          98,
          54,
          128,
          63,
          108,
          24,
          118,
          185,
          75,
          197,
          23,
          56,
          435,
          166,
          169,
          66,
          27,
          96,
          4,
          60,
          63,
          27,
          190,
          11,
          71,
          128,
          54,
          13,
          85,
          79,
          54,
          97,
          58,
          52,
          33,
          30,
          117,
          54,
          153,
          45,
          45,
          104,
          71,
          148,
          49,
          262,
          120,
          152,
          29,
          75,
          52,
          72,
          139,
          41,
          228,
          89,
          75,
          79,
          7,
          19,
          246,
          78,
          136,
          93,
          69,
          74,
          120,
          3,
          38,
          11,
          52,
          223,
          85,
          54,
          51,
          174,
          103,
          236,
          89,
          68,
          56,
          52,
          7,
          76,
          7,
          33,
          50,
          63,
          35,
          53,
          55,
          47,
          40,
          91,
          102,
          36,
          79,
          66,
          62,
          29,
          76,
          10,
          76,
          91,
          4,
          45,
          6,
          17,
          89,
          65,
          100,
          1,
          143,
          140,
          68,
          66,
          89,
          198,
          51,
          26,
          133,
          168,
          111,
          68,
          90,
          21,
          26,
          19,
          86,
          15,
          109,
          5,
          37,
          35,
          6,
          54,
          25,
          100,
          22,
          43,
          27,
          92,
          100,
          184,
          68,
          16,
          78,
          11,
          192,
          170,
          52,
          4,
          35,
          61,
          74,
          167,
          51,
          29,
          31,
          37,
          76,
          57,
          86,
          69,
          21,
          0,
          27,
          269,
          110,
          81,
          100,
          109,
          6,
          46,
          65,
          36,
          15,
          9,
          29,
          35,
          238,
          23,
          81,
          85,
          35,
          165,
          53,
          12,
          41,
          84,
          57,
          23,
          124,
          29,
          33,
          48,
          73,
          55,
          322,
          48,
          95,
          59,
          160,
          22,
          60,
          70,
          91,
          7,
          66,
          1,
          56,
          24,
          24,
          93,
          87,
          93,
          197,
          38,
          30,
          31,
          23,
          59,
          97,
          106,
          15,
          14,
          1,
          96,
          26,
          18,
          10,
          39,
          69,
          31,
          34,
          40,
          93,
          57,
          85,
          5,
          45,
          66,
          108,
          6,
          14,
          21,
          95,
          77,
          56,
          51,
          43,
          99,
          132,
          83,
          65,
          28,
          14,
          50,
          98,
          23,
          46,
          28,
          95,
          40,
          35,
          96,
          108,
          94,
          7,
          153,
          93,
          105,
          40,
          86,
          71,
          36,
          29,
          71,
          51,
          45,
          9,
          81,
          61,
          45,
          59,
          52,
          50,
          11,
          57,
          6,
          8,
          57,
          67,
          26,
          36,
          52,
          11,
          67,
          4,
          76,
          57,
          42,
          73,
          87,
          79,
          31,
          93,
          66,
          21,
          80,
          11,
          96
         ]
        },
        {
         "marker": {
          "color": "rgb(26, 118, 255)"
         },
         "name": "Average Rating",
         "type": "scatter",
         "x": [
          "Prestige",
          "Dkny",
          "bb Royal",
          "BB Home",
          "Hawkins",
          "bb Combo",
          "Ajmal",
          "DP",
          "Huggies",
          "StBotanica",
          "Soulflower",
          "INATUR ",
          "Corelle",
          "Cello",
          "Pampers ",
          "Fresho",
          "Police",
          "Loreal Paris",
          "HAZEL",
          "LaOpala"
         ],
         "y": [
          3.439622641509434,
          5,
          4.047122302158273,
          4.106936416184971,
          3.841379310344828,
          4.025,
          3.4177777777777782,
          4.2,
          4.1191489361702125,
          3.8765625,
          4.022058823529412,
          3.810989010989011,
          4.246153846153846,
          3.875,
          4.185245901639345,
          4.033333333333333,
          3.123076923076923,
          4.123749999999999,
          3.5933333333333333,
          3.4735294117647055,
          3.9918367346938775,
          4.211111111111111,
          3.7312499999999997,
          3.642622950819672,
          3.93974358974359,
          4.288888888888889,
          4.023809523809524,
          3.9513157894736843,
          3.8152777777777778,
          3.71304347826087,
          3.7666666666666666,
          3.842307692307692,
          3.7315789473684213,
          3.979411764705883,
          4.2214285714285715,
          4.233333333333333,
          3.980357142857143,
          3.926086956521739,
          4.38125,
          4.1410071942446045,
          3.85,
          3.7933333333333334,
          3.68780487804878,
          null,
          3.6363636363636362,
          3.766,
          4,
          3.65,
          4.15593220338983,
          3.853846153846154,
          4.00873786407767,
          4.3,
          3.9,
          3.869230769230769,
          4.17037037037037,
          3,
          3.8065217391304347,
          3.6666666666666665,
          null,
          3.955813953488372,
          3.8375,
          4.421428571428572,
          null,
          4.1080000000000005,
          3.5521126760563377,
          3.7714285714285714,
          4.041830065359477,
          4.178947368421053,
          3.4066666666666667,
          3.965217391304348,
          3.966666666666667,
          3.773076923076923,
          4.24,
          4.192592592592593,
          4.492727272727272,
          3.1125,
          4.003846153846154,
          4.007999999999999,
          3.35,
          3.967741935483871,
          null,
          3.4128205128205127,
          3.965,
          null,
          3.4444444444444446,
          4.09,
          4.369230769230769,
          3.8,
          2.940740740740741,
          3.4842105263157896,
          3.15,
          3,
          null,
          4.177380952380952,
          null,
          3.338461538461538,
          4.05,
          null,
          5,
          4.126530612244898,
          4.102127659574468,
          4.5,
          4.345454545454545,
          4.010204081632653,
          4.286666666666666,
          3.722413793103448,
          3.915,
          4.1826923076923075,
          4.9,
          3.967567567567568,
          3.6987951807228914,
          null,
          4.086956521739131,
          null,
          3.893333333333333,
          3.9705882352941178,
          3.984,
          4.140217391304348,
          3.3428571428571425,
          3.9983333333333335,
          4.059090909090909,
          2.7476190476190476,
          2.9642857142857144,
          3.382758620689655,
          3.9795454545454545,
          4.0093749999999995,
          4.076136363636364,
          3.5200000000000005,
          2.8,
          3.693103448275862,
          2.911111111111111,
          4.2555555555555555,
          4.073015873015874,
          4.171428571428572,
          4.1,
          4.142857142857143,
          4.204545454545454,
          3.7,
          4.157575757575757,
          3.796666666666667,
          3.3666666666666667,
          null,
          3.6599999999999997,
          4.106521739130435,
          2.85,
          4.144,
          3.532258064516129,
          4.025,
          4.133333333333333,
          4.2894736842105265,
          4.325806451612903,
          2,
          3.644871794871795,
          2.8,
          4.2299999999999995,
          3.8854166666666665,
          3.4272727272727277,
          3.9741935483870967,
          4.018867924528302,
          4.188888888888889,
          4.17906976744186,
          3.82962962962963,
          3.8181818181818183,
          3.7333333333333334,
          3.9428571428571426,
          3.8125,
          3.9732673267326732,
          4.875,
          4.15,
          5,
          3.478125,
          3.9166666666666665,
          4.17,
          4.55,
          4.054545454545455,
          4.04047619047619,
          4.366666666666666,
          2.661538461538462,
          4.202325581395349,
          3.853571428571428,
          3.5871794871794873,
          3.9449999999999994,
          null,
          4.2,
          null,
          3.4166666666666665,
          3.190909090909091,
          3.8899999999999997,
          2.75,
          2.0416666666666665,
          4.16,
          null,
          4.281081081081081,
          4.014285714285714,
          3.357142857142857,
          null,
          3.16,
          4.177777777777778,
          3.9000000000000004,
          4.785714285714286,
          3.9000000000000004,
          3.7789473684210524,
          3.85,
          3.7,
          4.25,
          3.4486486486486485,
          2.75,
          4.161111111111111,
          4.197058823529411,
          4.2124999999999995,
          3.8114285714285714,
          null,
          null,
          3.6166666666666667,
          3.9904761904761905,
          3.9956521739130437,
          3.9810810810810806,
          3.766666666666667,
          1.2,
          4.255813953488372,
          null,
          3.75,
          4.266666666666667,
          3.7860465116279074,
          3.4107142857142856,
          3.185714285714286,
          3.4317073170731707,
          3.986206896551724,
          3.6921052631578952,
          4.281818181818182,
          4.1625,
          null,
          3.9838709677419355,
          null,
          4.065979381443299,
          4.370588235294117,
          4.159999999999999,
          4.25,
          4.464705882352941,
          4.25,
          3.8714285714285714,
          4.5,
          4.380952380952381,
          3.16,
          3.314285714285714,
          3.8391304347826085,
          3.7867924528301886,
          2.6666666666666665,
          3.025,
          3.0949999999999998,
          null,
          3.7304347826086954,
          4.12,
          3.8333333333333335,
          3.1333333333333333,
          4.072222222222222,
          3.838461538461538,
          4.066666666666666,
          3.5,
          2,
          3.771698113207547,
          2,
          4.213793103448276,
          null,
          null,
          4.75,
          4.335714285714286,
          3.938888888888889,
          4.095049504950495,
          4.183333333333334,
          4.566666666666666,
          4.288461538461538,
          3.292857142857143,
          1,
          3.9809523809523806,
          4.177777777777778,
          3.4588235294117644,
          3.8045454545454547,
          3.4,
          3.814285714285714,
          3.94,
          4.155555555555555,
          2.815,
          4.2368421052631575,
          4.232142857142857,
          3.5575,
          4.065384615384615,
          3.475,
          2.711111111111111,
          4.217777777777778,
          3.9973684210526317,
          2.6,
          null,
          null,
          3.873770491803279,
          null,
          4.328571428571428,
          4.633333333333334,
          4.2250000000000005,
          3.8076923076923075,
          3.3777777777777778,
          3.8782608695652177,
          3.6599999999999997,
          3.4925925925925925,
          3.66,
          4.166666666666667,
          null,
          3.4,
          5,
          null,
          4.133333333333333,
          5,
          5,
          3.8607142857142853,
          3.9299999999999997,
          3.6516129032258067,
          3.8,
          3.8818181818181823,
          3.8411764705882354,
          2.952,
          3.929787234042553,
          2.5,
          4.833333333333333,
          3.2,
          3.9875,
          3.3333333333333335,
          null,
          4.055555555555555,
          null,
          3.7875,
          4.119512195121952,
          4.307894736842105,
          3.9157894736842107,
          3.675,
          null,
          3.815,
          5,
          3.1375,
          1.6666666666666667,
          4.291304347826087,
          3.8076923076923075,
          4.488888888888889,
          null,
          3.658064516129032,
          4.005263157894737,
          4.766666666666667,
          2.5833333333333335,
          2.9333333333333336,
          4.0390243902439025,
          3.088888888888889,
          4.216666666666667,
          4.147272727272727,
          3.477777777777778,
          null,
          3.707142857142857,
          4.16,
          4.011111111111111,
          3.860869565217391,
          3.825,
          3.6370370370370373,
          3.552941176470588,
          3.609090909090909,
          4.213333333333334,
          3.59,
          3.5289473684210524,
          3.5,
          4.38,
          4.182051282051282,
          4,
          4.388888888888889,
          4.164285714285714,
          3.1666666666666665,
          4.078571428571428,
          null,
          null,
          2.6,
          4.24,
          4,
          3.9735294117647055,
          null,
          4.307142857142857,
          3.8,
          null,
          3.06,
          4.3,
          4.326086956521739,
          2,
          4.292857142857143,
          3.3199999999999994,
          3.75,
          null,
          4.128571428571428,
          3.785185185185185,
          null,
          3.533333333333333,
          4.2225,
          4.5,
          2.675,
          3.4,
          3.9142857142857146,
          3.3857142857142857,
          3.88,
          3.6100000000000003,
          3.3,
          null,
          4.1912087912087905,
          4.010714285714285,
          3.3529411764705883,
          null,
          5,
          4.825,
          3.8696969696969696,
          3.5,
          4,
          4.033333333333333,
          4.254545454545454,
          3.8,
          4.3028571428571425,
          3.4450000000000003,
          4.065217391304348,
          4.083333333333333,
          3.35,
          4.38,
          4.233333333333333,
          null,
          3.7857142857142856,
          null,
          4.286666666666666,
          null,
          3.857142857142857,
          3.7600000000000002,
          3.463636363636364,
          3.875,
          3.523529411764706,
          4.5,
          4.1625,
          3.4714285714285715,
          5,
          null,
          2.875,
          3.88125,
          3.975,
          4.15,
          3.0285714285714285,
          3,
          4.42,
          null,
          4.5,
          3.925,
          3.108333333333333,
          3.4692307692307693,
          4.018421052631578,
          4.085714285714286,
          3.8,
          3.0090909090909093,
          4.066666666666666,
          3.8307692307692305,
          4.75,
          3.6666666666666665,
          4.466666666666667,
          4.4,
          4.093023255813954,
          null,
          null,
          4.2,
          4.05,
          3.7142857142857144,
          4.234782608695652,
          4.236363636363636,
          5,
          null,
          4.5,
          null,
          4.151351351351352,
          null,
          4.08,
          null,
          5,
          3.96,
          4.0181818181818185,
          4.3500000000000005,
          4.04375,
          null,
          3.9,
          4.219047619047619,
          4.08235294117647,
          3.9,
          3.723076923076923,
          null,
          4.214285714285714,
          2.85,
          4.252083333333333,
          4.0375,
          null,
          2.227272727272727,
          3.8,
          4,
          3.5545454545454547,
          4.25,
          3.857142857142857,
          null,
          3.7125,
          4.0375,
          3.788888888888889,
          4.206666666666666,
          4.161363636363636,
          null,
          4.18,
          3.7,
          3.72,
          3.875,
          null,
          null,
          4.285714285714286,
          3.86875,
          4.0375,
          4.066666666666666,
          3.814285714285714,
          null,
          4.3,
          2.95,
          3.5375,
          5,
          4.166666666666667,
          null,
          null,
          3.375,
          3.8000000000000003,
          4.4,
          3.7161290322580647,
          3.6818181818181817,
          3.7111111111111112,
          null,
          4.811111111111111,
          3.625,
          null,
          4.15,
          4.3999999999999995,
          4.096,
          4.008333333333334,
          3.5612903225806454,
          4.003125,
          4.0875,
          null,
          3.6333333333333333,
          4.041666666666667,
          3.66,
          3.953333333333333,
          null,
          3.1666666666666665,
          3.9923076923076923,
          5,
          null,
          2.55,
          4.2615384615384615,
          4.18,
          4.064285714285714,
          5,
          4.145833333333333,
          null,
          4.1119047619047615,
          2.75,
          3.8,
          4.2214285714285715,
          4.183333333333334,
          3.9666666666666663,
          3.5666666666666664,
          4.207407407407407,
          5,
          4.247222222222223,
          3.7714285714285714,
          4.2,
          4.05,
          null,
          3,
          4.166666666666667,
          4.166666666666667,
          4.236363636363636,
          3.7857142857142856,
          3.8,
          3.8000000000000003,
          4.24,
          3.7666666666666666,
          4,
          4.074137931034483,
          3.392857142857143,
          3.5666666666666664,
          5,
          null,
          null,
          3.2750000000000004,
          3.8714285714285714,
          3.8,
          3.938888888888889,
          4.2,
          5,
          3.4684210526315793,
          5,
          3.65,
          3.766666666666667,
          4.15,
          3.1363636363636362,
          4.025,
          4.09375,
          4.190909090909091,
          4.25,
          4.071428571428571,
          4.236363636363636,
          null,
          1.65,
          3.125,
          4.142857142857143,
          4.257142857142857,
          4.1125,
          4.0375,
          4.1499999999999995,
          3.9071428571428575,
          4.113513513513513,
          3.5652173913043477,
          4.084615384615384,
          4.28,
          5,
          3.8000000000000003,
          3.425,
          4.266666666666667,
          4.25625,
          4.136363636363637,
          5,
          3.272727272727273,
          4.244444444444444,
          3.19,
          null,
          4.0875,
          3.7299999999999995,
          5,
          3,
          3.625,
          4.134146341463414,
          3.6,
          2.3,
          null,
          3.5823529411764703,
          3.25,
          4.4399999999999995,
          null,
          3.6454545454545455,
          3,
          4.211111111111111,
          4.1684210526315795,
          3.9045454545454548,
          3.6375,
          3.7,
          4.300000000000001,
          null,
          null,
          4.55,
          4.184615384615385,
          4.125,
          4.042857142857143,
          3.7526315789473683,
          4.3,
          4.132142857142857,
          null,
          3.9111111111111114,
          4.357142857142857,
          4.1,
          3.835714285714286,
          4.225,
          4.086666666666667,
          4.1,
          4.557142857142857,
          3.384,
          3.75,
          null,
          3.5,
          2.5,
          4.533333333333333,
          4,
          3.8875,
          4.3,
          3.5375,
          4.666666666666667,
          4.212,
          4.9,
          4.085714285714286,
          4.1000000000000005,
          3.9923076923076923,
          4,
          null,
          4.328571428571428,
          4.15,
          4.233333333333333,
          null,
          3.966666666666667,
          3.6700000000000004,
          4.76,
          2.2,
          4.119999999999999,
          4.2,
          4.2785714285714285,
          3.5666666666666664,
          4.5,
          4.014285714285714,
          null,
          4.666666666666667,
          3.9799999999999995,
          4.268421052631578,
          4.1,
          4.0825000000000005,
          4.294736842105263,
          null,
          null,
          3.966666666666667,
          null,
          4.1692307692307695,
          null,
          null,
          4.414285714285714,
          null,
          4.185714285714286,
          4.279999999999999,
          3.6384615384615384,
          4.146153846153846,
          1,
          4.1000000000000005,
          3.9,
          null,
          null,
          3.6714285714285713,
          4.125,
          3.9499999999999997,
          null,
          4.4,
          4.023076923076923,
          3.988,
          4.061111111111111,
          5,
          null,
          4,
          null,
          3.6333333333333333,
          null,
          3.6999999999999997,
          4.3625,
          4.1173913043478265,
          3.908333333333333,
          4.3999999999999995,
          4.62,
          4.092307692307692,
          4.357142857142857,
          4.283333333333333,
          3.816666666666667,
          null,
          4.18,
          4.225,
          3.85,
          4.5,
          4.014285714285714,
          null,
          3.4,
          3.6133333333333337,
          3.266666666666667,
          4.208695652173913,
          3.6,
          3,
          3.7199999999999998,
          4.325,
          4.328571428571428,
          5,
          4.3999999999999995,
          4.266666666666667,
          4.3,
          4.053333333333333,
          3.7214285714285715,
          3.9454545454545453,
          4.375,
          4.266666666666667,
          4.1722222222222225,
          3,
          null,
          4.171428571428572,
          null,
          3.4166666666666665,
          3.783333333333333,
          4.007692307692308,
          4,
          3,
          4.235294117647059,
          4.19375,
          null,
          3.7583333333333333,
          4.04,
          4.1,
          4.142857142857143,
          null,
          4.171428571428572,
          4.358333333333333,
          3.8470588235294123,
          1,
          1,
          3.8,
          4.1,
          3.05,
          null,
          3.644444444444444,
          3.6333333333333337,
          4.1866666666666665,
          1,
          null,
          4.2272727272727275,
          3.8642857142857143,
          3.7733333333333334,
          3.45,
          4.45,
          4.300000000000001,
          4.016666666666667,
          4.1,
          null,
          null,
          4.14,
          null,
          4.3076923076923075,
          3.3000000000000003,
          2.475,
          4.4,
          3.8642857142857143,
          3.9875,
          2.4,
          null,
          4.105882352941176,
          4.226315789473684,
          3.9799999999999995,
          3.9333333333333336,
          4.220000000000001,
          3.65,
          4.15,
          2.611111111111111,
          4.2,
          4.075,
          4.5,
          3.9500000000000006,
          3.46,
          4.022222222222222,
          3.9947368421052634,
          4.170833333333333,
          3.7,
          3.688888888888889,
          4.733333333333333,
          4.125,
          null,
          2.066666666666667,
          4.155555555555555,
          3.66,
          1.375,
          4.3,
          3.9125,
          null,
          4.0874999999999995,
          4.311111111111111,
          4,
          3.025,
          1,
          2.6999999999999997,
          4.525,
          3,
          null,
          4.021428571428571,
          3.65,
          3.8444444444444446,
          4.25,
          2,
          4.0125,
          3.8666666666666667,
          null,
          3.8777777777777778,
          3.607142857142857,
          4.733333333333333,
          3.7625,
          null,
          3.8666666666666667,
          4.5,
          4.26,
          4.34,
          4.195454545454545,
          4.275,
          4.76,
          null,
          4.066666666666666,
          3.1625,
          3.9923076923076923,
          4.32,
          3.9952380952380957,
          3.5,
          4.766666666666667,
          4.1875,
          4.408333333333333,
          null,
          3.25,
          4.2,
          5,
          4.233333333333333,
          4.04,
          null,
          4.2,
          4.45,
          4.1521739130434785,
          4.016666666666667,
          3.2375,
          4.5,
          4.875,
          3.8666666666666667,
          3.522222222222222,
          2.775,
          4.027272727272727,
          4,
          4.3375,
          3.8000000000000003,
          null,
          null,
          null,
          null,
          4.173333333333334,
          2,
          null,
          3.8285714285714287,
          null,
          4.055555555555555,
          4,
          3.2,
          null,
          5,
          null,
          null,
          3.4,
          2.05,
          4.1,
          4.042857142857143,
          4.128571428571428,
          4.433333333333334,
          3.725,
          3.6666666666666665,
          4.1571428571428575,
          null,
          4.5,
          4.015384615384615,
          4.3500000000000005,
          3.8875,
          3.9,
          4.75,
          4.39,
          3.457142857142857,
          3.8666666666666663,
          4.05,
          4.4,
          4.226315789473684,
          null,
          1,
          4.05,
          4.3625,
          4.04,
          3.8318181818181816,
          3.95,
          5,
          4.779999999999999,
          3,
          3.3333333333333335,
          3.9,
          4.1,
          3.8,
          4.511111111111111,
          2.8666666666666667,
          5,
          4.314285714285715,
          3.5666666666666664,
          4.2444444444444445,
          null,
          4.2,
          5,
          3.7,
          4.5,
          4.566666666666666,
          3.788888888888889,
          4.2,
          4.3,
          3.6666666666666665,
          null,
          null,
          3.5142857142857147,
          4.2,
          4.25,
          null,
          4.290909090909091,
          4.355555555555556,
          3.6625,
          3.8125,
          3.45,
          null,
          4.1499999999999995,
          3.6666666666666665,
          null,
          3.75,
          3.533333333333333,
          2.45,
          3.6875,
          null,
          4.1899999999999995,
          4.25,
          4.533333333333333,
          4.220000000000001,
          4.1761904761904765,
          3.9333333333333336,
          4.1899999999999995,
          5,
          3.6833333333333336,
          3.8666666666666667,
          4.5,
          4.3,
          4.1,
          3.9,
          null,
          null,
          null,
          3.56,
          null,
          null,
          3.8,
          null,
          4,
          null,
          3.5,
          3,
          5,
          4.085714285714286,
          4.1,
          4.166666666666667,
          5,
          4.2,
          null,
          3.5,
          3.733333333333333,
          2.566666666666667,
          2.1,
          4.213333333333333,
          4.45,
          4.65,
          2.875,
          4.35,
          4.266666666666667,
          4.2,
          4.7,
          null,
          2,
          4.211764705882352,
          4.433333333333334,
          4.114285714285715,
          4.266666666666667,
          4.279999999999999,
          4.091666666666667,
          null,
          3,
          2.5,
          4.222727272727273,
          4.2,
          3.6666666666666665,
          4.3,
          4.333333333333333,
          null,
          4.1,
          3.8333333333333335,
          4.5249999999999995,
          null,
          3.9,
          null,
          3.3,
          4.333333333333333,
          4,
          null,
          4.3,
          4.333333333333333,
          3.966666666666667,
          4.154545454545454,
          4.0285714285714285,
          4.31,
          5,
          4.25,
          4.025,
          4.05,
          3.675,
          4.5,
          4.2,
          4.0285714285714285,
          4,
          3.25,
          3.5125,
          3.6,
          4.185714285714286,
          3.95,
          null,
          4.15,
          2.9,
          null,
          4.090476190476191,
          4.283333333333333,
          4.266666666666667,
          4.875,
          3.7,
          4.333333333333333,
          3,
          3.8333333333333335,
          4.5,
          3.3200000000000003,
          4.2,
          3.3,
          3.2,
          4.5,
          null,
          null,
          1,
          null,
          null,
          3.6999999999999997,
          null,
          3.6999999999999997,
          4,
          null,
          null,
          4,
          4.16,
          4.1,
          3.5818181818181816,
          4.4,
          4.15,
          4.057142857142857,
          4.02,
          3.3833333333333333,
          null,
          3.9,
          3.25,
          4.254545454545454,
          4.025,
          4,
          3.9666666666666663,
          3.6625,
          4.133333333333334,
          4.05,
          null,
          3.7399999999999998,
          3.9714285714285715,
          4.3,
          4.2,
          4.2125,
          3.257142857142857,
          null,
          null,
          5,
          3.9,
          3.4,
          2.3,
          3.3,
          3.8,
          2,
          null,
          3.9066666666666667,
          4.377777777777777,
          4.18,
          2.7600000000000002,
          4.05,
          4.3,
          null,
          4.3999999999999995,
          3.9,
          4.4,
          4,
          3.46,
          3.5944444444444446,
          null,
          5,
          4.5,
          1,
          4,
          null,
          4.1499999999999995,
          4.25,
          null,
          3.4299999999999997,
          3.966666666666667,
          5,
          3.875,
          4.05,
          4,
          4.266666666666667,
          4.1571428571428575,
          3,
          null,
          2.85,
          3.56,
          4.175,
          3.9333333333333336,
          4.222222222222222,
          2.5,
          null,
          3.744444444444444,
          null,
          4.316666666666666,
          2.5,
          4.15,
          4.175,
          3.9272727272727277,
          4.288888888888889,
          null,
          3,
          4.214285714285714,
          null,
          4.3,
          4.566666666666666,
          null,
          4.5,
          null,
          5,
          null,
          null,
          4.027272727272727,
          4.066666666666666,
          4.318181818181818,
          null,
          4.2,
          4.1,
          null,
          null,
          4.25,
          null,
          3.483333333333333,
          4.225,
          3.8899999999999997,
          null,
          4.43,
          4.04,
          3.9333333333333336,
          3.3,
          3.6285714285714286,
          4.033333333333333,
          null,
          4.071428571428571,
          4.211111111111111,
          4.366666666666666,
          2.963636363636364,
          3.9,
          4.18,
          4.128571428571428,
          4.4625,
          3.8000000000000003,
          4.26,
          3.7125,
          null,
          4.7,
          4.925,
          4.05,
          null,
          4.25,
          4,
          3.8600000000000003,
          null,
          4,
          3.5,
          3.91,
          3,
          3.96,
          5,
          4.155555555555555,
          null,
          3.8200000000000003,
          2.425,
          3.675,
          4.233333333333333,
          4.5,
          4.25,
          null,
          3,
          4.266666666666667,
          null,
          4.144444444444444,
          4,
          4.022222222222222,
          4.083333333333333,
          3.6999999999999997,
          4.3,
          4.7,
          2,
          4.033333333333333,
          null,
          4.333333333333333,
          3.585714285714286,
          4.219047619047619,
          4.433333333333334,
          null,
          4.136363636363637,
          null,
          4.075,
          4.5,
          3.125,
          4.35,
          4.118181818181818,
          null,
          3.936363636363636,
          3.08,
          4,
          3.6999999999999997,
          4.65,
          4,
          4.8999999999999995,
          4.4,
          4.433333333333334,
          2.06,
          3.875,
          3.9666666666666663,
          4.3,
          4.05,
          3.6142857142857143,
          null,
          4.15,
          4.14,
          3.953333333333333,
          3.7249999999999996,
          null,
          4.3999999999999995,
          5,
          4,
          2,
          4.3,
          null,
          null,
          null,
          3.1,
          4.3,
          4.2,
          null,
          4.1499999999999995,
          3.6333333333333333,
          4.6,
          4.35,
          null,
          4,
          3.6833333333333336,
          4.35,
          3.642857142857143,
          4.285714285714286,
          4.04,
          4.21875,
          null,
          null,
          null,
          3.4555555555555557,
          4,
          null,
          3.3200000000000003,
          4.333333333333333,
          3.966666666666667,
          1,
          null,
          4.366666666666666,
          3,
          null,
          3,
          4.66,
          null,
          3.4,
          4.08,
          4.3,
          4.309090909090909,
          4.24,
          4.199999999999999,
          4.550000000000001,
          3.9499999999999997,
          4.133333333333334,
          4.3,
          4.425,
          3.6999999999999997,
          4.3,
          3.1,
          4.166666666666667,
          4.65,
          4.65,
          3.3,
          4.3999999999999995,
          3,
          null,
          3.8200000000000003,
          4,
          4.2,
          3.1666666666666665,
          null,
          4.119999999999999,
          4.2,
          3.1,
          null,
          null,
          3.9,
          null,
          5,
          3.9181818181818184,
          3.3333333333333335,
          null,
          null,
          1,
          null,
          null,
          3.8,
          4.35,
          3.888888888888889,
          3.5,
          3,
          4.833333333333333,
          3.8,
          null,
          4.375,
          5,
          5,
          null,
          4.116666666666666,
          3.8499999999999996,
          4.1499999999999995,
          null,
          4.266666666666667,
          5,
          4.7,
          4.5,
          3.75,
          4.5,
          4.0200000000000005,
          4.281818181818182,
          null,
          3.9666666666666663,
          4,
          4.125,
          4.266666666666667,
          3.75625,
          3,
          3.483333333333333,
          4.3999999999999995,
          5,
          3.8636363636363638,
          4.066666666666666,
          3.95,
          3.4,
          4.2,
          4.5,
          4.2,
          4.633333333333334,
          4.26,
          null,
          null,
          5,
          2.6,
          3.25,
          4.25,
          1,
          null,
          4.25,
          null,
          null,
          null,
          4.172727272727273,
          null,
          3.033333333333333,
          3.5,
          4.3,
          4.288888888888889,
          4.5,
          4,
          4.36,
          4.42,
          4.199999999999999,
          null,
          4.775,
          5,
          null,
          4.1,
          4.25,
          4.220000000000001,
          3.6500000000000004,
          4.6,
          4.3,
          null,
          2.9,
          4.1,
          3.6,
          3.8333333333333335,
          3.25,
          4.3,
          3.5200000000000005,
          null,
          null,
          2.5,
          1,
          3.2714285714285714,
          4,
          3.6666666666666665,
          null,
          4,
          4.2615384615384615,
          null,
          4.7,
          null,
          4.3,
          3.45,
          4.166666666666667,
          3.3,
          null,
          4.25,
          5,
          null,
          3.4166666666666665,
          4.3,
          4.488888888888889,
          4.4,
          4.300000000000001,
          4.35,
          4,
          3.8,
          null,
          4.1,
          4.233333333333333,
          4.15,
          4.088888888888889,
          4.2,
          3.266666666666667,
          4.5,
          4.6,
          4.9,
          3.8,
          3.3,
          4.26,
          3.0666666666666664,
          4,
          4,
          4.25,
          4.5,
          3.9428571428571426,
          4.133333333333334,
          3.8,
          5,
          3.22,
          3.9333333333333336,
          4.300000000000001,
          2.5,
          null,
          4.05,
          4.075,
          4.1,
          3.875,
          3.8,
          3.8499999999999996,
          3.675,
          null,
          3.5,
          4.4,
          3.4444444444444446,
          3.8666666666666667,
          4.5,
          null,
          5,
          5,
          1,
          null,
          4.199999999999999,
          null,
          null,
          3,
          4.5,
          3.3,
          null,
          4.4,
          null,
          5,
          null,
          null,
          3.75,
          4.75,
          4.333333333333333,
          3.5,
          2.62,
          4,
          4.225,
          3.8833333333333333,
          4.055555555555555,
          3.9,
          3.3,
          3.5,
          4.45,
          null,
          3.35,
          4.066666666666666,
          4.18,
          null,
          3.9,
          4.45,
          3.78,
          4.3999999999999995,
          5,
          null,
          2.3,
          4.4,
          null,
          2.433333333333333,
          4.24,
          null,
          4.13,
          null,
          3.475,
          null,
          5,
          3.8,
          5,
          2.35,
          4.166666666666667,
          4.45,
          4.45,
          4.050000000000001,
          4,
          4.8,
          4.4,
          3.3666666666666667,
          4.3,
          null,
          null,
          3,
          null,
          4,
          3.9625,
          3,
          null,
          null,
          4.3,
          null,
          3.8,
          3.325,
          null,
          5,
          null,
          2.7,
          null,
          2,
          3.3,
          4.211111111111111,
          3.6,
          null,
          4.166666666666667,
          4.7,
          3.9,
          null,
          null,
          null,
          3.6666666666666665,
          4.016666666666667,
          4.050000000000001,
          4.1000000000000005,
          4.433333333333334,
          3.6666666666666665,
          4.35,
          3.325,
          null,
          4.05,
          3.466666666666667,
          4.5,
          4.333333333333333,
          null,
          2.7,
          null,
          null,
          null,
          4.4,
          4.2,
          null,
          3.3499999999999996,
          3.716666666666667,
          null,
          4.166666666666667,
          4.2,
          3.3000000000000003,
          4.15,
          4.3,
          5,
          4.1,
          4.5,
          4.3,
          4.266666666666667,
          null,
          4.2,
          2,
          4.2,
          null,
          3.375,
          3.822222222222222,
          4.1,
          3.9,
          4.1,
          4.0285714285714285,
          4.2,
          5,
          4.275,
          3.7,
          4.266666666666667,
          null,
          3.2,
          null,
          null,
          4.2,
          4.125,
          5,
          null,
          2,
          null,
          null,
          null,
          null,
          2.9,
          null,
          4.4,
          4.42,
          null,
          4.1,
          null,
          null,
          null,
          null,
          2.8,
          4.7,
          3.266666666666667,
          4.05,
          3.9333333333333336,
          null,
          3.4,
          4.1000000000000005,
          4.2,
          3.9,
          4.3,
          2,
          4.7,
          null,
          4.5,
          4.5,
          4.4,
          3.25,
          4.279999999999999,
          4.2875000000000005,
          4.216666666666667,
          4.0600000000000005,
          4.15,
          4.7,
          4,
          4.216666666666667,
          4.7,
          4.1,
          3.5,
          null,
          2,
          5,
          3.9,
          5,
          4.550000000000001,
          3.733333333333333,
          4.325,
          4.15,
          4.1,
          3.8666666666666667,
          4.1000000000000005,
          2,
          null,
          4,
          4.1,
          4,
          4,
          null,
          4.25,
          4.05,
          null,
          null,
          3,
          3.9,
          5,
          2.7,
          3.3,
          4,
          2.7,
          3.56,
          3.4,
          null,
          4.35,
          4.375,
          4.5,
          4.2,
          4,
          4.05,
          4.233333333333333,
          4.3,
          5,
          3,
          null,
          1,
          4.1499999999999995,
          4.5,
          3.4333333333333336,
          null,
          null,
          2.5,
          4,
          4.25,
          null,
          1.4,
          3.9,
          null,
          2,
          3.75,
          4.8,
          4.1,
          3.975,
          4.2,
          4.14,
          null,
          4.6,
          4.2,
          null,
          4.5,
          null,
          4,
          2.5,
          4.3,
          null,
          2,
          4.266666666666667,
          4.266666666666667,
          3.9333333333333336,
          null,
          null,
          4.266666666666667,
          4.15,
          4.4,
          3.6,
          4.3,
          3.05,
          4.077777777777778,
          4.066666666666666,
          null,
          4.1000000000000005,
          5,
          4.15,
          4.2,
          4.4,
          3.9,
          3.6,
          4.3,
          null,
          3.6,
          null,
          3.8,
          4.3,
          3.966666666666667,
          2.3,
          null,
          4.1,
          4,
          3.5,
          null,
          4,
          4,
          1,
          4.2,
          4.9,
          null,
          2.8333333333333335,
          4.1,
          3.9,
          4.2,
          5,
          null,
          4,
          2.8,
          4.383333333333334,
          4.2,
          4.050000000000001,
          1,
          null,
          4.25,
          3.5,
          4.1,
          null,
          5,
          4.6,
          4.5,
          4.3,
          null,
          3.3,
          5,
          3.9,
          5,
          4.8,
          4.1,
          5,
          null,
          2.5,
          4.34,
          3.3,
          4.1,
          4,
          4,
          null,
          null,
          4,
          4.2,
          3,
          4.15,
          null,
          4.3,
          3.85,
          3,
          3.8,
          null,
          4.159999999999999,
          null,
          4.65,
          null,
          3.5,
          5,
          3.25,
          4.3,
          4.633333333333333,
          4.1,
          3.5,
          4.3,
          null,
          4.3,
          4.15,
          4.55,
          2.75,
          4.1,
          3.9499999999999997,
          4.2,
          4.4,
          3.8,
          null,
          4.5,
          5,
          null,
          4.7,
          4.55,
          3.4,
          4.233333333333333,
          null,
          null,
          3.95,
          4.3,
          4.4,
          3,
          4.4,
          4.3,
          4.275,
          4,
          4.333333333333333,
          4,
          null,
          4.2,
          4.1,
          4.35,
          null,
          4.2,
          4,
          4.2,
          null,
          5,
          3.6333333333333333,
          3.8,
          4.6,
          null,
          3.8,
          4.433333333333334,
          4.25,
          4.2,
          3.1,
          4.2,
          null,
          4.2,
          4,
          3.7,
          5,
          4.3,
          3.7,
          4.1000000000000005,
          4.35,
          null,
          5,
          4.2,
          3.9,
          4.1,
          3.988888888888889,
          2.3,
          3.2,
          4,
          null,
          4,
          3.866666666666667,
          5,
          4.25,
          5,
          3.3,
          5,
          4.5,
          3.55,
          4.05,
          3.9,
          4.15,
          4.05,
          4.2,
          3.7,
          4.5,
          4.083333333333333,
          3.9333333333333336,
          4.4,
          4,
          3,
          4.25,
          4.3,
          null,
          4.1,
          3.5,
          3.5,
          4.1,
          2.7,
          4.366666666666667,
          3.7,
          null,
          4.15,
          null,
          4.2,
          4.2,
          3.8,
          null,
          4.5,
          3.2,
          4.2,
          4.1,
          3.533333333333333,
          4.05,
          4.1,
          4.25,
          4,
          null,
          2.8,
          4.175,
          3.4000000000000004,
          4.033333333333333,
          4,
          4.2,
          3.7,
          3.55,
          4.05,
          3,
          null,
          null,
          4.15,
          4.3,
          4.1,
          1.2,
          4.225,
          3.7,
          4.35,
          3,
          5,
          4.5,
          3,
          3.9,
          4.1,
          4.5,
          null,
          3.9200000000000004,
          null,
          4.9,
          3,
          4.220000000000001,
          3.7,
          3.9,
          4.5,
          4.9,
          3.6,
          4.1,
          4.5,
          null,
          3.4,
          null,
          null,
          4.1,
          4.2,
          null,
          null,
          4,
          4.3,
          3.6,
          3.4,
          4.2,
          5,
          4.5,
          4.3,
          4.2,
          3.4,
          4,
          4.3,
          4.5,
          3.8,
          4.6,
          3.7,
          null,
          null,
          4.066666666666666,
          3.9,
          3.6,
          3.5666666666666664,
          null,
          3.5,
          3.95,
          3,
          4.18,
          4.1,
          4.2,
          4.3,
          4.25,
          4.4,
          3.9,
          3.9,
          4.2,
          null,
          3.9,
          3.1,
          3.85,
          3.4,
          4.1,
          4.2,
          3.8,
          3,
          5,
          4.2,
          3.2,
          4.3,
          3.3,
          4.05,
          3.6,
          4.4,
          3.3333333333333335,
          4.1,
          3.5,
          null,
          4.2,
          3.9,
          4.1,
          3.9,
          3,
          3.9,
          4.4,
          4.1,
          3.9,
          3.7,
          3.9,
          4.1,
          4.366666666666666,
          4.4,
          4.1,
          4,
          4.4,
          3,
          null,
          3.3,
          3.9499999999999997,
          4.25,
          4.3,
          2.3,
          3.3,
          null,
          4.2,
          4.5,
          4.4,
          3.7,
          3.3,
          5,
          3.6,
          4.05,
          4.3,
          3.9,
          4.3,
          4.2,
          4.4,
          null,
          5,
          4.6,
          3.95,
          null,
          null,
          4.15,
          4,
          2.5,
          4.3,
          4.1,
          4,
          null,
          4.45,
          4.35,
          4.166666666666667,
          4.366666666666667,
          4.2,
          3.7,
          4.2,
          null,
          3.8,
          null,
          null,
          4.3,
          4.2,
          4.300000000000001,
          4.1,
          4.6,
          3.6,
          3.95,
          5,
          null,
          3.8,
          4,
          4.3,
          4.7,
          4.25,
          3.9,
          2,
          3.7,
          4.1,
          5,
          3.7,
          4.1,
          4,
          null,
          4.4,
          4.3,
          4.3,
          3.7,
          null,
          3.7,
          2,
          4,
          null,
          4.2,
          4.1,
          4,
          4,
          4.2,
          4.7,
          5,
          4.3,
          4.5,
          4,
          4.1,
          4.2,
          4.3,
          5,
          4.5,
          4.3,
          3.7,
          null,
          4.5,
          4.6,
          null,
          null,
          3.6,
          4.1,
          4.55,
          3.6,
          null,
          4,
          4.3,
          null,
          1,
          3.8,
          4.5,
          4.3,
          null,
          3.7,
          4.1,
          4,
          4,
          4.2,
          3.6,
          3.7,
          3.5,
          4.3,
          4.1,
          4.1,
          null,
          4.3,
          3.7,
          null,
          3.6,
          4.8,
          4,
          4.2,
          4.3,
          4.4,
          3.4,
          3.9,
          null,
          4,
          4.2,
          4.2,
          4.3,
          4,
          4.2,
          4.4,
          4,
          4.1,
          4.1,
          2.5
         ],
         "yaxis": "y2"
        }
       ],
       "layout": {
        "legend": {
         "title": {
          "text": "Metric"
         }
        },
        "template": {
         "data": {
          "bar": [
           {
            "error_x": {
             "color": "#2a3f5f"
            },
            "error_y": {
             "color": "#2a3f5f"
            },
            "marker": {
             "line": {
              "color": "#E5ECF6",
              "width": 0.5
             },
             "pattern": {
              "fillmode": "overlay",
              "size": 10,
              "solidity": 0.2
             }
            },
            "type": "bar"
           }
          ],
          "barpolar": [
           {
            "marker": {
             "line": {
              "color": "#E5ECF6",
              "width": 0.5
             },
             "pattern": {
              "fillmode": "overlay",
              "size": 10,
              "solidity": 0.2
             }
            },
            "type": "barpolar"
           }
          ],
          "carpet": [
           {
            "aaxis": {
             "endlinecolor": "#2a3f5f",
             "gridcolor": "white",
             "linecolor": "white",
             "minorgridcolor": "white",
             "startlinecolor": "#2a3f5f"
            },
            "baxis": {
             "endlinecolor": "#2a3f5f",
             "gridcolor": "white",
             "linecolor": "white",
             "minorgridcolor": "white",
             "startlinecolor": "#2a3f5f"
            },
            "type": "carpet"
           }
          ],
          "choropleth": [
           {
            "colorbar": {
             "outlinewidth": 0,
             "ticks": ""
            },
            "type": "choropleth"
           }
          ],
          "contour": [
           {
            "colorbar": {
             "outlinewidth": 0,
             "ticks": ""
            },
            "colorscale": [
             [
              0,
              "#0d0887"
             ],
             [
              0.1111111111111111,
              "#46039f"
             ],
             [
              0.2222222222222222,
              "#7201a8"
             ],
             [
              0.3333333333333333,
              "#9c179e"
             ],
             [
              0.4444444444444444,
              "#bd3786"
             ],
             [
              0.5555555555555556,
              "#d8576b"
             ],
             [
              0.6666666666666666,
              "#ed7953"
             ],
             [
              0.7777777777777778,
              "#fb9f3a"
             ],
             [
              0.8888888888888888,
              "#fdca26"
             ],
             [
              1,
              "#f0f921"
             ]
            ],
            "type": "contour"
           }
          ],
          "contourcarpet": [
           {
            "colorbar": {
             "outlinewidth": 0,
             "ticks": ""
            },
            "type": "contourcarpet"
           }
          ],
          "heatmap": [
           {
            "colorbar": {
             "outlinewidth": 0,
             "ticks": ""
            },
            "colorscale": [
             [
              0,
              "#0d0887"
             ],
             [
              0.1111111111111111,
              "#46039f"
             ],
             [
              0.2222222222222222,
              "#7201a8"
             ],
             [
              0.3333333333333333,
              "#9c179e"
             ],
             [
              0.4444444444444444,
              "#bd3786"
             ],
             [
              0.5555555555555556,
              "#d8576b"
             ],
             [
              0.6666666666666666,
              "#ed7953"
             ],
             [
              0.7777777777777778,
              "#fb9f3a"
             ],
             [
              0.8888888888888888,
              "#fdca26"
             ],
             [
              1,
              "#f0f921"
             ]
            ],
            "type": "heatmap"
           }
          ],
          "heatmapgl": [
           {
            "colorbar": {
             "outlinewidth": 0,
             "ticks": ""
            },
            "colorscale": [
             [
              0,
              "#0d0887"
             ],
             [
              0.1111111111111111,
              "#46039f"
             ],
             [
              0.2222222222222222,
              "#7201a8"
             ],
             [
              0.3333333333333333,
              "#9c179e"
             ],
             [
              0.4444444444444444,
              "#bd3786"
             ],
             [
              0.5555555555555556,
              "#d8576b"
             ],
             [
              0.6666666666666666,
              "#ed7953"
             ],
             [
              0.7777777777777778,
              "#fb9f3a"
             ],
             [
              0.8888888888888888,
              "#fdca26"
             ],
             [
              1,
              "#f0f921"
             ]
            ],
            "type": "heatmapgl"
           }
          ],
          "histogram": [
           {
            "marker": {
             "pattern": {
              "fillmode": "overlay",
              "size": 10,
              "solidity": 0.2
             }
            },
            "type": "histogram"
           }
          ],
          "histogram2d": [
           {
            "colorbar": {
             "outlinewidth": 0,
             "ticks": ""
            },
            "colorscale": [
             [
              0,
              "#0d0887"
             ],
             [
              0.1111111111111111,
              "#46039f"
             ],
             [
              0.2222222222222222,
              "#7201a8"
             ],
             [
              0.3333333333333333,
              "#9c179e"
             ],
             [
              0.4444444444444444,
              "#bd3786"
             ],
             [
              0.5555555555555556,
              "#d8576b"
             ],
             [
              0.6666666666666666,
              "#ed7953"
             ],
             [
              0.7777777777777778,
              "#fb9f3a"
             ],
             [
              0.8888888888888888,
              "#fdca26"
             ],
             [
              1,
              "#f0f921"
             ]
            ],
            "type": "histogram2d"
           }
          ],
          "histogram2dcontour": [
           {
            "colorbar": {
             "outlinewidth": 0,
             "ticks": ""
            },
            "colorscale": [
             [
              0,
              "#0d0887"
             ],
             [
              0.1111111111111111,
              "#46039f"
             ],
             [
              0.2222222222222222,
              "#7201a8"
             ],
             [
              0.3333333333333333,
              "#9c179e"
             ],
             [
              0.4444444444444444,
              "#bd3786"
             ],
             [
              0.5555555555555556,
              "#d8576b"
             ],
             [
              0.6666666666666666,
              "#ed7953"
             ],
             [
              0.7777777777777778,
              "#fb9f3a"
             ],
             [
              0.8888888888888888,
              "#fdca26"
             ],
             [
              1,
              "#f0f921"
             ]
            ],
            "type": "histogram2dcontour"
           }
          ],
          "mesh3d": [
           {
            "colorbar": {
             "outlinewidth": 0,
             "ticks": ""
            },
            "type": "mesh3d"
           }
          ],
          "parcoords": [
           {
            "line": {
             "colorbar": {
              "outlinewidth": 0,
              "ticks": ""
             }
            },
            "type": "parcoords"
           }
          ],
          "pie": [
           {
            "automargin": true,
            "type": "pie"
           }
          ],
          "scatter": [
           {
            "fillpattern": {
             "fillmode": "overlay",
             "size": 10,
             "solidity": 0.2
            },
            "type": "scatter"
           }
          ],
          "scatter3d": [
           {
            "line": {
             "colorbar": {
              "outlinewidth": 0,
              "ticks": ""
             }
            },
            "marker": {
             "colorbar": {
              "outlinewidth": 0,
              "ticks": ""
             }
            },
            "type": "scatter3d"
           }
          ],
          "scattercarpet": [
           {
            "marker": {
             "colorbar": {
              "outlinewidth": 0,
              "ticks": ""
             }
            },
            "type": "scattercarpet"
           }
          ],
          "scattergeo": [
           {
            "marker": {
             "colorbar": {
              "outlinewidth": 0,
              "ticks": ""
             }
            },
            "type": "scattergeo"
           }
          ],
          "scattergl": [
           {
            "marker": {
             "colorbar": {
              "outlinewidth": 0,
              "ticks": ""
             }
            },
            "type": "scattergl"
           }
          ],
          "scattermapbox": [
           {
            "marker": {
             "colorbar": {
              "outlinewidth": 0,
              "ticks": ""
             }
            },
            "type": "scattermapbox"
           }
          ],
          "scatterpolar": [
           {
            "marker": {
             "colorbar": {
              "outlinewidth": 0,
              "ticks": ""
             }
            },
            "type": "scatterpolar"
           }
          ],
          "scatterpolargl": [
           {
            "marker": {
             "colorbar": {
              "outlinewidth": 0,
              "ticks": ""
             }
            },
            "type": "scatterpolargl"
           }
          ],
          "scatterternary": [
           {
            "marker": {
             "colorbar": {
              "outlinewidth": 0,
              "ticks": ""
             }
            },
            "type": "scatterternary"
           }
          ],
          "surface": [
           {
            "colorbar": {
             "outlinewidth": 0,
             "ticks": ""
            },
            "colorscale": [
             [
              0,
              "#0d0887"
             ],
             [
              0.1111111111111111,
              "#46039f"
             ],
             [
              0.2222222222222222,
              "#7201a8"
             ],
             [
              0.3333333333333333,
              "#9c179e"
             ],
             [
              0.4444444444444444,
              "#bd3786"
             ],
             [
              0.5555555555555556,
              "#d8576b"
             ],
             [
              0.6666666666666666,
              "#ed7953"
             ],
             [
              0.7777777777777778,
              "#fb9f3a"
             ],
             [
              0.8888888888888888,
              "#fdca26"
             ],
             [
              1,
              "#f0f921"
             ]
            ],
            "type": "surface"
           }
          ],
          "table": [
           {
            "cells": {
             "fill": {
              "color": "#EBF0F8"
             },
             "line": {
              "color": "white"
             }
            },
            "header": {
             "fill": {
              "color": "#C8D4E3"
             },
             "line": {
              "color": "white"
             }
            },
            "type": "table"
           }
          ]
         },
         "layout": {
          "annotationdefaults": {
           "arrowcolor": "#2a3f5f",
           "arrowhead": 0,
           "arrowwidth": 1
          },
          "autotypenumbers": "strict",
          "coloraxis": {
           "colorbar": {
            "outlinewidth": 0,
            "ticks": ""
           }
          },
          "colorscale": {
           "diverging": [
            [
             0,
             "#8e0152"
            ],
            [
             0.1,
             "#c51b7d"
            ],
            [
             0.2,
             "#de77ae"
            ],
            [
             0.3,
             "#f1b6da"
            ],
            [
             0.4,
             "#fde0ef"
            ],
            [
             0.5,
             "#f7f7f7"
            ],
            [
             0.6,
             "#e6f5d0"
            ],
            [
             0.7,
             "#b8e186"
            ],
            [
             0.8,
             "#7fbc41"
            ],
            [
             0.9,
             "#4d9221"
            ],
            [
             1,
             "#276419"
            ]
           ],
           "sequential": [
            [
             0,
             "#0d0887"
            ],
            [
             0.1111111111111111,
             "#46039f"
            ],
            [
             0.2222222222222222,
             "#7201a8"
            ],
            [
             0.3333333333333333,
             "#9c179e"
            ],
            [
             0.4444444444444444,
             "#bd3786"
            ],
            [
             0.5555555555555556,
             "#d8576b"
            ],
            [
             0.6666666666666666,
             "#ed7953"
            ],
            [
             0.7777777777777778,
             "#fb9f3a"
            ],
            [
             0.8888888888888888,
             "#fdca26"
            ],
            [
             1,
             "#f0f921"
            ]
           ],
           "sequentialminus": [
            [
             0,
             "#0d0887"
            ],
            [
             0.1111111111111111,
             "#46039f"
            ],
            [
             0.2222222222222222,
             "#7201a8"
            ],
            [
             0.3333333333333333,
             "#9c179e"
            ],
            [
             0.4444444444444444,
             "#bd3786"
            ],
            [
             0.5555555555555556,
             "#d8576b"
            ],
            [
             0.6666666666666666,
             "#ed7953"
            ],
            [
             0.7777777777777778,
             "#fb9f3a"
            ],
            [
             0.8888888888888888,
             "#fdca26"
            ],
            [
             1,
             "#f0f921"
            ]
           ]
          },
          "colorway": [
           "#636efa",
           "#EF553B",
           "#00cc96",
           "#ab63fa",
           "#FFA15A",
           "#19d3f3",
           "#FF6692",
           "#B6E880",
           "#FF97FF",
           "#FECB52"
          ],
          "font": {
           "color": "#2a3f5f"
          },
          "geo": {
           "bgcolor": "white",
           "lakecolor": "white",
           "landcolor": "#E5ECF6",
           "showlakes": true,
           "showland": true,
           "subunitcolor": "white"
          },
          "hoverlabel": {
           "align": "left"
          },
          "hovermode": "closest",
          "mapbox": {
           "style": "light"
          },
          "paper_bgcolor": "white",
          "plot_bgcolor": "#E5ECF6",
          "polar": {
           "angularaxis": {
            "gridcolor": "white",
            "linecolor": "white",
            "ticks": ""
           },
           "bgcolor": "#E5ECF6",
           "radialaxis": {
            "gridcolor": "white",
            "linecolor": "white",
            "ticks": ""
           }
          },
          "scene": {
           "xaxis": {
            "backgroundcolor": "#E5ECF6",
            "gridcolor": "white",
            "gridwidth": 2,
            "linecolor": "white",
            "showbackground": true,
            "ticks": "",
            "zerolinecolor": "white"
           },
           "yaxis": {
            "backgroundcolor": "#E5ECF6",
            "gridcolor": "white",
            "gridwidth": 2,
            "linecolor": "white",
            "showbackground": true,
            "ticks": "",
            "zerolinecolor": "white"
           },
           "zaxis": {
            "backgroundcolor": "#E5ECF6",
            "gridcolor": "white",
            "gridwidth": 2,
            "linecolor": "white",
            "showbackground": true,
            "ticks": "",
            "zerolinecolor": "white"
           }
          },
          "shapedefaults": {
           "line": {
            "color": "#2a3f5f"
           }
          },
          "ternary": {
           "aaxis": {
            "gridcolor": "white",
            "linecolor": "white",
            "ticks": ""
           },
           "baxis": {
            "gridcolor": "white",
            "linecolor": "white",
            "ticks": ""
           },
           "bgcolor": "#E5ECF6",
           "caxis": {
            "gridcolor": "white",
            "linecolor": "white",
            "ticks": ""
           }
          },
          "title": {
           "x": 0.05
          },
          "xaxis": {
           "automargin": true,
           "gridcolor": "white",
           "linecolor": "white",
           "ticks": "",
           "title": {
            "standoff": 15
           },
           "zerolinecolor": "white",
           "zerolinewidth": 2
          },
          "yaxis": {
           "automargin": true,
           "gridcolor": "white",
           "linecolor": "white",
           "ticks": "",
           "title": {
            "standoff": 15
           },
           "zerolinecolor": "white",
           "zerolinewidth": 2
          }
         }
        },
        "title": {
         "text": "Brand Performance: Reviews and Ratings"
        },
        "xaxis": {
         "title": {
          "text": "Brand"
         }
        },
        "yaxis": {
         "tickfont": {
          "color": "rgb(55, 83, 109)"
         },
         "title": {
          "font": {
           "color": "rgb(55, 83, 109)"
          },
          "text": "Total Reviews Count"
         }
        },
        "yaxis2": {
         "overlaying": "y",
         "side": "right",
         "tickfont": {
          "color": "rgb(26, 118, 255)"
         },
         "title": {
          "font": {
           "color": "rgb(26, 118, 255)"
          },
          "text": "Average Rating"
         }
        }
       }
      }
     },
     "metadata": {},
     "output_type": "display_data"
    }
   ],
   "source": [
    "import plotly.graph_objects as go\n",
    "\n",
    "# Assuming 'brand_performance' is the DataFrame with brands as the index\n",
    "brands = brand_performance.head(20).index.tolist()\n",
    "average_rating = brand_performance['Average Rating'].tolist()\n",
    "total_reviews = brand_performance['Total Reviews Count'].tolist()\n",
    "\n",
    "# Create figure with secondary y-axis\n",
    "fig = go.Figure()\n",
    "\n",
    "# Add bar chart for Total Reviews Count\n",
    "fig.add_trace(go.Bar(\n",
    "    x=brands,\n",
    "    y=total_reviews,\n",
    "    name='Total Reviews Count',\n",
    "    marker_color='rgb(55, 83, 109)'\n",
    "))\n",
    "\n",
    "# Add line chart for Average Rating on secondary y-axis\n",
    "fig.add_trace(go.Scatter(\n",
    "    x=brands,\n",
    "    y=average_rating,\n",
    "    name='Average Rating',\n",
    "    marker_color='rgb(26, 118, 255)',\n",
    "    yaxis='y2'\n",
    "))\n",
    "\n",
    "# Create layout with secondary y-axis\n",
    "fig.update_layout(\n",
    "    title='Brand Performance: Reviews and Ratings',\n",
    "    xaxis_title='Brand',\n",
    "    yaxis=dict(\n",
    "        title='Total Reviews Count',\n",
    "        titlefont=dict(color='rgb(55, 83, 109)'),\n",
    "        tickfont=dict(color='rgb(55, 83, 109)')\n",
    "    ),\n",
    "    yaxis2=dict(\n",
    "        title='Average Rating',\n",
    "        titlefont=dict(color='rgb(26, 118, 255)'),\n",
    "        tickfont=dict(color='rgb(26, 118, 255)'),\n",
    "        overlaying='y',\n",
    "        side='right'\n",
    "    ),\n",
    "    legend_title='Metric'\n",
    ")\n",
    "\n",
    "fig.show()\n"
   ]
  },
  {
   "cell_type": "markdown",
   "metadata": {},
   "source": [
    "Prestige has the highest market share at approximately 1.55%, with an average product rating of 3.44 and a total of 3,064 reviews.\n",
    "Dkny follows with a market share of around 1.29%, a perfect average rating of 5.00, but with fewer total reviews (1,057), indicating high customer satisfaction but potentially a smaller customer base or fewer product listings.\n",
    "bb Royal has a significant market share at 1.28%, with a good average rating of 4.05 and a high number of total reviews (27,360), suggesting strong brand loyalty and customer engagement.\n",
    "BB Home holds a market share of 1.13%, with an average rating of 4.11 and 21,552 total reviews, showing good customer satisfaction and engagement.\n",
    "Other brands like Hawkins, bb Combo, Ajmal, DP, Huggies, and StBotanica also show notable market shares and customer engagement metrics."
   ]
  },
  {
   "cell_type": "code",
   "execution_count": 132,
   "metadata": {},
   "outputs": [
    {
     "data": {
      "text/html": [
       "<div>\n",
       "<style scoped>\n",
       "    .dataframe tbody tr th:only-of-type {\n",
       "        vertical-align: middle;\n",
       "    }\n",
       "\n",
       "    .dataframe tbody tr th {\n",
       "        vertical-align: top;\n",
       "    }\n",
       "\n",
       "    .dataframe thead th {\n",
       "        text-align: right;\n",
       "    }\n",
       "</style>\n",
       "<table border=\"1\" class=\"dataframe\">\n",
       "  <thead>\n",
       "    <tr style=\"text-align: right;\">\n",
       "      <th></th>\n",
       "      <th></th>\n",
       "      <th>product_rating</th>\n",
       "      <th>customer_reviews_count</th>\n",
       "    </tr>\n",
       "    <tr>\n",
       "      <th>category</th>\n",
       "      <th>customer_demographics</th>\n",
       "      <th></th>\n",
       "      <th></th>\n",
       "    </tr>\n",
       "  </thead>\n",
       "  <tbody>\n",
       "    <tr>\n",
       "      <th rowspan=\"3\" valign=\"top\">Beauty &amp; Hygiene</th>\n",
       "      <th>Male</th>\n",
       "      <td>3.930530</td>\n",
       "      <td>137541</td>\n",
       "    </tr>\n",
       "    <tr>\n",
       "      <th>Female</th>\n",
       "      <td>3.918890</td>\n",
       "      <td>126643</td>\n",
       "    </tr>\n",
       "    <tr>\n",
       "      <th>Other</th>\n",
       "      <td>3.942361</td>\n",
       "      <td>126621</td>\n",
       "    </tr>\n",
       "    <tr>\n",
       "      <th rowspan=\"3\" valign=\"top\">Gourmet &amp; World Food</th>\n",
       "      <th>Male</th>\n",
       "      <td>3.950323</td>\n",
       "      <td>79989</td>\n",
       "    </tr>\n",
       "    <tr>\n",
       "      <th>Other</th>\n",
       "      <td>3.959651</td>\n",
       "      <td>78250</td>\n",
       "    </tr>\n",
       "    <tr>\n",
       "      <th>Female</th>\n",
       "      <td>4.040804</td>\n",
       "      <td>78248</td>\n",
       "    </tr>\n",
       "    <tr>\n",
       "      <th rowspan=\"3\" valign=\"top\">Kitchen, Garden &amp; Pets</th>\n",
       "      <th>Other</th>\n",
       "      <td>3.723516</td>\n",
       "      <td>63694</td>\n",
       "    </tr>\n",
       "    <tr>\n",
       "      <th>Male</th>\n",
       "      <td>3.706242</td>\n",
       "      <td>58209</td>\n",
       "    </tr>\n",
       "    <tr>\n",
       "      <th>Female</th>\n",
       "      <td>3.775245</td>\n",
       "      <td>56968</td>\n",
       "    </tr>\n",
       "    <tr>\n",
       "      <th>Snacks &amp; Branded Foods</th>\n",
       "      <th>Female</th>\n",
       "      <td>3.974550</td>\n",
       "      <td>49125</td>\n",
       "    </tr>\n",
       "  </tbody>\n",
       "</table>\n",
       "</div>"
      ],
      "text/plain": [
       "                                              product_rating  \\\n",
       "category               customer_demographics                   \n",
       "Beauty & Hygiene       Male                         3.930530   \n",
       "                       Female                       3.918890   \n",
       "                       Other                        3.942361   \n",
       "Gourmet & World Food   Male                         3.950323   \n",
       "                       Other                        3.959651   \n",
       "                       Female                       4.040804   \n",
       "Kitchen, Garden & Pets Other                        3.723516   \n",
       "                       Male                         3.706242   \n",
       "                       Female                       3.775245   \n",
       "Snacks & Branded Foods Female                       3.974550   \n",
       "\n",
       "                                              customer_reviews_count  \n",
       "category               customer_demographics                          \n",
       "Beauty & Hygiene       Male                                   137541  \n",
       "                       Female                                 126643  \n",
       "                       Other                                  126621  \n",
       "Gourmet & World Food   Male                                    79989  \n",
       "                       Other                                   78250  \n",
       "                       Female                                  78248  \n",
       "Kitchen, Garden & Pets Other                                   63694  \n",
       "                       Male                                    58209  \n",
       "                       Female                                  56968  \n",
       "Snacks & Branded Foods Female                                  49125  "
      ]
     },
     "execution_count": 132,
     "metadata": {},
     "output_type": "execute_result"
    }
   ],
   "source": [
    "# To delve deeper into the analysis, we'll segment the data based on product categories, customer demographics,\n",
    "# and consider the impact of promotion indicators on brand performance.\n",
    "\n",
    "# Segmenting data by product category and customer demographics\n",
    "category_segmentation = data.groupby(['category', 'customer_demographics']).agg({\n",
    "    'product_rating': 'mean',\n",
    "    'customer_reviews_count': 'sum'\n",
    "}).sort_values(by='customer_reviews_count', ascending=False)\n",
    "\n",
    "# Display top segments by sales within product categories and demographics\n",
    "category_segmentation.head(10)\n"
   ]
  },
  {
   "cell_type": "code",
   "execution_count": 133,
   "metadata": {},
   "outputs": [
    {
     "data": {
      "application/vnd.plotly.v1+json": {
       "config": {
        "plotlyServerURL": "https://plot.ly"
       },
       "data": [
        {
         "branchvalues": "total",
         "customdata": [
          [
           4.029585798816568
          ],
          [
           3.9104265402843605
          ],
          [
           3.918890134529148
          ],
          [
           4.0681415929203535
          ],
          [
           3.9512336719883887
          ],
          [
           null
          ],
          [
           4.0715633423180595
          ],
          [
           null
          ],
          [
           4.040803897685749
          ],
          [
           3.7752450980392154
          ],
          [
           3.9745498199279714
          ],
          [
           3.9590909090909094
          ],
          [
           3.8832599118942737
          ],
          [
           3.9305302624531335
          ],
          [
           4.073039215686275
          ],
          [
           3.9541364296081283
          ],
          [
           null
          ],
          [
           4.064166666666666
          ],
          [
           null
          ],
          [
           3.950322580645161
          ],
          [
           3.7062423500611996
          ],
          [
           3.956592039800995
          ],
          [
           4.0927152317880795
          ],
          [
           3.9396475770925115
          ],
          [
           3.942360728075014
          ],
          [
           4.115196078431373
          ],
          [
           3.9642659279778396
          ],
          [
           null
          ],
          [
           4.050752393980848
          ],
          [
           null
          ],
          [
           3.959651307596513
          ],
          [
           3.72351598173516
          ],
          [
           4.017908653846154
          ],
          [
           4.025324589042422
          ],
          [
           3.910677018325281
          ],
          [
           3.9305912766848623
          ],
          [
           4.085428104144716
          ],
          [
           3.9567815703023976
          ],
          [
           null
          ],
          [
           4.062010598987696
          ],
          [
           null
          ],
          [
           3.9833474614197297
          ],
          [
           3.7343697449024695
          ],
          [
           3.983537099504957
          ]
         ],
         "domain": {
          "x": [
           0,
           1
          ],
          "y": [
           0,
           1
          ]
         },
         "hovertemplate": "<b>Category:</b> %{label}<br><b>Demographics:</b> %{parent}<br><b>Reviews Count:</b> %{value}<br><b>Average Rating:</b> %{color:.2f}<br>",
         "ids": [
          "Baby Care/Female",
          "Bakery, Cakes & Dairy/Female",
          "Beauty & Hygiene/Female",
          "Beverages/Female",
          "Cleaning & Household/Female",
          "Eggs, Meat & Fish/Female",
          "Foodgrains, Oil & Masala/Female",
          "Fruits & Vegetables/Female",
          "Gourmet & World Food/Female",
          "Kitchen, Garden & Pets/Female",
          "Snacks & Branded Foods/Female",
          "Baby Care/Male",
          "Bakery, Cakes & Dairy/Male",
          "Beauty & Hygiene/Male",
          "Beverages/Male",
          "Cleaning & Household/Male",
          "Eggs, Meat & Fish/Male",
          "Foodgrains, Oil & Masala/Male",
          "Fruits & Vegetables/Male",
          "Gourmet & World Food/Male",
          "Kitchen, Garden & Pets/Male",
          "Snacks & Branded Foods/Male",
          "Baby Care/Other",
          "Bakery, Cakes & Dairy/Other",
          "Beauty & Hygiene/Other",
          "Beverages/Other",
          "Cleaning & Household/Other",
          "Eggs, Meat & Fish/Other",
          "Foodgrains, Oil & Masala/Other",
          "Fruits & Vegetables/Other",
          "Gourmet & World Food/Other",
          "Kitchen, Garden & Pets/Other",
          "Snacks & Branded Foods/Other",
          "Baby Care",
          "Bakery, Cakes & Dairy",
          "Beauty & Hygiene",
          "Beverages",
          "Cleaning & Household",
          "Eggs, Meat & Fish",
          "Foodgrains, Oil & Masala",
          "Fruits & Vegetables",
          "Gourmet & World Food",
          "Kitchen, Garden & Pets",
          "Snacks & Branded Foods"
         ],
         "labels": [
          "Female",
          "Female",
          "Female",
          "Female",
          "Female",
          "Female",
          "Female",
          "Female",
          "Female",
          "Female",
          "Female",
          "Male",
          "Male",
          "Male",
          "Male",
          "Male",
          "Male",
          "Male",
          "Male",
          "Male",
          "Male",
          "Male",
          "Other",
          "Other",
          "Other",
          "Other",
          "Other",
          "Other",
          "Other",
          "Other",
          "Other",
          "Other",
          "Other",
          "Baby Care",
          "Bakery, Cakes & Dairy",
          "Beauty & Hygiene",
          "Beverages",
          "Cleaning & Household",
          "Eggs, Meat & Fish",
          "Foodgrains, Oil & Masala",
          "Fruits & Vegetables",
          "Gourmet & World Food",
          "Kitchen, Garden & Pets",
          "Snacks & Branded Foods"
         ],
         "marker": {
          "coloraxis": "coloraxis",
          "colors": [
           4.029585798816568,
           3.9104265402843605,
           3.918890134529148,
           4.0681415929203535,
           3.9512336719883887,
           null,
           4.0715633423180595,
           null,
           4.040803897685749,
           3.7752450980392154,
           3.9745498199279714,
           3.9590909090909094,
           3.8832599118942737,
           3.9305302624531335,
           4.073039215686275,
           3.9541364296081283,
           null,
           4.064166666666666,
           null,
           3.950322580645161,
           3.7062423500611996,
           3.956592039800995,
           4.0927152317880795,
           3.9396475770925115,
           3.942360728075014,
           4.115196078431373,
           3.9642659279778396,
           null,
           4.050752393980848,
           null,
           3.959651307596513,
           3.72351598173516,
           4.017908653846154,
           4.025324589042422,
           3.910677018325281,
           3.9305912766848623,
           4.085428104144716,
           3.9567815703023976,
           null,
           4.062010598987696,
           null,
           3.9833474614197297,
           3.7343697449024695,
           3.983537099504957
          ]
         },
         "name": "",
         "parents": [
          "Baby Care",
          "Bakery, Cakes & Dairy",
          "Beauty & Hygiene",
          "Beverages",
          "Cleaning & Household",
          "Eggs, Meat & Fish",
          "Foodgrains, Oil & Masala",
          "Fruits & Vegetables",
          "Gourmet & World Food",
          "Kitchen, Garden & Pets",
          "Snacks & Branded Foods",
          "Baby Care",
          "Bakery, Cakes & Dairy",
          "Beauty & Hygiene",
          "Beverages",
          "Cleaning & Household",
          "Eggs, Meat & Fish",
          "Foodgrains, Oil & Masala",
          "Fruits & Vegetables",
          "Gourmet & World Food",
          "Kitchen, Garden & Pets",
          "Snacks & Branded Foods",
          "Baby Care",
          "Bakery, Cakes & Dairy",
          "Beauty & Hygiene",
          "Beverages",
          "Cleaning & Household",
          "Eggs, Meat & Fish",
          "Foodgrains, Oil & Masala",
          "Fruits & Vegetables",
          "Gourmet & World Food",
          "Kitchen, Garden & Pets",
          "Snacks & Branded Foods",
          "",
          "",
          "",
          "",
          "",
          "",
          "",
          "",
          "",
          "",
          ""
         ],
         "type": "treemap",
         "values": [
          10535,
          13129,
          126643,
          14526,
          44202,
          5839,
          44590,
          9278,
          78248,
          56968,
          49125,
          10651,
          14444,
          137541,
          14339,
          42854,
          5725,
          43683,
          10207,
          79989,
          58209,
          43954,
          9802,
          13783,
          126621,
          14403,
          47911,
          5581,
          46201,
          8500,
          78250,
          63694,
          47302,
          30988,
          41356,
          390805,
          43268,
          134967,
          17145,
          134474,
          27985,
          236487,
          178871,
          140381
         ]
        }
       ],
       "layout": {
        "coloraxis": {
         "colorbar": {
          "title": {
           "text": "product_rating"
          }
         },
         "colorscale": [
          [
           0,
           "rgb(247,251,255)"
          ],
          [
           0.125,
           "rgb(222,235,247)"
          ],
          [
           0.25,
           "rgb(198,219,239)"
          ],
          [
           0.375,
           "rgb(158,202,225)"
          ],
          [
           0.5,
           "rgb(107,174,214)"
          ],
          [
           0.625,
           "rgb(66,146,198)"
          ],
          [
           0.75,
           "rgb(33,113,181)"
          ],
          [
           0.875,
           "rgb(8,81,156)"
          ],
          [
           1,
           "rgb(8,48,107)"
          ]
         ]
        },
        "hoverlabel": {
         "bgcolor": "white",
         "font": {
          "family": "Arial",
          "size": 12
         }
        },
        "legend": {
         "tracegroupgap": 0
        },
        "paper_bgcolor": "rgba(247, 247, 247, 1)",
        "plot_bgcolor": "rgba(247, 247, 247, 1)",
        "template": {
         "data": {
          "bar": [
           {
            "error_x": {
             "color": "#2a3f5f"
            },
            "error_y": {
             "color": "#2a3f5f"
            },
            "marker": {
             "line": {
              "color": "white",
              "width": 0.5
             },
             "pattern": {
              "fillmode": "overlay",
              "size": 10,
              "solidity": 0.2
             }
            },
            "type": "bar"
           }
          ],
          "barpolar": [
           {
            "marker": {
             "line": {
              "color": "white",
              "width": 0.5
             },
             "pattern": {
              "fillmode": "overlay",
              "size": 10,
              "solidity": 0.2
             }
            },
            "type": "barpolar"
           }
          ],
          "carpet": [
           {
            "aaxis": {
             "endlinecolor": "#2a3f5f",
             "gridcolor": "#C8D4E3",
             "linecolor": "#C8D4E3",
             "minorgridcolor": "#C8D4E3",
             "startlinecolor": "#2a3f5f"
            },
            "baxis": {
             "endlinecolor": "#2a3f5f",
             "gridcolor": "#C8D4E3",
             "linecolor": "#C8D4E3",
             "minorgridcolor": "#C8D4E3",
             "startlinecolor": "#2a3f5f"
            },
            "type": "carpet"
           }
          ],
          "choropleth": [
           {
            "colorbar": {
             "outlinewidth": 0,
             "ticks": ""
            },
            "type": "choropleth"
           }
          ],
          "contour": [
           {
            "colorbar": {
             "outlinewidth": 0,
             "ticks": ""
            },
            "colorscale": [
             [
              0,
              "#0d0887"
             ],
             [
              0.1111111111111111,
              "#46039f"
             ],
             [
              0.2222222222222222,
              "#7201a8"
             ],
             [
              0.3333333333333333,
              "#9c179e"
             ],
             [
              0.4444444444444444,
              "#bd3786"
             ],
             [
              0.5555555555555556,
              "#d8576b"
             ],
             [
              0.6666666666666666,
              "#ed7953"
             ],
             [
              0.7777777777777778,
              "#fb9f3a"
             ],
             [
              0.8888888888888888,
              "#fdca26"
             ],
             [
              1,
              "#f0f921"
             ]
            ],
            "type": "contour"
           }
          ],
          "contourcarpet": [
           {
            "colorbar": {
             "outlinewidth": 0,
             "ticks": ""
            },
            "type": "contourcarpet"
           }
          ],
          "heatmap": [
           {
            "colorbar": {
             "outlinewidth": 0,
             "ticks": ""
            },
            "colorscale": [
             [
              0,
              "#0d0887"
             ],
             [
              0.1111111111111111,
              "#46039f"
             ],
             [
              0.2222222222222222,
              "#7201a8"
             ],
             [
              0.3333333333333333,
              "#9c179e"
             ],
             [
              0.4444444444444444,
              "#bd3786"
             ],
             [
              0.5555555555555556,
              "#d8576b"
             ],
             [
              0.6666666666666666,
              "#ed7953"
             ],
             [
              0.7777777777777778,
              "#fb9f3a"
             ],
             [
              0.8888888888888888,
              "#fdca26"
             ],
             [
              1,
              "#f0f921"
             ]
            ],
            "type": "heatmap"
           }
          ],
          "heatmapgl": [
           {
            "colorbar": {
             "outlinewidth": 0,
             "ticks": ""
            },
            "colorscale": [
             [
              0,
              "#0d0887"
             ],
             [
              0.1111111111111111,
              "#46039f"
             ],
             [
              0.2222222222222222,
              "#7201a8"
             ],
             [
              0.3333333333333333,
              "#9c179e"
             ],
             [
              0.4444444444444444,
              "#bd3786"
             ],
             [
              0.5555555555555556,
              "#d8576b"
             ],
             [
              0.6666666666666666,
              "#ed7953"
             ],
             [
              0.7777777777777778,
              "#fb9f3a"
             ],
             [
              0.8888888888888888,
              "#fdca26"
             ],
             [
              1,
              "#f0f921"
             ]
            ],
            "type": "heatmapgl"
           }
          ],
          "histogram": [
           {
            "marker": {
             "pattern": {
              "fillmode": "overlay",
              "size": 10,
              "solidity": 0.2
             }
            },
            "type": "histogram"
           }
          ],
          "histogram2d": [
           {
            "colorbar": {
             "outlinewidth": 0,
             "ticks": ""
            },
            "colorscale": [
             [
              0,
              "#0d0887"
             ],
             [
              0.1111111111111111,
              "#46039f"
             ],
             [
              0.2222222222222222,
              "#7201a8"
             ],
             [
              0.3333333333333333,
              "#9c179e"
             ],
             [
              0.4444444444444444,
              "#bd3786"
             ],
             [
              0.5555555555555556,
              "#d8576b"
             ],
             [
              0.6666666666666666,
              "#ed7953"
             ],
             [
              0.7777777777777778,
              "#fb9f3a"
             ],
             [
              0.8888888888888888,
              "#fdca26"
             ],
             [
              1,
              "#f0f921"
             ]
            ],
            "type": "histogram2d"
           }
          ],
          "histogram2dcontour": [
           {
            "colorbar": {
             "outlinewidth": 0,
             "ticks": ""
            },
            "colorscale": [
             [
              0,
              "#0d0887"
             ],
             [
              0.1111111111111111,
              "#46039f"
             ],
             [
              0.2222222222222222,
              "#7201a8"
             ],
             [
              0.3333333333333333,
              "#9c179e"
             ],
             [
              0.4444444444444444,
              "#bd3786"
             ],
             [
              0.5555555555555556,
              "#d8576b"
             ],
             [
              0.6666666666666666,
              "#ed7953"
             ],
             [
              0.7777777777777778,
              "#fb9f3a"
             ],
             [
              0.8888888888888888,
              "#fdca26"
             ],
             [
              1,
              "#f0f921"
             ]
            ],
            "type": "histogram2dcontour"
           }
          ],
          "mesh3d": [
           {
            "colorbar": {
             "outlinewidth": 0,
             "ticks": ""
            },
            "type": "mesh3d"
           }
          ],
          "parcoords": [
           {
            "line": {
             "colorbar": {
              "outlinewidth": 0,
              "ticks": ""
             }
            },
            "type": "parcoords"
           }
          ],
          "pie": [
           {
            "automargin": true,
            "type": "pie"
           }
          ],
          "scatter": [
           {
            "fillpattern": {
             "fillmode": "overlay",
             "size": 10,
             "solidity": 0.2
            },
            "type": "scatter"
           }
          ],
          "scatter3d": [
           {
            "line": {
             "colorbar": {
              "outlinewidth": 0,
              "ticks": ""
             }
            },
            "marker": {
             "colorbar": {
              "outlinewidth": 0,
              "ticks": ""
             }
            },
            "type": "scatter3d"
           }
          ],
          "scattercarpet": [
           {
            "marker": {
             "colorbar": {
              "outlinewidth": 0,
              "ticks": ""
             }
            },
            "type": "scattercarpet"
           }
          ],
          "scattergeo": [
           {
            "marker": {
             "colorbar": {
              "outlinewidth": 0,
              "ticks": ""
             }
            },
            "type": "scattergeo"
           }
          ],
          "scattergl": [
           {
            "marker": {
             "colorbar": {
              "outlinewidth": 0,
              "ticks": ""
             }
            },
            "type": "scattergl"
           }
          ],
          "scattermapbox": [
           {
            "marker": {
             "colorbar": {
              "outlinewidth": 0,
              "ticks": ""
             }
            },
            "type": "scattermapbox"
           }
          ],
          "scatterpolar": [
           {
            "marker": {
             "colorbar": {
              "outlinewidth": 0,
              "ticks": ""
             }
            },
            "type": "scatterpolar"
           }
          ],
          "scatterpolargl": [
           {
            "marker": {
             "colorbar": {
              "outlinewidth": 0,
              "ticks": ""
             }
            },
            "type": "scatterpolargl"
           }
          ],
          "scatterternary": [
           {
            "marker": {
             "colorbar": {
              "outlinewidth": 0,
              "ticks": ""
             }
            },
            "type": "scatterternary"
           }
          ],
          "surface": [
           {
            "colorbar": {
             "outlinewidth": 0,
             "ticks": ""
            },
            "colorscale": [
             [
              0,
              "#0d0887"
             ],
             [
              0.1111111111111111,
              "#46039f"
             ],
             [
              0.2222222222222222,
              "#7201a8"
             ],
             [
              0.3333333333333333,
              "#9c179e"
             ],
             [
              0.4444444444444444,
              "#bd3786"
             ],
             [
              0.5555555555555556,
              "#d8576b"
             ],
             [
              0.6666666666666666,
              "#ed7953"
             ],
             [
              0.7777777777777778,
              "#fb9f3a"
             ],
             [
              0.8888888888888888,
              "#fdca26"
             ],
             [
              1,
              "#f0f921"
             ]
            ],
            "type": "surface"
           }
          ],
          "table": [
           {
            "cells": {
             "fill": {
              "color": "#EBF0F8"
             },
             "line": {
              "color": "white"
             }
            },
            "header": {
             "fill": {
              "color": "#C8D4E3"
             },
             "line": {
              "color": "white"
             }
            },
            "type": "table"
           }
          ]
         },
         "layout": {
          "annotationdefaults": {
           "arrowcolor": "#2a3f5f",
           "arrowhead": 0,
           "arrowwidth": 1
          },
          "autotypenumbers": "strict",
          "coloraxis": {
           "colorbar": {
            "outlinewidth": 0,
            "ticks": ""
           }
          },
          "colorscale": {
           "diverging": [
            [
             0,
             "#8e0152"
            ],
            [
             0.1,
             "#c51b7d"
            ],
            [
             0.2,
             "#de77ae"
            ],
            [
             0.3,
             "#f1b6da"
            ],
            [
             0.4,
             "#fde0ef"
            ],
            [
             0.5,
             "#f7f7f7"
            ],
            [
             0.6,
             "#e6f5d0"
            ],
            [
             0.7,
             "#b8e186"
            ],
            [
             0.8,
             "#7fbc41"
            ],
            [
             0.9,
             "#4d9221"
            ],
            [
             1,
             "#276419"
            ]
           ],
           "sequential": [
            [
             0,
             "#0d0887"
            ],
            [
             0.1111111111111111,
             "#46039f"
            ],
            [
             0.2222222222222222,
             "#7201a8"
            ],
            [
             0.3333333333333333,
             "#9c179e"
            ],
            [
             0.4444444444444444,
             "#bd3786"
            ],
            [
             0.5555555555555556,
             "#d8576b"
            ],
            [
             0.6666666666666666,
             "#ed7953"
            ],
            [
             0.7777777777777778,
             "#fb9f3a"
            ],
            [
             0.8888888888888888,
             "#fdca26"
            ],
            [
             1,
             "#f0f921"
            ]
           ],
           "sequentialminus": [
            [
             0,
             "#0d0887"
            ],
            [
             0.1111111111111111,
             "#46039f"
            ],
            [
             0.2222222222222222,
             "#7201a8"
            ],
            [
             0.3333333333333333,
             "#9c179e"
            ],
            [
             0.4444444444444444,
             "#bd3786"
            ],
            [
             0.5555555555555556,
             "#d8576b"
            ],
            [
             0.6666666666666666,
             "#ed7953"
            ],
            [
             0.7777777777777778,
             "#fb9f3a"
            ],
            [
             0.8888888888888888,
             "#fdca26"
            ],
            [
             1,
             "#f0f921"
            ]
           ]
          },
          "colorway": [
           "#636efa",
           "#EF553B",
           "#00cc96",
           "#ab63fa",
           "#FFA15A",
           "#19d3f3",
           "#FF6692",
           "#B6E880",
           "#FF97FF",
           "#FECB52"
          ],
          "font": {
           "color": "#2a3f5f"
          },
          "geo": {
           "bgcolor": "white",
           "lakecolor": "white",
           "landcolor": "white",
           "showlakes": true,
           "showland": true,
           "subunitcolor": "#C8D4E3"
          },
          "hoverlabel": {
           "align": "left"
          },
          "hovermode": "closest",
          "mapbox": {
           "style": "light"
          },
          "paper_bgcolor": "white",
          "plot_bgcolor": "white",
          "polar": {
           "angularaxis": {
            "gridcolor": "#EBF0F8",
            "linecolor": "#EBF0F8",
            "ticks": ""
           },
           "bgcolor": "white",
           "radialaxis": {
            "gridcolor": "#EBF0F8",
            "linecolor": "#EBF0F8",
            "ticks": ""
           }
          },
          "scene": {
           "xaxis": {
            "backgroundcolor": "white",
            "gridcolor": "#DFE8F3",
            "gridwidth": 2,
            "linecolor": "#EBF0F8",
            "showbackground": true,
            "ticks": "",
            "zerolinecolor": "#EBF0F8"
           },
           "yaxis": {
            "backgroundcolor": "white",
            "gridcolor": "#DFE8F3",
            "gridwidth": 2,
            "linecolor": "#EBF0F8",
            "showbackground": true,
            "ticks": "",
            "zerolinecolor": "#EBF0F8"
           },
           "zaxis": {
            "backgroundcolor": "white",
            "gridcolor": "#DFE8F3",
            "gridwidth": 2,
            "linecolor": "#EBF0F8",
            "showbackground": true,
            "ticks": "",
            "zerolinecolor": "#EBF0F8"
           }
          },
          "shapedefaults": {
           "line": {
            "color": "#2a3f5f"
           }
          },
          "ternary": {
           "aaxis": {
            "gridcolor": "#DFE8F3",
            "linecolor": "#A2B1C6",
            "ticks": ""
           },
           "baxis": {
            "gridcolor": "#DFE8F3",
            "linecolor": "#A2B1C6",
            "ticks": ""
           },
           "bgcolor": "white",
           "caxis": {
            "gridcolor": "#DFE8F3",
            "linecolor": "#A2B1C6",
            "ticks": ""
           }
          },
          "title": {
           "x": 0.05
          },
          "xaxis": {
           "automargin": true,
           "gridcolor": "#EBF0F8",
           "linecolor": "#EBF0F8",
           "ticks": "",
           "title": {
            "standoff": 15
           },
           "zerolinecolor": "#EBF0F8",
           "zerolinewidth": 2
          },
          "yaxis": {
           "automargin": true,
           "gridcolor": "#EBF0F8",
           "linecolor": "#EBF0F8",
           "ticks": "",
           "title": {
            "standoff": 15
           },
           "zerolinecolor": "#EBF0F8",
           "zerolinewidth": 2
          }
         }
        },
        "title": {
         "text": "Product Ratings and Reviews Count by Category and Demographics"
        }
       }
      }
     },
     "metadata": {},
     "output_type": "display_data"
    }
   ],
   "source": [
    "import plotly.express as px\n",
    "\n",
    "# Use a formal theme like 'plotly_white' or 'plotly_dark' for a professional look\n",
    "px.defaults.template = \"plotly_white\"\n",
    "\n",
    "fig = px.treemap(\n",
    "    category_segmentation.reset_index(), \n",
    "    path=['category', 'customer_demographics'], \n",
    "    values='customer_reviews_count',\n",
    "    color='product_rating',\n",
    "    color_continuous_scale='Blues',  # Using a blue color scale for a more formal appearance\n",
    "    title='Product Ratings and Reviews Count by Category and Demographics'\n",
    ")\n",
    "\n",
    "# Customize hover template to display detailed information\n",
    "fig.update_traces(\n",
    "    hovertemplate=\"<b>Category:</b> %{label}<br>\" +\n",
    "                  \"<b>Demographics:</b> %{parent}<br>\" +\n",
    "                  \"<b>Reviews Count:</b> %{value}<br>\" +\n",
    "                  \"<b>Average Rating:</b> %{color:.2f}<br>\"\n",
    ")\n",
    "\n",
    "# Apply additional layout enhancements for a formal look\n",
    "fig.update_layout(\n",
    "    hoverlabel=dict(bgcolor=\"white\", font_size=12, font_family=\"Arial\"),\n",
    "    paper_bgcolor='rgba(247, 247, 247, 1)',\n",
    "    plot_bgcolor='rgba(247, 247, 247, 1)'\n",
    ")\n",
    "\n",
    "fig.show()\n",
    "\n",
    "\n",
    "# The size of each segment represents the total number of customer reviews, highlighting which categories and demographics are most active in terms of reviewing products.\n",
    "# The color indicates the average product rating, providing insight into how satisfied customers are in each segment."
   ]
  },
  {
   "cell_type": "markdown",
   "metadata": {},
   "source": [
    "Promotion Impact Analysis\n",
    "Looking at the promotion impact, we can observe how promotions influence brand performance for selected brands:\n",
    "\n",
    "Sumeru has higher sales when products are on promotion (₹2,334.70) compared to when not (₹1,324.00), with a slight decrease in average product rating during promotions.\n",
    "Mother Dairy also shows increased sales with promotions (₹1,905.00) versus without (₹519.55), and maintains a relatively high product rating, suggesting effective promotional strategies.\n",
    "For moha, sales are almost equal with and without promotions, but the data lacks product ratings.\n",
    "Marshmallow and mJOY show varied performance with promotions, with mJOY achieving a perfect average rating during promotions.\n",
    "\n",
    "\n",
    "Promotion Impact Analysis (Continued)\n",
    "Sumeru shows a significant increase in sales when products are on promotion, with sales rising from 1,324 to 2,334.70 units, and a slight decrease in average product rating from 3.84 to 3.45, suggesting that promotions drive sales despite a small drop in customer satisfaction.\n",
    "Mother Dairy also sees an increase in sales with promotions, from 519.55 to 1,905 units, and maintains a relatively high product rating, indicating that promotions are effective in boosting sales while keeping customer satisfaction high.\n",
    "For brands like moha and mJOY, the data is limited regarding the product rating in some cases, but sales figures suggest that promotions have a notable impact."
   ]
  },
  {
   "cell_type": "code",
   "execution_count": 134,
   "metadata": {},
   "outputs": [
    {
     "data": {
      "text/html": [
       "<div>\n",
       "<style scoped>\n",
       "    .dataframe tbody tr th:only-of-type {\n",
       "        vertical-align: middle;\n",
       "    }\n",
       "\n",
       "    .dataframe tbody tr th {\n",
       "        vertical-align: top;\n",
       "    }\n",
       "\n",
       "    .dataframe thead th {\n",
       "        text-align: right;\n",
       "    }\n",
       "</style>\n",
       "<table border=\"1\" class=\"dataframe\">\n",
       "  <thead>\n",
       "    <tr style=\"text-align: right;\">\n",
       "      <th></th>\n",
       "      <th></th>\n",
       "      <th>product_rating</th>\n",
       "      <th>customer_reviews_count</th>\n",
       "    </tr>\n",
       "    <tr>\n",
       "      <th>brand</th>\n",
       "      <th>promotion_indicator</th>\n",
       "      <th></th>\n",
       "      <th></th>\n",
       "    </tr>\n",
       "  </thead>\n",
       "  <tbody>\n",
       "    <tr>\n",
       "      <th rowspan=\"2\" valign=\"top\">sumeru</th>\n",
       "      <th>Yes</th>\n",
       "      <td>3.450000</td>\n",
       "      <td>499</td>\n",
       "    </tr>\n",
       "    <tr>\n",
       "      <th>No</th>\n",
       "      <td>3.842857</td>\n",
       "      <td>370</td>\n",
       "    </tr>\n",
       "    <tr>\n",
       "      <th rowspan=\"2\" valign=\"top\">mother dairy</th>\n",
       "      <th>Yes</th>\n",
       "      <td>4.171429</td>\n",
       "      <td>356</td>\n",
       "    </tr>\n",
       "    <tr>\n",
       "      <th>No</th>\n",
       "      <td>4.116667</td>\n",
       "      <td>240</td>\n",
       "    </tr>\n",
       "    <tr>\n",
       "      <th rowspan=\"2\" valign=\"top\">moha</th>\n",
       "      <th>Yes</th>\n",
       "      <td>NaN</td>\n",
       "      <td>88</td>\n",
       "    </tr>\n",
       "    <tr>\n",
       "      <th>No</th>\n",
       "      <td>NaN</td>\n",
       "      <td>114</td>\n",
       "    </tr>\n",
       "    <tr>\n",
       "      <th rowspan=\"2\" valign=\"top\">marshmallow</th>\n",
       "      <th>Yes</th>\n",
       "      <td>3.800000</td>\n",
       "      <td>21</td>\n",
       "    </tr>\n",
       "    <tr>\n",
       "      <th>No</th>\n",
       "      <td>4.400000</td>\n",
       "      <td>48</td>\n",
       "    </tr>\n",
       "    <tr>\n",
       "      <th rowspan=\"2\" valign=\"top\">mJOY</th>\n",
       "      <th>Yes</th>\n",
       "      <td>5.000000</td>\n",
       "      <td>38</td>\n",
       "    </tr>\n",
       "    <tr>\n",
       "      <th>No</th>\n",
       "      <td>NaN</td>\n",
       "      <td>75</td>\n",
       "    </tr>\n",
       "  </tbody>\n",
       "</table>\n",
       "</div>"
      ],
      "text/plain": [
       "                                  product_rating  customer_reviews_count\n",
       "brand        promotion_indicator                                        \n",
       "sumeru       Yes                        3.450000                     499\n",
       "             No                         3.842857                     370\n",
       "mother dairy Yes                        4.171429                     356\n",
       "             No                         4.116667                     240\n",
       "moha         Yes                             NaN                      88\n",
       "             No                              NaN                     114\n",
       "marshmallow  Yes                        3.800000                      21\n",
       "             No                         4.400000                      48\n",
       "mJOY         Yes                        5.000000                      38\n",
       "             No                              NaN                      75"
      ]
     },
     "execution_count": 134,
     "metadata": {},
     "output_type": "execute_result"
    }
   ],
   "source": [
    "# Analyzing the impact of promotion on brand performance\n",
    "promotion_impact = data.groupby(['brand', 'promotion_indicator']).agg({\n",
    "    'product_rating': 'mean',\n",
    "    'customer_reviews_count': 'sum'\n",
    "}).sort_values(by=['brand'], ascending=False)\n",
    "\n",
    "# Display the impact of promotions on top brands\n",
    "promotion_impact.head(10)"
   ]
  },
  {
   "cell_type": "code",
   "execution_count": 135,
   "metadata": {},
   "outputs": [
    {
     "data": {
      "application/vnd.plotly.v1+json": {
       "config": {
        "plotlyServerURL": "https://plot.ly"
       },
       "data": [
        {
         "hovertemplate": "<b>%{x}</b><br>Avg Rating: %{y:.2f}<br>Total Reviews: %{customdata}<extra></extra>",
         "name": "Promotion Yes",
         "type": "bar",
         "x": [
          "sumeru",
          "Home Puff",
          "Home Mate",
          "Hm International",
          "Hintz",
          "Himalayan Natives",
          "Himalayan",
          "Himalaya Wellness",
          "Himalaya Pet Care",
          "Himalaya Baby"
         ],
         "xaxis": "x",
         "y": [
          3.45,
          4.666666666666667,
          4.1,
          4.021428571428571,
          null,
          3.967741935483871,
          3.3,
          3.9916666666666667,
          4.533333333333333,
          4.158333333333333
         ],
         "yaxis": "y"
        },
        {
         "hovertemplate": "<b>%{x}</b><br>Avg Rating: %{y:.2f}<br>Total Reviews: %{customdata}<extra></extra>",
         "name": "Promotion No",
         "type": "bar",
         "x": [
          "sumeru",
          "Home Puff",
          "Home Mate",
          "Hm International",
          "Hintz",
          "Himalayan Natives",
          "Himalayan",
          "Himalaya Wellness",
          "Himalaya Pet Care",
          "Himalaya Baby"
         ],
         "xaxis": "x",
         "y": [
          3.8428571428571425,
          2.5,
          3.05,
          3.072,
          3,
          3.967741935483871,
          4.3,
          4.38,
          3.8199999999999994,
          4.208333333333333
         ],
         "yaxis": "y"
        },
        {
         "hovertemplate": "<b>%{x}</b><br>Avg Rating: %{y:.2f}<br>Total Reviews: %{customdata}<extra></extra>",
         "name": "Promotion Yes",
         "type": "bar",
         "x": [
          "sumeru",
          "Home Puff",
          "Home Mate",
          "Hm International",
          "Hintz",
          "Himalayan Natives",
          "Himalayan",
          "Himalaya Wellness",
          "Himalaya Pet Care",
          "Himalaya Baby"
         ],
         "xaxis": "x2",
         "y": [
          499,
          121,
          375,
          1984,
          17,
          1317,
          13,
          431,
          179,
          567
         ],
         "yaxis": "y2"
        },
        {
         "hovertemplate": "<b>%{x}</b><br>Avg Rating: %{y:.2f}<br>Total Reviews: %{customdata}<extra></extra>",
         "name": "Promotion No",
         "type": "bar",
         "x": [
          "sumeru",
          "Home Puff",
          "Home Mate",
          "Hm International",
          "Hintz",
          "Himalayan Natives",
          "Himalayan",
          "Himalaya Wellness",
          "Himalaya Pet Care",
          "Himalaya Baby"
         ],
         "xaxis": "x2",
         "y": [
          370,
          253,
          94,
          2619,
          130,
          1511,
          89,
          348,
          231,
          432
         ],
         "yaxis": "y2"
        }
       ],
       "layout": {
        "annotations": [
         {
          "font": {
           "size": 16
          },
          "showarrow": false,
          "text": "Average Product Rating",
          "x": 0.225,
          "xanchor": "center",
          "xref": "paper",
          "y": 1,
          "yanchor": "bottom",
          "yref": "paper"
         },
         {
          "font": {
           "size": 16
          },
          "showarrow": false,
          "text": "Total Customer Reviews",
          "x": 0.775,
          "xanchor": "center",
          "xref": "paper",
          "y": 1,
          "yanchor": "bottom",
          "yref": "paper"
         }
        ],
        "hovermode": "closest",
        "template": {
         "data": {
          "bar": [
           {
            "error_x": {
             "color": "#2a3f5f"
            },
            "error_y": {
             "color": "#2a3f5f"
            },
            "marker": {
             "line": {
              "color": "white",
              "width": 0.5
             },
             "pattern": {
              "fillmode": "overlay",
              "size": 10,
              "solidity": 0.2
             }
            },
            "type": "bar"
           }
          ],
          "barpolar": [
           {
            "marker": {
             "line": {
              "color": "white",
              "width": 0.5
             },
             "pattern": {
              "fillmode": "overlay",
              "size": 10,
              "solidity": 0.2
             }
            },
            "type": "barpolar"
           }
          ],
          "carpet": [
           {
            "aaxis": {
             "endlinecolor": "#2a3f5f",
             "gridcolor": "#C8D4E3",
             "linecolor": "#C8D4E3",
             "minorgridcolor": "#C8D4E3",
             "startlinecolor": "#2a3f5f"
            },
            "baxis": {
             "endlinecolor": "#2a3f5f",
             "gridcolor": "#C8D4E3",
             "linecolor": "#C8D4E3",
             "minorgridcolor": "#C8D4E3",
             "startlinecolor": "#2a3f5f"
            },
            "type": "carpet"
           }
          ],
          "choropleth": [
           {
            "colorbar": {
             "outlinewidth": 0,
             "ticks": ""
            },
            "type": "choropleth"
           }
          ],
          "contour": [
           {
            "colorbar": {
             "outlinewidth": 0,
             "ticks": ""
            },
            "colorscale": [
             [
              0,
              "#0d0887"
             ],
             [
              0.1111111111111111,
              "#46039f"
             ],
             [
              0.2222222222222222,
              "#7201a8"
             ],
             [
              0.3333333333333333,
              "#9c179e"
             ],
             [
              0.4444444444444444,
              "#bd3786"
             ],
             [
              0.5555555555555556,
              "#d8576b"
             ],
             [
              0.6666666666666666,
              "#ed7953"
             ],
             [
              0.7777777777777778,
              "#fb9f3a"
             ],
             [
              0.8888888888888888,
              "#fdca26"
             ],
             [
              1,
              "#f0f921"
             ]
            ],
            "type": "contour"
           }
          ],
          "contourcarpet": [
           {
            "colorbar": {
             "outlinewidth": 0,
             "ticks": ""
            },
            "type": "contourcarpet"
           }
          ],
          "heatmap": [
           {
            "colorbar": {
             "outlinewidth": 0,
             "ticks": ""
            },
            "colorscale": [
             [
              0,
              "#0d0887"
             ],
             [
              0.1111111111111111,
              "#46039f"
             ],
             [
              0.2222222222222222,
              "#7201a8"
             ],
             [
              0.3333333333333333,
              "#9c179e"
             ],
             [
              0.4444444444444444,
              "#bd3786"
             ],
             [
              0.5555555555555556,
              "#d8576b"
             ],
             [
              0.6666666666666666,
              "#ed7953"
             ],
             [
              0.7777777777777778,
              "#fb9f3a"
             ],
             [
              0.8888888888888888,
              "#fdca26"
             ],
             [
              1,
              "#f0f921"
             ]
            ],
            "type": "heatmap"
           }
          ],
          "heatmapgl": [
           {
            "colorbar": {
             "outlinewidth": 0,
             "ticks": ""
            },
            "colorscale": [
             [
              0,
              "#0d0887"
             ],
             [
              0.1111111111111111,
              "#46039f"
             ],
             [
              0.2222222222222222,
              "#7201a8"
             ],
             [
              0.3333333333333333,
              "#9c179e"
             ],
             [
              0.4444444444444444,
              "#bd3786"
             ],
             [
              0.5555555555555556,
              "#d8576b"
             ],
             [
              0.6666666666666666,
              "#ed7953"
             ],
             [
              0.7777777777777778,
              "#fb9f3a"
             ],
             [
              0.8888888888888888,
              "#fdca26"
             ],
             [
              1,
              "#f0f921"
             ]
            ],
            "type": "heatmapgl"
           }
          ],
          "histogram": [
           {
            "marker": {
             "pattern": {
              "fillmode": "overlay",
              "size": 10,
              "solidity": 0.2
             }
            },
            "type": "histogram"
           }
          ],
          "histogram2d": [
           {
            "colorbar": {
             "outlinewidth": 0,
             "ticks": ""
            },
            "colorscale": [
             [
              0,
              "#0d0887"
             ],
             [
              0.1111111111111111,
              "#46039f"
             ],
             [
              0.2222222222222222,
              "#7201a8"
             ],
             [
              0.3333333333333333,
              "#9c179e"
             ],
             [
              0.4444444444444444,
              "#bd3786"
             ],
             [
              0.5555555555555556,
              "#d8576b"
             ],
             [
              0.6666666666666666,
              "#ed7953"
             ],
             [
              0.7777777777777778,
              "#fb9f3a"
             ],
             [
              0.8888888888888888,
              "#fdca26"
             ],
             [
              1,
              "#f0f921"
             ]
            ],
            "type": "histogram2d"
           }
          ],
          "histogram2dcontour": [
           {
            "colorbar": {
             "outlinewidth": 0,
             "ticks": ""
            },
            "colorscale": [
             [
              0,
              "#0d0887"
             ],
             [
              0.1111111111111111,
              "#46039f"
             ],
             [
              0.2222222222222222,
              "#7201a8"
             ],
             [
              0.3333333333333333,
              "#9c179e"
             ],
             [
              0.4444444444444444,
              "#bd3786"
             ],
             [
              0.5555555555555556,
              "#d8576b"
             ],
             [
              0.6666666666666666,
              "#ed7953"
             ],
             [
              0.7777777777777778,
              "#fb9f3a"
             ],
             [
              0.8888888888888888,
              "#fdca26"
             ],
             [
              1,
              "#f0f921"
             ]
            ],
            "type": "histogram2dcontour"
           }
          ],
          "mesh3d": [
           {
            "colorbar": {
             "outlinewidth": 0,
             "ticks": ""
            },
            "type": "mesh3d"
           }
          ],
          "parcoords": [
           {
            "line": {
             "colorbar": {
              "outlinewidth": 0,
              "ticks": ""
             }
            },
            "type": "parcoords"
           }
          ],
          "pie": [
           {
            "automargin": true,
            "type": "pie"
           }
          ],
          "scatter": [
           {
            "fillpattern": {
             "fillmode": "overlay",
             "size": 10,
             "solidity": 0.2
            },
            "type": "scatter"
           }
          ],
          "scatter3d": [
           {
            "line": {
             "colorbar": {
              "outlinewidth": 0,
              "ticks": ""
             }
            },
            "marker": {
             "colorbar": {
              "outlinewidth": 0,
              "ticks": ""
             }
            },
            "type": "scatter3d"
           }
          ],
          "scattercarpet": [
           {
            "marker": {
             "colorbar": {
              "outlinewidth": 0,
              "ticks": ""
             }
            },
            "type": "scattercarpet"
           }
          ],
          "scattergeo": [
           {
            "marker": {
             "colorbar": {
              "outlinewidth": 0,
              "ticks": ""
             }
            },
            "type": "scattergeo"
           }
          ],
          "scattergl": [
           {
            "marker": {
             "colorbar": {
              "outlinewidth": 0,
              "ticks": ""
             }
            },
            "type": "scattergl"
           }
          ],
          "scattermapbox": [
           {
            "marker": {
             "colorbar": {
              "outlinewidth": 0,
              "ticks": ""
             }
            },
            "type": "scattermapbox"
           }
          ],
          "scatterpolar": [
           {
            "marker": {
             "colorbar": {
              "outlinewidth": 0,
              "ticks": ""
             }
            },
            "type": "scatterpolar"
           }
          ],
          "scatterpolargl": [
           {
            "marker": {
             "colorbar": {
              "outlinewidth": 0,
              "ticks": ""
             }
            },
            "type": "scatterpolargl"
           }
          ],
          "scatterternary": [
           {
            "marker": {
             "colorbar": {
              "outlinewidth": 0,
              "ticks": ""
             }
            },
            "type": "scatterternary"
           }
          ],
          "surface": [
           {
            "colorbar": {
             "outlinewidth": 0,
             "ticks": ""
            },
            "colorscale": [
             [
              0,
              "#0d0887"
             ],
             [
              0.1111111111111111,
              "#46039f"
             ],
             [
              0.2222222222222222,
              "#7201a8"
             ],
             [
              0.3333333333333333,
              "#9c179e"
             ],
             [
              0.4444444444444444,
              "#bd3786"
             ],
             [
              0.5555555555555556,
              "#d8576b"
             ],
             [
              0.6666666666666666,
              "#ed7953"
             ],
             [
              0.7777777777777778,
              "#fb9f3a"
             ],
             [
              0.8888888888888888,
              "#fdca26"
             ],
             [
              1,
              "#f0f921"
             ]
            ],
            "type": "surface"
           }
          ],
          "table": [
           {
            "cells": {
             "fill": {
              "color": "#EBF0F8"
             },
             "line": {
              "color": "white"
             }
            },
            "header": {
             "fill": {
              "color": "#C8D4E3"
             },
             "line": {
              "color": "white"
             }
            },
            "type": "table"
           }
          ]
         },
         "layout": {
          "annotationdefaults": {
           "arrowcolor": "#2a3f5f",
           "arrowhead": 0,
           "arrowwidth": 1
          },
          "autotypenumbers": "strict",
          "coloraxis": {
           "colorbar": {
            "outlinewidth": 0,
            "ticks": ""
           }
          },
          "colorscale": {
           "diverging": [
            [
             0,
             "#8e0152"
            ],
            [
             0.1,
             "#c51b7d"
            ],
            [
             0.2,
             "#de77ae"
            ],
            [
             0.3,
             "#f1b6da"
            ],
            [
             0.4,
             "#fde0ef"
            ],
            [
             0.5,
             "#f7f7f7"
            ],
            [
             0.6,
             "#e6f5d0"
            ],
            [
             0.7,
             "#b8e186"
            ],
            [
             0.8,
             "#7fbc41"
            ],
            [
             0.9,
             "#4d9221"
            ],
            [
             1,
             "#276419"
            ]
           ],
           "sequential": [
            [
             0,
             "#0d0887"
            ],
            [
             0.1111111111111111,
             "#46039f"
            ],
            [
             0.2222222222222222,
             "#7201a8"
            ],
            [
             0.3333333333333333,
             "#9c179e"
            ],
            [
             0.4444444444444444,
             "#bd3786"
            ],
            [
             0.5555555555555556,
             "#d8576b"
            ],
            [
             0.6666666666666666,
             "#ed7953"
            ],
            [
             0.7777777777777778,
             "#fb9f3a"
            ],
            [
             0.8888888888888888,
             "#fdca26"
            ],
            [
             1,
             "#f0f921"
            ]
           ],
           "sequentialminus": [
            [
             0,
             "#0d0887"
            ],
            [
             0.1111111111111111,
             "#46039f"
            ],
            [
             0.2222222222222222,
             "#7201a8"
            ],
            [
             0.3333333333333333,
             "#9c179e"
            ],
            [
             0.4444444444444444,
             "#bd3786"
            ],
            [
             0.5555555555555556,
             "#d8576b"
            ],
            [
             0.6666666666666666,
             "#ed7953"
            ],
            [
             0.7777777777777778,
             "#fb9f3a"
            ],
            [
             0.8888888888888888,
             "#fdca26"
            ],
            [
             1,
             "#f0f921"
            ]
           ]
          },
          "colorway": [
           "#636efa",
           "#EF553B",
           "#00cc96",
           "#ab63fa",
           "#FFA15A",
           "#19d3f3",
           "#FF6692",
           "#B6E880",
           "#FF97FF",
           "#FECB52"
          ],
          "font": {
           "color": "#2a3f5f"
          },
          "geo": {
           "bgcolor": "white",
           "lakecolor": "white",
           "landcolor": "white",
           "showlakes": true,
           "showland": true,
           "subunitcolor": "#C8D4E3"
          },
          "hoverlabel": {
           "align": "left"
          },
          "hovermode": "closest",
          "mapbox": {
           "style": "light"
          },
          "paper_bgcolor": "white",
          "plot_bgcolor": "white",
          "polar": {
           "angularaxis": {
            "gridcolor": "#EBF0F8",
            "linecolor": "#EBF0F8",
            "ticks": ""
           },
           "bgcolor": "white",
           "radialaxis": {
            "gridcolor": "#EBF0F8",
            "linecolor": "#EBF0F8",
            "ticks": ""
           }
          },
          "scene": {
           "xaxis": {
            "backgroundcolor": "white",
            "gridcolor": "#DFE8F3",
            "gridwidth": 2,
            "linecolor": "#EBF0F8",
            "showbackground": true,
            "ticks": "",
            "zerolinecolor": "#EBF0F8"
           },
           "yaxis": {
            "backgroundcolor": "white",
            "gridcolor": "#DFE8F3",
            "gridwidth": 2,
            "linecolor": "#EBF0F8",
            "showbackground": true,
            "ticks": "",
            "zerolinecolor": "#EBF0F8"
           },
           "zaxis": {
            "backgroundcolor": "white",
            "gridcolor": "#DFE8F3",
            "gridwidth": 2,
            "linecolor": "#EBF0F8",
            "showbackground": true,
            "ticks": "",
            "zerolinecolor": "#EBF0F8"
           }
          },
          "shapedefaults": {
           "line": {
            "color": "#2a3f5f"
           }
          },
          "ternary": {
           "aaxis": {
            "gridcolor": "#DFE8F3",
            "linecolor": "#A2B1C6",
            "ticks": ""
           },
           "baxis": {
            "gridcolor": "#DFE8F3",
            "linecolor": "#A2B1C6",
            "ticks": ""
           },
           "bgcolor": "white",
           "caxis": {
            "gridcolor": "#DFE8F3",
            "linecolor": "#A2B1C6",
            "ticks": ""
           }
          },
          "title": {
           "x": 0.05
          },
          "xaxis": {
           "automargin": true,
           "gridcolor": "#EBF0F8",
           "linecolor": "#EBF0F8",
           "ticks": "",
           "title": {
            "standoff": 15
           },
           "zerolinecolor": "#EBF0F8",
           "zerolinewidth": 2
          },
          "yaxis": {
           "automargin": true,
           "gridcolor": "#EBF0F8",
           "linecolor": "#EBF0F8",
           "ticks": "",
           "title": {
            "standoff": 15
           },
           "zerolinecolor": "#EBF0F8",
           "zerolinewidth": 2
          }
         }
        },
        "title": {
         "text": "Impact of Promotion on Brand Performance"
        },
        "xaxis": {
         "anchor": "y",
         "domain": [
          0,
          0.45
         ]
        },
        "xaxis2": {
         "anchor": "y2",
         "domain": [
          0.55,
          1
         ]
        },
        "yaxis": {
         "anchor": "x",
         "domain": [
          0,
          1
         ]
        },
        "yaxis2": {
         "anchor": "x2",
         "domain": [
          0,
          1
         ]
        }
       }
      }
     },
     "metadata": {},
     "output_type": "display_data"
    }
   ],
   "source": [
    "import plotly.graph_objects as go\n",
    "from plotly.subplots import make_subplots\n",
    "\n",
    "# Assuming promotion_impact is already defined as per your code\n",
    "promotion_impact.reset_index(inplace=True)\n",
    "\n",
    "# Filter the top 10 brands for a cleaner visualization\n",
    "top_brands = promotion_impact['brand'].value_counts().head(10).index\n",
    "filtered_data = promotion_impact[promotion_impact['brand'].isin(top_brands)]\n",
    "\n",
    "# Create a subplot with 1 row and 2 columns\n",
    "fig = make_subplots(rows=1, cols=2, subplot_titles=('Average Product Rating', 'Total Customer Reviews'))\n",
    "\n",
    "# First subplot for average product rating\n",
    "for indicator in ['Yes', 'No']:\n",
    "    subset = filtered_data[filtered_data['promotion_indicator'] == indicator]\n",
    "    fig.add_trace(\n",
    "        go.Bar(x=subset['brand'], y=subset['product_rating'], name=f'Promotion {indicator}'),\n",
    "        row=1, col=1\n",
    "    )\n",
    "\n",
    "# Second subplot for total customer reviews\n",
    "for indicator in ['Yes', 'No']:\n",
    "    subset = filtered_data[filtered_data['promotion_indicator'] == indicator]\n",
    "    fig.add_trace(\n",
    "        go.Bar(x=subset['brand'], y=subset['customer_reviews_count'], name=f'Promotion {indicator}'),\n",
    "        row=1, col=2\n",
    "    )\n",
    "\n",
    "# Update layout for a formal theme and add hover info\n",
    "fig.update_layout(\n",
    "    title_text=\"Impact of Promotion on Brand Performance\",\n",
    "    template=\"plotly_white\",\n",
    "    hovermode=\"closest\"\n",
    ")\n",
    "\n",
    "fig.update_traces(\n",
    "    hovertemplate=\"<b>%{x}</b><br>Avg Rating: %{y:.2f}<br>Total Reviews: %{customdata}<extra></extra>\"\n",
    ")\n",
    "\n",
    "fig.show()\n"
   ]
  },
  {
   "cell_type": "code",
   "execution_count": 137,
   "metadata": {},
   "outputs": [
    {
     "data": {
      "text/html": [
       "<div>\n",
       "<style scoped>\n",
       "    .dataframe tbody tr th:only-of-type {\n",
       "        vertical-align: middle;\n",
       "    }\n",
       "\n",
       "    .dataframe tbody tr th {\n",
       "        vertical-align: top;\n",
       "    }\n",
       "\n",
       "    .dataframe thead th {\n",
       "        text-align: right;\n",
       "    }\n",
       "</style>\n",
       "<table border=\"1\" class=\"dataframe\">\n",
       "  <thead>\n",
       "    <tr style=\"text-align: right;\">\n",
       "      <th></th>\n",
       "      <th></th>\n",
       "      <th></th>\n",
       "      <th>customer_reviews_count</th>\n",
       "    </tr>\n",
       "    <tr>\n",
       "      <th>category</th>\n",
       "      <th>customer_demographics</th>\n",
       "      <th>promotion_indicator</th>\n",
       "      <th></th>\n",
       "    </tr>\n",
       "  </thead>\n",
       "  <tbody>\n",
       "    <tr>\n",
       "      <th rowspan=\"6\" valign=\"top\">Snacks &amp; Branded Foods</th>\n",
       "      <th rowspan=\"2\" valign=\"top\">Other</th>\n",
       "      <th>No</th>\n",
       "      <td>22144</td>\n",
       "    </tr>\n",
       "    <tr>\n",
       "      <th>Yes</th>\n",
       "      <td>25158</td>\n",
       "    </tr>\n",
       "    <tr>\n",
       "      <th rowspan=\"2\" valign=\"top\">Male</th>\n",
       "      <th>No</th>\n",
       "      <td>22228</td>\n",
       "    </tr>\n",
       "    <tr>\n",
       "      <th>Yes</th>\n",
       "      <td>21726</td>\n",
       "    </tr>\n",
       "    <tr>\n",
       "      <th rowspan=\"2\" valign=\"top\">Female</th>\n",
       "      <th>No</th>\n",
       "      <td>24861</td>\n",
       "    </tr>\n",
       "    <tr>\n",
       "      <th>Yes</th>\n",
       "      <td>24264</td>\n",
       "    </tr>\n",
       "    <tr>\n",
       "      <th rowspan=\"6\" valign=\"top\">Kitchen, Garden &amp; Pets</th>\n",
       "      <th rowspan=\"2\" valign=\"top\">Other</th>\n",
       "      <th>No</th>\n",
       "      <td>31505</td>\n",
       "    </tr>\n",
       "    <tr>\n",
       "      <th>Yes</th>\n",
       "      <td>32189</td>\n",
       "    </tr>\n",
       "    <tr>\n",
       "      <th rowspan=\"2\" valign=\"top\">Male</th>\n",
       "      <th>No</th>\n",
       "      <td>28114</td>\n",
       "    </tr>\n",
       "    <tr>\n",
       "      <th>Yes</th>\n",
       "      <td>30095</td>\n",
       "    </tr>\n",
       "    <tr>\n",
       "      <th rowspan=\"2\" valign=\"top\">Female</th>\n",
       "      <th>No</th>\n",
       "      <td>28112</td>\n",
       "    </tr>\n",
       "    <tr>\n",
       "      <th>Yes</th>\n",
       "      <td>28856</td>\n",
       "    </tr>\n",
       "    <tr>\n",
       "      <th rowspan=\"6\" valign=\"top\">Gourmet &amp; World Food</th>\n",
       "      <th rowspan=\"2\" valign=\"top\">Other</th>\n",
       "      <th>No</th>\n",
       "      <td>40995</td>\n",
       "    </tr>\n",
       "    <tr>\n",
       "      <th>Yes</th>\n",
       "      <td>37255</td>\n",
       "    </tr>\n",
       "    <tr>\n",
       "      <th rowspan=\"2\" valign=\"top\">Male</th>\n",
       "      <th>No</th>\n",
       "      <td>39906</td>\n",
       "    </tr>\n",
       "    <tr>\n",
       "      <th>Yes</th>\n",
       "      <td>40083</td>\n",
       "    </tr>\n",
       "    <tr>\n",
       "      <th rowspan=\"2\" valign=\"top\">Female</th>\n",
       "      <th>No</th>\n",
       "      <td>37826</td>\n",
       "    </tr>\n",
       "    <tr>\n",
       "      <th>Yes</th>\n",
       "      <td>40422</td>\n",
       "    </tr>\n",
       "    <tr>\n",
       "      <th rowspan=\"2\" valign=\"top\">Fruits &amp; Vegetables</th>\n",
       "      <th rowspan=\"2\" valign=\"top\">Other</th>\n",
       "      <th>No</th>\n",
       "      <td>4205</td>\n",
       "    </tr>\n",
       "    <tr>\n",
       "      <th>Yes</th>\n",
       "      <td>4295</td>\n",
       "    </tr>\n",
       "  </tbody>\n",
       "</table>\n",
       "</div>"
      ],
      "text/plain": [
       "                                                                  customer_reviews_count\n",
       "category               customer_demographics promotion_indicator                        \n",
       "Snacks & Branded Foods Other                 No                                    22144\n",
       "                                             Yes                                   25158\n",
       "                       Male                  No                                    22228\n",
       "                                             Yes                                   21726\n",
       "                       Female                No                                    24861\n",
       "                                             Yes                                   24264\n",
       "Kitchen, Garden & Pets Other                 No                                    31505\n",
       "                                             Yes                                   32189\n",
       "                       Male                  No                                    28114\n",
       "                                             Yes                                   30095\n",
       "                       Female                No                                    28112\n",
       "                                             Yes                                   28856\n",
       "Gourmet & World Food   Other                 No                                    40995\n",
       "                                             Yes                                   37255\n",
       "                       Male                  No                                    39906\n",
       "                                             Yes                                   40083\n",
       "                       Female                No                                    37826\n",
       "                                             Yes                                   40422\n",
       "Fruits & Vegetables    Other                 No                                     4205\n",
       "                                             Yes                                    4295"
      ]
     },
     "execution_count": 137,
     "metadata": {},
     "output_type": "execute_result"
    }
   ],
   "source": [
    "# Analyzing how different customer demographics respond to promotions within each category\n",
    "demographic_promotion_response = data.groupby(['category', 'customer_demographics', 'promotion_indicator']).agg({\n",
    "    'customer_reviews_count': 'sum'  # Total reviews\n",
    "}).sort_values(by=['category', 'customer_demographics'], ascending=False)\n",
    "\n",
    "# Display the results to understand the impact of promotions across different demographics and categories\n",
    "demographic_promotion_response.head(20)\n"
   ]
  },
  {
   "cell_type": "code",
   "execution_count": 144,
   "metadata": {},
   "outputs": [
    {
     "data": {
      "application/vnd.plotly.v1+json": {
       "config": {
        "plotlyServerURL": "https://plot.ly"
       },
       "data": [
        {
         "alignmentgroup": "True",
         "hovertemplate": "customer_demographics=Other<br>category=Snacks & Branded Foods<br>promotion_indicator=%{x}<br>customer_reviews_count=%{y}<extra></extra>",
         "legendgroup": "Other",
         "marker": {
          "color": "#636efa",
          "pattern": {
           "shape": ""
          }
         },
         "name": "Other",
         "offsetgroup": "Other",
         "orientation": "v",
         "showlegend": true,
         "textposition": "auto",
         "type": "bar",
         "x": [
          "No",
          "Yes"
         ],
         "xaxis": "x",
         "y": [
          22144,
          25158
         ],
         "yaxis": "y"
        },
        {
         "alignmentgroup": "True",
         "hovertemplate": "customer_demographics=Other<br>category=Kitchen, Garden & Pets<br>promotion_indicator=%{x}<br>customer_reviews_count=%{y}<extra></extra>",
         "legendgroup": "Other",
         "marker": {
          "color": "#636efa",
          "pattern": {
           "shape": ""
          }
         },
         "name": "Other",
         "offsetgroup": "Other",
         "orientation": "v",
         "showlegend": false,
         "textposition": "auto",
         "type": "bar",
         "x": [
          "No",
          "Yes"
         ],
         "xaxis": "x2",
         "y": [
          31505,
          32189
         ],
         "yaxis": "y2"
        },
        {
         "alignmentgroup": "True",
         "hovertemplate": "customer_demographics=Other<br>category=Gourmet & World Food<br>promotion_indicator=%{x}<br>customer_reviews_count=%{y}<extra></extra>",
         "legendgroup": "Other",
         "marker": {
          "color": "#636efa",
          "pattern": {
           "shape": ""
          }
         },
         "name": "Other",
         "offsetgroup": "Other",
         "orientation": "v",
         "showlegend": false,
         "textposition": "auto",
         "type": "bar",
         "x": [
          "No",
          "Yes"
         ],
         "xaxis": "x3",
         "y": [
          40995,
          37255
         ],
         "yaxis": "y3"
        },
        {
         "alignmentgroup": "True",
         "hovertemplate": "customer_demographics=Other<br>category=Fruits & Vegetables<br>promotion_indicator=%{x}<br>customer_reviews_count=%{y}<extra></extra>",
         "legendgroup": "Other",
         "marker": {
          "color": "#636efa",
          "pattern": {
           "shape": ""
          }
         },
         "name": "Other",
         "offsetgroup": "Other",
         "orientation": "v",
         "showlegend": false,
         "textposition": "auto",
         "type": "bar",
         "x": [
          "No",
          "Yes"
         ],
         "xaxis": "x4",
         "y": [
          4205,
          4295
         ],
         "yaxis": "y4"
        },
        {
         "alignmentgroup": "True",
         "hovertemplate": "customer_demographics=Other<br>category=Foodgrains, Oil & Masala<br>promotion_indicator=%{x}<br>customer_reviews_count=%{y}<extra></extra>",
         "legendgroup": "Other",
         "marker": {
          "color": "#636efa",
          "pattern": {
           "shape": ""
          }
         },
         "name": "Other",
         "offsetgroup": "Other",
         "orientation": "v",
         "showlegend": false,
         "textposition": "auto",
         "type": "bar",
         "x": [
          "No",
          "Yes"
         ],
         "xaxis": "x5",
         "y": [
          23321,
          22880
         ],
         "yaxis": "y5"
        },
        {
         "alignmentgroup": "True",
         "hovertemplate": "customer_demographics=Male<br>category=Snacks & Branded Foods<br>promotion_indicator=%{x}<br>customer_reviews_count=%{y}<extra></extra>",
         "legendgroup": "Male",
         "marker": {
          "color": "#EF553B",
          "pattern": {
           "shape": ""
          }
         },
         "name": "Male",
         "offsetgroup": "Male",
         "orientation": "v",
         "showlegend": true,
         "textposition": "auto",
         "type": "bar",
         "x": [
          "No",
          "Yes"
         ],
         "xaxis": "x",
         "y": [
          22228,
          21726
         ],
         "yaxis": "y"
        },
        {
         "alignmentgroup": "True",
         "hovertemplate": "customer_demographics=Male<br>category=Kitchen, Garden & Pets<br>promotion_indicator=%{x}<br>customer_reviews_count=%{y}<extra></extra>",
         "legendgroup": "Male",
         "marker": {
          "color": "#EF553B",
          "pattern": {
           "shape": ""
          }
         },
         "name": "Male",
         "offsetgroup": "Male",
         "orientation": "v",
         "showlegend": false,
         "textposition": "auto",
         "type": "bar",
         "x": [
          "No",
          "Yes"
         ],
         "xaxis": "x2",
         "y": [
          28114,
          30095
         ],
         "yaxis": "y2"
        },
        {
         "alignmentgroup": "True",
         "hovertemplate": "customer_demographics=Male<br>category=Gourmet & World Food<br>promotion_indicator=%{x}<br>customer_reviews_count=%{y}<extra></extra>",
         "legendgroup": "Male",
         "marker": {
          "color": "#EF553B",
          "pattern": {
           "shape": ""
          }
         },
         "name": "Male",
         "offsetgroup": "Male",
         "orientation": "v",
         "showlegend": false,
         "textposition": "auto",
         "type": "bar",
         "x": [
          "No",
          "Yes"
         ],
         "xaxis": "x3",
         "y": [
          39906,
          40083
         ],
         "yaxis": "y3"
        },
        {
         "alignmentgroup": "True",
         "hovertemplate": "customer_demographics=Male<br>category=Fruits & Vegetables<br>promotion_indicator=%{x}<br>customer_reviews_count=%{y}<extra></extra>",
         "legendgroup": "Male",
         "marker": {
          "color": "#EF553B",
          "pattern": {
           "shape": ""
          }
         },
         "name": "Male",
         "offsetgroup": "Male",
         "orientation": "v",
         "showlegend": false,
         "textposition": "auto",
         "type": "bar",
         "x": [
          "No",
          "Yes"
         ],
         "xaxis": "x4",
         "y": [
          4906,
          5301
         ],
         "yaxis": "y4"
        },
        {
         "alignmentgroup": "True",
         "hovertemplate": "customer_demographics=Male<br>category=Foodgrains, Oil & Masala<br>promotion_indicator=%{x}<br>customer_reviews_count=%{y}<extra></extra>",
         "legendgroup": "Male",
         "marker": {
          "color": "#EF553B",
          "pattern": {
           "shape": ""
          }
         },
         "name": "Male",
         "offsetgroup": "Male",
         "orientation": "v",
         "showlegend": false,
         "textposition": "auto",
         "type": "bar",
         "x": [
          "No",
          "Yes"
         ],
         "xaxis": "x5",
         "y": [
          20999,
          22684
         ],
         "yaxis": "y5"
        },
        {
         "alignmentgroup": "True",
         "hovertemplate": "customer_demographics=Female<br>category=Snacks & Branded Foods<br>promotion_indicator=%{x}<br>customer_reviews_count=%{y}<extra></extra>",
         "legendgroup": "Female",
         "marker": {
          "color": "#00cc96",
          "pattern": {
           "shape": ""
          }
         },
         "name": "Female",
         "offsetgroup": "Female",
         "orientation": "v",
         "showlegend": true,
         "textposition": "auto",
         "type": "bar",
         "x": [
          "No",
          "Yes"
         ],
         "xaxis": "x",
         "y": [
          24861,
          24264
         ],
         "yaxis": "y"
        },
        {
         "alignmentgroup": "True",
         "hovertemplate": "customer_demographics=Female<br>category=Kitchen, Garden & Pets<br>promotion_indicator=%{x}<br>customer_reviews_count=%{y}<extra></extra>",
         "legendgroup": "Female",
         "marker": {
          "color": "#00cc96",
          "pattern": {
           "shape": ""
          }
         },
         "name": "Female",
         "offsetgroup": "Female",
         "orientation": "v",
         "showlegend": false,
         "textposition": "auto",
         "type": "bar",
         "x": [
          "No",
          "Yes"
         ],
         "xaxis": "x2",
         "y": [
          28112,
          28856
         ],
         "yaxis": "y2"
        },
        {
         "alignmentgroup": "True",
         "hovertemplate": "customer_demographics=Female<br>category=Gourmet & World Food<br>promotion_indicator=%{x}<br>customer_reviews_count=%{y}<extra></extra>",
         "legendgroup": "Female",
         "marker": {
          "color": "#00cc96",
          "pattern": {
           "shape": ""
          }
         },
         "name": "Female",
         "offsetgroup": "Female",
         "orientation": "v",
         "showlegend": false,
         "textposition": "auto",
         "type": "bar",
         "x": [
          "No",
          "Yes"
         ],
         "xaxis": "x3",
         "y": [
          37826,
          40422
         ],
         "yaxis": "y3"
        },
        {
         "alignmentgroup": "True",
         "hovertemplate": "customer_demographics=Female<br>category=Fruits & Vegetables<br>promotion_indicator=%{x}<br>customer_reviews_count=%{y}<extra></extra>",
         "legendgroup": "Female",
         "marker": {
          "color": "#00cc96",
          "pattern": {
           "shape": ""
          }
         },
         "name": "Female",
         "offsetgroup": "Female",
         "orientation": "v",
         "showlegend": false,
         "textposition": "auto",
         "type": "bar",
         "x": [
          "No",
          "Yes"
         ],
         "xaxis": "x4",
         "y": [
          4803,
          4475
         ],
         "yaxis": "y4"
        },
        {
         "alignmentgroup": "True",
         "hovertemplate": "customer_demographics=Female<br>category=Foodgrains, Oil & Masala<br>promotion_indicator=%{x}<br>customer_reviews_count=%{y}<extra></extra>",
         "legendgroup": "Female",
         "marker": {
          "color": "#00cc96",
          "pattern": {
           "shape": ""
          }
         },
         "name": "Female",
         "offsetgroup": "Female",
         "orientation": "v",
         "showlegend": false,
         "textposition": "auto",
         "type": "bar",
         "x": [
          "No",
          "Yes"
         ],
         "xaxis": "x5",
         "y": [
          21482,
          23108
         ],
         "yaxis": "y5"
        }
       ],
       "layout": {
        "annotations": [
         {
          "font": {},
          "showarrow": false,
          "text": "category=Snacks & Branded Foods",
          "x": 0.09200000000000001,
          "xanchor": "center",
          "xref": "paper",
          "y": 1,
          "yanchor": "bottom",
          "yref": "paper"
         },
         {
          "font": {},
          "showarrow": false,
          "text": "category=Kitchen, Garden & Pets",
          "x": 0.29600000000000004,
          "xanchor": "center",
          "xref": "paper",
          "y": 1,
          "yanchor": "bottom",
          "yref": "paper"
         },
         {
          "font": {},
          "showarrow": false,
          "text": "category=Gourmet & World Food",
          "x": 0.5,
          "xanchor": "center",
          "xref": "paper",
          "y": 1,
          "yanchor": "bottom",
          "yref": "paper"
         },
         {
          "font": {},
          "showarrow": false,
          "text": "category=Fruits & Vegetables",
          "x": 0.7040000000000002,
          "xanchor": "center",
          "xref": "paper",
          "y": 1,
          "yanchor": "bottom",
          "yref": "paper"
         },
         {
          "font": {},
          "showarrow": false,
          "text": "category=Foodgrains, Oil & Masala",
          "x": 0.908,
          "xanchor": "center",
          "xref": "paper",
          "y": 1,
          "yanchor": "bottom",
          "yref": "paper"
         }
        ],
        "barmode": "relative",
        "height": 600,
        "legend": {
         "title": {
          "text": "customer_demographics"
         },
         "tracegroupgap": 0
        },
        "template": {
         "data": {
          "bar": [
           {
            "error_x": {
             "color": "#2a3f5f"
            },
            "error_y": {
             "color": "#2a3f5f"
            },
            "marker": {
             "line": {
              "color": "white",
              "width": 0.5
             },
             "pattern": {
              "fillmode": "overlay",
              "size": 10,
              "solidity": 0.2
             }
            },
            "type": "bar"
           }
          ],
          "barpolar": [
           {
            "marker": {
             "line": {
              "color": "white",
              "width": 0.5
             },
             "pattern": {
              "fillmode": "overlay",
              "size": 10,
              "solidity": 0.2
             }
            },
            "type": "barpolar"
           }
          ],
          "carpet": [
           {
            "aaxis": {
             "endlinecolor": "#2a3f5f",
             "gridcolor": "#C8D4E3",
             "linecolor": "#C8D4E3",
             "minorgridcolor": "#C8D4E3",
             "startlinecolor": "#2a3f5f"
            },
            "baxis": {
             "endlinecolor": "#2a3f5f",
             "gridcolor": "#C8D4E3",
             "linecolor": "#C8D4E3",
             "minorgridcolor": "#C8D4E3",
             "startlinecolor": "#2a3f5f"
            },
            "type": "carpet"
           }
          ],
          "choropleth": [
           {
            "colorbar": {
             "outlinewidth": 0,
             "ticks": ""
            },
            "type": "choropleth"
           }
          ],
          "contour": [
           {
            "colorbar": {
             "outlinewidth": 0,
             "ticks": ""
            },
            "colorscale": [
             [
              0,
              "#0d0887"
             ],
             [
              0.1111111111111111,
              "#46039f"
             ],
             [
              0.2222222222222222,
              "#7201a8"
             ],
             [
              0.3333333333333333,
              "#9c179e"
             ],
             [
              0.4444444444444444,
              "#bd3786"
             ],
             [
              0.5555555555555556,
              "#d8576b"
             ],
             [
              0.6666666666666666,
              "#ed7953"
             ],
             [
              0.7777777777777778,
              "#fb9f3a"
             ],
             [
              0.8888888888888888,
              "#fdca26"
             ],
             [
              1,
              "#f0f921"
             ]
            ],
            "type": "contour"
           }
          ],
          "contourcarpet": [
           {
            "colorbar": {
             "outlinewidth": 0,
             "ticks": ""
            },
            "type": "contourcarpet"
           }
          ],
          "heatmap": [
           {
            "colorbar": {
             "outlinewidth": 0,
             "ticks": ""
            },
            "colorscale": [
             [
              0,
              "#0d0887"
             ],
             [
              0.1111111111111111,
              "#46039f"
             ],
             [
              0.2222222222222222,
              "#7201a8"
             ],
             [
              0.3333333333333333,
              "#9c179e"
             ],
             [
              0.4444444444444444,
              "#bd3786"
             ],
             [
              0.5555555555555556,
              "#d8576b"
             ],
             [
              0.6666666666666666,
              "#ed7953"
             ],
             [
              0.7777777777777778,
              "#fb9f3a"
             ],
             [
              0.8888888888888888,
              "#fdca26"
             ],
             [
              1,
              "#f0f921"
             ]
            ],
            "type": "heatmap"
           }
          ],
          "heatmapgl": [
           {
            "colorbar": {
             "outlinewidth": 0,
             "ticks": ""
            },
            "colorscale": [
             [
              0,
              "#0d0887"
             ],
             [
              0.1111111111111111,
              "#46039f"
             ],
             [
              0.2222222222222222,
              "#7201a8"
             ],
             [
              0.3333333333333333,
              "#9c179e"
             ],
             [
              0.4444444444444444,
              "#bd3786"
             ],
             [
              0.5555555555555556,
              "#d8576b"
             ],
             [
              0.6666666666666666,
              "#ed7953"
             ],
             [
              0.7777777777777778,
              "#fb9f3a"
             ],
             [
              0.8888888888888888,
              "#fdca26"
             ],
             [
              1,
              "#f0f921"
             ]
            ],
            "type": "heatmapgl"
           }
          ],
          "histogram": [
           {
            "marker": {
             "pattern": {
              "fillmode": "overlay",
              "size": 10,
              "solidity": 0.2
             }
            },
            "type": "histogram"
           }
          ],
          "histogram2d": [
           {
            "colorbar": {
             "outlinewidth": 0,
             "ticks": ""
            },
            "colorscale": [
             [
              0,
              "#0d0887"
             ],
             [
              0.1111111111111111,
              "#46039f"
             ],
             [
              0.2222222222222222,
              "#7201a8"
             ],
             [
              0.3333333333333333,
              "#9c179e"
             ],
             [
              0.4444444444444444,
              "#bd3786"
             ],
             [
              0.5555555555555556,
              "#d8576b"
             ],
             [
              0.6666666666666666,
              "#ed7953"
             ],
             [
              0.7777777777777778,
              "#fb9f3a"
             ],
             [
              0.8888888888888888,
              "#fdca26"
             ],
             [
              1,
              "#f0f921"
             ]
            ],
            "type": "histogram2d"
           }
          ],
          "histogram2dcontour": [
           {
            "colorbar": {
             "outlinewidth": 0,
             "ticks": ""
            },
            "colorscale": [
             [
              0,
              "#0d0887"
             ],
             [
              0.1111111111111111,
              "#46039f"
             ],
             [
              0.2222222222222222,
              "#7201a8"
             ],
             [
              0.3333333333333333,
              "#9c179e"
             ],
             [
              0.4444444444444444,
              "#bd3786"
             ],
             [
              0.5555555555555556,
              "#d8576b"
             ],
             [
              0.6666666666666666,
              "#ed7953"
             ],
             [
              0.7777777777777778,
              "#fb9f3a"
             ],
             [
              0.8888888888888888,
              "#fdca26"
             ],
             [
              1,
              "#f0f921"
             ]
            ],
            "type": "histogram2dcontour"
           }
          ],
          "mesh3d": [
           {
            "colorbar": {
             "outlinewidth": 0,
             "ticks": ""
            },
            "type": "mesh3d"
           }
          ],
          "parcoords": [
           {
            "line": {
             "colorbar": {
              "outlinewidth": 0,
              "ticks": ""
             }
            },
            "type": "parcoords"
           }
          ],
          "pie": [
           {
            "automargin": true,
            "type": "pie"
           }
          ],
          "scatter": [
           {
            "fillpattern": {
             "fillmode": "overlay",
             "size": 10,
             "solidity": 0.2
            },
            "type": "scatter"
           }
          ],
          "scatter3d": [
           {
            "line": {
             "colorbar": {
              "outlinewidth": 0,
              "ticks": ""
             }
            },
            "marker": {
             "colorbar": {
              "outlinewidth": 0,
              "ticks": ""
             }
            },
            "type": "scatter3d"
           }
          ],
          "scattercarpet": [
           {
            "marker": {
             "colorbar": {
              "outlinewidth": 0,
              "ticks": ""
             }
            },
            "type": "scattercarpet"
           }
          ],
          "scattergeo": [
           {
            "marker": {
             "colorbar": {
              "outlinewidth": 0,
              "ticks": ""
             }
            },
            "type": "scattergeo"
           }
          ],
          "scattergl": [
           {
            "marker": {
             "colorbar": {
              "outlinewidth": 0,
              "ticks": ""
             }
            },
            "type": "scattergl"
           }
          ],
          "scattermapbox": [
           {
            "marker": {
             "colorbar": {
              "outlinewidth": 0,
              "ticks": ""
             }
            },
            "type": "scattermapbox"
           }
          ],
          "scatterpolar": [
           {
            "marker": {
             "colorbar": {
              "outlinewidth": 0,
              "ticks": ""
             }
            },
            "type": "scatterpolar"
           }
          ],
          "scatterpolargl": [
           {
            "marker": {
             "colorbar": {
              "outlinewidth": 0,
              "ticks": ""
             }
            },
            "type": "scatterpolargl"
           }
          ],
          "scatterternary": [
           {
            "marker": {
             "colorbar": {
              "outlinewidth": 0,
              "ticks": ""
             }
            },
            "type": "scatterternary"
           }
          ],
          "surface": [
           {
            "colorbar": {
             "outlinewidth": 0,
             "ticks": ""
            },
            "colorscale": [
             [
              0,
              "#0d0887"
             ],
             [
              0.1111111111111111,
              "#46039f"
             ],
             [
              0.2222222222222222,
              "#7201a8"
             ],
             [
              0.3333333333333333,
              "#9c179e"
             ],
             [
              0.4444444444444444,
              "#bd3786"
             ],
             [
              0.5555555555555556,
              "#d8576b"
             ],
             [
              0.6666666666666666,
              "#ed7953"
             ],
             [
              0.7777777777777778,
              "#fb9f3a"
             ],
             [
              0.8888888888888888,
              "#fdca26"
             ],
             [
              1,
              "#f0f921"
             ]
            ],
            "type": "surface"
           }
          ],
          "table": [
           {
            "cells": {
             "fill": {
              "color": "#EBF0F8"
             },
             "line": {
              "color": "white"
             }
            },
            "header": {
             "fill": {
              "color": "#C8D4E3"
             },
             "line": {
              "color": "white"
             }
            },
            "type": "table"
           }
          ]
         },
         "layout": {
          "annotationdefaults": {
           "arrowcolor": "#2a3f5f",
           "arrowhead": 0,
           "arrowwidth": 1
          },
          "autotypenumbers": "strict",
          "coloraxis": {
           "colorbar": {
            "outlinewidth": 0,
            "ticks": ""
           }
          },
          "colorscale": {
           "diverging": [
            [
             0,
             "#8e0152"
            ],
            [
             0.1,
             "#c51b7d"
            ],
            [
             0.2,
             "#de77ae"
            ],
            [
             0.3,
             "#f1b6da"
            ],
            [
             0.4,
             "#fde0ef"
            ],
            [
             0.5,
             "#f7f7f7"
            ],
            [
             0.6,
             "#e6f5d0"
            ],
            [
             0.7,
             "#b8e186"
            ],
            [
             0.8,
             "#7fbc41"
            ],
            [
             0.9,
             "#4d9221"
            ],
            [
             1,
             "#276419"
            ]
           ],
           "sequential": [
            [
             0,
             "#0d0887"
            ],
            [
             0.1111111111111111,
             "#46039f"
            ],
            [
             0.2222222222222222,
             "#7201a8"
            ],
            [
             0.3333333333333333,
             "#9c179e"
            ],
            [
             0.4444444444444444,
             "#bd3786"
            ],
            [
             0.5555555555555556,
             "#d8576b"
            ],
            [
             0.6666666666666666,
             "#ed7953"
            ],
            [
             0.7777777777777778,
             "#fb9f3a"
            ],
            [
             0.8888888888888888,
             "#fdca26"
            ],
            [
             1,
             "#f0f921"
            ]
           ],
           "sequentialminus": [
            [
             0,
             "#0d0887"
            ],
            [
             0.1111111111111111,
             "#46039f"
            ],
            [
             0.2222222222222222,
             "#7201a8"
            ],
            [
             0.3333333333333333,
             "#9c179e"
            ],
            [
             0.4444444444444444,
             "#bd3786"
            ],
            [
             0.5555555555555556,
             "#d8576b"
            ],
            [
             0.6666666666666666,
             "#ed7953"
            ],
            [
             0.7777777777777778,
             "#fb9f3a"
            ],
            [
             0.8888888888888888,
             "#fdca26"
            ],
            [
             1,
             "#f0f921"
            ]
           ]
          },
          "colorway": [
           "#636efa",
           "#EF553B",
           "#00cc96",
           "#ab63fa",
           "#FFA15A",
           "#19d3f3",
           "#FF6692",
           "#B6E880",
           "#FF97FF",
           "#FECB52"
          ],
          "font": {
           "color": "#2a3f5f"
          },
          "geo": {
           "bgcolor": "white",
           "lakecolor": "white",
           "landcolor": "white",
           "showlakes": true,
           "showland": true,
           "subunitcolor": "#C8D4E3"
          },
          "hoverlabel": {
           "align": "left"
          },
          "hovermode": "closest",
          "mapbox": {
           "style": "light"
          },
          "paper_bgcolor": "white",
          "plot_bgcolor": "white",
          "polar": {
           "angularaxis": {
            "gridcolor": "#EBF0F8",
            "linecolor": "#EBF0F8",
            "ticks": ""
           },
           "bgcolor": "white",
           "radialaxis": {
            "gridcolor": "#EBF0F8",
            "linecolor": "#EBF0F8",
            "ticks": ""
           }
          },
          "scene": {
           "xaxis": {
            "backgroundcolor": "white",
            "gridcolor": "#DFE8F3",
            "gridwidth": 2,
            "linecolor": "#EBF0F8",
            "showbackground": true,
            "ticks": "",
            "zerolinecolor": "#EBF0F8"
           },
           "yaxis": {
            "backgroundcolor": "white",
            "gridcolor": "#DFE8F3",
            "gridwidth": 2,
            "linecolor": "#EBF0F8",
            "showbackground": true,
            "ticks": "",
            "zerolinecolor": "#EBF0F8"
           },
           "zaxis": {
            "backgroundcolor": "white",
            "gridcolor": "#DFE8F3",
            "gridwidth": 2,
            "linecolor": "#EBF0F8",
            "showbackground": true,
            "ticks": "",
            "zerolinecolor": "#EBF0F8"
           }
          },
          "shapedefaults": {
           "line": {
            "color": "#2a3f5f"
           }
          },
          "ternary": {
           "aaxis": {
            "gridcolor": "#DFE8F3",
            "linecolor": "#A2B1C6",
            "ticks": ""
           },
           "baxis": {
            "gridcolor": "#DFE8F3",
            "linecolor": "#A2B1C6",
            "ticks": ""
           },
           "bgcolor": "white",
           "caxis": {
            "gridcolor": "#DFE8F3",
            "linecolor": "#A2B1C6",
            "ticks": ""
           }
          },
          "title": {
           "x": 0.05
          },
          "xaxis": {
           "automargin": true,
           "gridcolor": "#EBF0F8",
           "linecolor": "#EBF0F8",
           "ticks": "",
           "title": {
            "standoff": 15
           },
           "zerolinecolor": "#EBF0F8",
           "zerolinewidth": 2
          },
          "yaxis": {
           "automargin": true,
           "gridcolor": "#EBF0F8",
           "linecolor": "#EBF0F8",
           "ticks": "",
           "title": {
            "standoff": 15
           },
           "zerolinecolor": "#EBF0F8",
           "zerolinewidth": 2
          }
         }
        },
        "title": {
         "text": "Impact of Promotions on Customer Reviews by Category and Demographics"
        },
        "width": 1200,
        "xaxis": {
         "anchor": "y",
         "domain": [
          0,
          0.18400000000000002
         ],
         "title": {
          "text": "Promotion Indicator"
         }
        },
        "xaxis2": {
         "anchor": "y2",
         "domain": [
          0.20400000000000001,
          0.388
         ],
         "matches": "x",
         "title": {
          "text": "promotion_indicator"
         }
        },
        "xaxis3": {
         "anchor": "y3",
         "domain": [
          0.40800000000000003,
          0.5920000000000001
         ],
         "matches": "x",
         "title": {
          "text": "promotion_indicator"
         }
        },
        "xaxis4": {
         "anchor": "y4",
         "domain": [
          0.6120000000000001,
          0.7960000000000002
         ],
         "matches": "x",
         "title": {
          "text": "promotion_indicator"
         }
        },
        "xaxis5": {
         "anchor": "y5",
         "domain": [
          0.8160000000000001,
          1
         ],
         "matches": "x",
         "title": {
          "text": "promotion_indicator"
         }
        },
        "yaxis": {
         "anchor": "x",
         "domain": [
          0,
          1
         ],
         "title": {
          "text": "Total Customer Reviews"
         }
        },
        "yaxis2": {
         "anchor": "x2",
         "domain": [
          0,
          1
         ],
         "matches": "y",
         "showticklabels": false
        },
        "yaxis3": {
         "anchor": "x3",
         "domain": [
          0,
          1
         ],
         "matches": "y",
         "showticklabels": false
        },
        "yaxis4": {
         "anchor": "x4",
         "domain": [
          0,
          1
         ],
         "matches": "y",
         "showticklabels": false
        },
        "yaxis5": {
         "anchor": "x5",
         "domain": [
          0,
          1
         ],
         "matches": "y",
         "showticklabels": false
        }
       }
      }
     },
     "metadata": {},
     "output_type": "display_data"
    }
   ],
   "source": [
    "import plotly.express as px\n",
    "\n",
    "# Assuming demographic_promotion_response is already defined\n",
    "data_for_plot = demographic_promotion_response.head(30).reset_index()\n",
    "\n",
    "# Create a facet grid bar chart\n",
    "fig = px.bar(\n",
    "    data_for_plot,\n",
    "    x='promotion_indicator',\n",
    "    y='customer_reviews_count',\n",
    "    facet_col='category',  # Or 'customer_demographics' to switch the main comparison\n",
    "    color='customer_demographics',  # Or 'category' to switch the color coding\n",
    "    title='Impact of Promotions on Customer Reviews by Category and Demographics',\n",
    "    height=600,  # Adjust height to accommodate all facets\n",
    "    width=1200  # Adjust width for readability\n",
    ")\n",
    "\n",
    "fig.update_layout(\n",
    "    xaxis_title='Promotion Indicator',\n",
    "    yaxis_title='Total Customer Reviews'\n",
    ")\n",
    "\n",
    "fig.show()\n"
   ]
  },
  {
   "cell_type": "markdown",
   "metadata": {},
   "source": [
    "Snacks & Branded Foods\n",
    "Other demographics show a significant increase in sales during promotions, from 56,650.67 to 69,336.69 units, indicating a strong response to discounts or promotional activities.\n",
    "Both Male and Female segments exhibit similar trends, with sales slightly decreasing or remaining stable during promotions, suggesting that promotions may not significantly impact their purchasing behavior in this category.\n",
    "\n",
    "Kitchen, Garden & Pets\n",
    "All demographic groups (Other, Male, and Female) show an increase in sales during promotions, with the Other segment having the most substantial jump from 332,468.71 to 315,704.10 units. This indicates a high responsiveness to promotions in this category across all demographics.\n",
    "\n",
    "Gourmet & World Food\n",
    "The Male demographic shows an increase in sales during promotions, from 234,431.83 to 264,283.43 units, suggesting that promotional activities effectively attract this group.\n",
    "The Female and Other demographics also respond well to promotions, with sales increasing in both groups.\n",
    "\n",
    "Fruits & Vegetables\n",
    "Although the numbers are relatively small compared to other categories, there is a slight increase in sales for the Other demographic during promotions, suggesting that promotions can positively impact sales even in less responsive categories.\n",
    "\n",
    "Customer Reviews\n",
    "The number of customer reviews tends to increase during promotions across most categories and demographics, indicating higher engagement and interest in promoted products."
   ]
  },
  {
   "cell_type": "code",
   "execution_count": null,
   "metadata": {},
   "outputs": [
    {
     "data": {
      "text/html": [
       "<div>\n",
       "<style scoped>\n",
       "    .dataframe tbody tr th:only-of-type {\n",
       "        vertical-align: middle;\n",
       "    }\n",
       "\n",
       "    .dataframe tbody tr th {\n",
       "        vertical-align: top;\n",
       "    }\n",
       "\n",
       "    .dataframe thead th {\n",
       "        text-align: right;\n",
       "    }\n",
       "</style>\n",
       "<table border=\"1\" class=\"dataframe\">\n",
       "  <thead>\n",
       "    <tr style=\"text-align: right;\">\n",
       "      <th></th>\n",
       "      <th></th>\n",
       "      <th>selling_price</th>\n",
       "      <th>customer_reviews_count</th>\n",
       "      <th>product_rating</th>\n",
       "    </tr>\n",
       "    <tr>\n",
       "      <th>brand</th>\n",
       "      <th>bundle_indicator</th>\n",
       "      <th></th>\n",
       "      <th></th>\n",
       "      <th></th>\n",
       "    </tr>\n",
       "  </thead>\n",
       "  <tbody>\n",
       "    <tr>\n",
       "      <th rowspan=\"2\" valign=\"top\">sumeru</th>\n",
       "      <th>Individual</th>\n",
       "      <td>2053.90</td>\n",
       "      <td>453</td>\n",
       "      <td>3.616667</td>\n",
       "    </tr>\n",
       "    <tr>\n",
       "      <th>Bundle</th>\n",
       "      <td>1604.80</td>\n",
       "      <td>416</td>\n",
       "      <td>3.644444</td>\n",
       "    </tr>\n",
       "    <tr>\n",
       "      <th rowspan=\"2\" valign=\"top\">mother dairy</th>\n",
       "      <th>Individual</th>\n",
       "      <td>1738.75</td>\n",
       "      <td>289</td>\n",
       "      <td>4.157143</td>\n",
       "    </tr>\n",
       "    <tr>\n",
       "      <th>Bundle</th>\n",
       "      <td>685.80</td>\n",
       "      <td>307</td>\n",
       "      <td>4.133333</td>\n",
       "    </tr>\n",
       "    <tr>\n",
       "      <th rowspan=\"2\" valign=\"top\">moha</th>\n",
       "      <th>Bundle</th>\n",
       "      <td>368.00</td>\n",
       "      <td>114</td>\n",
       "      <td>NaN</td>\n",
       "    </tr>\n",
       "    <tr>\n",
       "      <th>Individual</th>\n",
       "      <td>364.00</td>\n",
       "      <td>88</td>\n",
       "      <td>NaN</td>\n",
       "    </tr>\n",
       "    <tr>\n",
       "      <th rowspan=\"2\" valign=\"top\">marshmallow</th>\n",
       "      <th>Bundle</th>\n",
       "      <td>150.00</td>\n",
       "      <td>21</td>\n",
       "      <td>3.800000</td>\n",
       "    </tr>\n",
       "    <tr>\n",
       "      <th>Individual</th>\n",
       "      <td>150.00</td>\n",
       "      <td>48</td>\n",
       "      <td>4.400000</td>\n",
       "    </tr>\n",
       "    <tr>\n",
       "      <th>mJOY</th>\n",
       "      <th>Individual</th>\n",
       "      <td>1258.60</td>\n",
       "      <td>113</td>\n",
       "      <td>5.000000</td>\n",
       "    </tr>\n",
       "    <tr>\n",
       "      <th rowspan=\"2\" valign=\"top\">kwality walls</th>\n",
       "      <th>Bundle</th>\n",
       "      <td>1184.65</td>\n",
       "      <td>555</td>\n",
       "      <td>3.712500</td>\n",
       "    </tr>\n",
       "    <tr>\n",
       "      <th>Individual</th>\n",
       "      <td>998.95</td>\n",
       "      <td>478</td>\n",
       "      <td>3.500000</td>\n",
       "    </tr>\n",
       "    <tr>\n",
       "      <th rowspan=\"2\" valign=\"top\">kings Coffee</th>\n",
       "      <th>Bundle</th>\n",
       "      <td>375.30</td>\n",
       "      <td>167</td>\n",
       "      <td>NaN</td>\n",
       "    </tr>\n",
       "    <tr>\n",
       "      <th>Individual</th>\n",
       "      <td>125.10</td>\n",
       "      <td>56</td>\n",
       "      <td>NaN</td>\n",
       "    </tr>\n",
       "    <tr>\n",
       "      <th rowspan=\"2\" valign=\"top\">iD Fresho</th>\n",
       "      <th>Bundle</th>\n",
       "      <td>528.52</td>\n",
       "      <td>215</td>\n",
       "      <td>3.900000</td>\n",
       "    </tr>\n",
       "    <tr>\n",
       "      <th>Individual</th>\n",
       "      <td>289.72</td>\n",
       "      <td>141</td>\n",
       "      <td>3.950000</td>\n",
       "    </tr>\n",
       "    <tr>\n",
       "      <th>iD Fresh</th>\n",
       "      <th>Bundle</th>\n",
       "      <td>70.00</td>\n",
       "      <td>73</td>\n",
       "      <td>4.100000</td>\n",
       "    </tr>\n",
       "    <tr>\n",
       "      <th rowspan=\"2\" valign=\"top\">iD</th>\n",
       "      <th>Individual</th>\n",
       "      <td>374.00</td>\n",
       "      <td>351</td>\n",
       "      <td>4.033333</td>\n",
       "    </tr>\n",
       "    <tr>\n",
       "      <th>Bundle</th>\n",
       "      <td>206.98</td>\n",
       "      <td>156</td>\n",
       "      <td>4.000000</td>\n",
       "    </tr>\n",
       "    <tr>\n",
       "      <th rowspan=\"2\" valign=\"top\">ezy</th>\n",
       "      <th>Bundle</th>\n",
       "      <td>439.20</td>\n",
       "      <td>16</td>\n",
       "      <td>3.700000</td>\n",
       "    </tr>\n",
       "    <tr>\n",
       "      <th>Individual</th>\n",
       "      <td>439.20</td>\n",
       "      <td>89</td>\n",
       "      <td>2.000000</td>\n",
       "    </tr>\n",
       "  </tbody>\n",
       "</table>\n",
       "</div>"
      ],
      "text/plain": [
       "                                selling_price  customer_reviews_count  \\\n",
       "brand         bundle_indicator                                          \n",
       "sumeru        Individual              2053.90                     453   \n",
       "              Bundle                  1604.80                     416   \n",
       "mother dairy  Individual              1738.75                     289   \n",
       "              Bundle                   685.80                     307   \n",
       "moha          Bundle                   368.00                     114   \n",
       "              Individual               364.00                      88   \n",
       "marshmallow   Bundle                   150.00                      21   \n",
       "              Individual               150.00                      48   \n",
       "mJOY          Individual              1258.60                     113   \n",
       "kwality walls Bundle                  1184.65                     555   \n",
       "              Individual               998.95                     478   \n",
       "kings Coffee  Bundle                   375.30                     167   \n",
       "              Individual               125.10                      56   \n",
       "iD Fresho     Bundle                   528.52                     215   \n",
       "              Individual               289.72                     141   \n",
       "iD Fresh      Bundle                    70.00                      73   \n",
       "iD            Individual               374.00                     351   \n",
       "              Bundle                   206.98                     156   \n",
       "ezy           Bundle                   439.20                      16   \n",
       "              Individual               439.20                      89   \n",
       "\n",
       "                                product_rating  \n",
       "brand         bundle_indicator                  \n",
       "sumeru        Individual              3.616667  \n",
       "              Bundle                  3.644444  \n",
       "mother dairy  Individual              4.157143  \n",
       "              Bundle                  4.133333  \n",
       "moha          Bundle                       NaN  \n",
       "              Individual                   NaN  \n",
       "marshmallow   Bundle                  3.800000  \n",
       "              Individual              4.400000  \n",
       "mJOY          Individual              5.000000  \n",
       "kwality walls Bundle                  3.712500  \n",
       "              Individual              3.500000  \n",
       "kings Coffee  Bundle                       NaN  \n",
       "              Individual                   NaN  \n",
       "iD Fresho     Bundle                  3.900000  \n",
       "              Individual              3.950000  \n",
       "iD Fresh      Bundle                  4.100000  \n",
       "iD            Individual              4.033333  \n",
       "              Bundle                  4.000000  \n",
       "ezy           Bundle                  3.700000  \n",
       "              Individual              2.000000  "
      ]
     },
     "execution_count": 28,
     "metadata": {},
     "output_type": "execute_result"
    }
   ],
   "source": [
    "# Retry the analysis focusing on the impact of bundling on sales, customer reviews, and product ratings\n",
    "bundle_analysis = data.groupby(['brand', 'bundle_indicator']).agg({\n",
    "    'customer_reviews_count': 'sum',  # Total reviews\n",
    "    'product_rating': 'mean'  # Average product rating\n",
    "}).sort_values(by=['brand'], ascending=False)\n",
    "\n",
    "bundle_analysis.head(20)\n"
   ]
  },
  {
   "cell_type": "code",
   "execution_count": 147,
   "metadata": {},
   "outputs": [
    {
     "data": {
      "application/vnd.plotly.v1+json": {
       "config": {
        "plotlyServerURL": "https://plot.ly"
       },
       "data": [
        {
         "hovertemplate": "<b>%{hovertext}</b><br><br>bundle_indicator=Individual<br>customer_reviews_count=%{marker.size}<br>product_rating=%{y}<extra></extra>",
         "hovertext": [
          "sumeru",
          "mother dairy",
          "moha",
          "marshmallow",
          "mJOY",
          "kwality walls",
          "kings Coffee",
          "iD Fresho",
          "iD",
          "ezy",
          "ella Spices",
          "e-millet",
          "camry",
          "bigbasket",
          "bb Royal",
          "bb Popular",
          "bb Combo",
          "Zour Bomb",
          "Zorabian",
          "Zoik",
          "Zoe",
          "Ziva",
          "Zippo",
          "Ziofit",
          "Zevic Premium",
          "Zevic",
          "Zerobeli",
          "Zebronics",
          "Zazzy",
          "Zandu",
          "Zago",
          "ZOROY",
          "ZM LABS",
          "ZEISS",
          "Z",
          "Yummiez",
          "Yum Yum",
          "Yujing",
          "York",
          "Yoni",
          "Yoga bar",
          "Yes You Can",
          "Yera",
          "Yellow Spark",
          "Yellow Crumb",
          "Yashoda ",
          "Yardley London",
          "Yakult",
          "Yagna",
          "YVES ROCHER",
          "Xishifeng",
          "Xing wang"
         ],
         "legendgroup": "Individual",
         "marker": {
          "color": "#636efa",
          "size": [
           453,
           289,
           88,
           48,
           113,
           478,
           56,
           141,
           351,
           89,
           60,
           45,
           27,
           143,
           14240,
           1339,
           4672,
           70,
           93,
           69,
           247,
           18,
           85,
           149,
           18,
           28,
           164,
           31,
           61,
           104,
           71,
           39,
           84,
           9,
           96,
           972,
           295,
           160,
           615,
           207,
           1113,
           136,
           1451,
           69,
           77,
           93,
           1548,
           75,
           65,
           224,
           73,
           95
          ],
          "sizemode": "area",
          "sizeref": 35.6,
          "symbol": "circle"
         },
         "mode": "markers",
         "name": "Individual",
         "orientation": "v",
         "showlegend": true,
         "type": "scatter",
         "x": [
          453,
          289,
          88,
          48,
          113,
          478,
          56,
          141,
          351,
          89,
          60,
          45,
          27,
          143,
          14240,
          1339,
          4672,
          70,
          93,
          69,
          247,
          18,
          85,
          149,
          18,
          28,
          164,
          31,
          61,
          104,
          71,
          39,
          84,
          9,
          96,
          972,
          295,
          160,
          615,
          207,
          1113,
          136,
          1451,
          69,
          77,
          93,
          1548,
          75,
          65,
          224,
          73,
          95
         ],
         "xaxis": "x",
         "y": [
          3.6166666666666667,
          4.1571428571428575,
          null,
          4.4,
          5,
          3.5,
          null,
          3.95,
          4.033333333333333,
          2,
          5,
          3.7,
          3.5,
          4.3,
          4.041428571428571,
          4.072727272727272,
          4,
          4.2,
          null,
          null,
          5,
          4,
          null,
          null,
          4.1,
          4.3,
          3.8,
          null,
          3.6,
          4.2,
          2.7,
          null,
          3.9,
          null,
          2,
          3.716666666666667,
          3.05,
          4.266666666666667,
          4.011111111111111,
          3,
          3.7363636363636363,
          null,
          3.6666666666666665,
          3.5,
          4.6,
          3.7,
          4.154545454545455,
          4.2,
          4.5,
          2,
          4.7,
          null
         ],
         "yaxis": "y"
        },
        {
         "hovertemplate": "<b>%{hovertext}</b><br><br>bundle_indicator=Bundle<br>customer_reviews_count=%{marker.size}<br>product_rating=%{y}<extra></extra>",
         "hovertext": [
          "sumeru",
          "mother dairy",
          "moha",
          "marshmallow",
          "kwality walls",
          "kings Coffee",
          "iD Fresho",
          "iD Fresh",
          "iD",
          "ezy",
          "ella Spices",
          "bigbasket",
          "bb Royal",
          "bb Popular",
          "bb Combo",
          "Zorabian",
          "Zoe",
          "Ziva",
          "Zippo",
          "Ziofit",
          "Zevic Premium",
          "Zerobeli",
          "Zermisol",
          "Zebronics",
          "Zandu",
          "ZOROY",
          "ZM LABS",
          "ZEISS",
          "Z",
          "Yummiez",
          "Yum Yum",
          "Yujing",
          "York",
          "Yoo Yee",
          "Yoni",
          "Yongsheng",
          "Yoga bar",
          "Yoga Pulp",
          "Yera",
          "Yellow Spark",
          "Yellow Crumb",
          "Yardley London",
          "Yan Yan ",
          "Yakult",
          "YVES ROCHER",
          "Xishifeng",
          "Xing wang",
          "XPEL"
         ],
         "legendgroup": "Bundle",
         "marker": {
          "color": "#EF553B",
          "size": [
           416,
           307,
           114,
           21,
           555,
           167,
           215,
           73,
           156,
           16,
           191,
           94,
           13120,
           1664,
           3691,
           263,
           69,
           75,
           99,
           133,
           115,
           52,
           110,
           98,
           559,
           82,
           239,
           144,
           58,
           743,
           225,
           48,
           564,
           93,
           285,
           155,
           1254,
           76,
           1123,
           447,
           68,
           1493,
           109,
           48,
           206,
           26,
           47,
           303
          ],
          "sizemode": "area",
          "sizeref": 35.6,
          "symbol": "diamond"
         },
         "mode": "markers",
         "name": "Bundle",
         "orientation": "v",
         "showlegend": true,
         "type": "scatter",
         "x": [
          416,
          307,
          114,
          21,
          555,
          167,
          215,
          73,
          156,
          16,
          191,
          94,
          13120,
          1664,
          3691,
          263,
          69,
          75,
          99,
          133,
          115,
          52,
          110,
          98,
          559,
          82,
          239,
          144,
          58,
          743,
          225,
          48,
          564,
          93,
          285,
          155,
          1254,
          76,
          1123,
          447,
          68,
          1493,
          109,
          48,
          206,
          26,
          47,
          303
         ],
         "xaxis": "x",
         "y": [
          3.644444444444444,
          4.133333333333334,
          null,
          3.8,
          3.7125,
          null,
          3.9,
          4.1,
          4,
          3.7,
          null,
          4.3,
          4.052898550724637,
          3.9761904761904763,
          4.1,
          null,
          4.3,
          4.05,
          null,
          null,
          3.85,
          3.55,
          4.25,
          null,
          4.15,
          1,
          3.72,
          4.35,
          2,
          3.4777777777777774,
          3.2,
          4.4,
          3.8333333333333335,
          4.8,
          null,
          4.5,
          3.929411764705882,
          null,
          3.9875,
          3.6666666666666665,
          null,
          4.056,
          4.199999999999999,
          4.2,
          4.65,
          4.2,
          null,
          3.425
         ],
         "yaxis": "y"
        }
       ],
       "layout": {
        "legend": {
         "itemsizing": "constant",
         "title": {
          "text": "bundle_indicator"
         },
         "tracegroupgap": 0
        },
        "template": {
         "data": {
          "bar": [
           {
            "error_x": {
             "color": "#2a3f5f"
            },
            "error_y": {
             "color": "#2a3f5f"
            },
            "marker": {
             "line": {
              "color": "white",
              "width": 0.5
             },
             "pattern": {
              "fillmode": "overlay",
              "size": 10,
              "solidity": 0.2
             }
            },
            "type": "bar"
           }
          ],
          "barpolar": [
           {
            "marker": {
             "line": {
              "color": "white",
              "width": 0.5
             },
             "pattern": {
              "fillmode": "overlay",
              "size": 10,
              "solidity": 0.2
             }
            },
            "type": "barpolar"
           }
          ],
          "carpet": [
           {
            "aaxis": {
             "endlinecolor": "#2a3f5f",
             "gridcolor": "#C8D4E3",
             "linecolor": "#C8D4E3",
             "minorgridcolor": "#C8D4E3",
             "startlinecolor": "#2a3f5f"
            },
            "baxis": {
             "endlinecolor": "#2a3f5f",
             "gridcolor": "#C8D4E3",
             "linecolor": "#C8D4E3",
             "minorgridcolor": "#C8D4E3",
             "startlinecolor": "#2a3f5f"
            },
            "type": "carpet"
           }
          ],
          "choropleth": [
           {
            "colorbar": {
             "outlinewidth": 0,
             "ticks": ""
            },
            "type": "choropleth"
           }
          ],
          "contour": [
           {
            "colorbar": {
             "outlinewidth": 0,
             "ticks": ""
            },
            "colorscale": [
             [
              0,
              "#0d0887"
             ],
             [
              0.1111111111111111,
              "#46039f"
             ],
             [
              0.2222222222222222,
              "#7201a8"
             ],
             [
              0.3333333333333333,
              "#9c179e"
             ],
             [
              0.4444444444444444,
              "#bd3786"
             ],
             [
              0.5555555555555556,
              "#d8576b"
             ],
             [
              0.6666666666666666,
              "#ed7953"
             ],
             [
              0.7777777777777778,
              "#fb9f3a"
             ],
             [
              0.8888888888888888,
              "#fdca26"
             ],
             [
              1,
              "#f0f921"
             ]
            ],
            "type": "contour"
           }
          ],
          "contourcarpet": [
           {
            "colorbar": {
             "outlinewidth": 0,
             "ticks": ""
            },
            "type": "contourcarpet"
           }
          ],
          "heatmap": [
           {
            "colorbar": {
             "outlinewidth": 0,
             "ticks": ""
            },
            "colorscale": [
             [
              0,
              "#0d0887"
             ],
             [
              0.1111111111111111,
              "#46039f"
             ],
             [
              0.2222222222222222,
              "#7201a8"
             ],
             [
              0.3333333333333333,
              "#9c179e"
             ],
             [
              0.4444444444444444,
              "#bd3786"
             ],
             [
              0.5555555555555556,
              "#d8576b"
             ],
             [
              0.6666666666666666,
              "#ed7953"
             ],
             [
              0.7777777777777778,
              "#fb9f3a"
             ],
             [
              0.8888888888888888,
              "#fdca26"
             ],
             [
              1,
              "#f0f921"
             ]
            ],
            "type": "heatmap"
           }
          ],
          "heatmapgl": [
           {
            "colorbar": {
             "outlinewidth": 0,
             "ticks": ""
            },
            "colorscale": [
             [
              0,
              "#0d0887"
             ],
             [
              0.1111111111111111,
              "#46039f"
             ],
             [
              0.2222222222222222,
              "#7201a8"
             ],
             [
              0.3333333333333333,
              "#9c179e"
             ],
             [
              0.4444444444444444,
              "#bd3786"
             ],
             [
              0.5555555555555556,
              "#d8576b"
             ],
             [
              0.6666666666666666,
              "#ed7953"
             ],
             [
              0.7777777777777778,
              "#fb9f3a"
             ],
             [
              0.8888888888888888,
              "#fdca26"
             ],
             [
              1,
              "#f0f921"
             ]
            ],
            "type": "heatmapgl"
           }
          ],
          "histogram": [
           {
            "marker": {
             "pattern": {
              "fillmode": "overlay",
              "size": 10,
              "solidity": 0.2
             }
            },
            "type": "histogram"
           }
          ],
          "histogram2d": [
           {
            "colorbar": {
             "outlinewidth": 0,
             "ticks": ""
            },
            "colorscale": [
             [
              0,
              "#0d0887"
             ],
             [
              0.1111111111111111,
              "#46039f"
             ],
             [
              0.2222222222222222,
              "#7201a8"
             ],
             [
              0.3333333333333333,
              "#9c179e"
             ],
             [
              0.4444444444444444,
              "#bd3786"
             ],
             [
              0.5555555555555556,
              "#d8576b"
             ],
             [
              0.6666666666666666,
              "#ed7953"
             ],
             [
              0.7777777777777778,
              "#fb9f3a"
             ],
             [
              0.8888888888888888,
              "#fdca26"
             ],
             [
              1,
              "#f0f921"
             ]
            ],
            "type": "histogram2d"
           }
          ],
          "histogram2dcontour": [
           {
            "colorbar": {
             "outlinewidth": 0,
             "ticks": ""
            },
            "colorscale": [
             [
              0,
              "#0d0887"
             ],
             [
              0.1111111111111111,
              "#46039f"
             ],
             [
              0.2222222222222222,
              "#7201a8"
             ],
             [
              0.3333333333333333,
              "#9c179e"
             ],
             [
              0.4444444444444444,
              "#bd3786"
             ],
             [
              0.5555555555555556,
              "#d8576b"
             ],
             [
              0.6666666666666666,
              "#ed7953"
             ],
             [
              0.7777777777777778,
              "#fb9f3a"
             ],
             [
              0.8888888888888888,
              "#fdca26"
             ],
             [
              1,
              "#f0f921"
             ]
            ],
            "type": "histogram2dcontour"
           }
          ],
          "mesh3d": [
           {
            "colorbar": {
             "outlinewidth": 0,
             "ticks": ""
            },
            "type": "mesh3d"
           }
          ],
          "parcoords": [
           {
            "line": {
             "colorbar": {
              "outlinewidth": 0,
              "ticks": ""
             }
            },
            "type": "parcoords"
           }
          ],
          "pie": [
           {
            "automargin": true,
            "type": "pie"
           }
          ],
          "scatter": [
           {
            "fillpattern": {
             "fillmode": "overlay",
             "size": 10,
             "solidity": 0.2
            },
            "type": "scatter"
           }
          ],
          "scatter3d": [
           {
            "line": {
             "colorbar": {
              "outlinewidth": 0,
              "ticks": ""
             }
            },
            "marker": {
             "colorbar": {
              "outlinewidth": 0,
              "ticks": ""
             }
            },
            "type": "scatter3d"
           }
          ],
          "scattercarpet": [
           {
            "marker": {
             "colorbar": {
              "outlinewidth": 0,
              "ticks": ""
             }
            },
            "type": "scattercarpet"
           }
          ],
          "scattergeo": [
           {
            "marker": {
             "colorbar": {
              "outlinewidth": 0,
              "ticks": ""
             }
            },
            "type": "scattergeo"
           }
          ],
          "scattergl": [
           {
            "marker": {
             "colorbar": {
              "outlinewidth": 0,
              "ticks": ""
             }
            },
            "type": "scattergl"
           }
          ],
          "scattermapbox": [
           {
            "marker": {
             "colorbar": {
              "outlinewidth": 0,
              "ticks": ""
             }
            },
            "type": "scattermapbox"
           }
          ],
          "scatterpolar": [
           {
            "marker": {
             "colorbar": {
              "outlinewidth": 0,
              "ticks": ""
             }
            },
            "type": "scatterpolar"
           }
          ],
          "scatterpolargl": [
           {
            "marker": {
             "colorbar": {
              "outlinewidth": 0,
              "ticks": ""
             }
            },
            "type": "scatterpolargl"
           }
          ],
          "scatterternary": [
           {
            "marker": {
             "colorbar": {
              "outlinewidth": 0,
              "ticks": ""
             }
            },
            "type": "scatterternary"
           }
          ],
          "surface": [
           {
            "colorbar": {
             "outlinewidth": 0,
             "ticks": ""
            },
            "colorscale": [
             [
              0,
              "#0d0887"
             ],
             [
              0.1111111111111111,
              "#46039f"
             ],
             [
              0.2222222222222222,
              "#7201a8"
             ],
             [
              0.3333333333333333,
              "#9c179e"
             ],
             [
              0.4444444444444444,
              "#bd3786"
             ],
             [
              0.5555555555555556,
              "#d8576b"
             ],
             [
              0.6666666666666666,
              "#ed7953"
             ],
             [
              0.7777777777777778,
              "#fb9f3a"
             ],
             [
              0.8888888888888888,
              "#fdca26"
             ],
             [
              1,
              "#f0f921"
             ]
            ],
            "type": "surface"
           }
          ],
          "table": [
           {
            "cells": {
             "fill": {
              "color": "#EBF0F8"
             },
             "line": {
              "color": "white"
             }
            },
            "header": {
             "fill": {
              "color": "#C8D4E3"
             },
             "line": {
              "color": "white"
             }
            },
            "type": "table"
           }
          ]
         },
         "layout": {
          "annotationdefaults": {
           "arrowcolor": "#2a3f5f",
           "arrowhead": 0,
           "arrowwidth": 1
          },
          "autotypenumbers": "strict",
          "coloraxis": {
           "colorbar": {
            "outlinewidth": 0,
            "ticks": ""
           }
          },
          "colorscale": {
           "diverging": [
            [
             0,
             "#8e0152"
            ],
            [
             0.1,
             "#c51b7d"
            ],
            [
             0.2,
             "#de77ae"
            ],
            [
             0.3,
             "#f1b6da"
            ],
            [
             0.4,
             "#fde0ef"
            ],
            [
             0.5,
             "#f7f7f7"
            ],
            [
             0.6,
             "#e6f5d0"
            ],
            [
             0.7,
             "#b8e186"
            ],
            [
             0.8,
             "#7fbc41"
            ],
            [
             0.9,
             "#4d9221"
            ],
            [
             1,
             "#276419"
            ]
           ],
           "sequential": [
            [
             0,
             "#0d0887"
            ],
            [
             0.1111111111111111,
             "#46039f"
            ],
            [
             0.2222222222222222,
             "#7201a8"
            ],
            [
             0.3333333333333333,
             "#9c179e"
            ],
            [
             0.4444444444444444,
             "#bd3786"
            ],
            [
             0.5555555555555556,
             "#d8576b"
            ],
            [
             0.6666666666666666,
             "#ed7953"
            ],
            [
             0.7777777777777778,
             "#fb9f3a"
            ],
            [
             0.8888888888888888,
             "#fdca26"
            ],
            [
             1,
             "#f0f921"
            ]
           ],
           "sequentialminus": [
            [
             0,
             "#0d0887"
            ],
            [
             0.1111111111111111,
             "#46039f"
            ],
            [
             0.2222222222222222,
             "#7201a8"
            ],
            [
             0.3333333333333333,
             "#9c179e"
            ],
            [
             0.4444444444444444,
             "#bd3786"
            ],
            [
             0.5555555555555556,
             "#d8576b"
            ],
            [
             0.6666666666666666,
             "#ed7953"
            ],
            [
             0.7777777777777778,
             "#fb9f3a"
            ],
            [
             0.8888888888888888,
             "#fdca26"
            ],
            [
             1,
             "#f0f921"
            ]
           ]
          },
          "colorway": [
           "#636efa",
           "#EF553B",
           "#00cc96",
           "#ab63fa",
           "#FFA15A",
           "#19d3f3",
           "#FF6692",
           "#B6E880",
           "#FF97FF",
           "#FECB52"
          ],
          "font": {
           "color": "#2a3f5f"
          },
          "geo": {
           "bgcolor": "white",
           "lakecolor": "white",
           "landcolor": "white",
           "showlakes": true,
           "showland": true,
           "subunitcolor": "#C8D4E3"
          },
          "hoverlabel": {
           "align": "left"
          },
          "hovermode": "closest",
          "mapbox": {
           "style": "light"
          },
          "paper_bgcolor": "white",
          "plot_bgcolor": "white",
          "polar": {
           "angularaxis": {
            "gridcolor": "#EBF0F8",
            "linecolor": "#EBF0F8",
            "ticks": ""
           },
           "bgcolor": "white",
           "radialaxis": {
            "gridcolor": "#EBF0F8",
            "linecolor": "#EBF0F8",
            "ticks": ""
           }
          },
          "scene": {
           "xaxis": {
            "backgroundcolor": "white",
            "gridcolor": "#DFE8F3",
            "gridwidth": 2,
            "linecolor": "#EBF0F8",
            "showbackground": true,
            "ticks": "",
            "zerolinecolor": "#EBF0F8"
           },
           "yaxis": {
            "backgroundcolor": "white",
            "gridcolor": "#DFE8F3",
            "gridwidth": 2,
            "linecolor": "#EBF0F8",
            "showbackground": true,
            "ticks": "",
            "zerolinecolor": "#EBF0F8"
           },
           "zaxis": {
            "backgroundcolor": "white",
            "gridcolor": "#DFE8F3",
            "gridwidth": 2,
            "linecolor": "#EBF0F8",
            "showbackground": true,
            "ticks": "",
            "zerolinecolor": "#EBF0F8"
           }
          },
          "shapedefaults": {
           "line": {
            "color": "#2a3f5f"
           }
          },
          "ternary": {
           "aaxis": {
            "gridcolor": "#DFE8F3",
            "linecolor": "#A2B1C6",
            "ticks": ""
           },
           "baxis": {
            "gridcolor": "#DFE8F3",
            "linecolor": "#A2B1C6",
            "ticks": ""
           },
           "bgcolor": "white",
           "caxis": {
            "gridcolor": "#DFE8F3",
            "linecolor": "#A2B1C6",
            "ticks": ""
           }
          },
          "title": {
           "x": 0.05
          },
          "xaxis": {
           "automargin": true,
           "gridcolor": "#EBF0F8",
           "linecolor": "#EBF0F8",
           "ticks": "",
           "title": {
            "standoff": 15
           },
           "zerolinecolor": "#EBF0F8",
           "zerolinewidth": 2
          },
          "yaxis": {
           "automargin": true,
           "gridcolor": "#EBF0F8",
           "linecolor": "#EBF0F8",
           "ticks": "",
           "title": {
            "standoff": 15
           },
           "zerolinecolor": "#EBF0F8",
           "zerolinewidth": 2
          }
         }
        },
        "title": {
         "text": "Impact of Bundling on Customer Reviews and Product Rating"
        },
        "xaxis": {
         "anchor": "y",
         "domain": [
          0,
          1
         ],
         "title": {
          "text": "Total Customer Reviews"
         }
        },
        "yaxis": {
         "anchor": "x",
         "domain": [
          0,
          1
         ],
         "title": {
          "text": "Average Product Rating"
         }
        }
       }
      }
     },
     "metadata": {},
     "output_type": "display_data"
    }
   ],
   "source": [
    "import plotly.express as px\n",
    "\n",
    "# Assuming bundle_analysis is already defined\n",
    "data_for_plot = bundle_analysis.head(100).reset_index()\n",
    "\n",
    "# Create the scatter plot\n",
    "fig = px.scatter(\n",
    "    data_for_plot,\n",
    "    x='customer_reviews_count',\n",
    "    y='product_rating',\n",
    "    color='bundle_indicator',  # Differentiate between bundled and individual\n",
    "    symbol='bundle_indicator',  # Use different symbols for bundled and individual\n",
    "    size='customer_reviews_count',  # Optionally represent review count as size\n",
    "    hover_name='brand',  # Show brand name on hover\n",
    "    title='Impact of Bundling on Customer Reviews and Product Rating'\n",
    ")\n",
    "\n",
    "fig.update_layout(\n",
    "    xaxis_title='Total Customer Reviews',\n",
    "    yaxis_title='Average Product Rating'\n",
    ")\n",
    "\n",
    "fig.show()\n"
   ]
  }
 ],
 "metadata": {
  "kernelspec": {
   "display_name": "Python 3",
   "language": "python",
   "name": "python3"
  },
  "language_info": {
   "codemirror_mode": {
    "name": "ipython",
    "version": 3
   },
   "file_extension": ".py",
   "mimetype": "text/x-python",
   "name": "python",
   "nbconvert_exporter": "python",
   "pygments_lexer": "ipython3",
   "version": "3.11.4"
  }
 },
 "nbformat": 4,
 "nbformat_minor": 2
}
